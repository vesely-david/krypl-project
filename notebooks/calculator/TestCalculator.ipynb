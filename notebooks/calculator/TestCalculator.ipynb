{
 "cells": [
  {
   "cell_type": "markdown",
   "metadata": {},
   "source": [
    "# Example"
   ]
  },
  {
   "cell_type": "markdown",
   "metadata": {
    "collapsed": true
   },
   "source": [
    "```python\n",
    "import requests\n",
    "url = 'https://...'\n",
    "payload = {'key1': 'value1', 'key2': 'value2'}\n",
    "\n",
    "# GET\n",
    "r = requests.get(url)\n",
    "\n",
    "# GET with params in URL\n",
    "r = requests.get(url, params=payload)\n",
    "\n",
    "# POST with form-encoded data\n",
    "r = requests.post(url, data=payload)\n",
    "\n",
    "# POST with JSON \n",
    "import json\n",
    "r = requests.post(url, data=json.dumps(payload))\n",
    "\n",
    "# Response, status etc\n",
    "r.text\n",
    "r.status_code\n",
    "```"
   ]
  },
  {
   "cell_type": "markdown",
   "metadata": {},
   "source": [
    "# Test Calculate API"
   ]
  },
  {
   "cell_type": "code",
   "execution_count": 48,
   "metadata": {},
   "outputs": [],
   "source": [
    "import requests\n",
    "import json\n",
    "import numpy as np\n",
    "\n",
    "def testResponse(r, statusCode=200):\n",
    "    assert r.status_code == statusCode"
   ]
  },
  {
   "cell_type": "code",
   "execution_count": 49,
   "metadata": {
    "collapsed": true
   },
   "outputs": [],
   "source": [
    "HOST = 'http://david-pc:8000'\n",
    "BASE_PATH = 'v1/calculator'\n",
    "WITH_HOST = HOST + '/' + BASE_PATH"
   ]
  },
  {
   "cell_type": "markdown",
   "metadata": {},
   "source": [
    "## Get all functions"
   ]
  },
  {
   "cell_type": "code",
   "execution_count": 50,
   "metadata": {},
   "outputs": [
    {
     "name": "stdout",
     "output_type": "stream",
     "text": [
      "{'TALIB': ['HT_DCPERIOD', 'HT_DCPHASE', 'HT_PHASOR', 'HT_SINE', 'HT_TRENDMODE', 'BETA', 'CORREL', 'LINEARREG', 'LINEARREG_ANGLE', 'LINEARREG_INTERCEPT', 'LINEARREG_SLOPE', 'STDDEV', 'TSF', 'VAR', 'AVGPRICE', 'MEDPRICE', 'TYPPRICE', 'WCLPRICE', 'ACOS', 'ASIN', 'ATAN', 'CEIL', 'COS', 'COSH', 'EXP', 'FLOOR', 'LN', 'LOG10', 'SIN', 'SINH', 'SQRT', 'TAN', 'TANH', 'CDL2CROWS', 'CDL3BLACKCROWS', 'CDL3INSIDE', 'CDL3LINESTRIKE', 'CDL3OUTSIDE', 'CDL3STARSINSOUTH', 'CDL3WHITESOLDIERS', 'CDLABANDONEDBABY', 'CDLADVANCEBLOCK', 'CDLBELTHOLD', 'CDLBREAKAWAY', 'CDLCLOSINGMARUBOZU', 'CDLCONCEALBABYSWALL', 'CDLCOUNTERATTACK', 'CDLDARKCLOUDCOVER', 'CDLDOJI', 'CDLDOJISTAR', 'CDLDRAGONFLYDOJI', 'CDLENGULFING', 'CDLEVENINGDOJISTAR', 'CDLEVENINGSTAR', 'CDLGAPSIDESIDEWHITE', 'CDLGRAVESTONEDOJI', 'CDLHAMMER', 'CDLHANGINGMAN', 'CDLHARAMI', 'CDLHARAMICROSS', 'CDLHIGHWAVE', 'CDLHIKKAKE', 'CDLHIKKAKEMOD', 'CDLHOMINGPIGEON', 'CDLIDENTICAL3CROWS', 'CDLINNECK', 'CDLINVERTEDHAMMER', 'CDLKICKING', 'CDLKICKINGBYLENGTH', 'CDLLADDERBOTTOM', 'CDLLONGLEGGEDDOJI', 'CDLLONGLINE', 'CDLMARUBOZU', 'CDLMATCHINGLOW', 'CDLMATHOLD', 'CDLMORNINGDOJISTAR', 'CDLMORNINGSTAR', 'CDLONNECK', 'CDLPIERCING', 'CDLRICKSHAWMAN', 'CDLRISEFALL3METHODS', 'CDLSEPARATINGLINES', 'CDLSHOOTINGSTAR', 'CDLSHORTLINE', 'CDLSPINNINGTOP', 'CDLSTALLEDPATTERN', 'CDLSTICKSANDWICH', 'CDLTAKURI', 'CDLTASUKIGAP', 'CDLTHRUSTING', 'CDLTRISTAR', 'CDLUNIQUE3RIVER', 'CDLUPSIDEGAP2CROWS', 'CDLXSIDEGAP3METHODS', 'ATR', 'NATR', 'TRANGE', 'BBANDS', 'DEMA', 'EMA', 'HT_TRENDLINE', 'KAMA', 'MA', 'MAMA', 'MAVP', 'MIDPOINT', 'MIDPRICE', 'SAR', 'SAREXT', 'SMA', 'T3', 'TEMA', 'TRIMA', 'WMA', 'ADD', 'DIV', 'MAX', 'MAXINDEX', 'MIN', 'MININDEX', 'MINMAX', 'MINMAXINDEX', 'MULT', 'SUB', 'SUM', 'AD', 'ADOSC', 'OBV', 'ADX', 'ADXR', 'APO', 'AROON', 'AROONOSC', 'BOP', 'CCI', 'CMO', 'DX', 'MACD', 'MACDEXT', 'MACDFIX', 'MFI', 'MINUS_DI', 'MINUS_DM', 'MOM', 'PLUS_DI', 'PLUS_DM', 'PPO', 'ROC', 'ROCP', 'ROCR', 'ROCR100', 'RSI', 'STOCH', 'STOCHF', 'STOCHRSI', 'TRIX', 'ULTOSC', 'WILLR']}\n"
     ]
    }
   ],
   "source": [
    "url = WITH_HOST + \"/functions\"\n",
    "r = requests.get(url)\n",
    "\n",
    "testResponse(r)\n",
    "d = json.loads(r.text)\n",
    "assert len(list(d.keys())) > 0\n",
    "\n",
    "for v in d.values():\n",
    "    assert type(v) == list\n",
    "    assert len(v) > 0\n",
    "    \n",
    "print(d)"
   ]
  },
  {
   "cell_type": "markdown",
   "metadata": {},
   "source": [
    "## Get Functions Info"
   ]
  },
  {
   "cell_type": "code",
   "execution_count": 51,
   "metadata": {
    "collapsed": true
   },
   "outputs": [],
   "source": [
    "def testInfoSucces(url):\n",
    "    r = requests.get(url)\n",
    "\n",
    "    testResponse(r)\n",
    "\n",
    "    d = json.loads(r.text)\n",
    "    assert len(list(d.keys())) == 1\n",
    "    assert type(list(d.values())[0]) == str\n",
    "    print(list(d.values())[0])"
   ]
  },
  {
   "cell_type": "markdown",
   "metadata": {},
   "source": [
    "### Test Success"
   ]
  },
  {
   "cell_type": "code",
   "execution_count": 52,
   "metadata": {},
   "outputs": [
    {
     "name": "stdout",
     "output_type": "stream",
     "text": [
      "AD([input_arrays])\n",
      "\n",
      "Chaikin A/D Line (Volume Indicators)\n",
      "\n",
      "Inputs:\n",
      "    prices: ['high', 'low', 'close', 'volume']\n",
      "Outputs:\n",
      "    real\n"
     ]
    }
   ],
   "source": [
    "url = WITH_HOST + \"/functions/TALIB/AD/info\"\n",
    "testInfoSucces(url)"
   ]
  },
  {
   "cell_type": "code",
   "execution_count": 53,
   "metadata": {},
   "outputs": [
    {
     "name": "stdout",
     "output_type": "stream",
     "text": [
      "AD([input_arrays])\n",
      "\n",
      "Chaikin A/D Line (Volume Indicators)\n",
      "\n",
      "Inputs:\n",
      "    prices: ['high', 'low', 'close', 'volume']\n",
      "Outputs:\n",
      "    real\n"
     ]
    }
   ],
   "source": [
    "url = WITH_HOST + \"/functions/talib/ad/info\"\n",
    "testInfoSucces(url)"
   ]
  },
  {
   "cell_type": "markdown",
   "metadata": {},
   "source": [
    "### Test Not implemented function"
   ]
  },
  {
   "cell_type": "code",
   "execution_count": 54,
   "metadata": {},
   "outputs": [
    {
     "name": "stdout",
     "output_type": "stream",
     "text": [
      "400 Bad Request\n",
      "The \"{'functionName': 'NOT_IMPLEMENTED_FUNCTION', 'group': 'TALIB'} info:Function NOT_IMPLEMENTED_FUNCTION of group TALIB is not implemented.\" parameter is invalid. invalid param(custom validation all), values:\n"
     ]
    }
   ],
   "source": [
    "url = WITH_HOST + \"/functions/TALIB/NOT_IMPLEMENTED_FUNCTION/info\"\n",
    "r = requests.get(url)\n",
    "\n",
    "testResponse(r, 400)\n",
    "\n",
    "d = json.loads(r.text)\n",
    "print(d['status'])\n",
    "print(d['description'])"
   ]
  },
  {
   "cell_type": "markdown",
   "metadata": {},
   "source": [
    "## Calculate Talib from Abstract API"
   ]
  },
  {
   "cell_type": "code",
   "execution_count": 55,
   "metadata": {
    "collapsed": true
   },
   "outputs": [],
   "source": [
    "payload = {\n",
    "    'data': {\n",
    "        'open': np.random.random(100).tolist(),\n",
    "        'close': np.random.random(100).tolist(),\n",
    "        'high': np.random.random(100).tolist(), \n",
    "        'low': np.random.random(100).tolist(),\n",
    "        'volume': np.random.random(100).tolist()\n",
    "    },\n",
    "    'args': [\n",
    "        {'name': 'timeperiod', 'value': '25'}\n",
    "    ]\n",
    "        \n",
    "}"
   ]
  },
  {
   "cell_type": "code",
   "execution_count": 56,
   "metadata": {
    "collapsed": true
   },
   "outputs": [],
   "source": [
    "def testCalculateSuccess(url):\n",
    "    r = requests.post(url, data=json.dumps(payload))\n",
    "    testResponse(r)\n",
    "    d = json.loads(r.text)\n",
    "    upper, middle, lower = d['result']\n",
    "    assert len(upper) == len(middle) == len(lower) == 100"
   ]
  },
  {
   "cell_type": "markdown",
   "metadata": {},
   "source": [
    "### Test success"
   ]
  },
  {
   "cell_type": "code",
   "execution_count": 57,
   "metadata": {},
   "outputs": [],
   "source": [
    "url = WITH_HOST + \"/functions/TALIB/BBANDS\"\n",
    "testCalculateSuccess(url)"
   ]
  },
  {
   "cell_type": "code",
   "execution_count": 58,
   "metadata": {
    "collapsed": true
   },
   "outputs": [],
   "source": [
    "url = WITH_HOST + \"/functions/talib/bbands\"\n",
    "testCalculateSuccess(url)"
   ]
  },
  {
   "cell_type": "markdown",
   "metadata": {
    "collapsed": true
   },
   "source": [
    "### Test Fail"
   ]
  },
  {
   "cell_type": "code",
   "execution_count": 59,
   "metadata": {},
   "outputs": [
    {
     "name": "stdout",
     "output_type": "stream",
     "text": [
      "NOT_IMPLEMENTED_FUNCTION not supported by TA-LIB.\n"
     ]
    }
   ],
   "source": [
    "url = WITH_HOST + \"/functions/TALIB/NOT_IMPLEMENTED_FUNCTION\"\n",
    "r = requests.post(url, data=json.dumps(payload))\n",
    "testResponse(r, 500)\n",
    "d = json.loads(r.text)\n",
    "print(d['description'])"
   ]
  },
  {
   "cell_type": "code",
   "execution_count": 60,
   "metadata": {},
   "outputs": [
    {
     "name": "stdout",
     "output_type": "stream",
     "text": [
      "Group NOT_IMPLEMENTED_GROUP is not implemented by API.\n"
     ]
    }
   ],
   "source": [
    "url = WITH_HOST + \"/functions/NOT_IMPLEMENTED_GROUP/NOT_IMPLEMENTED_FUNCTION\"\n",
    "r = requests.post(url, data=json.dumps(payload))\n",
    "testResponse(r, 500)\n",
    "d = json.loads(r.text)\n",
    "print(d['description'])"
   ]
  },
  {
   "cell_type": "code",
   "execution_count": 61,
   "metadata": {},
   "outputs": [
    {
     "data": {
      "text/plain": [
       "500"
      ]
     },
     "execution_count": 61,
     "metadata": {},
     "output_type": "execute_result"
    }
   ],
   "source": [
    "r.status_code"
   ]
  },
  {
   "cell_type": "code",
   "execution_count": null,
   "metadata": {
    "collapsed": true
   },
   "outputs": [],
   "source": []
  }
 ],
 "metadata": {
  "kernelspec": {
   "display_name": "Python 3",
   "language": "python",
   "name": "python3"
  },
  "language_info": {
   "codemirror_mode": {
    "name": "ipython",
    "version": 3
   },
   "file_extension": ".py",
   "mimetype": "text/x-python",
   "name": "python",
   "nbconvert_exporter": "python",
   "pygments_lexer": "ipython3",
   "version": "3.6.1"
  }
 },
 "nbformat": 4,
 "nbformat_minor": 1
}
