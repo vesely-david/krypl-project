{
 "cells": [
  {
   "cell_type": "code",
   "execution_count": 14,
   "metadata": {
    "collapsed": false
   },
   "outputs": [],
   "source": [
    "import numpy as np\n",
    "import pandas as pd\n",
    "import talib"
   ]
  },
  {
   "cell_type": "markdown",
   "metadata": {},
   "source": [
    "# TMP"
   ]
  },
  {
   "cell_type": "code",
   "execution_count": 7,
   "metadata": {
    "collapsed": false,
    "scrolled": true
   },
   "outputs": [],
   "source": [
    "from enum import Enum\n",
    "\n",
    "class FunctionGroups(Enum):\n",
    "    TALIB = 'TALIB'\n",
    "\n",
    "    @staticmethod\n",
    "    def toList():\n",
    "        return list(map(lambda c: c.value, FunctionGroups))"
   ]
  },
  {
   "cell_type": "code",
   "execution_count": 9,
   "metadata": {
    "collapsed": false
   },
   "outputs": [
    {
     "data": {
      "text/plain": [
       "True"
      ]
     },
     "execution_count": 9,
     "metadata": {},
     "output_type": "execute_result"
    }
   ],
   "source": [
    "'TALIB' in FunctionGroups.toList()"
   ]
  },
  {
   "cell_type": "markdown",
   "metadata": {},
   "source": [
    "# Get Data"
   ]
  },
  {
   "cell_type": "code",
   "execution_count": 2,
   "metadata": {
    "collapsed": true
   },
   "outputs": [],
   "source": [
    "import urllib.request\n",
    "import json\n",
    "\n",
    "def retrieve(url):\n",
    "    with urllib.request.urlopen(url) as response:\n",
    "        html = response.read().decode(\"utf-8\")\n",
    "        data = json.loads(html)\n",
    "    return data\n",
    "\n",
    "import time\n",
    "import datetime\n",
    "\n",
    "def strTimeToTimestamp(strTime):\n",
    "    return datetime.datetime.strptime(strTime, \"%Y-%m-%d %H:%M:%S\").timestamp()\n",
    "\n",
    "def queryPoloniex(beginTime, endTime, currencyPair, period=1800):\n",
    "    beginTimestamp, endTimestamp = strTimeToTimestamp(beginTime), strTimeToTimestamp(endTime)\n",
    "    url = 'https://poloniex.com/public?command=returnChartData&currencyPair={pair}&start={begin}&end={end}&period={period}'\n",
    "    return retrieve(url.format(pair=currencyPair, begin=beginTimestamp, end=endTimestamp, period=period))"
   ]
  },
  {
   "cell_type": "code",
   "execution_count": 11,
   "metadata": {
    "collapsed": true
   },
   "outputs": [],
   "source": [
    "testData = queryPoloniex('2017-08-01 00:00:00', '2017-08-01 23:59:59', 'BTC_ETH')"
   ]
  },
  {
   "cell_type": "code",
   "execution_count": 12,
   "metadata": {
    "collapsed": true
   },
   "outputs": [
    {
     "data": {
      "text/plain": [
       "[{'close': 0.06995053,\n",
       "  'date': 1501538400,\n",
       "  'high': 0.07014348,\n",
       "  'low': 0.06976693,\n",
       "  'open': 0.06995364,\n",
       "  'quoteVolume': 3264.00263166,\n",
       "  'volume': 228.32718444,\n",
       "  'weightedAverage': 0.06995312},\n",
       " {'close': 0.07005022,\n",
       "  'date': 1501540200,\n",
       "  'high': 0.07022963,\n",
       "  'low': 0.06985502,\n",
       "  'open': 0.06994859,\n",
       "  'quoteVolume': 2704.40389721,\n",
       "  'volume': 189.52017889,\n",
       "  'weightedAverage': 0.07007835},\n",
       " {'close': 0.07012229,\n",
       "  'date': 1501542000,\n",
       "  'high': 0.0703,\n",
       "  'low': 0.0698133,\n",
       "  'open': 0.07005255,\n",
       "  'quoteVolume': 3163.1509057,\n",
       "  'volume': 221.71097141,\n",
       "  'weightedAverage': 0.0700918},\n",
       " {'close': 0.07035614,\n",
       "  'date': 1501543800,\n",
       "  'high': 0.07038115,\n",
       "  'low': 0.06984737,\n",
       "  'open': 0.07006797,\n",
       "  'quoteVolume': 3372.78987095,\n",
       "  'volume': 236.60247296,\n",
       "  'weightedAverage': 0.07015037},\n",
       " {'close': 0.07305536,\n",
       "  'date': 1501545600,\n",
       "  'high': 0.07349999,\n",
       "  'low': 0.07034611,\n",
       "  'open': 0.07035614,\n",
       "  'quoteVolume': 14180.60719401,\n",
       "  'volume': 1019.83312282,\n",
       "  'weightedAverage': 0.07191745},\n",
       " {'close': 0.07286091,\n",
       "  'date': 1501547400,\n",
       "  'high': 0.073998,\n",
       "  'low': 0.07237272,\n",
       "  'open': 0.0732,\n",
       "  'quoteVolume': 8616.1109964,\n",
       "  'volume': 628.67540465,\n",
       "  'weightedAverage': 0.0729651},\n",
       " {'close': 0.07233367,\n",
       "  'date': 1501549200,\n",
       "  'high': 0.07298869,\n",
       "  'low': 0.0715,\n",
       "  'open': 0.07288632,\n",
       "  'quoteVolume': 6750.79365521,\n",
       "  'volume': 486.87829166,\n",
       "  'weightedAverage': 0.07212163},\n",
       " {'close': 0.07226151,\n",
       "  'date': 1501551000,\n",
       "  'high': 0.07249999,\n",
       "  'low': 0.07103108,\n",
       "  'open': 0.07232766,\n",
       "  'quoteVolume': 5484.33189184,\n",
       "  'volume': 393.39845993,\n",
       "  'weightedAverage': 0.07173133},\n",
       " {'close': 0.07212999,\n",
       "  'date': 1501552800,\n",
       "  'high': 0.07243951,\n",
       "  'low': 0.07150051,\n",
       "  'open': 0.07224274,\n",
       "  'quoteVolume': 3380.59866705,\n",
       "  'volume': 243.60871273,\n",
       "  'weightedAverage': 0.07206082},\n",
       " {'close': 0.07223454,\n",
       "  'date': 1501554600,\n",
       "  'high': 0.07240483,\n",
       "  'low': 0.07201628,\n",
       "  'open': 0.07210265,\n",
       "  'quoteVolume': 1354.78570936,\n",
       "  'volume': 97.76285321,\n",
       "  'weightedAverage': 0.07216111},\n",
       " {'close': 0.07231909,\n",
       "  'date': 1501556400,\n",
       "  'high': 0.07247499,\n",
       "  'low': 0.07192262,\n",
       "  'open': 0.07224819,\n",
       "  'quoteVolume': 1678.48189706,\n",
       "  'volume': 121.25523526,\n",
       "  'weightedAverage': 0.07224101},\n",
       " {'close': 0.07267942,\n",
       "  'date': 1501558200,\n",
       "  'high': 0.07283499,\n",
       "  'low': 0.07174205,\n",
       "  'open': 0.0723191,\n",
       "  'quoteVolume': 3214.56339332,\n",
       "  'volume': 232.78831069,\n",
       "  'weightedAverage': 0.07241677},\n",
       " {'close': 0.07475825,\n",
       "  'date': 1501560000,\n",
       "  'high': 0.075,\n",
       "  'low': 0.07267942,\n",
       "  'open': 0.07272347,\n",
       "  'quoteVolume': 15628.07870444,\n",
       "  'volume': 1159.31495311,\n",
       "  'weightedAverage': 0.07418154},\n",
       " {'close': 0.07461501,\n",
       "  'date': 1501561800,\n",
       "  'high': 0.076,\n",
       "  'low': 0.0725957,\n",
       "  'open': 0.07475825,\n",
       "  'quoteVolume': 21235.10965424,\n",
       "  'volume': 1585.07200629,\n",
       "  'weightedAverage': 0.07464392},\n",
       " {'close': 0.0739,\n",
       "  'date': 1501563600,\n",
       "  'high': 0.07468815,\n",
       "  'low': 0.07372934,\n",
       "  'open': 0.07461502,\n",
       "  'quoteVolume': 5221.91876766,\n",
       "  'volume': 387.33854786,\n",
       "  'weightedAverage': 0.07417552},\n",
       " {'close': 0.07526935,\n",
       "  'date': 1501565400,\n",
       "  'high': 0.07543618,\n",
       "  'low': 0.07389741,\n",
       "  'open': 0.0739,\n",
       "  'quoteVolume': 4098.81097279,\n",
       "  'volume': 305.88101344,\n",
       "  'weightedAverage': 0.07462676},\n",
       " {'close': 0.07610873,\n",
       "  'date': 1501567200,\n",
       "  'high': 0.0762,\n",
       "  'low': 0.07484701,\n",
       "  'open': 0.07526936,\n",
       "  'quoteVolume': 11402.85087237,\n",
       "  'volume': 860.76873178,\n",
       "  'weightedAverage': 0.07548715},\n",
       " {'close': 0.07696782,\n",
       "  'date': 1501569000,\n",
       "  'high': 0.07817583,\n",
       "  'low': 0.07604861,\n",
       "  'open': 0.07610873,\n",
       "  'quoteVolume': 10927.36787325,\n",
       "  'volume': 844.18938788,\n",
       "  'weightedAverage': 0.07725459},\n",
       " {'close': 0.0769,\n",
       "  'date': 1501570800,\n",
       "  'high': 0.0774,\n",
       "  'low': 0.07634993,\n",
       "  'open': 0.0770341,\n",
       "  'quoteVolume': 4544.3022576,\n",
       "  'volume': 348.96373233,\n",
       "  'weightedAverage': 0.07679148},\n",
       " {'close': 0.077077,\n",
       "  'date': 1501572600,\n",
       "  'high': 0.077077,\n",
       "  'low': 0.076,\n",
       "  'open': 0.0768559,\n",
       "  'quoteVolume': 8370.22537316,\n",
       "  'volume': 639.05516051,\n",
       "  'weightedAverage': 0.07634862},\n",
       " {'close': 0.07766001,\n",
       "  'date': 1501574400,\n",
       "  'high': 0.07778408,\n",
       "  'low': 0.07692737,\n",
       "  'open': 0.07708,\n",
       "  'quoteVolume': 7629.26307142,\n",
       "  'volume': 590.47445271,\n",
       "  'weightedAverage': 0.077396},\n",
       " {'close': 0.07903263,\n",
       "  'date': 1501576200,\n",
       "  'high': 0.07959085,\n",
       "  'low': 0.07766001,\n",
       "  'open': 0.07766001,\n",
       "  'quoteVolume': 13470.44308919,\n",
       "  'volume': 1060.47800415,\n",
       "  'weightedAverage': 0.07872628},\n",
       " {'close': 0.07816071,\n",
       "  'date': 1501578000,\n",
       "  'high': 0.07934921,\n",
       "  'low': 0.07739503,\n",
       "  'open': 0.07934921,\n",
       "  'quoteVolume': 8427.00965195,\n",
       "  'volume': 660.47892073,\n",
       "  'weightedAverage': 0.07837642},\n",
       " {'close': 0.07820001,\n",
       "  'date': 1501579800,\n",
       "  'high': 0.079,\n",
       "  'low': 0.07776553,\n",
       "  'open': 0.07807688,\n",
       "  'quoteVolume': 6781.40863147,\n",
       "  'volume': 532.64922092,\n",
       "  'weightedAverage': 0.07854551},\n",
       " {'close': 0.07708661,\n",
       "  'date': 1501581600,\n",
       "  'high': 0.07859998,\n",
       "  'low': 0.07708661,\n",
       "  'open': 0.07829851,\n",
       "  'quoteVolume': 4181.85795308,\n",
       "  'volume': 325.38025774,\n",
       "  'weightedAverage': 0.07780758},\n",
       " {'close': 0.07632716,\n",
       "  'date': 1501583400,\n",
       "  'high': 0.07735481,\n",
       "  'low': 0.07613565,\n",
       "  'open': 0.07708661,\n",
       "  'quoteVolume': 5278.86923968,\n",
       "  'volume': 406.31465107,\n",
       "  'weightedAverage': 0.07697001},\n",
       " {'close': 0.07605929,\n",
       "  'date': 1501585200,\n",
       "  'high': 0.07634891,\n",
       "  'low': 0.07474607,\n",
       "  'open': 0.07632716,\n",
       "  'quoteVolume': 8742.9352748,\n",
       "  'volume': 659.08843584,\n",
       "  'weightedAverage': 0.07538525},\n",
       " {'close': 0.075102,\n",
       "  'date': 1501587000,\n",
       "  'high': 0.07709814,\n",
       "  'low': 0.075,\n",
       "  'open': 0.07605929,\n",
       "  'quoteVolume': 5564.47301608,\n",
       "  'volume': 423.54899901,\n",
       "  'weightedAverage': 0.07611664},\n",
       " {'close': 0.07894819,\n",
       "  'date': 1501588800,\n",
       "  'high': 0.0791,\n",
       "  'low': 0.07466549,\n",
       "  'open': 0.07510201,\n",
       "  'quoteVolume': 12435.13947095,\n",
       "  'volume': 949.71040289,\n",
       "  'weightedAverage': 0.07637312},\n",
       " {'close': 0.07960001,\n",
       "  'date': 1501590600,\n",
       "  'high': 0.08199676,\n",
       "  'low': 0.07879601,\n",
       "  'open': 0.07899241,\n",
       "  'quoteVolume': 28964.74018766,\n",
       "  'volume': 2329.49393158,\n",
       "  'weightedAverage': 0.08042516},\n",
       " {'close': 0.080709,\n",
       "  'date': 1501592400,\n",
       "  'high': 0.0815,\n",
       "  'low': 0.07932332,\n",
       "  'open': 0.07976,\n",
       "  'quoteVolume': 7545.95506518,\n",
       "  'volume': 604.22191199,\n",
       "  'weightedAverage': 0.08007229},\n",
       " {'close': 0.08001109,\n",
       "  'date': 1501594200,\n",
       "  'high': 0.08156026,\n",
       "  'low': 0.08001109,\n",
       "  'open': 0.080709,\n",
       "  'quoteVolume': 11445.57252398,\n",
       "  'volume': 925.87223157,\n",
       "  'weightedAverage': 0.08089348},\n",
       " {'close': 0.0793,\n",
       "  'date': 1501596000,\n",
       "  'high': 0.0801,\n",
       "  'low': 0.07833691,\n",
       "  'open': 0.08001109,\n",
       "  'quoteVolume': 9117.88968799,\n",
       "  'volume': 721.18406981,\n",
       "  'weightedAverage': 0.0790955},\n",
       " {'close': 0.08,\n",
       "  'date': 1501597800,\n",
       "  'high': 0.08027316,\n",
       "  'low': 0.07860687,\n",
       "  'open': 0.07918816,\n",
       "  'quoteVolume': 6979.63091757,\n",
       "  'volume': 554.35532094,\n",
       "  'weightedAverage': 0.07942473},\n",
       " {'close': 0.07892679,\n",
       "  'date': 1501599600,\n",
       "  'high': 0.08009199,\n",
       "  'low': 0.07854353,\n",
       "  'open': 0.08,\n",
       "  'quoteVolume': 5757.56878631,\n",
       "  'volume': 455.50286892,\n",
       "  'weightedAverage': 0.07911375},\n",
       " {'close': 0.07838431,\n",
       "  'date': 1501601400,\n",
       "  'high': 0.07980625,\n",
       "  'low': 0.07790827,\n",
       "  'open': 0.0789155,\n",
       "  'quoteVolume': 7146.66830403,\n",
       "  'volume': 564.84266796,\n",
       "  'weightedAverage': 0.0790358},\n",
       " {'close': 0.07854591,\n",
       "  'date': 1501603200,\n",
       "  'high': 0.07892692,\n",
       "  'low': 0.07535001,\n",
       "  'open': 0.07838431,\n",
       "  'quoteVolume': 12408.06259199,\n",
       "  'volume': 968.90028113,\n",
       "  'weightedAverage': 0.07808634},\n",
       " {'close': 0.08005,\n",
       "  'date': 1501605000,\n",
       "  'high': 0.08047604,\n",
       "  'low': 0.07730819,\n",
       "  'open': 0.07854591,\n",
       "  'quoteVolume': 14570.02980339,\n",
       "  'volume': 1158.86910828,\n",
       "  'weightedAverage': 0.07953786},\n",
       " {'close': 0.0815,\n",
       "  'date': 1501606800,\n",
       "  'high': 0.0817,\n",
       "  'low': 0.07945134,\n",
       "  'open': 0.08008149,\n",
       "  'quoteVolume': 13602.01313888,\n",
       "  'volume': 1099.98522555,\n",
       "  'weightedAverage': 0.08086929},\n",
       " {'close': 0.08099,\n",
       "  'date': 1501608600,\n",
       "  'high': 0.0816,\n",
       "  'low': 0.08048883,\n",
       "  'open': 0.08143666,\n",
       "  'quoteVolume': 13211.28771327,\n",
       "  'volume': 1069.09404692,\n",
       "  'weightedAverage': 0.08092277},\n",
       " {'close': 0.08092295,\n",
       "  'date': 1501610400,\n",
       "  'high': 0.0811,\n",
       "  'low': 0.08,\n",
       "  'open': 0.08099,\n",
       "  'quoteVolume': 6750.73949511,\n",
       "  'volume': 543.40420726,\n",
       "  'weightedAverage': 0.0804955},\n",
       " {'close': 0.083,\n",
       "  'date': 1501612200,\n",
       "  'high': 0.08302122,\n",
       "  'low': 0.08080013,\n",
       "  'open': 0.081,\n",
       "  'quoteVolume': 11632.05301,\n",
       "  'volume': 952.19633011,\n",
       "  'weightedAverage': 0.08185969},\n",
       " {'close': 0.0833,\n",
       "  'date': 1501614000,\n",
       "  'high': 0.08486927,\n",
       "  'low': 0.08284202,\n",
       "  'open': 0.083,\n",
       "  'quoteVolume': 19821.40287982,\n",
       "  'volume': 1657.43175473,\n",
       "  'weightedAverage': 0.08361828},\n",
       " {'close': 0.08240852,\n",
       "  'date': 1501615800,\n",
       "  'high': 0.08375002,\n",
       "  'low': 0.0821413,\n",
       "  'open': 0.08329167,\n",
       "  'quoteVolume': 9392.2636835,\n",
       "  'volume': 780.31056489,\n",
       "  'weightedAverage': 0.08308013},\n",
       " {'close': 0.08268891,\n",
       "  'date': 1501617600,\n",
       "  'high': 0.08358632,\n",
       "  'low': 0.08240852,\n",
       "  'open': 0.08240852,\n",
       "  'quoteVolume': 7733.76451566,\n",
       "  'volume': 641.98601507,\n",
       "  'weightedAverage': 0.0830108},\n",
       " {'close': 0.08389404,\n",
       "  'date': 1501619400,\n",
       "  'high': 0.08389404,\n",
       "  'low': 0.08263055,\n",
       "  'open': 0.08272925,\n",
       "  'quoteVolume': 6243.63718467,\n",
       "  'volume': 519.35957058,\n",
       "  'weightedAverage': 0.08318221},\n",
       " {'close': 0.08324538,\n",
       "  'date': 1501621200,\n",
       "  'high': 0.08411111,\n",
       "  'low': 0.0831,\n",
       "  'open': 0.08389404,\n",
       "  'quoteVolume': 8509.84846787,\n",
       "  'volume': 712.09577363,\n",
       "  'weightedAverage': 0.08367901},\n",
       " {'close': 0.08268689,\n",
       "  'date': 1501623000,\n",
       "  'high': 0.08369684,\n",
       "  'low': 0.0822,\n",
       "  'open': 0.08321783,\n",
       "  'quoteVolume': 7210.85325068,\n",
       "  'volume': 597.58937167,\n",
       "  'weightedAverage': 0.0828736}]"
      ]
     },
     "execution_count": 12,
     "metadata": {},
     "output_type": "execute_result"
    }
   ],
   "source": [
    "testData"
   ]
  },
  {
   "cell_type": "markdown",
   "metadata": {},
   "source": [
    "# Test Basics"
   ]
  },
  {
   "cell_type": "code",
   "execution_count": 15,
   "metadata": {
    "collapsed": false
   },
   "outputs": [],
   "source": [
    "inputs = {\n",
    "    'open': np.random.random(100),\n",
    "    'high': np.random.random(100),\n",
    "    'low': np.random.random(100),\n",
    "    'close': np.random.random(100),\n",
    "    'volume': np.random.random(100)\n",
    "}\n",
    "\n",
    "from talib.abstract import *\n",
    "\n",
    "# uses close prices (default)\n",
    "output = BBANDS(inputs, timeperiod=25)"
   ]
  },
  {
   "cell_type": "code",
   "execution_count": 4,
   "metadata": {
    "collapsed": false
   },
   "outputs": [],
   "source": [
    "taGroups = talib.get_function_groups()"
   ]
  },
  {
   "cell_type": "code",
   "execution_count": null,
   "metadata": {
    "collapsed": true
   },
   "outputs": [],
   "source": []
  },
  {
   "cell_type": "code",
   "execution_count": 33,
   "metadata": {
    "collapsed": false
   },
   "outputs": [],
   "source": [
    "from talib import abstract\n",
    "f = abstract.Function('BBANDS')"
   ]
  },
  {
   "cell_type": "code",
   "execution_count": 34,
   "metadata": {
    "collapsed": false
   },
   "outputs": [
    {
     "data": {
      "text/plain": [
       "True"
      ]
     },
     "execution_count": 34,
     "metadata": {},
     "output_type": "execute_result"
    }
   ],
   "source": [
    "f.set_input_arrays(inputs)"
   ]
  },
  {
   "cell_type": "code",
   "execution_count": 35,
   "metadata": {
    "collapsed": false
   },
   "outputs": [],
   "source": [
    "f.set_parameters(a)"
   ]
  },
  {
   "cell_type": "code",
   "execution_count": 36,
   "metadata": {
    "collapsed": false
   },
   "outputs": [
    {
     "data": {
      "text/plain": [
       "[array([        nan,         nan,         nan,         nan,         nan,\n",
       "                nan,         nan,         nan,         nan,  1.23877459,\n",
       "         1.11895751,  1.10224036,  1.059582  ,  1.14172135,  1.16681397,\n",
       "         1.20556395,  1.27317452,  1.20972799,  1.1786379 ,  1.18446979,\n",
       "         1.19577153,  1.23056888,  1.2272501 ,  1.21723921,  1.13825809,\n",
       "         1.05999499,  0.96261572,  0.95402163,  1.00466489,  1.04638089,\n",
       "         0.95196737,  1.00012171,  1.01083596,  0.98492795,  1.01853838,\n",
       "         1.04729239,  1.04676359,  1.08353251,  1.0573764 ,  1.04320437,\n",
       "         1.04707773,  0.93374791,  0.93836919,  0.89936992,  0.91682245,\n",
       "         0.83143071,  0.81973604,  0.65587391,  0.84882214,  0.86074186,\n",
       "         0.89446035,  0.97850452,  0.9845284 ,  0.96927995,  1.06453991,\n",
       "         1.07374437,  1.08118759,  1.06238298,  0.95981235,  1.10015075,\n",
       "         1.10163361,  1.15568155,  1.23447279,  1.24959394,  1.17257777,\n",
       "         1.16910875,  1.21854582,  1.22782399,  1.2543846 ,  1.11626151,\n",
       "         1.12943992,  0.99974613,  0.89670987,  0.99464291,  0.98637833,\n",
       "         0.99007767,  1.03278215,  1.1450587 ,  1.08393218,  1.08498985,\n",
       "         1.13353103,  1.16287662,  1.23060854,  1.18355522,  1.21674459,\n",
       "         1.1673966 ,  1.1730729 ,  1.04013   ,  1.15357408,  1.15358882,\n",
       "         1.07710761,  1.00330668,  0.98095214,  0.94780372,  1.03146641,\n",
       "         1.03997705,  1.00583087,  1.00823901,  0.85619735,  0.85298291]),\n",
       " array([        nan,         nan,         nan,         nan,         nan,\n",
       "                nan,         nan,         nan,         nan,  0.5206359 ,\n",
       "         0.43076504,  0.47344635,  0.43949839,  0.52283434,  0.52969513,\n",
       "         0.54331721,  0.60576031,  0.5738281 ,  0.59963145,  0.60934751,\n",
       "         0.60520321,  0.64142449,  0.64458214,  0.64075185,  0.60691684,\n",
       "         0.55926292,  0.5148431 ,  0.50887969,  0.54624108,  0.5655612 ,\n",
       "         0.61920277,  0.63216682,  0.62718977,  0.61868663,  0.57446146,\n",
       "         0.60536582,  0.60729501,  0.63377914,  0.60360841,  0.54208495,\n",
       "         0.54485027,  0.50140284,  0.49660093,  0.42343265,  0.41026014,\n",
       "         0.34782388,  0.34140719,  0.27858844,  0.32321915,  0.34409766,\n",
       "         0.35419853,  0.38316333,  0.39468947,  0.4271709 ,  0.5114968 ,\n",
       "         0.50689272,  0.51791395,  0.5408663 ,  0.49456247,  0.55578492,\n",
       "         0.48898283,  0.50522396,  0.55523398,  0.58151928,  0.5404955 ,\n",
       "         0.61118878,  0.56287878,  0.54407481,  0.50263874,  0.4219876 ,\n",
       "         0.47814847,  0.42785298,  0.39656422,  0.42350188,  0.417287  ,\n",
       "         0.41833518,  0.49017789,  0.56695982,  0.59585355,  0.59540445,\n",
       "         0.62031999,  0.65522886,  0.60316451,  0.58292762,  0.5473323 ,\n",
       "         0.51612815,  0.51836553,  0.45922312,  0.52071887,  0.52070585,\n",
       "         0.4838395 ,  0.42115117,  0.45237036,  0.43851   ,  0.51915697,\n",
       "         0.49124348,  0.47870203,  0.4645405 ,  0.39641452,  0.41436097]),\n",
       " array([        nan,         nan,         nan,         nan,         nan,\n",
       "                nan,         nan,         nan,         nan, -0.19750279,\n",
       "        -0.25742744, -0.15534766, -0.18058523, -0.09605268, -0.10742372,\n",
       "        -0.11892953, -0.0616539 , -0.06207179,  0.020625  ,  0.03422523,\n",
       "         0.0146349 ,  0.05228011,  0.06191417,  0.06426449,  0.07557559,\n",
       "         0.05853084,  0.06707049,  0.06373774,  0.08781726,  0.08474152,\n",
       "         0.28643816,  0.26421192,  0.24354359,  0.25244531,  0.13038453,\n",
       "         0.16343924,  0.16782643,  0.18402576,  0.14984042,  0.04096553,\n",
       "         0.04262281,  0.06905778,  0.05483266, -0.05250463, -0.09630218,\n",
       "        -0.13578294, -0.13692166, -0.09869703, -0.20238383, -0.17254653,\n",
       "        -0.1860633 , -0.21217787, -0.19514947, -0.11493815, -0.04154632,\n",
       "        -0.05995892, -0.04535968,  0.01934961,  0.02931259,  0.01141908,\n",
       "        -0.12366796, -0.14523362, -0.12400484, -0.08655539, -0.09158676,\n",
       "         0.05326882, -0.09278826, -0.13967437, -0.24910712, -0.27228631,\n",
       "        -0.17314298, -0.14404017, -0.10358144, -0.14763916, -0.15180432,\n",
       "        -0.1534073 , -0.05242637, -0.01113906,  0.10777492,  0.10581905,\n",
       "         0.10710894,  0.14758111, -0.02427951, -0.01769998, -0.12207999,\n",
       "        -0.13514031, -0.13634185, -0.12168375, -0.11213634, -0.11217712,\n",
       "        -0.10942861, -0.16100435, -0.07621142, -0.07078372,  0.00684753,\n",
       "        -0.05749008, -0.04842682, -0.07915801, -0.06336832, -0.02426096])]"
      ]
     },
     "execution_count": 36,
     "metadata": {},
     "output_type": "execute_result"
    }
   ],
   "source": [
    "f.run()"
   ]
  },
  {
   "cell_type": "code",
   "execution_count": 19,
   "metadata": {
    "collapsed": false
   },
   "outputs": [],
   "source": [
    "a = {'timeperiod': 10}"
   ]
  },
  {
   "cell_type": "code",
   "execution_count": 21,
   "metadata": {
    "collapsed": false
   },
   "outputs": [
    {
     "ename": "TypeError",
     "evalue": "an integer is required",
     "output_type": "error",
     "traceback": [
      "\u001b[1;31m---------------------------------------------------------------------------\u001b[0m",
      "\u001b[1;31mTypeError\u001b[0m                                 Traceback (most recent call last)",
      "\u001b[1;32m<ipython-input-21-aba27e42004e>\u001b[0m in \u001b[0;36m<module>\u001b[1;34m()\u001b[0m\n\u001b[1;32m----> 1\u001b[1;33m \u001b[0mf\u001b[0m\u001b[1;33m(\u001b[0m\u001b[0minputs\u001b[0m\u001b[1;33m)\u001b[0m\u001b[1;33m\u001b[0m\u001b[0m\n\u001b[0m",
      "\u001b[1;32mtalib/abstract.pyx\u001b[0m in \u001b[0;36mtalib.abstract.Function.__call__ (talib\\abstract.c:6913)\u001b[1;34m()\u001b[0m\n",
      "\u001b[1;32mtalib/abstract.pyx\u001b[0m in \u001b[0;36mtalib.abstract.Function.__call_function (talib\\abstract.c:7620)\u001b[1;34m()\u001b[0m\n",
      "\u001b[1;32mtalib/func.pyx\u001b[0m in \u001b[0;36mtalib.func.BBANDS (talib\\func.c:12686)\u001b[1;34m()\u001b[0m\n",
      "\u001b[1;31mTypeError\u001b[0m: an integer is required"
     ]
    }
   ],
   "source": [
    "f(inputs)"
   ]
  },
  {
   "cell_type": "code",
   "execution_count": 7,
   "metadata": {
    "collapsed": true
   },
   "outputs": [],
   "source": [
    "fNames = talib.get_functions()"
   ]
  },
  {
   "cell_type": "code",
   "execution_count": 8,
   "metadata": {
    "collapsed": false,
    "scrolled": true
   },
   "outputs": [
    {
     "data": {
      "text/plain": [
       "['ADD',\n",
       " 'DIV',\n",
       " 'MAX',\n",
       " 'MAXINDEX',\n",
       " 'MIN',\n",
       " 'MININDEX',\n",
       " 'MINMAX',\n",
       " 'MINMAXINDEX',\n",
       " 'MULT',\n",
       " 'SUB',\n",
       " 'SUM',\n",
       " 'BBANDS',\n",
       " 'DEMA',\n",
       " 'EMA',\n",
       " 'HT_TRENDLINE',\n",
       " 'KAMA',\n",
       " 'MA',\n",
       " 'MAMA',\n",
       " 'MAVP',\n",
       " 'MIDPOINT',\n",
       " 'MIDPRICE',\n",
       " 'SAR',\n",
       " 'SAREXT',\n",
       " 'SMA',\n",
       " 'T3',\n",
       " 'TEMA',\n",
       " 'TRIMA',\n",
       " 'WMA',\n",
       " 'AVGPRICE',\n",
       " 'MEDPRICE',\n",
       " 'TYPPRICE',\n",
       " 'WCLPRICE',\n",
       " 'AD',\n",
       " 'ADOSC',\n",
       " 'OBV',\n",
       " 'BETA',\n",
       " 'CORREL',\n",
       " 'LINEARREG',\n",
       " 'LINEARREG_ANGLE',\n",
       " 'LINEARREG_INTERCEPT',\n",
       " 'LINEARREG_SLOPE',\n",
       " 'STDDEV',\n",
       " 'TSF',\n",
       " 'VAR',\n",
       " 'HT_DCPERIOD',\n",
       " 'HT_DCPHASE',\n",
       " 'HT_PHASOR',\n",
       " 'HT_SINE',\n",
       " 'HT_TRENDMODE',\n",
       " 'ADX',\n",
       " 'ADXR',\n",
       " 'APO',\n",
       " 'AROON',\n",
       " 'AROONOSC',\n",
       " 'BOP',\n",
       " 'CCI',\n",
       " 'CMO',\n",
       " 'DX',\n",
       " 'MACD',\n",
       " 'MACDEXT',\n",
       " 'MACDFIX',\n",
       " 'MFI',\n",
       " 'MINUS_DI',\n",
       " 'MINUS_DM',\n",
       " 'MOM',\n",
       " 'PLUS_DI',\n",
       " 'PLUS_DM',\n",
       " 'PPO',\n",
       " 'ROC',\n",
       " 'ROCP',\n",
       " 'ROCR',\n",
       " 'ROCR100',\n",
       " 'RSI',\n",
       " 'STOCH',\n",
       " 'STOCHF',\n",
       " 'STOCHRSI',\n",
       " 'TRIX',\n",
       " 'ULTOSC',\n",
       " 'WILLR',\n",
       " 'ACOS',\n",
       " 'ASIN',\n",
       " 'ATAN',\n",
       " 'CEIL',\n",
       " 'COS',\n",
       " 'COSH',\n",
       " 'EXP',\n",
       " 'FLOOR',\n",
       " 'LN',\n",
       " 'LOG10',\n",
       " 'SIN',\n",
       " 'SINH',\n",
       " 'SQRT',\n",
       " 'TAN',\n",
       " 'TANH',\n",
       " 'CDL2CROWS',\n",
       " 'CDL3BLACKCROWS',\n",
       " 'CDL3INSIDE',\n",
       " 'CDL3LINESTRIKE',\n",
       " 'CDL3OUTSIDE',\n",
       " 'CDL3STARSINSOUTH',\n",
       " 'CDL3WHITESOLDIERS',\n",
       " 'CDLABANDONEDBABY',\n",
       " 'CDLADVANCEBLOCK',\n",
       " 'CDLBELTHOLD',\n",
       " 'CDLBREAKAWAY',\n",
       " 'CDLCLOSINGMARUBOZU',\n",
       " 'CDLCONCEALBABYSWALL',\n",
       " 'CDLCOUNTERATTACK',\n",
       " 'CDLDARKCLOUDCOVER',\n",
       " 'CDLDOJI',\n",
       " 'CDLDOJISTAR',\n",
       " 'CDLDRAGONFLYDOJI',\n",
       " 'CDLENGULFING',\n",
       " 'CDLEVENINGDOJISTAR',\n",
       " 'CDLEVENINGSTAR',\n",
       " 'CDLGAPSIDESIDEWHITE',\n",
       " 'CDLGRAVESTONEDOJI',\n",
       " 'CDLHAMMER',\n",
       " 'CDLHANGINGMAN',\n",
       " 'CDLHARAMI',\n",
       " 'CDLHARAMICROSS',\n",
       " 'CDLHIGHWAVE',\n",
       " 'CDLHIKKAKE',\n",
       " 'CDLHIKKAKEMOD',\n",
       " 'CDLHOMINGPIGEON',\n",
       " 'CDLIDENTICAL3CROWS',\n",
       " 'CDLINNECK',\n",
       " 'CDLINVERTEDHAMMER',\n",
       " 'CDLKICKING',\n",
       " 'CDLKICKINGBYLENGTH',\n",
       " 'CDLLADDERBOTTOM',\n",
       " 'CDLLONGLEGGEDDOJI',\n",
       " 'CDLLONGLINE',\n",
       " 'CDLMARUBOZU',\n",
       " 'CDLMATCHINGLOW',\n",
       " 'CDLMATHOLD',\n",
       " 'CDLMORNINGDOJISTAR',\n",
       " 'CDLMORNINGSTAR',\n",
       " 'CDLONNECK',\n",
       " 'CDLPIERCING',\n",
       " 'CDLRICKSHAWMAN',\n",
       " 'CDLRISEFALL3METHODS',\n",
       " 'CDLSEPARATINGLINES',\n",
       " 'CDLSHOOTINGSTAR',\n",
       " 'CDLSHORTLINE',\n",
       " 'CDLSPINNINGTOP',\n",
       " 'CDLSTALLEDPATTERN',\n",
       " 'CDLSTICKSANDWICH',\n",
       " 'CDLTAKURI',\n",
       " 'CDLTASUKIGAP',\n",
       " 'CDLTHRUSTING',\n",
       " 'CDLTRISTAR',\n",
       " 'CDLUNIQUE3RIVER',\n",
       " 'CDLUPSIDEGAP2CROWS',\n",
       " 'CDLXSIDEGAP3METHODS',\n",
       " 'ATR',\n",
       " 'NATR',\n",
       " 'TRANGE']"
      ]
     },
     "execution_count": 8,
     "metadata": {},
     "output_type": "execute_result"
    }
   ],
   "source": [
    "fNames"
   ]
  },
  {
   "cell_type": "code",
   "execution_count": 5,
   "metadata": {
    "collapsed": true
   },
   "outputs": [],
   "source": [
    "groupNames = list(taGroups.keys())"
   ]
  },
  {
   "cell_type": "code",
   "execution_count": 6,
   "metadata": {
    "collapsed": false
   },
   "outputs": [
    {
     "data": {
      "text/plain": [
       "['Overlap Studies',\n",
       " 'Price Transform',\n",
       " 'Statistic Functions',\n",
       " 'Momentum Indicators',\n",
       " 'Math Transform',\n",
       " 'Volatility Indicators',\n",
       " 'Math Operators',\n",
       " 'Volume Indicators',\n",
       " 'Cycle Indicators',\n",
       " 'Pattern Recognition']"
      ]
     },
     "execution_count": 6,
     "metadata": {},
     "output_type": "execute_result"
    }
   ],
   "source": [
    "groupNames"
   ]
  },
  {
   "cell_type": "code",
   "execution_count": 62,
   "metadata": {
    "collapsed": false
   },
   "outputs": [
    {
     "data": {
      "text/plain": [
       "'SMA([input_arrays], [timeperiod=25])\\n\\nSimple Moving Average (Overlap Studies)\\n\\nInputs:\\n    price: (any ndarray)\\nParameters:\\n    timeperiod: 25\\nOutputs:\\n    real'"
      ]
     },
     "execution_count": 62,
     "metadata": {},
     "output_type": "execute_result"
    }
   ],
   "source": [
    "str(SMA).split('\\n')[0]"
   ]
  },
  {
   "cell_type": "code",
   "execution_count": 58,
   "metadata": {
    "collapsed": false
   },
   "outputs": [
    {
     "data": {
      "text/plain": [
       "['HT_DCPERIOD', 'HT_DCPHASE', 'HT_PHASOR', 'HT_SINE', 'HT_TRENDMODE']"
      ]
     },
     "execution_count": 58,
     "metadata": {},
     "output_type": "execute_result"
    }
   ],
   "source": [
    "taGroups[groupNames[2]]"
   ]
  },
  {
   "cell_type": "code",
   "execution_count": 56,
   "metadata": {
    "collapsed": false
   },
   "outputs": [
    {
     "data": {
      "text/plain": [
       "'LOG10([input_arrays])'"
      ]
     },
     "execution_count": 56,
     "metadata": {},
     "output_type": "execute_result"
    }
   ],
   "source": [
    "str(LOG10).split('\\n')[0]"
   ]
  },
  {
   "cell_type": "code",
   "execution_count": 63,
   "metadata": {
    "collapsed": false
   },
   "outputs": [
    {
     "name": "stdout",
     "output_type": "stream",
     "text": [
      "SMA([input_arrays], [timeperiod=25])\n",
      "\n",
      "Simple Moving Average (Overlap Studies)\n",
      "\n",
      "Inputs:\n",
      "    price: (any ndarray)\n",
      "Parameters:\n",
      "    timeperiod: 25\n",
      "Outputs:\n",
      "    real\n"
     ]
    }
   ],
   "source": [
    "print(SMA)"
   ]
  },
  {
   "cell_type": "code",
   "execution_count": 39,
   "metadata": {
    "collapsed": false
   },
   "outputs": [
    {
     "ename": "ValueError",
     "evalue": "could not convert string to float: 'aa'",
     "output_type": "error",
     "traceback": [
      "\u001b[1;31m---------------------------------------------------------------------------\u001b[0m",
      "\u001b[1;31mValueError\u001b[0m                                Traceback (most recent call last)",
      "\u001b[1;32m<ipython-input-39-00b870d19039>\u001b[0m in \u001b[0;36m<module>\u001b[1;34m()\u001b[0m\n\u001b[1;32m----> 1\u001b[1;33m \u001b[0mfloat\u001b[0m\u001b[1;33m(\u001b[0m\u001b[1;34m'aa'\u001b[0m\u001b[1;33m)\u001b[0m\u001b[1;33m\u001b[0m\u001b[0m\n\u001b[0m",
      "\u001b[1;31mValueError\u001b[0m: could not convert string to float: 'aa'"
     ]
    }
   ],
   "source": [
    "float('aa')"
   ]
  },
  {
   "cell_type": "code",
   "execution_count": null,
   "metadata": {
    "collapsed": true
   },
   "outputs": [],
   "source": []
  }
 ],
 "metadata": {
  "kernelspec": {
   "display_name": "Python 3",
   "language": "python",
   "name": "python3"
  },
  "language_info": {
   "codemirror_mode": {
    "name": "ipython",
    "version": 3
   },
   "file_extension": ".py",
   "mimetype": "text/x-python",
   "name": "python",
   "nbconvert_exporter": "python",
   "pygments_lexer": "ipython3",
   "version": "3.5.4"
  }
 },
 "nbformat": 4,
 "nbformat_minor": 0
}
