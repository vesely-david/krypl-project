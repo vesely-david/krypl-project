{
 "cells": [
  {
   "cell_type": "code",
   "execution_count": 1,
   "metadata": {
    "collapsed": false
   },
   "outputs": [
    {
     "name": "stderr",
     "output_type": "stream",
     "text": [
      "C:\\Anaconda3\\lib\\site-packages\\pandas\\core\\computation\\__init__.py:18: UserWarning: The installed version of numexpr 2.4.4 is not supported in pandas and will be not be used\n",
      "The minimum supported version is 2.4.6\n",
      "\n",
      "  ver=ver, min_ver=_MIN_NUMEXPR_VERSION), UserWarning)\n"
     ]
    }
   ],
   "source": [
    "import numpy as np\n",
    "import pandas as pd\n",
    "import talib"
   ]
  },
  {
   "cell_type": "markdown",
   "metadata": {},
   "source": [
    "# Get Data"
   ]
  },
  {
   "cell_type": "code",
   "execution_count": 10,
   "metadata": {
    "collapsed": true
   },
   "outputs": [],
   "source": [
    "import urllib.request\n",
    "import json\n",
    "\n",
    "def retrieve(url):\n",
    "    with urllib.request.urlopen(url) as response:\n",
    "        html = response.read().decode(\"utf-8\")\n",
    "        data = json.loads(html)\n",
    "    return data\n",
    "\n",
    "import time\n",
    "import datetime\n",
    "\n",
    "def strTimeToTimestamp(strTime):\n",
    "    return datetime.datetime.strptime(strTime, \"%Y-%m-%d %H:%M:%S\").timestamp()\n",
    "\n",
    "def queryPoloniex(beginTime, endTime, currencyPair, period=1800):\n",
    "    beginTimestamp, endTimestamp = strTimeToTimestamp(beginTime), strTimeToTimestamp(endTime)\n",
    "    url = 'https://poloniex.com/public?command=returnChartData&currencyPair={pair}&start={begin}&end={end}&period={period}'\n",
    "    return retrieve(url.format(pair=currencyPair, begin=beginTimestamp, end=endTimestamp, period=period))"
   ]
  },
  {
   "cell_type": "code",
   "execution_count": 11,
   "metadata": {
    "collapsed": true
   },
   "outputs": [],
   "source": [
    "testData = queryPoloniex('2017-08-01 00:00:00', '2017-08-01 23:59:59', 'BTC_ETH')"
   ]
  },
  {
   "cell_type": "code",
   "execution_count": 12,
   "metadata": {
    "collapsed": false,
    "scrolled": true
   },
   "outputs": [
    {
     "data": {
      "text/plain": [
       "[{'close': 0.06995053,\n",
       "  'date': 1501538400,\n",
       "  'high': 0.07014348,\n",
       "  'low': 0.06976693,\n",
       "  'open': 0.06995364,\n",
       "  'quoteVolume': 3264.00263166,\n",
       "  'volume': 228.32718444,\n",
       "  'weightedAverage': 0.06995312},\n",
       " {'close': 0.07005022,\n",
       "  'date': 1501540200,\n",
       "  'high': 0.07022963,\n",
       "  'low': 0.06985502,\n",
       "  'open': 0.06994859,\n",
       "  'quoteVolume': 2704.40389721,\n",
       "  'volume': 189.52017889,\n",
       "  'weightedAverage': 0.07007835},\n",
       " {'close': 0.07012229,\n",
       "  'date': 1501542000,\n",
       "  'high': 0.0703,\n",
       "  'low': 0.0698133,\n",
       "  'open': 0.07005255,\n",
       "  'quoteVolume': 3163.1509057,\n",
       "  'volume': 221.71097141,\n",
       "  'weightedAverage': 0.0700918},\n",
       " {'close': 0.07035614,\n",
       "  'date': 1501543800,\n",
       "  'high': 0.07038115,\n",
       "  'low': 0.06984737,\n",
       "  'open': 0.07006797,\n",
       "  'quoteVolume': 3372.78987095,\n",
       "  'volume': 236.60247296,\n",
       "  'weightedAverage': 0.07015037},\n",
       " {'close': 0.07305536,\n",
       "  'date': 1501545600,\n",
       "  'high': 0.07349999,\n",
       "  'low': 0.07034611,\n",
       "  'open': 0.07035614,\n",
       "  'quoteVolume': 14180.60719401,\n",
       "  'volume': 1019.83312282,\n",
       "  'weightedAverage': 0.07191745},\n",
       " {'close': 0.07286091,\n",
       "  'date': 1501547400,\n",
       "  'high': 0.073998,\n",
       "  'low': 0.07237272,\n",
       "  'open': 0.0732,\n",
       "  'quoteVolume': 8616.1109964,\n",
       "  'volume': 628.67540465,\n",
       "  'weightedAverage': 0.0729651},\n",
       " {'close': 0.07233367,\n",
       "  'date': 1501549200,\n",
       "  'high': 0.07298869,\n",
       "  'low': 0.0715,\n",
       "  'open': 0.07288632,\n",
       "  'quoteVolume': 6750.79365521,\n",
       "  'volume': 486.87829166,\n",
       "  'weightedAverage': 0.07212163},\n",
       " {'close': 0.07226151,\n",
       "  'date': 1501551000,\n",
       "  'high': 0.07249999,\n",
       "  'low': 0.07103108,\n",
       "  'open': 0.07232766,\n",
       "  'quoteVolume': 5484.33189184,\n",
       "  'volume': 393.39845993,\n",
       "  'weightedAverage': 0.07173133},\n",
       " {'close': 0.07212999,\n",
       "  'date': 1501552800,\n",
       "  'high': 0.07243951,\n",
       "  'low': 0.07150051,\n",
       "  'open': 0.07224274,\n",
       "  'quoteVolume': 3380.59866705,\n",
       "  'volume': 243.60871273,\n",
       "  'weightedAverage': 0.07206082},\n",
       " {'close': 0.07223454,\n",
       "  'date': 1501554600,\n",
       "  'high': 0.07240483,\n",
       "  'low': 0.07201628,\n",
       "  'open': 0.07210265,\n",
       "  'quoteVolume': 1354.78570936,\n",
       "  'volume': 97.76285321,\n",
       "  'weightedAverage': 0.07216111},\n",
       " {'close': 0.07231909,\n",
       "  'date': 1501556400,\n",
       "  'high': 0.07247499,\n",
       "  'low': 0.07192262,\n",
       "  'open': 0.07224819,\n",
       "  'quoteVolume': 1678.48189706,\n",
       "  'volume': 121.25523526,\n",
       "  'weightedAverage': 0.07224101},\n",
       " {'close': 0.07267942,\n",
       "  'date': 1501558200,\n",
       "  'high': 0.07283499,\n",
       "  'low': 0.07174205,\n",
       "  'open': 0.0723191,\n",
       "  'quoteVolume': 3214.56339332,\n",
       "  'volume': 232.78831069,\n",
       "  'weightedAverage': 0.07241677},\n",
       " {'close': 0.07475825,\n",
       "  'date': 1501560000,\n",
       "  'high': 0.075,\n",
       "  'low': 0.07267942,\n",
       "  'open': 0.07272347,\n",
       "  'quoteVolume': 15628.07870444,\n",
       "  'volume': 1159.31495311,\n",
       "  'weightedAverage': 0.07418154},\n",
       " {'close': 0.07461501,\n",
       "  'date': 1501561800,\n",
       "  'high': 0.076,\n",
       "  'low': 0.0725957,\n",
       "  'open': 0.07475825,\n",
       "  'quoteVolume': 21235.10965424,\n",
       "  'volume': 1585.07200629,\n",
       "  'weightedAverage': 0.07464392},\n",
       " {'close': 0.0739,\n",
       "  'date': 1501563600,\n",
       "  'high': 0.07468815,\n",
       "  'low': 0.07372934,\n",
       "  'open': 0.07461502,\n",
       "  'quoteVolume': 5221.91876766,\n",
       "  'volume': 387.33854786,\n",
       "  'weightedAverage': 0.07417552},\n",
       " {'close': 0.07526935,\n",
       "  'date': 1501565400,\n",
       "  'high': 0.07543618,\n",
       "  'low': 0.07389741,\n",
       "  'open': 0.0739,\n",
       "  'quoteVolume': 4098.81097279,\n",
       "  'volume': 305.88101344,\n",
       "  'weightedAverage': 0.07462676},\n",
       " {'close': 0.07610873,\n",
       "  'date': 1501567200,\n",
       "  'high': 0.0762,\n",
       "  'low': 0.07484701,\n",
       "  'open': 0.07526936,\n",
       "  'quoteVolume': 11402.85087237,\n",
       "  'volume': 860.76873178,\n",
       "  'weightedAverage': 0.07548715},\n",
       " {'close': 0.07696782,\n",
       "  'date': 1501569000,\n",
       "  'high': 0.07817583,\n",
       "  'low': 0.07604861,\n",
       "  'open': 0.07610873,\n",
       "  'quoteVolume': 10927.36787325,\n",
       "  'volume': 844.18938788,\n",
       "  'weightedAverage': 0.07725459},\n",
       " {'close': 0.0769,\n",
       "  'date': 1501570800,\n",
       "  'high': 0.0774,\n",
       "  'low': 0.07634993,\n",
       "  'open': 0.0770341,\n",
       "  'quoteVolume': 4544.3022576,\n",
       "  'volume': 348.96373233,\n",
       "  'weightedAverage': 0.07679148},\n",
       " {'close': 0.077077,\n",
       "  'date': 1501572600,\n",
       "  'high': 0.077077,\n",
       "  'low': 0.076,\n",
       "  'open': 0.0768559,\n",
       "  'quoteVolume': 8370.22537316,\n",
       "  'volume': 639.05516051,\n",
       "  'weightedAverage': 0.07634862},\n",
       " {'close': 0.07766001,\n",
       "  'date': 1501574400,\n",
       "  'high': 0.07778408,\n",
       "  'low': 0.07692737,\n",
       "  'open': 0.07708,\n",
       "  'quoteVolume': 7629.26307142,\n",
       "  'volume': 590.47445271,\n",
       "  'weightedAverage': 0.077396},\n",
       " {'close': 0.07903263,\n",
       "  'date': 1501576200,\n",
       "  'high': 0.07959085,\n",
       "  'low': 0.07766001,\n",
       "  'open': 0.07766001,\n",
       "  'quoteVolume': 13470.44308919,\n",
       "  'volume': 1060.47800415,\n",
       "  'weightedAverage': 0.07872628},\n",
       " {'close': 0.07816071,\n",
       "  'date': 1501578000,\n",
       "  'high': 0.07934921,\n",
       "  'low': 0.07739503,\n",
       "  'open': 0.07934921,\n",
       "  'quoteVolume': 8427.00965195,\n",
       "  'volume': 660.47892073,\n",
       "  'weightedAverage': 0.07837642},\n",
       " {'close': 0.07820001,\n",
       "  'date': 1501579800,\n",
       "  'high': 0.079,\n",
       "  'low': 0.07776553,\n",
       "  'open': 0.07807688,\n",
       "  'quoteVolume': 6781.40863147,\n",
       "  'volume': 532.64922092,\n",
       "  'weightedAverage': 0.07854551},\n",
       " {'close': 0.07708661,\n",
       "  'date': 1501581600,\n",
       "  'high': 0.07859998,\n",
       "  'low': 0.07708661,\n",
       "  'open': 0.07829851,\n",
       "  'quoteVolume': 4181.85795308,\n",
       "  'volume': 325.38025774,\n",
       "  'weightedAverage': 0.07780758},\n",
       " {'close': 0.07632716,\n",
       "  'date': 1501583400,\n",
       "  'high': 0.07735481,\n",
       "  'low': 0.07613565,\n",
       "  'open': 0.07708661,\n",
       "  'quoteVolume': 5278.86923968,\n",
       "  'volume': 406.31465107,\n",
       "  'weightedAverage': 0.07697001},\n",
       " {'close': 0.07605929,\n",
       "  'date': 1501585200,\n",
       "  'high': 0.07634891,\n",
       "  'low': 0.07474607,\n",
       "  'open': 0.07632716,\n",
       "  'quoteVolume': 8742.9352748,\n",
       "  'volume': 659.08843584,\n",
       "  'weightedAverage': 0.07538525},\n",
       " {'close': 0.075102,\n",
       "  'date': 1501587000,\n",
       "  'high': 0.07709814,\n",
       "  'low': 0.075,\n",
       "  'open': 0.07605929,\n",
       "  'quoteVolume': 5564.47301608,\n",
       "  'volume': 423.54899901,\n",
       "  'weightedAverage': 0.07611664},\n",
       " {'close': 0.07894819,\n",
       "  'date': 1501588800,\n",
       "  'high': 0.0791,\n",
       "  'low': 0.07466549,\n",
       "  'open': 0.07510201,\n",
       "  'quoteVolume': 12435.13947095,\n",
       "  'volume': 949.71040289,\n",
       "  'weightedAverage': 0.07637312},\n",
       " {'close': 0.07960001,\n",
       "  'date': 1501590600,\n",
       "  'high': 0.08199676,\n",
       "  'low': 0.07879601,\n",
       "  'open': 0.07899241,\n",
       "  'quoteVolume': 28964.74018766,\n",
       "  'volume': 2329.49393158,\n",
       "  'weightedAverage': 0.08042516},\n",
       " {'close': 0.080709,\n",
       "  'date': 1501592400,\n",
       "  'high': 0.0815,\n",
       "  'low': 0.07932332,\n",
       "  'open': 0.07976,\n",
       "  'quoteVolume': 7545.95506518,\n",
       "  'volume': 604.22191199,\n",
       "  'weightedAverage': 0.08007229},\n",
       " {'close': 0.08001109,\n",
       "  'date': 1501594200,\n",
       "  'high': 0.08156026,\n",
       "  'low': 0.08001109,\n",
       "  'open': 0.080709,\n",
       "  'quoteVolume': 11445.57252398,\n",
       "  'volume': 925.87223157,\n",
       "  'weightedAverage': 0.08089348},\n",
       " {'close': 0.0793,\n",
       "  'date': 1501596000,\n",
       "  'high': 0.0801,\n",
       "  'low': 0.07833691,\n",
       "  'open': 0.08001109,\n",
       "  'quoteVolume': 9117.88968799,\n",
       "  'volume': 721.18406981,\n",
       "  'weightedAverage': 0.0790955},\n",
       " {'close': 0.08,\n",
       "  'date': 1501597800,\n",
       "  'high': 0.08027316,\n",
       "  'low': 0.07860687,\n",
       "  'open': 0.07918816,\n",
       "  'quoteVolume': 6979.63091757,\n",
       "  'volume': 554.35532094,\n",
       "  'weightedAverage': 0.07942473},\n",
       " {'close': 0.07892679,\n",
       "  'date': 1501599600,\n",
       "  'high': 0.08009199,\n",
       "  'low': 0.07854353,\n",
       "  'open': 0.08,\n",
       "  'quoteVolume': 5757.56878631,\n",
       "  'volume': 455.50286892,\n",
       "  'weightedAverage': 0.07911375},\n",
       " {'close': 0.07838431,\n",
       "  'date': 1501601400,\n",
       "  'high': 0.07980625,\n",
       "  'low': 0.07790827,\n",
       "  'open': 0.0789155,\n",
       "  'quoteVolume': 7146.66830403,\n",
       "  'volume': 564.84266796,\n",
       "  'weightedAverage': 0.0790358},\n",
       " {'close': 0.07854591,\n",
       "  'date': 1501603200,\n",
       "  'high': 0.07892692,\n",
       "  'low': 0.07535001,\n",
       "  'open': 0.07838431,\n",
       "  'quoteVolume': 12408.06259199,\n",
       "  'volume': 968.90028113,\n",
       "  'weightedAverage': 0.07808634},\n",
       " {'close': 0.08005,\n",
       "  'date': 1501605000,\n",
       "  'high': 0.08047604,\n",
       "  'low': 0.07730819,\n",
       "  'open': 0.07854591,\n",
       "  'quoteVolume': 14570.02980339,\n",
       "  'volume': 1158.86910828,\n",
       "  'weightedAverage': 0.07953786},\n",
       " {'close': 0.0815,\n",
       "  'date': 1501606800,\n",
       "  'high': 0.0817,\n",
       "  'low': 0.07945134,\n",
       "  'open': 0.08008149,\n",
       "  'quoteVolume': 13602.01313888,\n",
       "  'volume': 1099.98522555,\n",
       "  'weightedAverage': 0.08086929},\n",
       " {'close': 0.08099,\n",
       "  'date': 1501608600,\n",
       "  'high': 0.0816,\n",
       "  'low': 0.08048883,\n",
       "  'open': 0.08143666,\n",
       "  'quoteVolume': 13211.28771327,\n",
       "  'volume': 1069.09404692,\n",
       "  'weightedAverage': 0.08092277},\n",
       " {'close': 0.08092295,\n",
       "  'date': 1501610400,\n",
       "  'high': 0.0811,\n",
       "  'low': 0.08,\n",
       "  'open': 0.08099,\n",
       "  'quoteVolume': 6750.73949511,\n",
       "  'volume': 543.40420726,\n",
       "  'weightedAverage': 0.0804955},\n",
       " {'close': 0.083,\n",
       "  'date': 1501612200,\n",
       "  'high': 0.08302122,\n",
       "  'low': 0.08080013,\n",
       "  'open': 0.081,\n",
       "  'quoteVolume': 11632.05301,\n",
       "  'volume': 952.19633011,\n",
       "  'weightedAverage': 0.08185969},\n",
       " {'close': 0.0833,\n",
       "  'date': 1501614000,\n",
       "  'high': 0.08486927,\n",
       "  'low': 0.08284202,\n",
       "  'open': 0.083,\n",
       "  'quoteVolume': 19821.40287982,\n",
       "  'volume': 1657.43175473,\n",
       "  'weightedAverage': 0.08361828},\n",
       " {'close': 0.08240852,\n",
       "  'date': 1501615800,\n",
       "  'high': 0.08375002,\n",
       "  'low': 0.0821413,\n",
       "  'open': 0.08329167,\n",
       "  'quoteVolume': 9392.2636835,\n",
       "  'volume': 780.31056489,\n",
       "  'weightedAverage': 0.08308013},\n",
       " {'close': 0.08268891,\n",
       "  'date': 1501617600,\n",
       "  'high': 0.08358632,\n",
       "  'low': 0.08240852,\n",
       "  'open': 0.08240852,\n",
       "  'quoteVolume': 7733.76451566,\n",
       "  'volume': 641.98601507,\n",
       "  'weightedAverage': 0.0830108},\n",
       " {'close': 0.08389404,\n",
       "  'date': 1501619400,\n",
       "  'high': 0.08389404,\n",
       "  'low': 0.08263055,\n",
       "  'open': 0.08272925,\n",
       "  'quoteVolume': 6243.63718467,\n",
       "  'volume': 519.35957058,\n",
       "  'weightedAverage': 0.08318221},\n",
       " {'close': 0.08324538,\n",
       "  'date': 1501621200,\n",
       "  'high': 0.08411111,\n",
       "  'low': 0.0831,\n",
       "  'open': 0.08389404,\n",
       "  'quoteVolume': 8509.84846787,\n",
       "  'volume': 712.09577363,\n",
       "  'weightedAverage': 0.08367901},\n",
       " {'close': 0.08268689,\n",
       "  'date': 1501623000,\n",
       "  'high': 0.08369684,\n",
       "  'low': 0.0822,\n",
       "  'open': 0.08321783,\n",
       "  'quoteVolume': 7210.85325068,\n",
       "  'volume': 597.58937167,\n",
       "  'weightedAverage': 0.0828736}]"
      ]
     },
     "execution_count": 12,
     "metadata": {},
     "output_type": "execute_result"
    }
   ],
   "source": [
    "testData"
   ]
  },
  {
   "cell_type": "markdown",
   "metadata": {},
   "source": [
    "# Test Basics"
   ]
  },
  {
   "cell_type": "code",
   "execution_count": 23,
   "metadata": {
    "collapsed": false
   },
   "outputs": [],
   "source": [
    "inputs = {\n",
    "    'open': np.random.random(100),\n",
    "    'high': np.random.random(100),\n",
    "    'low': np.random.random(100),\n",
    "    'close': np.random.random(100),\n",
    "    'volume': np.random.random(100)\n",
    "}\n",
    "\n",
    "from talib.abstract import *\n",
    "\n",
    "# uses close prices (default)\n",
    "output = BBANDS(inputs, timeperiod=25)"
   ]
  },
  {
   "cell_type": "code",
   "execution_count": 28,
   "metadata": {
    "collapsed": false
   },
   "outputs": [],
   "source": [
    "taGroups = talib.get_function_groups()"
   ]
  },
  {
   "cell_type": "code",
   "execution_count": 29,
   "metadata": {
    "collapsed": true
   },
   "outputs": [],
   "source": [
    "groupNames = list(taGroups.keys())"
   ]
  },
  {
   "cell_type": "code",
   "execution_count": 30,
   "metadata": {
    "collapsed": false
   },
   "outputs": [
    {
     "data": {
      "text/plain": [
       "['Overlap Studies',\n",
       " 'Math Transform',\n",
       " 'Cycle Indicators',\n",
       " 'Volatility Indicators',\n",
       " 'Price Transform',\n",
       " 'Pattern Recognition',\n",
       " 'Math Operators',\n",
       " 'Momentum Indicators',\n",
       " 'Statistic Functions',\n",
       " 'Volume Indicators']"
      ]
     },
     "execution_count": 30,
     "metadata": {},
     "output_type": "execute_result"
    }
   ],
   "source": [
    "groupNames"
   ]
  },
  {
   "cell_type": "code",
   "execution_count": 62,
   "metadata": {
    "collapsed": false
   },
   "outputs": [
    {
     "data": {
      "text/plain": [
       "'SMA([input_arrays], [timeperiod=25])\\n\\nSimple Moving Average (Overlap Studies)\\n\\nInputs:\\n    price: (any ndarray)\\nParameters:\\n    timeperiod: 25\\nOutputs:\\n    real'"
      ]
     },
     "execution_count": 62,
     "metadata": {},
     "output_type": "execute_result"
    }
   ],
   "source": [
    "str(SMA).split('\\n')[0]"
   ]
  },
  {
   "cell_type": "code",
   "execution_count": 58,
   "metadata": {
    "collapsed": false
   },
   "outputs": [
    {
     "data": {
      "text/plain": [
       "['HT_DCPERIOD', 'HT_DCPHASE', 'HT_PHASOR', 'HT_SINE', 'HT_TRENDMODE']"
      ]
     },
     "execution_count": 58,
     "metadata": {},
     "output_type": "execute_result"
    }
   ],
   "source": [
    "taGroups[groupNames[2]]"
   ]
  },
  {
   "cell_type": "code",
   "execution_count": 56,
   "metadata": {
    "collapsed": false
   },
   "outputs": [
    {
     "data": {
      "text/plain": [
       "'LOG10([input_arrays])'"
      ]
     },
     "execution_count": 56,
     "metadata": {},
     "output_type": "execute_result"
    }
   ],
   "source": [
    "str(LOG10).split('\\n')[0]"
   ]
  },
  {
   "cell_type": "code",
   "execution_count": 63,
   "metadata": {
    "collapsed": false
   },
   "outputs": [
    {
     "name": "stdout",
     "output_type": "stream",
     "text": [
      "SMA([input_arrays], [timeperiod=25])\n",
      "\n",
      "Simple Moving Average (Overlap Studies)\n",
      "\n",
      "Inputs:\n",
      "    price: (any ndarray)\n",
      "Parameters:\n",
      "    timeperiod: 25\n",
      "Outputs:\n",
      "    real\n"
     ]
    }
   ],
   "source": [
    "print(SMA)"
   ]
  },
  {
   "cell_type": "code",
   "execution_count": null,
   "metadata": {
    "collapsed": true
   },
   "outputs": [],
   "source": []
  }
 ],
 "metadata": {
  "kernelspec": {
   "display_name": "Python 3",
   "language": "python",
   "name": "python3"
  },
  "language_info": {
   "codemirror_mode": {
    "name": "ipython",
    "version": 3
   },
   "file_extension": ".py",
   "mimetype": "text/x-python",
   "name": "python",
   "nbconvert_exporter": "python",
   "pygments_lexer": "ipython3",
   "version": "3.5.4"
  }
 },
 "nbformat": 4,
 "nbformat_minor": 0
}
