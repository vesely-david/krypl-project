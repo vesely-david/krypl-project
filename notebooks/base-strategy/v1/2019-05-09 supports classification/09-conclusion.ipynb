{
 "cells": [
  {
   "cell_type": "markdown",
   "metadata": {},
   "source": [
    "# Conclusion\n",
    "\n",
    "Linearni regrese sve targety spise prestreluje a v zavislosti na tom, je mensi winPercentage.\n",
    "\n",
    "V dalsim experimentu by to chtelo zkusit tento problem vyresit napriklad jinou ucici funkci nebo jinym labelovanim..\n",
    "\n",
    "Slo by napriklad olabelovat data treba aby target byl 90% max profitu"
   ]
  },
  {
   "cell_type": "code",
   "execution_count": null,
   "metadata": {},
   "outputs": [],
   "source": []
  }
 ],
 "metadata": {
  "kernelspec": {
   "display_name": "crypto36",
   "language": "python",
   "name": "crypto36"
  },
  "language_info": {
   "codemirror_mode": {
    "name": "ipython",
    "version": 3
   },
   "file_extension": ".py",
   "mimetype": "text/x-python",
   "name": "python",
   "nbconvert_exporter": "python",
   "pygments_lexer": "ipython3",
   "version": "3.6.8"
  }
 },
 "nbformat": 4,
 "nbformat_minor": 2
}
