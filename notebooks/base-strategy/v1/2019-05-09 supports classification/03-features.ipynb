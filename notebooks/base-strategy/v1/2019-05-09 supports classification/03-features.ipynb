{
 "cells": [
  {
   "cell_type": "code",
   "execution_count": 2,
   "metadata": {},
   "outputs": [
    {
     "name": "stderr",
     "output_type": "stream",
     "text": [
      "C:\\Users\\david.vesely\\AppData\\Local\\conda\\conda\\envs\\crypto36\\lib\\site-packages\\sklearn\\externals\\joblib\\__init__.py:15: DeprecationWarning: sklearn.externals.joblib is deprecated in 0.21 and will be removed in 0.23. Please import this functionality directly from joblib, which can be installed with: pip install joblib. If this warning is raised when loading pickled models, you may need to re-serialize those models with scikit-learn 0.21+.\n",
      "  warnings.warn(msg, category=DeprecationWarning)\n"
     ]
    }
   ],
   "source": [
    "%run ../../../utils/commonImports.py\n",
    "%run ../../../utils/tradingImports.py\n",
    "%matplotlib inline\n",
    "\n",
    "from base import supres\n",
    "from exputils import *"
   ]
  },
  {
   "cell_type": "markdown",
   "metadata": {},
   "source": [
    "# Load data"
   ]
  },
  {
   "cell_type": "code",
   "execution_count": 3,
   "metadata": {},
   "outputs": [],
   "source": [
    "dropbox_dir = 'D:\\\\Dropbox\\\\My work\\\\krypl-project'\n",
    "# dropbox_dir = '/Users/david.vesely/Dropbox/My work/krypl-project'\n",
    "features = ['support']\n",
    "pairs = read_tsv('selected-pairs.tsv', header=None)[0].tolist()\n",
    "\n",
    "data_dict = {p: read_all(p, dropbox_dir) for p in pairs}\n",
    "supports = read_tsv('labeled.tsv')"
   ]
  },
  {
   "cell_type": "code",
   "execution_count": 4,
   "metadata": {},
   "outputs": [],
   "source": [
    "window_sizes = [4]\n",
    "shifts = [1, 2, 3]\n",
    "\n",
    "DAY = 48\n",
    "max_hold_time = 5 * DAY\n",
    "stop_loss = 0.05\n",
    "fee = 0.0025"
   ]
  },
  {
   "cell_type": "markdown",
   "metadata": {},
   "source": [
    "# Support changes"
   ]
  },
  {
   "cell_type": "code",
   "execution_count": 5,
   "metadata": {},
   "outputs": [],
   "source": [
    "def get_changes(data, shift=1):\n",
    "    support_vals = data['support'].values\n",
    "    size = support_vals.shape[0]\n",
    "    changes = (support_vals[shift:] / support_vals[:size-shift]) - 1\n",
    "    for _ in range(shift):\n",
    "        changes = np.insert(changes, 0, 0)\n",
    "    data[f'change_{shift}'] = changes\n",
    "    return data"
   ]
  },
  {
   "cell_type": "code",
   "execution_count": 6,
   "metadata": {},
   "outputs": [
    {
     "data": {
      "application/vnd.jupyter.widget-view+json": {
       "model_id": "4d60085b1a58462299a32bc66f5631fd",
       "version_major": 2,
       "version_minor": 0
      },
      "text/plain": [
       "HBox(children=(IntProgress(value=0, max=57), HTML(value='')))"
      ]
     },
     "metadata": {},
     "output_type": "display_data"
    },
    {
     "name": "stdout",
     "output_type": "stream",
     "text": [
      "\n"
     ]
    }
   ],
   "source": [
    "from tqdm import tqdm_notebook\n",
    "\n",
    "n = len(pairs) * len(window_sizes) * len(shifts)\n",
    "with tqdm_notebook(total=n) as pbar:\n",
    "    supports_data = pd.DataFrame()\n",
    "    for pair in pairs:\n",
    "        for win_size in window_sizes:\n",
    "            supports_df = supports.query(f'pair == \"{pair}\"')\\\n",
    "                    .query(f'win_size == {win_size}')\\\n",
    "                    .sort_values('date')\\\n",
    "                    .copy()\n",
    "            for shift in shifts:\n",
    "                supports_df = get_changes(supports_df, shift)\n",
    "                pbar.update()\n",
    "                \n",
    "            supports_data = supports_data.append(supports_df)\n",
    "            "
   ]
  },
  {
   "cell_type": "markdown",
   "metadata": {},
   "source": [
    "# Consolidate label for better learning"
   ]
  },
  {
   "cell_type": "code",
   "execution_count": 7,
   "metadata": {},
   "outputs": [],
   "source": [
    "def decision(r):\n",
    "    if r['max_profit'] >= -r['change_1']:\n",
    "        return -r['change_1']\n",
    "    else:\n",
    "        return r['max_profit']\n",
    "\n",
    "supports_data['max_profit_consolidated'] = supports_data.apply(lambda r: decision(r), axis=1)"
   ]
  },
  {
   "cell_type": "code",
   "execution_count": 9,
   "metadata": {},
   "outputs": [],
   "source": [
    "write_tsv(supports_data, 'featured.tsv')"
   ]
  },
  {
   "cell_type": "code",
   "execution_count": null,
   "metadata": {},
   "outputs": [],
   "source": []
  }
 ],
 "metadata": {
  "kernelspec": {
   "display_name": "Crypto 36",
   "language": "python",
   "name": "crypto36"
  },
  "language_info": {
   "codemirror_mode": {
    "name": "ipython",
    "version": 3
   },
   "file_extension": ".py",
   "mimetype": "text/x-python",
   "name": "python",
   "nbconvert_exporter": "python",
   "pygments_lexer": "ipython3",
   "version": "3.6.5"
  }
 },
 "nbformat": 4,
 "nbformat_minor": 2
}
