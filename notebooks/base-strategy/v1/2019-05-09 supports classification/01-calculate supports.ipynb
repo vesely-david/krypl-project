{
 "cells": [
  {
   "cell_type": "code",
   "execution_count": 1,
   "metadata": {},
   "outputs": [],
   "source": [
    "%run ../../../utils/commonImports.py\n",
    "%run ../../../utils/tradingImports.py\n",
    "%matplotlib inline\n",
    "\n",
    "import sys\n",
    "sys.path.append(os.path.abspath(\"../../../modeling/07-base-strategy-03\"))\n",
    "\n",
    "from base import supres, BaseStrategy\n",
    "from trading.walletHistory import WalletHistory\n",
    "from exputils import *"
   ]
  },
  {
   "cell_type": "markdown",
   "metadata": {},
   "source": [
    "# Load data"
   ]
  },
  {
   "cell_type": "code",
   "execution_count": 12,
   "metadata": {},
   "outputs": [],
   "source": [
    "# dropbox_dir = 'D:\\\\Dropbox\\\\My work\\\\krypl-project'\n",
    "dropbox_dir = '/Users/david.vesely/Dropbox/My work/krypl-project'\n",
    "features = ['support']\n",
    "pairs = read_tsv('selected-pairs.tsv', header=None)[0].tolist()\n",
    "\n",
    "data_dict = {p: read_all(p, dropbox_dir) for p in pairs}"
   ]
  },
  {
   "cell_type": "markdown",
   "metadata": {},
   "source": [
    "# Calculate Supports"
   ]
  },
  {
   "cell_type": "code",
   "execution_count": 22,
   "metadata": {},
   "outputs": [],
   "source": [
    "window_sizes = [4]"
   ]
  },
  {
   "cell_type": "code",
   "execution_count": 25,
   "metadata": {},
   "outputs": [
    {
     "data": {
      "application/vnd.jupyter.widget-view+json": {
       "model_id": "c698ab5417244c438b3c9a10152d8096",
       "version_major": 2,
       "version_minor": 0
      },
      "text/plain": [
       "HBox(children=(IntProgress(value=0, max=19), HTML(value='')))"
      ]
     },
     "metadata": {},
     "output_type": "display_data"
    },
    {
     "name": "stdout",
     "output_type": "stream",
     "text": [
      "\n"
     ]
    }
   ],
   "source": [
    "from tqdm import tqdm_notebook\n",
    "\n",
    "n = len(pairs) * len(window_sizes)\n",
    "with tqdm_notebook(total=n) as pbar:\n",
    "    supports_data = pd.DataFrame()\n",
    "    for pair in pairs:\n",
    "        for win_size in window_sizes:\n",
    "            data = data_dict[pair]\n",
    "            supports, _ = supres(data['ohlc4'], win_size)\n",
    "            supports_df = pd.DataFrame(supports, columns=['index', 'support'])\n",
    "            supports_df['pair'] = pair\n",
    "            supports_df['win_size'] = win_size\n",
    "            supports_data = supports_data.append(supports_df)\n",
    "            pbar.update()"
   ]
  },
  {
   "cell_type": "code",
   "execution_count": 28,
   "metadata": {},
   "outputs": [],
   "source": [
    "write_tsv(supports_data, 'supports.tsv')"
   ]
  },
  {
   "cell_type": "code",
   "execution_count": null,
   "metadata": {},
   "outputs": [],
   "source": []
  }
 ],
 "metadata": {
  "kernelspec": {
   "display_name": "crypto36",
   "language": "python",
   "name": "crypto36"
  },
  "language_info": {
   "codemirror_mode": {
    "name": "ipython",
    "version": 3
   },
   "file_extension": ".py",
   "mimetype": "text/x-python",
   "name": "python",
   "nbconvert_exporter": "python",
   "pygments_lexer": "ipython3",
   "version": "3.6.8"
  }
 },
 "nbformat": 4,
 "nbformat_minor": 2
}
