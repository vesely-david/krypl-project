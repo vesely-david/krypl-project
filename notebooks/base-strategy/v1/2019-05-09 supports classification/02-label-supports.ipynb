{
 "cells": [
  {
   "cell_type": "code",
   "execution_count": 2,
   "metadata": {},
   "outputs": [
    {
     "name": "stderr",
     "output_type": "stream",
     "text": [
      "C:\\Users\\david.vesely\\AppData\\Local\\conda\\conda\\envs\\crypto36\\lib\\site-packages\\sklearn\\externals\\joblib\\__init__.py:15: DeprecationWarning: sklearn.externals.joblib is deprecated in 0.21 and will be removed in 0.23. Please import this functionality directly from joblib, which can be installed with: pip install joblib. If this warning is raised when loading pickled models, you may need to re-serialize those models with scikit-learn 0.21+.\n",
      "  warnings.warn(msg, category=DeprecationWarning)\n"
     ]
    }
   ],
   "source": [
    "%run ../../../utils/commonImports.py\n",
    "%run ../../../utils/tradingImports.py\n",
    "%matplotlib inline\n",
    "\n",
    "from exputils import *"
   ]
  },
  {
   "cell_type": "markdown",
   "metadata": {},
   "source": [
    "# Load data"
   ]
  },
  {
   "cell_type": "code",
   "execution_count": 3,
   "metadata": {},
   "outputs": [],
   "source": [
    "dropbox_dir = 'D:\\\\Dropbox\\\\My work\\\\krypl-project'\n",
    "# dropbox_dir = '/Users/david.vesely/Dropbox/My work/krypl-project'\n",
    "features = ['support']\n",
    "pairs = read_tsv('selected-pairs.tsv', header=None)[0].tolist()\n",
    "\n",
    "data_dict = {p: read_all(p, dropbox_dir) for p in pairs}\n",
    "supports = read_tsv('supports.tsv')"
   ]
  },
  {
   "cell_type": "markdown",
   "metadata": {},
   "source": [
    "# Label supports"
   ]
  },
  {
   "cell_type": "code",
   "execution_count": 15,
   "metadata": {},
   "outputs": [],
   "source": [
    "window_sizes = [4]\n",
    "\n",
    "DAY = 48\n",
    "max_hold_time = 5 * DAY\n",
    "stop_loss = 0.05\n",
    "fee = 0.0025"
   ]
  },
  {
   "cell_type": "code",
   "execution_count": 16,
   "metadata": {},
   "outputs": [
    {
     "data": {
      "application/vnd.jupyter.widget-view+json": {
       "model_id": "c437d8f3506d44138403a8c460a6792f",
       "version_major": 2,
       "version_minor": 0
      },
      "text/plain": [
       "HBox(children=(IntProgress(value=0, max=19), HTML(value='')))"
      ]
     },
     "metadata": {},
     "output_type": "display_data"
    },
    {
     "name": "stdout",
     "output_type": "stream",
     "text": [
      "\n"
     ]
    }
   ],
   "source": [
    "from tqdm import tqdm_notebook\n",
    "\n",
    "def return_with_fee(price_s, price_e, fee):\n",
    "    fee_part = (1 - fee) ** 2\n",
    "    return ((price_e * fee_part) / price_s) - 1\n",
    "\n",
    "\n",
    "def max_profit(data, index):\n",
    "    if len(data) < index + 1:\n",
    "        return None\n",
    "    last = index + max_hold_time if len(data) > index + max_hold_time else len(data) - 1\n",
    "    selected = reset_index_hard(data.iloc[index+1:last, :].copy())\n",
    "    buy_price = selected['close'].iloc[0]\n",
    "    selected['_return'] = (selected['close'] / buy_price) - 1\n",
    "    stop_losses = selected[selected['_return'] <= -stop_loss].reset_index()\n",
    "    if len(stop_losses) > 0:\n",
    "        stop_loss_i = stop_losses['index'].min()\n",
    "        selected = selected.iloc[:stop_loss_i, :]\n",
    "        \n",
    "    return return_with_fee(buy_price, selected['high'].max(), fee)\n",
    "\n",
    "n = len(pairs) * len(window_sizes)\n",
    "with tqdm_notebook(total=n) as pbar:\n",
    "    supports_data = pd.DataFrame()\n",
    "    for pair in pairs:\n",
    "        for win_size in window_sizes:\n",
    "            data = data_dict[pair]\n",
    "            supports_df = supports.query(f'pair == \"{pair}\"')\\\n",
    "                .query(f'win_size == {win_size}')\n",
    "            \n",
    "            supports_df['max_profit'] = [\n",
    "                max_profit(data, i) for i in supports_df['index'].apply(int)\n",
    "            ]\n",
    "            \n",
    "            supports_data = supports_data.append(supports_df)\n",
    "            pbar.update()"
   ]
  },
  {
   "cell_type": "code",
   "execution_count": 17,
   "metadata": {},
   "outputs": [],
   "source": [
    "write_tsv(supports_data, 'labeled.tsv')"
   ]
  },
  {
   "cell_type": "code",
   "execution_count": null,
   "metadata": {},
   "outputs": [],
   "source": []
  }
 ],
 "metadata": {
  "kernelspec": {
   "display_name": "Crypto 36",
   "language": "python",
   "name": "crypto36"
  },
  "language_info": {
   "codemirror_mode": {
    "name": "ipython",
    "version": 3
   },
   "file_extension": ".py",
   "mimetype": "text/x-python",
   "name": "python",
   "nbconvert_exporter": "python",
   "pygments_lexer": "ipython3",
   "version": "3.6.5"
  }
 },
 "nbformat": 4,
 "nbformat_minor": 2
}
