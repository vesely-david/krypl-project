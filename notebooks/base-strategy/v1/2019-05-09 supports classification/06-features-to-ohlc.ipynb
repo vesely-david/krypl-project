{
 "cells": [
  {
   "cell_type": "code",
   "execution_count": 2,
   "metadata": {},
   "outputs": [
    {
     "name": "stderr",
     "output_type": "stream",
     "text": [
      "C:\\Users\\david.vesely\\AppData\\Local\\conda\\conda\\envs\\crypto36\\lib\\site-packages\\sklearn\\externals\\joblib\\__init__.py:15: DeprecationWarning: sklearn.externals.joblib is deprecated in 0.21 and will be removed in 0.23. Please import this functionality directly from joblib, which can be installed with: pip install joblib. If this warning is raised when loading pickled models, you may need to re-serialize those models with scikit-learn 0.21+.\n",
      "  warnings.warn(msg, category=DeprecationWarning)\n"
     ]
    }
   ],
   "source": [
    "%run ../../../utils/commonImports.py\n",
    "%run ../../../utils/tradingImports.py\n",
    "%matplotlib inline\n",
    "\n",
    "from base import supres\n",
    "from exputils import *"
   ]
  },
  {
   "cell_type": "markdown",
   "metadata": {},
   "source": [
    "# Load data"
   ]
  },
  {
   "cell_type": "code",
   "execution_count": 5,
   "metadata": {},
   "outputs": [],
   "source": [
    "dropbox_dir = 'D:\\\\Dropbox\\\\My work\\\\krypl-project'\n",
    "# dropbox_dir = '/Users/david.vesely/Dropbox/My work/krypl-project'\n",
    "features = ['change_1', 'change_2', 'change_3']\n",
    "pairs = read_tsv('selected-pairs.tsv', header=None)[0].tolist()\n",
    "\n",
    "data_dict = {p: read_all(p, dropbox_dir) for p in pairs}\n",
    "train = read_tsv('train.tsv')\n",
    "validation = read_tsv('validation.tsv')\n",
    "test = read_tsv('test.tsv')"
   ]
  },
  {
   "cell_type": "markdown",
   "metadata": {},
   "source": [
    "# Train validation split"
   ]
  },
  {
   "cell_type": "code",
   "execution_count": 33,
   "metadata": {},
   "outputs": [],
   "source": [
    "from itertools import product\n",
    "\n",
    "def find_support(i, supports):\n",
    "    selected = supports[supports['index'] <= i]['support']\n",
    "    return None if len(selected) == 0 else selected.iloc[-1]\n",
    "\n",
    "\n",
    "def ohlc_features_f(args):\n",
    "    data_dict, supports_dict, pair, window_size = args\n",
    "    supports = supports_dict[pair][window_size]\n",
    "    data = data_dict[pair]\n",
    "    s = [find_support(i, supports) for i in range(len(data))]\n",
    "    return pair, window_size, s\n",
    "\n",
    "\n",
    "def calc_ohlc_features(data_dict, supports_dict, output_file):\n",
    "    args = product([data_dict], [supports_dict], pairs, window_sizes)\n",
    "    results = run_parallel(ohlc_supports_f, args)\n",
    "    supports_for_data_dict = dict_from_list(results)\n",
    "    save_model(supports_for_data_dict, output_file)"
   ]
  },
  {
   "cell_type": "code",
   "execution_count": 34,
   "metadata": {},
   "outputs": [
    {
     "data": {
      "application/vnd.jupyter.widget-view+json": {
       "model_id": "",
       "version_major": 2,
       "version_minor": 0
      },
      "text/plain": [
       "HBox(children=(IntProgress(value=0, max=152), HTML(value='')))"
      ]
     },
     "metadata": {},
     "output_type": "display_data"
    },
    {
     "name": "stdout",
     "output_type": "stream",
     "text": []
    }
   ],
   "source": [
    "supports_dict_train = load_model('supports_train.pkl')\n",
    "calc_ohlc_supports(train_dict, supports_dict_train, 'ohlc_supports_train.pkl')"
   ]
  }
 ],
 "metadata": {
  "kernelspec": {
   "display_name": "Crypto 36",
   "language": "python",
   "name": "crypto36"
  },
  "language_info": {
   "codemirror_mode": {
    "name": "ipython",
    "version": 3
   },
   "file_extension": ".py",
   "mimetype": "text/x-python",
   "name": "python",
   "nbconvert_exporter": "python",
   "pygments_lexer": "ipython3",
   "version": "3.6.5"
  }
 },
 "nbformat": 4,
 "nbformat_minor": 2
}
