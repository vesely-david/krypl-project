{
 "cells": [
  {
   "cell_type": "code",
   "execution_count": 48,
   "metadata": {},
   "outputs": [],
   "source": [
    "%run ../../../utils/commonImports.py\n",
    "%run ../../../utils/tradingImports.py\n",
    "%matplotlib inline\n",
    "\n",
    "from base import supres\n",
    "from exputils import *"
   ]
  },
  {
   "cell_type": "markdown",
   "metadata": {},
   "source": [
    "# Load data"
   ]
  },
  {
   "cell_type": "code",
   "execution_count": 49,
   "metadata": {},
   "outputs": [],
   "source": [
    "# dropbox_dir = 'D:\\\\Dropbox\\\\My work\\\\krypl-project'\n",
    "dropbox_dir = '/Users/david.vesely/Dropbox/My work/krypl-project'\n",
    "features = ['change_1', 'change_2', 'change_3']\n",
    "pairs = read_tsv('selected-pairs.tsv', header=None)[0].tolist()\n",
    "\n",
    "data_dict = {p: read_all(p, dropbox_dir) for p in pairs}\n",
    "supports = read_tsv('featured.tsv')"
   ]
  },
  {
   "cell_type": "code",
   "execution_count": 50,
   "metadata": {},
   "outputs": [],
   "source": [
    "window_sizes = [4]\n",
    "shifts = [1, 2, 3]\n",
    "\n",
    "DAY = 48\n",
    "max_hold_time = 5 * DAY\n",
    "stop_loss = 0.05\n",
    "fee = 0.0025"
   ]
  },
  {
   "cell_type": "code",
   "execution_count": 51,
   "metadata": {},
   "outputs": [],
   "source": [
    "def select_supports(supports, pair, win_size):\n",
    "    return supports.query(f'pair == \"{pair}\"')\\\n",
    "        .query(f'win_size == {win_size}')\\\n",
    "        .sort_values('date')\\\n",
    "        .copy()\\\n",
    "        .values\n",
    "\n",
    "def supports_dict(data):\n",
    "    return {pair: {w: select_supports(data, pair, w) for w in window_sizes} for pair in pairs}\n",
    "\n",
    "supports_dict = supports_dict(supports)\n",
    "columns_dict = {col: i for i, col in enumerate(supports.columns)}"
   ]
  },
  {
   "cell_type": "markdown",
   "metadata": {},
   "source": [
    "# Get features to OHLC"
   ]
  },
  {
   "cell_type": "code",
   "execution_count": 52,
   "metadata": {},
   "outputs": [],
   "source": [
    "from itertools import product\n",
    "\n",
    "features = ['max_profit_consolidated', 'support', 'change_1', 'change_2', 'change_3']\n",
    "features_idxs = [columns_dict[col] for col in features]\n",
    "\n",
    "def find_features(i, supports):\n",
    "    selected = supports[supports[:, columns_dict['index']] <= i, :][:, features_idxs]\n",
    "    return [None] * len(features) if len(selected) == 0 else selected[-1, :].tolist()\n",
    "\n",
    "\n",
    "def ohlc_features_f(args):\n",
    "    pair, window_size, i = args\n",
    "    supports = supports_dict[pair][window_size]\n",
    "    data = data_dict[pair]\n",
    "    return pair, window_size, i, find_features(i, supports)\n",
    "\n",
    "\n",
    "def get_features_dict(results):\n",
    "    df = pd.DataFrame(results, columns=['pair', 'win_size', 'i', 'features'])\n",
    "    results_dict = {}\n",
    "    for pair in df['pair'].drop_duplicates():\n",
    "        pair_dict = results_dict.get(pair, {})\n",
    "        for win_size in df['win_size'].drop_duplicates():\n",
    "            selected = df.query(f'pair == \"{pair}\"')\\\n",
    "                .query(f'win_size == {win_size}')\\\n",
    "                .sort_values('i')\\\n",
    "                ['features']\\\n",
    "                .tolist()\n",
    "            pair_dict[win_size] = pd.DataFrame(selected, columns=features)\n",
    "        results_dict[pair] = pair_dict\n",
    "    return results_dict\n",
    "\n",
    "def calc_ohlc_features(data_dict, supports_dict, output_file):\n",
    "    args = []\n",
    "    for pair in pairs:\n",
    "        data = data_dict[pair]\n",
    "        args += list(product([pair], window_sizes, list(range(len(data)))))\n",
    "    \n",
    "    results = run_parallel(ohlc_features_f, args, n_process=20)\n",
    "    features_for_data_dict = get_features_dict(results)\n",
    "    save_model(features_for_data_dict, output_file)"
   ]
  },
  {
   "cell_type": "code",
   "execution_count": 53,
   "metadata": {},
   "outputs": [
    {
     "data": {
      "application/vnd.jupyter.widget-view+json": {
       "model_id": "",
       "version_major": 2,
       "version_minor": 0
      },
      "text/plain": [
       "HBox(children=(IntProgress(value=0, max=1081631), HTML(value='')))"
      ]
     },
     "metadata": {},
     "output_type": "display_data"
    },
    {
     "name": "stdout",
     "output_type": "stream",
     "text": []
    }
   ],
   "source": [
    "calc_ohlc_features(data_dict, supports_dict, 'ohlc_featured.pkl')"
   ]
  },
  {
   "cell_type": "markdown",
   "metadata": {},
   "source": [
    "# Test"
   ]
  },
  {
   "cell_type": "code",
   "execution_count": 39,
   "metadata": {},
   "outputs": [],
   "source": [
    "def plot_ohlc_with_points(ohlc, col):    \n",
    "    plot_candles(ohlc);\n",
    "    min_i, max_i = ohlc['index'].min(), ohlc['index'].max()\n",
    "    plt.scatter(range(len(ohlc)), ohlc[col], c='b')"
   ]
  },
  {
   "cell_type": "code",
   "execution_count": 40,
   "metadata": {},
   "outputs": [],
   "source": [
    "pair = 'BTC_VTC'\n",
    "data = data_dict[pair]\n",
    "data[features] = load_model('ohlc_featured.pkl')[pair][4]"
   ]
  },
  {
   "cell_type": "code",
   "execution_count": 41,
   "metadata": {},
   "outputs": [
    {
     "data": {
      "text/html": [
       "<div>\n",
       "<style scoped>\n",
       "    .dataframe tbody tr th:only-of-type {\n",
       "        vertical-align: middle;\n",
       "    }\n",
       "\n",
       "    .dataframe tbody tr th {\n",
       "        vertical-align: top;\n",
       "    }\n",
       "\n",
       "    .dataframe thead th {\n",
       "        text-align: right;\n",
       "    }\n",
       "</style>\n",
       "<table border=\"1\" class=\"dataframe\">\n",
       "  <thead>\n",
       "    <tr style=\"text-align: right;\">\n",
       "      <th></th>\n",
       "      <th>timestamp</th>\n",
       "      <th>period</th>\n",
       "      <th>open</th>\n",
       "      <th>high</th>\n",
       "      <th>low</th>\n",
       "      <th>close</th>\n",
       "      <th>volume</th>\n",
       "      <th>quoteVolume</th>\n",
       "      <th>weightedAverage</th>\n",
       "      <th>date</th>\n",
       "      <th>ohlc4</th>\n",
       "      <th>support</th>\n",
       "      <th>change_1</th>\n",
       "      <th>change_2</th>\n",
       "      <th>change_3</th>\n",
       "      <th>max_profit</th>\n",
       "      <th>max_profit_consolidated</th>\n",
       "    </tr>\n",
       "  </thead>\n",
       "  <tbody>\n",
       "    <tr>\n",
       "      <th>56923</th>\n",
       "      <td>1554067800</td>\n",
       "      <td>30min</td>\n",
       "      <td>0.0001</td>\n",
       "      <td>0.0001</td>\n",
       "      <td>0.0001</td>\n",
       "      <td>0.0001</td>\n",
       "      <td>0.0000</td>\n",
       "      <td>0.0000</td>\n",
       "      <td>0.0001</td>\n",
       "      <td>2019-03-31 21:30:00</td>\n",
       "      <td>0.0001</td>\n",
       "      <td>0.0001</td>\n",
       "      <td>-0.0040</td>\n",
       "      <td>0.0151</td>\n",
       "      <td>0.0128</td>\n",
       "      <td>-0.0008</td>\n",
       "      <td>-0.0008</td>\n",
       "    </tr>\n",
       "    <tr>\n",
       "      <th>56924</th>\n",
       "      <td>1554069600</td>\n",
       "      <td>30min</td>\n",
       "      <td>0.0001</td>\n",
       "      <td>0.0001</td>\n",
       "      <td>0.0001</td>\n",
       "      <td>0.0001</td>\n",
       "      <td>0.0043</td>\n",
       "      <td>33.4672</td>\n",
       "      <td>0.0001</td>\n",
       "      <td>2019-03-31 22:00:00</td>\n",
       "      <td>0.0001</td>\n",
       "      <td>0.0001</td>\n",
       "      <td>-0.0040</td>\n",
       "      <td>0.0151</td>\n",
       "      <td>0.0128</td>\n",
       "      <td>-0.0008</td>\n",
       "      <td>-0.0008</td>\n",
       "    </tr>\n",
       "    <tr>\n",
       "      <th>56925</th>\n",
       "      <td>1554071400</td>\n",
       "      <td>30min</td>\n",
       "      <td>0.0001</td>\n",
       "      <td>0.0001</td>\n",
       "      <td>0.0001</td>\n",
       "      <td>0.0001</td>\n",
       "      <td>0.0220</td>\n",
       "      <td>171.1623</td>\n",
       "      <td>0.0001</td>\n",
       "      <td>2019-03-31 22:30:00</td>\n",
       "      <td>0.0001</td>\n",
       "      <td>0.0001</td>\n",
       "      <td>-0.0040</td>\n",
       "      <td>0.0151</td>\n",
       "      <td>0.0128</td>\n",
       "      <td>-0.0008</td>\n",
       "      <td>-0.0008</td>\n",
       "    </tr>\n",
       "    <tr>\n",
       "      <th>56926</th>\n",
       "      <td>1554073200</td>\n",
       "      <td>30min</td>\n",
       "      <td>0.0001</td>\n",
       "      <td>0.0001</td>\n",
       "      <td>0.0001</td>\n",
       "      <td>0.0001</td>\n",
       "      <td>0.2024</td>\n",
       "      <td>1,578.4892</td>\n",
       "      <td>0.0001</td>\n",
       "      <td>2019-03-31 23:00:00</td>\n",
       "      <td>0.0001</td>\n",
       "      <td>0.0001</td>\n",
       "      <td>-0.0040</td>\n",
       "      <td>0.0151</td>\n",
       "      <td>0.0128</td>\n",
       "      <td>-0.0008</td>\n",
       "      <td>-0.0008</td>\n",
       "    </tr>\n",
       "    <tr>\n",
       "      <th>56927</th>\n",
       "      <td>1554075000</td>\n",
       "      <td>30min</td>\n",
       "      <td>0.0001</td>\n",
       "      <td>0.0001</td>\n",
       "      <td>0.0001</td>\n",
       "      <td>0.0001</td>\n",
       "      <td>0.0088</td>\n",
       "      <td>68.7803</td>\n",
       "      <td>0.0001</td>\n",
       "      <td>2019-03-31 23:30:00</td>\n",
       "      <td>0.0001</td>\n",
       "      <td>0.0001</td>\n",
       "      <td>-0.0040</td>\n",
       "      <td>0.0151</td>\n",
       "      <td>0.0128</td>\n",
       "      <td>-0.0008</td>\n",
       "      <td>-0.0008</td>\n",
       "    </tr>\n",
       "  </tbody>\n",
       "</table>\n",
       "</div>"
      ],
      "text/plain": [
       "        timestamp period   open   high    low  close  volume  quoteVolume  \\\n",
       "56923  1554067800  30min 0.0001 0.0001 0.0001 0.0001  0.0000       0.0000   \n",
       "56924  1554069600  30min 0.0001 0.0001 0.0001 0.0001  0.0043      33.4672   \n",
       "56925  1554071400  30min 0.0001 0.0001 0.0001 0.0001  0.0220     171.1623   \n",
       "56926  1554073200  30min 0.0001 0.0001 0.0001 0.0001  0.2024   1,578.4892   \n",
       "56927  1554075000  30min 0.0001 0.0001 0.0001 0.0001  0.0088      68.7803   \n",
       "\n",
       "       weightedAverage                 date  ohlc4  support  change_1  \\\n",
       "56923           0.0001  2019-03-31 21:30:00 0.0001   0.0001   -0.0040   \n",
       "56924           0.0001  2019-03-31 22:00:00 0.0001   0.0001   -0.0040   \n",
       "56925           0.0001  2019-03-31 22:30:00 0.0001   0.0001   -0.0040   \n",
       "56926           0.0001  2019-03-31 23:00:00 0.0001   0.0001   -0.0040   \n",
       "56927           0.0001  2019-03-31 23:30:00 0.0001   0.0001   -0.0040   \n",
       "\n",
       "       change_2  change_3  max_profit  max_profit_consolidated  \n",
       "56923    0.0151    0.0128     -0.0008                  -0.0008  \n",
       "56924    0.0151    0.0128     -0.0008                  -0.0008  \n",
       "56925    0.0151    0.0128     -0.0008                  -0.0008  \n",
       "56926    0.0151    0.0128     -0.0008                  -0.0008  \n",
       "56927    0.0151    0.0128     -0.0008                  -0.0008  "
      ]
     },
     "execution_count": 41,
     "metadata": {},
     "output_type": "execute_result"
    }
   ],
   "source": [
    "data.tail()"
   ]
  },
  {
   "cell_type": "code",
   "execution_count": 36,
   "metadata": {},
   "outputs": [
    {
     "data": {
      "image/png": "[encoded data removed]",
      "text/plain": [
       "<Figure size 720x432 with 1 Axes>"
      ]
     },
     "metadata": {
      "needs_background": "light"
     },
     "output_type": "display_data"
    }
   ],
   "source": [
    "step = 150\n",
    "for i in range(1000, len(data), step):\n",
    "    to_plot = data.iloc[i:i+step].reset_index()\n",
    "    plot_ohlc_with_points(to_plot, 'max_profit')\n",
    "    break"
   ]
  },
  {
   "cell_type": "code",
   "execution_count": 30,
   "metadata": {},
   "outputs": [],
   "source": [
    "def plot_ohlc_with_points(ohlc, s):\n",
    "    def plot_points(points, c):\n",
    "        points_s = points[(points[:, 0] >= min_i) & (points[:, 0] <= max_i)]\n",
    "        plt.scatter(points_s[:, 0] - min_i, points_s[:, 1], s=150, c=c);\n",
    "        \n",
    "    plot_candles(ohlc);\n",
    "    min_i, max_i = ohlc['index'].min(), ohlc['index'].max()\n",
    "    plot_points(s, 'b')"
   ]
  },
  {
   "cell_type": "code",
   "execution_count": 17,
   "metadata": {},
   "outputs": [],
   "source": [
    "supports = read_tsv('featured.tsv')"
   ]
  },
  {
   "cell_type": "code",
   "execution_count": 18,
   "metadata": {},
   "outputs": [],
   "source": [
    "s = supports.query(f'pair == \"{pair}\"')"
   ]
  },
  {
   "cell_type": "code",
   "execution_count": 19,
   "metadata": {},
   "outputs": [
    {
     "data": {
      "image/png": "[encoded data removed]",
      "text/plain": [
       "<Figure size 720x432 with 1 Axes>"
      ]
     },
     "metadata": {
      "needs_background": "light"
     },
     "output_type": "display_data"
    }
   ],
   "source": [
    "step = 1000\n",
    "for i in range(10000, len(data), step):\n",
    "    to_plot = data.iloc[i:i+step].reset_index()\n",
    "    plot_ohlc_with_points(to_plot, s[['index', 'support']].values)\n",
    "    break"
   ]
  },
  {
   "cell_type": "code",
   "execution_count": null,
   "metadata": {},
   "outputs": [],
   "source": [
    "step = 1000\n",
    "for i in range(10000, len(data), step):\n",
    "    to_plot = data.iloc[i:i+step].reset_index()\n",
    "    plot_ohlc_with_points(to_plot, s[['index', 'ma']].values)\n",
    "    break"
   ]
  }
 ],
 "metadata": {
  "kernelspec": {
   "display_name": "crypto36",
   "language": "python",
   "name": "crypto36"
  },
  "language_info": {
   "codemirror_mode": {
    "name": "ipython",
    "version": 3
   },
   "file_extension": ".py",
   "mimetype": "text/x-python",
   "name": "python",
   "nbconvert_exporter": "python",
   "pygments_lexer": "ipython3",
   "version": "3.6.8"
  }
 },
 "nbformat": 4,
 "nbformat_minor": 2
}
