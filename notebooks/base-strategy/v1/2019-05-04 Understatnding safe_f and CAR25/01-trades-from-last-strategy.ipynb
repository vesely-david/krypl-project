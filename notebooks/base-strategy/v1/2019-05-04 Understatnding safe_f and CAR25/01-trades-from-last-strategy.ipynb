{
 "cells": [
  {
   "cell_type": "code",
   "execution_count": 1,
   "metadata": {},
   "outputs": [],
   "source": [
    "%run ../../../utils/commonImports.py\n",
    "%run ../../../utils/tradingImports.py\n",
    "%matplotlib inline\n",
    "\n",
    "import sys\n",
    "sys.path.append(os.path.abspath(\"../../../modeling/07-base-strategy-03\"))\n",
    "\n",
    "from base import supres, BaseStrategy\n",
    "from trading.walletHistory import WalletHistory\n",
    "from exputils import *"
   ]
  },
  {
   "cell_type": "markdown",
   "metadata": {},
   "source": [
    "# Load Data"
   ]
  },
  {
   "cell_type": "code",
   "execution_count": 2,
   "metadata": {},
   "outputs": [],
   "source": [
    "# dropbox_dir = 'D:\\\\Dropbox\\\\My work\\\\krypl-project'\n",
    "dropbox_dir = '/Users/david.vesely/Dropbox/My work/krypl-project'\n",
    "features = ['support']\n",
    "pair = 'BTC_VTC'\n",
    "\n",
    "data_train = read_train(pair, dropbox_dir)\n",
    "ohlc_supports_train_dict = load_model('../../../modeling/06-base-strategy-02/ohlc_supports_train.pkl')\n",
    "\n",
    "data_test = read_test(pair, dropbox_dir)\n",
    "ohlc_supports_test_dict = load_model('../../../modeling/06-base-strategy-02/ohlc_supports_test.pkl')"
   ]
  },
  {
   "cell_type": "markdown",
   "metadata": {},
   "source": [
    "# Prepare last base strategy to get trades"
   ]
  },
  {
   "cell_type": "code",
   "execution_count": 3,
   "metadata": {},
   "outputs": [],
   "source": [
    "def get_strategy(data, pair, willing_loss, _return, loss_percentage):\n",
    "    contract_pair = ContractPair.new(*[x.lower() for x in pair.split('_')])\n",
    "    dm = OhlcDataManager(data[['open', 'low', 'high', 'close']], data[features])\n",
    "    wallet = {'btc': 100}\n",
    "    exchange = BackTestExchange(dm, wallet, 0.0025)\n",
    "    strategy = BaseStrategy(exchange, \n",
    "                            dm, \n",
    "                            contract_pair, \n",
    "                            willing_loss=willing_loss,  \n",
    "                            target_return=_return,\n",
    "                            loss_percentage=loss_percentage\n",
    "                           )\n",
    "    strategy.trade()\n",
    "    return strategy"
   ]
  },
  {
   "cell_type": "code",
   "execution_count": 4,
   "metadata": {},
   "outputs": [],
   "source": [
    "window_size = 4\n",
    "willing_loss = 0.05\n",
    "_return = -0.01\n",
    "loss_percentage = 1.0"
   ]
  },
  {
   "cell_type": "code",
   "execution_count": 5,
   "metadata": {},
   "outputs": [],
   "source": [
    "data = data_train\n",
    "data['support'] = ohlc_supports_train_dict[pair][window_size]\n",
    "strategy_train = get_strategy(data, pair, willing_loss, _return, loss_percentage)\n",
    "strategy_train.stats('btc').report()\n",
    "save_model(strategy_train, 'vtc-strategy-train.pkl')"
   ]
  },
  {
   "cell_type": "code",
   "execution_count": 6,
   "metadata": {},
   "outputs": [
    {
     "data": {
      "text/html": [
       "<div>\n",
       "<style scoped>\n",
       "    .dataframe tbody tr th:only-of-type {\n",
       "        vertical-align: middle;\n",
       "    }\n",
       "\n",
       "    .dataframe tbody tr th {\n",
       "        vertical-align: top;\n",
       "    }\n",
       "\n",
       "    .dataframe thead th {\n",
       "        text-align: right;\n",
       "    }\n",
       "</style>\n",
       "<table border=\"1\" class=\"dataframe\">\n",
       "  <thead>\n",
       "    <tr style=\"text-align: right;\">\n",
       "      <th></th>\n",
       "      <th>btc</th>\n",
       "    </tr>\n",
       "  </thead>\n",
       "  <tbody>\n",
       "    <tr>\n",
       "      <th>startAmount</th>\n",
       "      <td>100.0000</td>\n",
       "    </tr>\n",
       "    <tr>\n",
       "      <th>numberOfTrades</th>\n",
       "      <td>293.0000</td>\n",
       "    </tr>\n",
       "    <tr>\n",
       "      <th>totalProfit</th>\n",
       "      <td>186.2407</td>\n",
       "    </tr>\n",
       "    <tr>\n",
       "      <th>avgProfit</th>\n",
       "      <td>0.6356</td>\n",
       "    </tr>\n",
       "    <tr>\n",
       "      <th>winPercentage</th>\n",
       "      <td>79.1809</td>\n",
       "    </tr>\n",
       "    <tr>\n",
       "      <th>avgWinTrade</th>\n",
       "      <td>1.3043</td>\n",
       "    </tr>\n",
       "    <tr>\n",
       "      <th>avgLossTrade</th>\n",
       "      <td>-1.9075</td>\n",
       "    </tr>\n",
       "    <tr>\n",
       "      <th>profitFactor</th>\n",
       "      <td>2.6006</td>\n",
       "    </tr>\n",
       "    <tr>\n",
       "      <th>maxDrawdown</th>\n",
       "      <td>8.5457</td>\n",
       "    </tr>\n",
       "    <tr>\n",
       "      <th>avgTimeToClose</th>\n",
       "      <td>8.7116</td>\n",
       "    </tr>\n",
       "    <tr>\n",
       "      <th>minTimeToClose</th>\n",
       "      <td>0.2500</td>\n",
       "    </tr>\n",
       "    <tr>\n",
       "      <th>maxTimeToClose</th>\n",
       "      <td>134.2500</td>\n",
       "    </tr>\n",
       "  </tbody>\n",
       "</table>\n",
       "</div>"
      ],
      "text/plain": [
       "                    btc\n",
       "startAmount    100.0000\n",
       "numberOfTrades 293.0000\n",
       "totalProfit    186.2407\n",
       "avgProfit        0.6356\n",
       "winPercentage   79.1809\n",
       "avgWinTrade      1.3043\n",
       "avgLossTrade    -1.9075\n",
       "profitFactor     2.6006\n",
       "maxDrawdown      8.5457\n",
       "avgTimeToClose   8.7116\n",
       "minTimeToClose   0.2500\n",
       "maxTimeToClose 134.2500"
      ]
     },
     "execution_count": 6,
     "metadata": {},
     "output_type": "execute_result"
    }
   ],
   "source": [
    "data = data_test\n",
    "data['support'] = ohlc_supports_test_dict[pair][window_size]\n",
    "strategy_test = get_strategy(data, pair, willing_loss, _return, loss_percentage)\n",
    "save_model(strategy_test, 'vtc-strategy-test.pkl')\n",
    "strategy_test.stats('btc').report()"
   ]
  },
  {
   "cell_type": "code",
   "execution_count": null,
   "metadata": {},
   "outputs": [],
   "source": []
  }
 ],
 "metadata": {
  "kernelspec": {
   "display_name": "crypto36",
   "language": "python",
   "name": "crypto36"
  },
  "language_info": {
   "codemirror_mode": {
    "name": "ipython",
    "version": 3
   },
   "file_extension": ".py",
   "mimetype": "text/x-python",
   "name": "python",
   "nbconvert_exporter": "python",
   "pygments_lexer": "ipython3",
   "version": "3.6.8"
  }
 },
 "nbformat": 4,
 "nbformat_minor": 2
}
