{
 "cells": [
  {
   "cell_type": "code",
   "execution_count": 1,
   "metadata": {
    "collapsed": false
   },
   "outputs": [],
   "source": [
    "%run ../utils/commonImports.py\n",
    "%run ../utils/tradingImports.py\n",
    "%matplotlib inline"
   ]
  },
  {
   "cell_type": "markdown",
   "metadata": {
    "collapsed": true
   },
   "source": [
    "# Load Data"
   ]
  },
  {
   "cell_type": "code",
   "execution_count": 3,
   "metadata": {
    "collapsed": false
   },
   "outputs": [],
   "source": [
    "featuresRoot = 'D:\\\\Dropbox\\\\My work\\\\krypl-project\\\\dataFeatures'\n",
    "fileName = 'return-01-within-day.tsv'\n",
    "featuresFile = '{dataRoot}\\\\{fileName}'.format(dataRoot=featuresRoot, fileName=fileName)\n",
    "featured = read_tsv(featuresFile)"
   ]
  },
  {
   "cell_type": "code",
   "execution_count": 4,
   "metadata": {
    "collapsed": false
   },
   "outputs": [
    {
     "data": {
      "text/html": [
       "<div>\n",
       "<style scoped>\n",
       "    .dataframe tbody tr th:only-of-type {\n",
       "        vertical-align: middle;\n",
       "    }\n",
       "\n",
       "    .dataframe tbody tr th {\n",
       "        vertical-align: top;\n",
       "    }\n",
       "\n",
       "    .dataframe thead th {\n",
       "        text-align: right;\n",
       "    }\n",
       "</style>\n",
       "<table border=\"1\" class=\"dataframe\">\n",
       "  <thead>\n",
       "    <tr style=\"text-align: right;\">\n",
       "      <th></th>\n",
       "      <th>date</th>\n",
       "      <th>label</th>\n",
       "      <th>close</th>\n",
       "      <th>return</th>\n",
       "      <th>return_1</th>\n",
       "      <th>return_2</th>\n",
       "      <th>zscore_36_return</th>\n",
       "      <th>zscore_288_return</th>\n",
       "      <th>pma36</th>\n",
       "      <th>ma_12_108</th>\n",
       "      <th>ma_36_288</th>\n",
       "      <th>ac36</th>\n",
       "      <th>ac288</th>\n",
       "      <th>zscore_36_volume</th>\n",
       "      <th>zscore_288_volume</th>\n",
       "      <th>zscore_2016_volume</th>\n",
       "      <th>vol36</th>\n",
       "      <th>vol288</th>\n",
       "      <th>vol2016</th>\n",
       "      <th>dv_36_288</th>\n",
       "    </tr>\n",
       "  </thead>\n",
       "  <tbody>\n",
       "    <tr>\n",
       "      <th>0</th>\n",
       "      <td>2017-01-09 23:50:00</td>\n",
       "      <td>True</td>\n",
       "      <td>904.0000</td>\n",
       "      <td>0.0055</td>\n",
       "      <td>-0.0016</td>\n",
       "      <td>-0.0000</td>\n",
       "      <td>2.6415</td>\n",
       "      <td>1.8693</td>\n",
       "      <td>0.9645</td>\n",
       "      <td>0.4935</td>\n",
       "      <td>0.4935</td>\n",
       "      <td>0.6778</td>\n",
       "      <td>-0.7486</td>\n",
       "      <td>0.1824</td>\n",
       "      <td>-0.0727</td>\n",
       "      <td>-0.3535</td>\n",
       "      <td>-0.8299</td>\n",
       "      <td>-1.8236</td>\n",
       "      <td>-0.0318</td>\n",
       "      <td>-1.8605</td>\n",
       "    </tr>\n",
       "    <tr>\n",
       "      <th>1</th>\n",
       "      <td>2017-01-09 23:55:00</td>\n",
       "      <td>True</td>\n",
       "      <td>900.4999</td>\n",
       "      <td>-0.0039</td>\n",
       "      <td>0.0055</td>\n",
       "      <td>-0.0016</td>\n",
       "      <td>-1.8954</td>\n",
       "      <td>-1.2764</td>\n",
       "      <td>0.4160</td>\n",
       "      <td>0.5310</td>\n",
       "      <td>0.5310</td>\n",
       "      <td>0.6949</td>\n",
       "      <td>-0.7415</td>\n",
       "      <td>0.1656</td>\n",
       "      <td>-0.0712</td>\n",
       "      <td>-0.3525</td>\n",
       "      <td>-0.7021</td>\n",
       "      <td>-1.7942</td>\n",
       "      <td>-0.0045</td>\n",
       "      <td>-1.8305</td>\n",
       "    </tr>\n",
       "    <tr>\n",
       "      <th>2</th>\n",
       "      <td>2017-01-10 00:00:00</td>\n",
       "      <td>True</td>\n",
       "      <td>901.2000</td>\n",
       "      <td>0.0008</td>\n",
       "      <td>-0.0039</td>\n",
       "      <td>0.0055</td>\n",
       "      <td>0.2481</td>\n",
       "      <td>0.2750</td>\n",
       "      <td>0.4957</td>\n",
       "      <td>0.5369</td>\n",
       "      <td>0.5369</td>\n",
       "      <td>0.7068</td>\n",
       "      <td>-0.7346</td>\n",
       "      <td>-0.5773</td>\n",
       "      <td>-0.3597</td>\n",
       "      <td>-0.4858</td>\n",
       "      <td>-0.7118</td>\n",
       "      <td>-1.7884</td>\n",
       "      <td>-0.0553</td>\n",
       "      <td>-1.8208</td>\n",
       "    </tr>\n",
       "    <tr>\n",
       "      <th>3</th>\n",
       "      <td>2017-01-10 00:05:00</td>\n",
       "      <td>True</td>\n",
       "      <td>902.4510</td>\n",
       "      <td>0.0014</td>\n",
       "      <td>0.0008</td>\n",
       "      <td>-0.0039</td>\n",
       "      <td>0.5257</td>\n",
       "      <td>0.4795</td>\n",
       "      <td>0.6585</td>\n",
       "      <td>0.5528</td>\n",
       "      <td>0.5528</td>\n",
       "      <td>0.7158</td>\n",
       "      <td>-0.7265</td>\n",
       "      <td>-0.3356</td>\n",
       "      <td>-0.2742</td>\n",
       "      <td>-0.4462</td>\n",
       "      <td>-0.7137</td>\n",
       "      <td>-1.7820</td>\n",
       "      <td>-0.0627</td>\n",
       "      <td>-1.8106</td>\n",
       "    </tr>\n",
       "    <tr>\n",
       "      <th>4</th>\n",
       "      <td>2017-01-10 00:10:00</td>\n",
       "      <td>True</td>\n",
       "      <td>903.7000</td>\n",
       "      <td>0.0014</td>\n",
       "      <td>0.0014</td>\n",
       "      <td>0.0008</td>\n",
       "      <td>0.5284</td>\n",
       "      <td>0.4744</td>\n",
       "      <td>0.8304</td>\n",
       "      <td>0.5965</td>\n",
       "      <td>0.5965</td>\n",
       "      <td>0.7079</td>\n",
       "      <td>-0.7171</td>\n",
       "      <td>1.0315</td>\n",
       "      <td>0.2534</td>\n",
       "      <td>-0.2029</td>\n",
       "      <td>-0.8363</td>\n",
       "      <td>-1.7826</td>\n",
       "      <td>-0.0798</td>\n",
       "      <td>-1.8065</td>\n",
       "    </tr>\n",
       "  </tbody>\n",
       "</table>\n",
       "</div>"
      ],
      "text/plain": [
       "                  date  label    close  return  return_1  return_2  \\\n",
       "0  2017-01-09 23:50:00   True 904.0000  0.0055   -0.0016   -0.0000   \n",
       "1  2017-01-09 23:55:00   True 900.4999 -0.0039    0.0055   -0.0016   \n",
       "2  2017-01-10 00:00:00   True 901.2000  0.0008   -0.0039    0.0055   \n",
       "3  2017-01-10 00:05:00   True 902.4510  0.0014    0.0008   -0.0039   \n",
       "4  2017-01-10 00:10:00   True 903.7000  0.0014    0.0014    0.0008   \n",
       "\n",
       "   zscore_36_return  zscore_288_return  pma36  ma_12_108  ma_36_288   ac36  \\\n",
       "0            2.6415             1.8693 0.9645     0.4935     0.4935 0.6778   \n",
       "1           -1.8954            -1.2764 0.4160     0.5310     0.5310 0.6949   \n",
       "2            0.2481             0.2750 0.4957     0.5369     0.5369 0.7068   \n",
       "3            0.5257             0.4795 0.6585     0.5528     0.5528 0.7158   \n",
       "4            0.5284             0.4744 0.8304     0.5965     0.5965 0.7079   \n",
       "\n",
       "    ac288  zscore_36_volume  zscore_288_volume  zscore_2016_volume   vol36  \\\n",
       "0 -0.7486            0.1824            -0.0727             -0.3535 -0.8299   \n",
       "1 -0.7415            0.1656            -0.0712             -0.3525 -0.7021   \n",
       "2 -0.7346           -0.5773            -0.3597             -0.4858 -0.7118   \n",
       "3 -0.7265           -0.3356            -0.2742             -0.4462 -0.7137   \n",
       "4 -0.7171            1.0315             0.2534             -0.2029 -0.8363   \n",
       "\n",
       "   vol288  vol2016  dv_36_288  \n",
       "0 -1.8236  -0.0318    -1.8605  \n",
       "1 -1.7942  -0.0045    -1.8305  \n",
       "2 -1.7884  -0.0553    -1.8208  \n",
       "3 -1.7820  -0.0627    -1.8106  \n",
       "4 -1.7826  -0.0798    -1.8065  "
      ]
     },
     "execution_count": 4,
     "metadata": {},
     "output_type": "execute_result"
    }
   ],
   "source": [
    "featured.head()"
   ]
  },
  {
   "cell_type": "code",
   "execution_count": 30,
   "metadata": {
    "collapsed": true
   },
   "outputs": [],
   "source": [
    "X = featured.drop('date', axis=1).drop('label', axis=1).drop('close', axis=1)\n",
    "y = featured['label'].apply(int)"
   ]
  },
  {
   "cell_type": "markdown",
   "metadata": {},
   "source": [
    "# Test Train Validation Split"
   ]
  },
  {
   "cell_type": "code",
   "execution_count": 32,
   "metadata": {
    "collapsed": false
   },
   "outputs": [],
   "source": [
    "from sklearn.model_selection import train_test_split\n",
    "X_trainval, X_test, y_trainval, y_test = train_test_split(X, y, test_size=0.33)\n",
    "X_train, X_val, y_train, y_val = train_test_split(X_trainval, y_trainval, test_size=0.33)"
   ]
  },
  {
   "cell_type": "code",
   "execution_count": 33,
   "metadata": {
    "collapsed": false,
    "scrolled": true
   },
   "outputs": [
    {
     "data": {
      "text/plain": [
       "Text(0.5,1,'Test Distribution')"
      ]
     },
     "execution_count": 33,
     "metadata": {},
     "output_type": "execute_result"
    },
    {
     "data": {
      "image/png": "[encoded data removed]",
      "text/plain": [
       "<Figure size 864x288 with 3 Axes>"
      ]
     },
     "metadata": {},
     "output_type": "display_data"
    }
   ],
   "source": [
    "fig, axes = plt.subplots(1, 3, figsize=[12, 4])\n",
    "y_train.value_counts().plot(kind='bar', ax=axes[0])\n",
    "axes[0].set_title('Train Distribution', fontproperties=title_font)\n",
    "y_val.value_counts().plot(kind='bar', ax=axes[1])\n",
    "axes[1].set_title('Validation Distribution', fontproperties=title_font)\n",
    "y_test.value_counts().plot(kind='bar', ax=axes[2])\n",
    "axes[2].set_title('Test Distribution', fontproperties=title_font)"
   ]
  },
  {
   "cell_type": "markdown",
   "metadata": {},
   "source": [
    "# Decision Tree"
   ]
  },
  {
   "cell_type": "code",
   "execution_count": 34,
   "metadata": {
    "collapsed": true
   },
   "outputs": [],
   "source": [
    "from sklearn.tree import DecisionTreeClassifier\n",
    "clf = DecisionTreeClassifier()\n",
    "clf = clf.fit(X_train, y_train)"
   ]
  },
  {
   "cell_type": "code",
   "execution_count": 38,
   "metadata": {
    "collapsed": true
   },
   "outputs": [],
   "source": [
    "from sklearn.metrics import classification_report, confusion_matrix\n",
    "\n",
    "\n",
    "def cm(y_true, y_pred):\n",
    "    cm = confusion_matrix(y_true, y_pred)\n",
    "    cm = pd.DataFrame(cm, columns=['predicted_0', 'predicted_1'], index=['true_0', 'true_1'])\n",
    "    return cm\n",
    "\n",
    "\n",
    "def eval(clf, X, y_true):\n",
    "    y_pred = clf.predict(X)\n",
    "    report = classification_report(y_true, y_pred)\n",
    "    conf_matrix = cm(y_true, y_pred)\n",
    "    print(conf_matrix)\n",
    "    print()\n",
    "    print(report)"
   ]
  },
  {
   "cell_type": "code",
   "execution_count": 39,
   "metadata": {
    "collapsed": false
   },
   "outputs": [
    {
     "name": "stdout",
     "output_type": "stream",
     "text": [
      "        predicted_0  predicted_1\n",
      "true_0         1242         2209\n",
      "true_1         2334        29230\n",
      "\n",
      "             precision    recall  f1-score   support\n",
      "\n",
      "          0       0.35      0.36      0.35      3451\n",
      "          1       0.93      0.93      0.93     31564\n",
      "\n",
      "avg / total       0.87      0.87      0.87     35015\n",
      "\n"
     ]
    }
   ],
   "source": [
    "eval(clf, X_val, y_val)"
   ]
  },
  {
   "cell_type": "code",
   "execution_count": 40,
   "metadata": {
    "collapsed": true
   },
   "outputs": [],
   "source": [
    "from sklearn.tree import export_graphviz\n",
    "export_graphviz(clf, out_file='tree.dot')"
   ]
  },
  {
   "cell_type": "code",
   "execution_count": null,
   "metadata": {
    "collapsed": true
   },
   "outputs": [],
   "source": []
  }
 ],
 "metadata": {
  "kernelspec": {
   "display_name": "Python 3.6 (crypto36)",
   "language": "python",
   "name": "crypto36"
  },
  "language_info": {
   "codemirror_mode": {
    "name": "ipython",
    "version": 3
   },
   "file_extension": ".py",
   "mimetype": "text/x-python",
   "name": "python",
   "nbconvert_exporter": "python",
   "pygments_lexer": "ipython3",
   "version": "3.6.5"
  }
 },
 "nbformat": 4,
 "nbformat_minor": 2
}
