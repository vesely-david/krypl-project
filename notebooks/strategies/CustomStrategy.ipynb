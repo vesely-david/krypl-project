{
 "cells": [
  {
   "cell_type": "code",
   "execution_count": 1,
   "metadata": {},
   "outputs": [],
   "source": [
    "%run ../utils/commonImports.py\n",
    "%run ../utils/tradingImports.py\n",
    "%matplotlib inline\n",
    "\n",
    "from utils.common import *"
   ]
  },
  {
   "cell_type": "markdown",
   "metadata": {
    "collapsed": true
   },
   "source": [
    "# Load Data"
   ]
  },
  {
   "cell_type": "code",
   "execution_count": 2,
   "metadata": {
    "collapsed": true
   },
   "outputs": [],
   "source": [
    "ohlc = pd.read_csv('D:\\\\Dropbox\\\\My work\\\\krypl-project\\\\dataCleaned\\\\poloniex\\\\5min\\\\USDT_BTC_5min_2016-01-01_2017-12-31.tsv', sep='\\t')\\\n",
    "    .query(\"date >= '2017-01-01'\")\\\n",
    "    .sort_values('date').reset_index().drop('index', axis=1)"
   ]
  },
  {
   "cell_type": "code",
   "execution_count": 3,
   "metadata": {
    "collapsed": true
   },
   "outputs": [],
   "source": [
    "dataRoot = 'D:\\\\Dropbox\\\\My work\\\\krypl-project\\\\dataFeatures\\\\poloniex\\\\5min'\n",
    "fileName = 'USDT_BTC_5min_2016-01-01_2017-12-31.tsv'\n",
    "file = '{dataRoot}\\\\{fileName}'.format(dataRoot=dataRoot, fileName=fileName)\n",
    "\n",
    "usdtBtc = pd.read_csv(file, sep='\\t').query(\"date >= '2017-01-01'\")\\\n",
    "    .sort_values('date').reset_index().drop('index', axis=1)\n",
    "usdtBtc['timestamp'] = usdtBtc.date.apply(strTimeToTimestamp).astype(int)\n",
    "\n",
    "trainRatio = 0.7\n",
    "trainSize = int(usdtBtc.shape[0] * trainRatio)\n",
    "usdtBtcTrain = usdtBtc.iloc[:trainSize]\n",
    "usdtBtcTest = usdtBtc.iloc[trainSize:].reset_index().drop('index', axis=1)\n",
    "ohlcTrain = ohlc.iloc[:trainSize]\n",
    "ohlcTest = ohlc.iloc[trainSize:]\n",
    "\n",
    "usdtBtcManagerTrain = CurrencyDataManager(usdtBtcTrain['close'], usdtBtcTrain[['close']])\n",
    "usdtBtcManagerTest = CurrencyDataManager(usdtBtcTest['close'], usdtBtcTest[['close']])\n",
    "wallet = {'usdt': 1000}\n",
    "contractPair = ContractPair.new('usdt', 'btc')"
   ]
  },
  {
   "cell_type": "markdown",
   "metadata": {},
   "source": [
    "# Explore"
   ]
  },
  {
   "cell_type": "code",
   "execution_count": null,
   "metadata": {
    "collapsed": true
   },
   "outputs": [],
   "source": [
    "%matplotlib notebook"
   ]
  },
  {
   "cell_type": "code",
   "execution_count": null,
   "metadata": {
    "collapsed": true
   },
   "outputs": [],
   "source": [
    "usdtBtcR.columns"
   ]
  },
  {
   "cell_type": "code",
   "execution_count": null,
   "metadata": {
    "collapsed": true
   },
   "outputs": [],
   "source": [
    "usdtBtcR.iloc[190:, :]"
   ]
  },
  {
   "cell_type": "code",
   "execution_count": null,
   "metadata": {
    "collapsed": true
   },
   "outputs": [],
   "source": [
    "step = 361\n",
    "day = 288\n",
    "i = day * step\n",
    "j = i + day\n",
    "usdtBtcR = usdtBtc.iloc[i:j, :]\n",
    "\n",
    "paper_rc = {'lines.linewidth': 0.5, 'lines.markersize': 1}                  \n",
    "sns.set_context(\"paper\", rc = paper_rc) \n",
    "\n",
    "fig, ax = plotCandles(ohlc.iloc[i:j, :])\n",
    "ax2 = ax.twinx()\n",
    "sns.pointplot(usdtBtcR.timestamp.values, usdtBtcR['vol36'].values, ax=ax2)\n",
    "sns.pointplot(usdtBtcR.timestamp.values, usdtBtcR['zscore_36_return'].values, ax=ax2, color='green')\n",
    "\n",
    "set_date_axis(usdtBtcR['timestamp'], ax, fig)"
   ]
  },
  {
   "cell_type": "markdown",
   "metadata": {},
   "source": [
    "# Implementation"
   ]
  },
  {
   "cell_type": "code",
   "execution_count": 21,
   "metadata": {
    "collapsed": true
   },
   "outputs": [],
   "source": [
    "from copy import deepcopy\n",
    "\n",
    "class CustomStrategy:\n",
    "    def __init__(self, exchange, dataManager, historyLen, contractPair, tradeSize, willingLoss, \n",
    "                 distanceFromMaxThreshold1, distanceFromMaxThreshold2, targetProfit):\n",
    "        self.exchange = exchange\n",
    "        self.walletStart = deepcopy(self.exchange.wallet)\n",
    "        self.dataManager = dataManager\n",
    "        self.historyLen = historyLen\n",
    "        self.contractPair = contractPair\n",
    "        self.opened = False\n",
    "        self.tradeSize = tradeSize\n",
    "        self.willingLoss = willingLoss\n",
    "        self.distanceFromMaxThreshold1 = distanceFromMaxThreshold1\n",
    "        self.distanceFromMaxThreshold2 = distanceFromMaxThreshold2\n",
    "        self.targetProfit = targetProfit\n",
    "    \n",
    "    \n",
    "    def isRisky(self, priceBought, actualPrice):\n",
    "        return self.currentReturn(priceBought, actualPrice) < -self.willingLoss \n",
    "    \n",
    "    \n",
    "    def currentReturn(self, priceBought, actualPrice):\n",
    "        feePart = (1 - self.exchange.fee) ** 2\n",
    "        returnPart = (actualPrice * feePart) / priceBought\n",
    "        return returnPart - 1\n",
    "    \n",
    "    \n",
    "    def sellWhole(self, price):\n",
    "        self.opened = False\n",
    "        amount = self.exchange.balance(self.contractPair['tradeContract'])\n",
    "        self.exchange.sell(self.contractPair, amount, price)\n",
    "    \n",
    "    \n",
    "    def buy(self, price):\n",
    "        amount = self.tradeSize / price\n",
    "        self.exchange.buy(self.contractPair, amount, price)\n",
    "        self.opened = True\n",
    "        \n",
    "        fee = self.exchange.fee\n",
    "        breakEvenPrice = price / ((1 - fee) ** 2)\n",
    "#         print('price', price, 'breakEven', breakEvenPrice)\n",
    "        return breakEvenPrice\n",
    "        \n",
    "    \n",
    "    def isTargetSatisffied(self, priceBought, price):\n",
    "        return self.currentReturn(priceBought, price) >= self.targetProfit\n",
    "    \n",
    "    \n",
    "    def currentTime(self):\n",
    "        return self.dataManager.time\n",
    "    \n",
    "    def timeExceeded(self, timeBought):\n",
    "        return (self.currentTime() - timeBought) > self.historyLen\n",
    "    \n",
    "    def trade(self):\n",
    "        \n",
    "        wasBellow = False\n",
    "        maxPrice = -1\n",
    "        while self.dataManager.has_tick():            \n",
    "            history, price = self.dataManager.tick(self.historyLen)\n",
    "            if history.shape[0] < self.historyLen:\n",
    "                continue\n",
    "\n",
    "            closeMax = history[0].max()\n",
    "            distanceFromMax = (closeMax / price) - 1\n",
    "            distanceFromMax2 = (maxPrice / price) - 1\n",
    "#             print(history.shape[0], distanceFromMax, closeMax, price)\n",
    "            if not self.opened and not wasBellow and distanceFromMax >= self.distanceFromMaxThreshold1:\n",
    "                wasBellow = True\n",
    "                maxPrice = closeMax\n",
    "            elif not self.opened and wasBellow and distanceFromMax2 <= self.distanceFromMaxThreshold2:\n",
    "#                 print(self.dataManager.time, 'openning trade: ', price, end='\\t')\n",
    "                breakEvenPrice = self.buy(price)\n",
    "                priceBought = price\n",
    "                timeBought = self.currentTime()\n",
    "            elif self.opened and (self.isRisky(priceBought, price)):\n",
    "#                 print(self.dataManager.time, 'stopLoss: ', price, self.currentReturn(breakEvenPrice, price) * 100)\n",
    "                self.sellWhole(price)\n",
    "                wasBellow = False\n",
    "            elif self.opened and self.isTargetSatisffied(breakEvenPrice, price):\n",
    "#                 print(self.dataManager.time, 'profit: ', price, self.currentReturn(breakEvenPrice, price) * 100)\n",
    "                self.sellWhole(price)\n",
    "                wasBellow = False\n",
    "        \n",
    "        if self.opened:\n",
    "            self.sellWhole(price)\n",
    "\n",
    "                \n",
    "    def stats(self, contractName):\n",
    "        return Statistics(contractName, self.walletStart[contractName]).evaluate(self.exchange.transactions)"
   ]
  },
  {
   "cell_type": "markdown",
   "metadata": {},
   "source": [
    "# Learning"
   ]
  },
  {
   "cell_type": "code",
   "execution_count": 13,
   "metadata": {
    "scrolled": false
   },
   "outputs": [
    {
     "name": "stdout",
     "output_type": "stream",
     "text": [
      "13444 profit:  1039.4999999 2.463551993513713\n",
      "16718 profit:  1199.47833305 2.0214320151324072\n",
      "20349 profit:  1205.0 2.5025734012354306\n",
      "30878 profit:  1255.60001014 2.2278796565172065\n",
      "34218 profit:  1433.99999999 2.1628732050881894\n",
      "35763 profit:  1635.41150036 2.13703877109761\n",
      "36578 profit:  1652.53807967 2.1907911200630847\n",
      "37851 profit:  1845.0 2.078460526076431\n",
      "38442 profit:  1854.94999999 2.026108041843555\n",
      "39219 profit:  1841.0 2.1637027180708035\n",
      "41710 profit:  2379.94999999 2.4451999765735533\n",
      "41741 profit:  2430.99999994 2.547561370012641\n",
      "41844 profit:  2427.92899993 2.617456115452721\n",
      "44909 profit:  2630.0 2.0843837285223765\n",
      "45984 profit:  2850.0 2.074369447440927\n",
      "58217 profit:  2741.84999985 2.1653800514856325\n",
      "60018 profit:  2770.0 2.137940483545764\n",
      "60929 profit:  2790.0 2.0003189444017355\n",
      "61887 profit:  2806.0 2.0477188309374394\n",
      "63773 profit:  3424.42 2.0329854443271733\n",
      "65640 profit:  4357.0 2.02520729527631\n",
      "67427 profit:  4105.99999998 2.1220451266882767\n",
      "70835 profit:  4580.0 2.010606613032828\n"
     ]
    },
    {
     "data": {
      "text/html": [
       "<div>\n",
       "<table border=\"1\" class=\"dataframe\">\n",
       "  <thead>\n",
       "    <tr style=\"text-align: right;\">\n",
       "      <th></th>\n",
       "      <th>usdt</th>\n",
       "    </tr>\n",
       "  </thead>\n",
       "  <tbody>\n",
       "    <tr>\n",
       "      <th>startAmount</th>\n",
       "      <td>1,000.0000</td>\n",
       "    </tr>\n",
       "    <tr>\n",
       "      <th>numberOfTrades</th>\n",
       "      <td>43.0000</td>\n",
       "    </tr>\n",
       "    <tr>\n",
       "      <th>totalProfit</th>\n",
       "      <td>-53.5407</td>\n",
       "    </tr>\n",
       "    <tr>\n",
       "      <th>avgProfit</th>\n",
       "      <td>-1.2451</td>\n",
       "    </tr>\n",
       "    <tr>\n",
       "      <th>winPercentage</th>\n",
       "      <td>53.4884</td>\n",
       "    </tr>\n",
       "    <tr>\n",
       "      <th>avgWinTrade</th>\n",
       "      <td>2.7066</td>\n",
       "    </tr>\n",
       "    <tr>\n",
       "      <th>avgLossTrade</th>\n",
       "      <td>-5.7896</td>\n",
       "    </tr>\n",
       "    <tr>\n",
       "      <th>profitFactor</th>\n",
       "      <td>0.5376</td>\n",
       "    </tr>\n",
       "    <tr>\n",
       "      <th>maxDrawdown</th>\n",
       "      <td>5.3670</td>\n",
       "    </tr>\n",
       "  </tbody>\n",
       "</table>\n",
       "</div>"
      ],
      "text/plain": [
       "                     usdt\n",
       "startAmount    1,000.0000\n",
       "numberOfTrades    43.0000\n",
       "totalProfit      -53.5407\n",
       "avgProfit         -1.2451\n",
       "winPercentage     53.4884\n",
       "avgWinTrade        2.7066\n",
       "avgLossTrade      -5.7896\n",
       "profitFactor       0.5376\n",
       "maxDrawdown        5.3670"
      ]
     },
     "execution_count": 13,
     "metadata": {},
     "output_type": "execute_result"
    }
   ],
   "source": [
    "dataManager = deepcopy(usdtBtcManagerTrain)\n",
    "exchange = BackTestExchange(dataManager, deepcopy(wallet), 0.0025)\n",
    "strategy = CustomStrategy(exchange, dataManager, 1*288, contractPair, 100, willingLoss=0.05, \n",
    "                                   distanceFromMaxThreshold1=0.04, distanceFromMaxThreshold2=0.035, targetProfit=0.02)\n",
    "strategy.trade()\n",
    "strategy.stats('usdt').report()"
   ]
  },
  {
   "cell_type": "code",
   "execution_count": null,
   "metadata": {
    "collapsed": true
   },
   "outputs": [],
   "source": [
    "exchange.wallet"
   ]
  },
  {
   "cell_type": "code",
   "execution_count": 32,
   "metadata": {
    "scrolled": true
   },
   "outputs": [
    {
     "name": "stdout",
     "output_type": "stream",
     "text": [
      "historyLen willingLoss distanceFromMaxThreshold1 distanceFromMaxThreshold2 targetProfit\n",
      "288 0.01 0.03 0.01 0.05\t 0.38 seconds"
     ]
    },
    {
     "ename": "KeyboardInterrupt",
     "evalue": "",
     "output_type": "error",
     "traceback": [
      "\u001b[1;31m---------------------------------------------------------------------------\u001b[0m",
      "\u001b[1;31mKeyboardInterrupt\u001b[0m                         Traceback (most recent call last)",
      "\u001b[1;32m<ipython-input-32-e7c719f4a75f>\u001b[0m in \u001b[0;36m<module>\u001b[1;34m()\u001b[0m\n\u001b[0;32m     22\u001b[0m                                               \u001b[0mdistanceFromMaxThreshold2\u001b[0m\u001b[1;33m=\u001b[0m\u001b[0mdistanceFromMaxThreshold2\u001b[0m\u001b[1;33m,\u001b[0m\u001b[1;33m\u001b[0m\u001b[0m\n\u001b[0;32m     23\u001b[0m                                               targetProfit=targetProfit)\n\u001b[1;32m---> 24\u001b[1;33m                     \u001b[0mstrategy\u001b[0m\u001b[1;33m.\u001b[0m\u001b[0mtrade\u001b[0m\u001b[1;33m(\u001b[0m\u001b[1;33m)\u001b[0m\u001b[1;33m\u001b[0m\u001b[0m\n\u001b[0m\u001b[0;32m     25\u001b[0m                     \u001b[0mstats\u001b[0m \u001b[1;33m=\u001b[0m \u001b[0mstrategy\u001b[0m\u001b[1;33m.\u001b[0m\u001b[0mstats\u001b[0m\u001b[1;33m(\u001b[0m\u001b[1;34m'usdt'\u001b[0m\u001b[1;33m)\u001b[0m\u001b[1;33m.\u001b[0m\u001b[0mreport\u001b[0m\u001b[1;33m(\u001b[0m\u001b[1;33m)\u001b[0m\u001b[1;33m.\u001b[0m\u001b[0mtranspose\u001b[0m\u001b[1;33m(\u001b[0m\u001b[1;33m)\u001b[0m\u001b[1;33m.\u001b[0m\u001b[0mreset_index\u001b[0m\u001b[1;33m(\u001b[0m\u001b[1;33m)\u001b[0m\u001b[1;33m.\u001b[0m\u001b[0mrename\u001b[0m\u001b[1;33m(\u001b[0m\u001b[0mcolumns\u001b[0m\u001b[1;33m=\u001b[0m\u001b[1;33m{\u001b[0m\u001b[1;34m'index'\u001b[0m\u001b[1;33m:\u001b[0m \u001b[1;34m'contract'\u001b[0m\u001b[1;33m}\u001b[0m\u001b[1;33m)\u001b[0m\u001b[1;33m\u001b[0m\u001b[0m\n\u001b[0;32m     26\u001b[0m                     \u001b[0mstats\u001b[0m\u001b[1;33m[\u001b[0m\u001b[1;34m'historyLen'\u001b[0m\u001b[1;33m]\u001b[0m \u001b[1;33m=\u001b[0m \u001b[0mhistoryLen\u001b[0m\u001b[1;33m\u001b[0m\u001b[0m\n",
      "\u001b[1;32m<ipython-input-21-e0c7ac8dcd37>\u001b[0m in \u001b[0;36mtrade\u001b[1;34m(self)\u001b[0m\n\u001b[0;32m     63\u001b[0m                 \u001b[1;32mcontinue\u001b[0m\u001b[1;33m\u001b[0m\u001b[0m\n\u001b[0;32m     64\u001b[0m \u001b[1;33m\u001b[0m\u001b[0m\n\u001b[1;32m---> 65\u001b[1;33m             \u001b[0mcloseMax\u001b[0m \u001b[1;33m=\u001b[0m \u001b[0mhistory\u001b[0m\u001b[1;33m[\u001b[0m\u001b[1;36m0\u001b[0m\u001b[1;33m]\u001b[0m\u001b[1;33m.\u001b[0m\u001b[0mmax\u001b[0m\u001b[1;33m(\u001b[0m\u001b[1;33m)\u001b[0m\u001b[1;33m\u001b[0m\u001b[0m\n\u001b[0m\u001b[0;32m     66\u001b[0m             \u001b[0mdistanceFromMax\u001b[0m \u001b[1;33m=\u001b[0m \u001b[1;33m(\u001b[0m\u001b[0mcloseMax\u001b[0m \u001b[1;33m/\u001b[0m \u001b[0mprice\u001b[0m\u001b[1;33m)\u001b[0m \u001b[1;33m-\u001b[0m \u001b[1;36m1\u001b[0m\u001b[1;33m\u001b[0m\u001b[0m\n\u001b[0;32m     67\u001b[0m             \u001b[0mdistanceFromMax2\u001b[0m \u001b[1;33m=\u001b[0m \u001b[1;33m(\u001b[0m\u001b[0mmaxPrice\u001b[0m \u001b[1;33m/\u001b[0m \u001b[0mprice\u001b[0m\u001b[1;33m)\u001b[0m \u001b[1;33m-\u001b[0m \u001b[1;36m1\u001b[0m\u001b[1;33m\u001b[0m\u001b[0m\n",
      "\u001b[1;32m~\\AppData\\Local\\conda\\conda\\envs\\crypto\\lib\\site-packages\\numpy\\core\\_methods.py\u001b[0m in \u001b[0;36m_amax\u001b[1;34m(a, axis, out, keepdims)\u001b[0m\n\u001b[0;32m     24\u001b[0m \u001b[1;31m# small reductions\u001b[0m\u001b[1;33m\u001b[0m\u001b[1;33m\u001b[0m\u001b[0m\n\u001b[0;32m     25\u001b[0m \u001b[1;32mdef\u001b[0m \u001b[0m_amax\u001b[0m\u001b[1;33m(\u001b[0m\u001b[0ma\u001b[0m\u001b[1;33m,\u001b[0m \u001b[0maxis\u001b[0m\u001b[1;33m=\u001b[0m\u001b[1;32mNone\u001b[0m\u001b[1;33m,\u001b[0m \u001b[0mout\u001b[0m\u001b[1;33m=\u001b[0m\u001b[1;32mNone\u001b[0m\u001b[1;33m,\u001b[0m \u001b[0mkeepdims\u001b[0m\u001b[1;33m=\u001b[0m\u001b[1;32mFalse\u001b[0m\u001b[1;33m)\u001b[0m\u001b[1;33m:\u001b[0m\u001b[1;33m\u001b[0m\u001b[0m\n\u001b[1;32m---> 26\u001b[1;33m     \u001b[1;32mreturn\u001b[0m \u001b[0mumr_maximum\u001b[0m\u001b[1;33m(\u001b[0m\u001b[0ma\u001b[0m\u001b[1;33m,\u001b[0m \u001b[0maxis\u001b[0m\u001b[1;33m,\u001b[0m \u001b[1;32mNone\u001b[0m\u001b[1;33m,\u001b[0m \u001b[0mout\u001b[0m\u001b[1;33m,\u001b[0m \u001b[0mkeepdims\u001b[0m\u001b[1;33m)\u001b[0m\u001b[1;33m\u001b[0m\u001b[0m\n\u001b[0m\u001b[0;32m     27\u001b[0m \u001b[1;33m\u001b[0m\u001b[0m\n\u001b[0;32m     28\u001b[0m \u001b[1;32mdef\u001b[0m \u001b[0m_amin\u001b[0m\u001b[1;33m(\u001b[0m\u001b[0ma\u001b[0m\u001b[1;33m,\u001b[0m \u001b[0maxis\u001b[0m\u001b[1;33m=\u001b[0m\u001b[1;32mNone\u001b[0m\u001b[1;33m,\u001b[0m \u001b[0mout\u001b[0m\u001b[1;33m=\u001b[0m\u001b[1;32mNone\u001b[0m\u001b[1;33m,\u001b[0m \u001b[0mkeepdims\u001b[0m\u001b[1;33m=\u001b[0m\u001b[1;32mFalse\u001b[0m\u001b[1;33m)\u001b[0m\u001b[1;33m:\u001b[0m\u001b[1;33m\u001b[0m\u001b[0m\n",
      "\u001b[1;31mKeyboardInterrupt\u001b[0m: "
     ]
    }
   ],
   "source": [
    "import time, sys\n",
    "DAY = 288\n",
    "\n",
    "allStats = None\n",
    "print('historyLen willingLoss distanceFromMaxThreshold1 distanceFromMaxThreshold2 targetProfit')\n",
    "for historyLen in [DAY, 2*DAY, 3*DAY, 7*DAY]:\n",
    "    for willingLoss in [.01, 0.02, .03, .05, .1, .2, .5]:\n",
    "        distanceThresholds = [.01, .02, .03, .04, .05, 0.06, .07, .08]\n",
    "        for distanceFromMaxThreshold1 in distanceThresholds:\n",
    "            for distanceFromMaxThreshold2 in [x for x in distanceThresholds if x <= distanceFromMaxThreshold1]:\n",
    "                for targetProfit in [.01, .02, 0.03, 0.04, .05, .07, .1, .2, .3]:\n",
    "                    s = \"\\r{} {} {} {} {}\".format(historyLen, willingLoss, distanceFromMaxThreshold1, \n",
    "                                                  distanceFromMaxThreshold2, targetProfit)\n",
    "                    sys.stdout.write(s)\n",
    "                    sys.stdout.flush()\n",
    "\n",
    "                    start_time = time.time()\n",
    "                    dataManager = deepcopy(usdtBtcManagerTrain)\n",
    "                    exchange = BackTestExchange(dataManager, deepcopy(wallet), 0.0025)\n",
    "                    strategy = CustomStrategy(exchange, dataManager, historyLen, contractPair, 100, willingLoss=willingLoss, \n",
    "                                              distanceFromMaxThreshold1=distanceFromMaxThreshold1, \n",
    "                                              distanceFromMaxThreshold2=distanceFromMaxThreshold2, \n",
    "                                              targetProfit=targetProfit)\n",
    "                    strategy.trade()\n",
    "                    stats = strategy.stats('usdt').report().transpose().reset_index().rename(columns={'index': 'contract'})\n",
    "                    stats['historyLen'] = historyLen\n",
    "                    stats['willingLoss'] = willingLoss\n",
    "                    stats['distanceFromMaxThreshold1'] = distanceFromMaxThreshold1\n",
    "                    stats['distanceFromMaxThreshold2'] = distanceFromMaxThreshold2\n",
    "                    stats['targetProfit'] = targetProfit\n",
    "                    if allStats is None:\n",
    "                        allStats = stats\n",
    "                    else:\n",
    "                        allStats = allStats.append(stats)\n",
    "                    sys.stdout.write(s + \"\\t %.2f seconds\" % (time.time() - start_time))\n",
    "                    sys.stdout.flush()\n",
    "\n",
    "allStats.to_csv('D:\\\\Dropbox\\\\My work\\\\krypl-project\\\\result\\\\customStrategy.tsv', index=False, sep='\\t')\n"
   ]
  },
  {
   "cell_type": "code",
   "execution_count": null,
   "metadata": {
    "collapsed": true
   },
   "outputs": [],
   "source": []
  },
  {
   "cell_type": "markdown",
   "metadata": {},
   "source": [
    "# Look on transactions"
   ]
  },
  {
   "cell_type": "code",
   "execution_count": null,
   "metadata": {
    "collapsed": true
   },
   "outputs": [],
   "source": [
    "from matplotlib.finance import candlestick_ohlc\n",
    "import matplotlib.dates as mdates\n",
    "\n",
    "import time\n",
    "import datetime as dt\n",
    "\n",
    "def timestampToDate(timestamp):\n",
    "    return dt.datetime.fromtimestamp(int(timestamp))\n",
    "\n",
    "def strTimeToTimestamp(strTime):\n",
    "    return dt.datetime.strptime(strTime, \"%Y-%m-%d %H:%M:%S\").timestamp()\n",
    "\n",
    "\n",
    "def calculateMA(history, col, timePeriod):\n",
    "        return calculateTalib('MA', {col: history[col].values}, {'timeperiod': timePeriod})\n",
    "\n",
    "\n",
    "def plotCandles(df, currencyPair):\n",
    "    DATA = df[['open', 'high', 'low', 'close', 'volume', 'date', 'timestamp']].copy()\n",
    "    DATA = DATA.reset_index()\n",
    "    DATA[\"dateStr\"] = DATA[\"date\"]\n",
    "    DATA[\"date\"]  = DATA[\"timestamp\"].apply(timestampToDate).apply(mdates.date2num)\n",
    "\n",
    "    plt.figure(figsize=(16, 8))\n",
    "    ax = plt.gca()\n",
    "    candlestick_ohlc(ax, DATA.values, width=.6, colorup='#53c156', colordown='#ff1717')\n",
    "\n",
    "    ax.xaxis_date()\n",
    "    \n",
    "    xDates = DATA['dateStr']\n",
    "    step = int(xDates.shape[0] / 20) + 1\n",
    "    xDates[[i for i in range(xDates.shape[0]) if i % step != 0]] = ''\n",
    "    \n",
    "    plt.xticks(range(DATA.shape[0]), DATA['dateStr'], rotation=45)\n",
    "    plt.title(currencyPair, fontproperties=titleFont)\n",
    "    \n",
    "\n",
    "def plotTransaction(transaction, i):\n",
    "    print(transaction)\n",
    "    color = 'k' if transaction['type'] == Transaction.BUY else 'm'\n",
    "    print(color)\n",
    "    plt.scatter(i, transaction['price'], s=200, c=color)\n",
    "    \n",
    "\n",
    "def plotMax(mmax, i):\n",
    "    plt.scatter(i, mmax, s=200, c='b')\n",
    "\n",
    "    \n",
    "def indexRange(i, offsetBack, offsetForward, length):\n",
    "    start = i - offsetBack if i - offsetBack > 0 else 0\n",
    "    end = i + offsetForward if i + offsetForward < length else length-1\n",
    "    return start, end\n",
    "    \n",
    "def plotTransactionWithSurroundings(prices, timePeriod, transaction):\n",
    "    i = transaction['timestamp']\n",
    "    start,end = indexRange(i, 40, 20, prices.shape[0])\n",
    "    selected = prices.iloc[start:end, :].reset_index()\n",
    "    \n",
    "    plotCandles(selected, '')\n",
    "    plotTransaction(transaction, 39)\n",
    "    \n",
    "    mmax = prices.iloc[start:i, :]['close'].max()\n",
    "#     plotMax(mmax, 39)\n",
    "    "
   ]
  },
  {
   "cell_type": "code",
   "execution_count": null,
   "metadata": {},
   "outputs": [],
   "source": [
    "len(strategy.exchange.transactions)"
   ]
  },
  {
   "cell_type": "code",
   "execution_count": null,
   "metadata": {
    "collapsed": true
   },
   "outputs": [],
   "source": [
    "def plotTransactions(ohlc, transactions):\n",
    "    ohlcMaxI = ohlc.shape[0]\n",
    "    buys = transactionsToPlot(transactions, Transaction.BUY)\n",
    "    sells = transactionsToPlot(transactions, Transaction.SELL)\n",
    "    \n",
    "    firstTransaction = int(min(min(buys[:, 0]), min(sells[:, 0])))\n",
    "    firstTransaction = firstTransaction - 40 if firstTransaction - 40 > 0 else 0\n",
    "    \n",
    "    lastTransaction = int(max(max(buys[:, 0]), max(sells[:, 0])))\n",
    "    lastTransaction = lastTransaction + 40 if lastTransaction + 40 < ohlcMaxI else ohlcMaxI\n",
    "    \n",
    "    fig, ax = plotCandles(ohlc.iloc[firstTransaction:lastTransaction, :])\n",
    "    \n",
    "    buyScatter = plt.scatter(buys[:, 0] - firstTransaction, buys[:, 1], s=200, c='g', label='buy')\n",
    "    sellScatter = plt.scatter(sells[:, 0] - firstTransaction, sells[:, 1], s=200, c='m', label='sell')\n",
    "\n",
    "    plt.legend(handles=[buyScatter, sellScatter], loc='upper left')"
   ]
  },
  {
   "cell_type": "code",
   "execution_count": null,
   "metadata": {
    "scrolled": false
   },
   "outputs": [],
   "source": [
    "%matplotlib notebook\n",
    "plotTransactions(ohlcTrain, strategy.exchange.transactions[50:])"
   ]
  },
  {
   "cell_type": "code",
   "execution_count": null,
   "metadata": {
    "collapsed": true
   },
   "outputs": [],
   "source": []
  },
  {
   "cell_type": "code",
   "execution_count": null,
   "metadata": {
    "collapsed": true,
    "scrolled": false
   },
   "outputs": [],
   "source": [
    "t = 70\n",
    "\n",
    "transaction = strategy.exchange.transactions[t]\n",
    "plotTransactionWithSurroundings(ohlcTrain, strategy.historyLen, transaction)\n",
    "transaction = strategy.exchange.transactions[t+1]\n",
    "plotTransactionWithSurroundings(ohlcTrain, strategy.historyLen, transaction)"
   ]
  },
  {
   "cell_type": "code",
   "execution_count": null,
   "metadata": {
    "collapsed": true
   },
   "outputs": [],
   "source": [
    "transaction"
   ]
  },
  {
   "cell_type": "markdown",
   "metadata": {},
   "source": [
    "# Evaluate Distance From Max"
   ]
  },
  {
   "cell_type": "code",
   "execution_count": null,
   "metadata": {
    "collapsed": true
   },
   "outputs": [],
   "source": [
    "allStats = pd.read_csv('D:\\\\Dropbox\\\\My work\\\\krypl-project\\\\result\\\\distanceFromMaxWithTimeRestriction.tsv',sep='\\t')"
   ]
  },
  {
   "cell_type": "code",
   "execution_count": null,
   "metadata": {
    "collapsed": true,
    "scrolled": true
   },
   "outputs": [],
   "source": [
    "allStats.query('totalProfit > 90 and winPercentage > 70').sort_values('numberOfTrades', ascending=False)"
   ]
  },
  {
   "cell_type": "code",
   "execution_count": null,
   "metadata": {
    "collapsed": true
   },
   "outputs": [],
   "source": []
  },
  {
   "cell_type": "code",
   "execution_count": null,
   "metadata": {
    "collapsed": true
   },
   "outputs": [],
   "source": [
    "dataManager = deepcopy(usdtBtcManagerTest)\n",
    "exchange = BackTestExchange(dataManager, deepcopy(wallet), 0.0025)\n",
    "strategy = BollingerBandsStrategy(exchange, dataManager, 30, contractPair, 100, willingLoss=0.03, distFromMiddleThreshold=0.02, diffThreshold=0.01)\n",
    "strategy.trade()\n",
    "strategy.stats('usdt').report()"
   ]
  },
  {
   "cell_type": "code",
   "execution_count": null,
   "metadata": {
    "collapsed": true
   },
   "outputs": [],
   "source": []
  }
 ],
 "metadata": {
  "kernelspec": {
   "display_name": "Python 3",
   "language": "python",
   "name": "python3"
  },
  "language_info": {
   "codemirror_mode": {
    "name": "ipython",
    "version": 3
   },
   "file_extension": ".py",
   "mimetype": "text/x-python",
   "name": "python",
   "nbconvert_exporter": "python",
   "pygments_lexer": "ipython3",
   "version": "3.6.2"
  }
 },
 "nbformat": 4,
 "nbformat_minor": 2
}
