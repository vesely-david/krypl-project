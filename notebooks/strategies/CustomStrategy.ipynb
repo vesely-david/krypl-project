{
 "cells": [
  {
   "cell_type": "code",
   "execution_count": null,
   "metadata": {
    "collapsed": true
   },
   "outputs": [],
   "source": [
    "%run ../utils/commonImports.py\n",
    "%run ../utils/tradingImports.py\n",
    "%matplotlib inline"
   ]
  },
  {
   "cell_type": "markdown",
   "metadata": {
    "collapsed": true
   },
   "source": [
    "# Load Data"
   ]
  },
  {
   "cell_type": "markdown",
   "metadata": {},
   "source": [
    "# EMA"
   ]
  },
  {
   "cell_type": "code",
   "execution_count": null,
   "metadata": {
    "collapsed": true
   },
   "outputs": [],
   "source": [
    "def calculate_EMA(history, col, time_period):\n",
    "    return calculateTalib('EMA', {col: history[col].values}, {'timeperiod': time_period})\n",
    "\n",
    "\n",
    "def add_EMA(df):\n",
    "    df['blue'] = calculate_EMA(df, 'close', 8)\n",
    "    df['green'] = calculate_EMA(df, 'close', 13)\n",
    "    df['yellow'] = calculate_EMA(df, 'close', 21)\n",
    "    df['red'] = calculate_EMA(df, 'close', 55)\n",
    "    return df"
   ]
  },
  {
   "cell_type": "code",
   "execution_count": null,
   "metadata": {
    "collapsed": true
   },
   "outputs": [],
   "source": [
    "def load_and_divide(file, from_date=None, to_date=None, train_ratio=0.7):\n",
    "    data = load_trading_data(file, from_date, to_date)\n",
    "    data = add_EMA(data)\n",
    "    data_train, data_test = divide_train_and_test(data, train_ratio)\n",
    "    return data, data_train, data_test\n",
    "\n",
    "\n",
    "file = 'D:\\\\Dropbox\\\\My work\\\\krypl-project\\\\dataFeatures\\\\poloniex\\\\5min\\\\USDT_BTC_5min_2016-01-01_2017-12-31.tsv'\n",
    "data, data_train, data_test = load_and_divide(file, from_date='2017-01-01')\n",
    "\n",
    "file = 'D:\\\\Dropbox\\\\My work\\\\krypl-project\\\\dataCleaned\\\\poloniex\\\\5min\\\\USDT_BTC_5min_2016-01-01_2017-12-31.tsv'\n",
    "ohlc, ohlc_train, ohlc_test = load_and_divide(file, from_date='2017-01-01')\n",
    "\n",
    "\n",
    "features = ['red', 'yellow', 'green', 'blue']\n",
    "data_manager_train = CurrencyDataManager(data_train['close'], data_train[features])\n",
    "data_manager_test = CurrencyDataManager(data_test['close'], data_test[features])\n",
    "wallet = {'usdt': 1000}\n",
    "contract_pair = ContractPair.new('usdt', 'btc')"
   ]
  },
  {
   "cell_type": "markdown",
   "metadata": {},
   "source": [
    "# Explore"
   ]
  },
  {
   "cell_type": "code",
   "execution_count": null,
   "metadata": {
    "collapsed": true
   },
   "outputs": [],
   "source": [
    "ohlcTrainCorrectPattern = ohlc_train.query(\"red < yellow < green < blue\")"
   ]
  },
  {
   "cell_type": "code",
   "execution_count": null,
   "metadata": {
    "collapsed": true
   },
   "outputs": [],
   "source": [
    "ohlcTrainCorrectPattern.shape"
   ]
  },
  {
   "cell_type": "markdown",
   "metadata": {},
   "source": [
    "# Implementation"
   ]
  },
  {
   "cell_type": "code",
   "execution_count": null,
   "metadata": {
    "collapsed": true
   },
   "outputs": [],
   "source": [
    "from modeling.strategy import Strategy\n",
    "\n",
    "\n",
    "class CustomStrategy(Strategy):\n",
    "    def __init__(self, exchange, dataManager, contractPair, tradeSize, willingLoss, targetProfit):\n",
    "        super().__init__(exchange, dataManager, contractPair, tradeSize, willingLoss, targetProfit)\n",
    "        self.history_len = 1\n",
    "    \n",
    "    @staticmethod\n",
    "    def has_correct_order(red, yellow, green, blue):\n",
    "        return red < yellow < green < blue\n",
    "    \n",
    "    @staticmethod\n",
    "    def is_pattern_destroyed(red, yellow, green, blue):\n",
    "        return (red > yellow) or (red > green) or (red > blue)\n",
    "    \n",
    "    def trade(self):\n",
    "        \n",
    "        in_row = 0\n",
    "        after_sell = False\n",
    "        while self.data_manager.has_tick():            \n",
    "            history, price = self.data_manager.tick(self.history_len)\n",
    "            \n",
    "            if history.shape[0] == 0:\n",
    "                continue\n",
    "            \n",
    "            red, yellow, green, blue = history[0]\n",
    "            if np.isnan(red):\n",
    "                continue\n",
    "\n",
    "            if self.has_correct_order(red, yellow, green, blue):\n",
    "                in_row += 1\n",
    "            else:\n",
    "                in_row = 0\n",
    "                after_sell = False\n",
    "            \n",
    "            if not self.opened and not after_sell and in_row >= 1:\n",
    "                self.buy(price)\n",
    "                price_bought = price\n",
    "            elif self.opened and self.is_risky(price_bought, price):\n",
    "                self.sell_all(price)\n",
    "                after_sell = True\n",
    "            elif self.opened and self.is_target_satisfied(price_bought, price):\n",
    "                self.sell_all(price)\n",
    "                after_sell = True\n",
    "            elif self.opened and self.is_pattern_destroyed(red, yellow, green, blue):\n",
    "                self.sell_all(price)\n",
    "                after_sell = True\n",
    "        \n",
    "        if self.opened:\n",
    "            self.sell_all(price)\n"
   ]
  },
  {
   "cell_type": "markdown",
   "metadata": {},
   "source": [
    "# Learning"
   ]
  },
  {
   "cell_type": "code",
   "execution_count": null,
   "metadata": {
    "collapsed": false,
    "scrolled": false
   },
   "outputs": [],
   "source": [
    "dataManager = deepcopy(data_manager_train)\n",
    "exchange = BackTestExchange(dataManager, deepcopy(wallet), 0.0025)\n",
    "strategy = CustomStrategy(exchange, dataManager, contract_pair, 100, willingLoss=0.5, targetProfit=0.05)\n",
    "strategy.trade()\n",
    "strategy.stats('usdt').report()"
   ]
  },
  {
   "cell_type": "code",
   "execution_count": null,
   "metadata": {
    "collapsed": true
   },
   "outputs": [],
   "source": [
    "exchange.wallet"
   ]
  },
  {
   "cell_type": "code",
   "execution_count": null,
   "metadata": {
    "collapsed": true,
    "scrolled": true
   },
   "outputs": [],
   "source": [
    "import time, sys\n",
    "DAY = 288\n",
    "\n",
    "allStats = None\n",
    "print('historyLen willingLoss distanceFromMaxThreshold1 distanceFromMaxThreshold2 targetProfit')\n",
    "for historyLen in [DAY, 2*DAY, 3*DAY, 7*DAY]:\n",
    "    for willingLoss in [.01, 0.02, .03, .05, .1, .2, .5]:\n",
    "        distanceThresholds = [.01, .02, .03, .04, .05, 0.06, .07, .08]\n",
    "        for distanceFromMaxThreshold1 in distanceThresholds:\n",
    "            for distanceFromMaxThreshold2 in [x for x in distanceThresholds if x <= distanceFromMaxThreshold1]:\n",
    "                for targetProfit in [.01, .02, .03, .04, .05, .07, .1, .2, .3]:\n",
    "                    s = \"\\r{} {} {} {} {}\".format(historyLen, willingLoss, distanceFromMaxThreshold1, \n",
    "                                                  distanceFromMaxThreshold2, targetProfit)\n",
    "                    sys.stdout.write(s)\n",
    "                    sys.stdout.flush()\n",
    "\n",
    "                    start_time = time.time()\n",
    "                    dataManager = deepcopy(data_manager_train)\n",
    "                    exchange = BackTestExchange(dataManager, deepcopy(wallet), 0.0025)\n",
    "                    strategy = CustomStrategy(exchange, dataManager, historyLen, contract_pair, 100, willingLoss=willingLoss,\n",
    "                                              distanceFromMaxThreshold1=distanceFromMaxThreshold1,\n",
    "                                              distanceFromMaxThreshold2=distanceFromMaxThreshold2,\n",
    "                                              targetProfit=targetProfit)\n",
    "                    strategy.trade()\n",
    "                    stats = strategy.stats('usdt').report().transpose().reset_index().rename(columns={'index': 'contract'})\n",
    "                    stats['historyLen'] = historyLen\n",
    "                    stats['willingLoss'] = willingLoss\n",
    "                    stats['distanceFromMaxThreshold1'] = distanceFromMaxThreshold1\n",
    "                    stats['distanceFromMaxThreshold2'] = distanceFromMaxThreshold2\n",
    "                    stats['targetProfit'] = targetProfit\n",
    "                    if allStats is None:\n",
    "                        allStats = stats\n",
    "                    else:\n",
    "                        allStats = allStats.append(stats)\n",
    "                    sys.stdout.write(s + \"\\t %.2f seconds\" % (time.time() - start_time))\n",
    "                    sys.stdout.flush()\n",
    "            \n",
    "\n",
    "allStats.to_csv('D:\\\\Dropbox\\\\My work\\\\krypl-project\\\\result\\\\customStrategy.tsv', index=False, sep='\\t')"
   ]
  },
  {
   "cell_type": "markdown",
   "metadata": {},
   "source": [
    "# Look on transactions"
   ]
  },
  {
   "cell_type": "code",
   "execution_count": null,
   "metadata": {
    "collapsed": true
   },
   "outputs": [],
   "source": [
    "len(strategy.exchange.transactions)"
   ]
  },
  {
   "cell_type": "code",
   "execution_count": null,
   "metadata": {
    "collapsed": true
   },
   "outputs": [],
   "source": [
    "winningTransactions = []\n",
    "for i in range(int(len(strategy.exchange.transactions) / 2)):\n",
    "    t1, t2 = strategy.exchange.transactions[i:i+2]\n",
    "    if t1['amount'] < t2['amount']:\n",
    "        winningTransactions += [t1, t2]"
   ]
  },
  {
   "cell_type": "code",
   "execution_count": null,
   "metadata": {
    "collapsed": true
   },
   "outputs": [],
   "source": [
    "len(winningTransactions)"
   ]
  },
  {
   "cell_type": "code",
   "execution_count": null,
   "metadata": {
    "collapsed": true
   },
   "outputs": [],
   "source": [
    "strategy.exchange.transactions[2:4]"
   ]
  },
  {
   "cell_type": "code",
   "execution_count": null,
   "metadata": {
    "collapsed": true
   },
   "outputs": [],
   "source": [
    "data_train.head()"
   ]
  },
  {
   "cell_type": "code",
   "execution_count": null,
   "metadata": {
    "collapsed": true
   },
   "outputs": [],
   "source": []
  },
  {
   "cell_type": "code",
   "execution_count": null,
   "metadata": {
    "collapsed": true,
    "scrolled": false
   },
   "outputs": [],
   "source": [
    "%matplotlib notebook\n",
    "plot_transactions(ohlc_train, strategy.exchange.transactions[:])\n",
    "\n",
    "for c in ['red', 'yellow', 'green', 'blue']:\n",
    "    plt.plot(range(ohlc_train.shape[0]), ohlc_train[c], c=c)"
   ]
  },
  {
   "cell_type": "code",
   "execution_count": null,
   "metadata": {
    "collapsed": true,
    "scrolled": false
   },
   "outputs": [],
   "source": [
    "t = 70\n",
    "\n",
    "transaction = strategy.exchange.transactions[t]\n",
    "plotTransactionWithSurroundings(ohlc_train, strategy.historyLen, transaction)\n",
    "transaction = strategy.exchange.transactions[t+1]\n",
    "plotTransactionWithSurroundings(ohlc_train, strategy.historyLen, transaction)"
   ]
  },
  {
   "cell_type": "code",
   "execution_count": null,
   "metadata": {
    "collapsed": true
   },
   "outputs": [],
   "source": [
    "transaction"
   ]
  },
  {
   "cell_type": "markdown",
   "metadata": {},
   "source": [
    "# Evaluate"
   ]
  },
  {
   "cell_type": "code",
   "execution_count": null,
   "metadata": {
    "collapsed": true
   },
   "outputs": [],
   "source": [
    "allStats = pd.read_csv('D:\\\\Dropbox\\\\My work\\\\krypl-project\\\\result\\\\customStrategy.tsv',sep='\\t')"
   ]
  },
  {
   "cell_type": "code",
   "execution_count": null,
   "metadata": {
    "collapsed": true,
    "scrolled": true
   },
   "outputs": [],
   "source": [
    "allStats.query('totalProfit > 90 and winPercentage > 70').sort_values('numberOfTrades', ascending=False)"
   ]
  },
  {
   "cell_type": "code",
   "execution_count": null,
   "metadata": {
    "collapsed": true,
    "scrolled": true
   },
   "outputs": [],
   "source": [
    "allStats.sort_values('totalProfit', ascending=False).query('willingLoss < 0.1').query('winPercentage > 50')"
   ]
  },
  {
   "cell_type": "code",
   "execution_count": null,
   "metadata": {
    "collapsed": true
   },
   "outputs": [],
   "source": [
    "dataManager = deepcopy(data_test)\n",
    "exchange = BackTestExchange(dataManager, deepcopy(wallet), 0.0025)\n",
    "strategy = CustomStrategy(exchange, dataManager, 2016, contract_pair, 100, willingLoss=0.05,\n",
    "                          distanceFromMaxThreshold1=0.06, distanceFromMaxThreshold2=0.03, targetProfit=0.01)\n",
    "strategy.trade()\n",
    "strategy.stats('usdt').report()"
   ]
  },
  {
   "cell_type": "code",
   "execution_count": null,
   "metadata": {
    "collapsed": true
   },
   "outputs": [],
   "source": []
  }
 ],
 "metadata": {
  "kernelspec": {
   "display_name": "Python 3",
   "language": "python",
   "name": "python3"
  },
  "language_info": {
   "codemirror_mode": {
    "name": "ipython",
    "version": 3
   },
   "file_extension": ".py",
   "mimetype": "text/x-python",
   "name": "python",
   "nbconvert_exporter": "python",
   "pygments_lexer": "ipython3",
   "version": "3.5.4"
  }
 },
 "nbformat": 4,
 "nbformat_minor": 2
}
