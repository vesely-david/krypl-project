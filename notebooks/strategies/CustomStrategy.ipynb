{
 "cells": [
  {
   "cell_type": "code",
   "execution_count": 1,
   "metadata": {},
   "outputs": [],
   "source": [
    "%run ../utils/commonImports.py\n",
    "%run ../utils/tradingImports.py\n",
    "%matplotlib inline"
   ]
  },
  {
   "cell_type": "markdown",
   "metadata": {
    "collapsed": true
   },
   "source": [
    "# Load Data"
   ]
  },
  {
   "cell_type": "code",
   "execution_count": 2,
   "metadata": {
    "collapsed": true
   },
   "outputs": [],
   "source": [
    "def calculate_EMA(history, col, time_period):\n",
    "    return calculateTalib('EMA', {col: history[col].values}, {'timeperiod': time_period})\n",
    "\n",
    "\n",
    "def add_EMA(df):\n",
    "    df['blue'] = calculate_EMA(df, 'close', 8)\n",
    "    df['green'] = calculate_EMA(df, 'close', 13)\n",
    "    df['yellow'] = calculate_EMA(df, 'close', 21)\n",
    "    df['red'] = calculate_EMA(df, 'close', 55)\n",
    "    return df"
   ]
  },
  {
   "cell_type": "code",
   "execution_count": 3,
   "metadata": {
    "collapsed": true
   },
   "outputs": [],
   "source": [
    "def load_and_divide(db, table, from_date=None, to_date=None, train_ratio=0.5):\n",
    "    data = load_trading_data(db, table, from_date, to_date)\n",
    "    data = add_EMA(data)\n",
    "    data_train, data_test = divide_train_and_test(data, train_ratio)\n",
    "    return data, data_train, data_test\n",
    "\n",
    "\n",
    "db = 'D:\\\\Dropbox\\\\My work\\\\krypl-project\\\\sqlite\\\\ploniex-chart-data\\\\USDT_BTC.db'\n",
    "data, data_train, data_test = load_and_divide(db, 'chart_data', from_date='2017-01-01')\n",
    "ohlc, ohlc_train, ohlc_test = data.copy(), data_train.copy(), data_test.copy()\n",
    "\n",
    "\n",
    "features = ['red', 'yellow', 'green', 'blue']\n",
    "data_manager_train = CurrencyDataManager(data_train['close'], data_train[features])\n",
    "data_manager_test = CurrencyDataManager(data_test['close'], data_test[features])\n",
    "wallet = {'usdt': 1000}\n",
    "contract_pair = ContractPair.new('usdt', 'btc')"
   ]
  },
  {
   "cell_type": "markdown",
   "metadata": {},
   "source": [
    "# Explore"
   ]
  },
  {
   "cell_type": "code",
   "execution_count": 5,
   "metadata": {
    "collapsed": true
   },
   "outputs": [],
   "source": [
    "correct_pattern = ohlc_train.query(\"red < yellow < green < blue\").copy()"
   ]
  },
  {
   "cell_type": "code",
   "execution_count": 6,
   "metadata": {},
   "outputs": [
    {
     "data": {
      "text/plain": [
       "(5904, 14)"
      ]
     },
     "execution_count": 6,
     "metadata": {},
     "output_type": "execute_result"
    }
   ],
   "source": [
    "correct_pattern.shape"
   ]
  },
  {
   "cell_type": "code",
   "execution_count": null,
   "metadata": {
    "collapsed": true
   },
   "outputs": [],
   "source": [
    "def ratio(df, c1, c2):\n",
    "    return (df[c1] / df[c2]) - 1\n",
    "\n",
    "\n",
    "def distplot(df, col, x_max):\n",
    "    plt.figure(figsize=[12, 6])\n",
    "    plt.title(col, fontproperties=title_font)\n",
    "    sns.distplot(df[col])\n",
    "    plt.xlim([0, x_max])\n",
    "\n",
    "correct_pattern['ratioRY'] = ratio(correct_pattern, 'yellow', 'red')\n",
    "correct_pattern['ratioYG'] = ratio(correct_pattern, 'green', 'yellow')\n",
    "correct_pattern['ratioGB'] = ratio(correct_pattern, 'blue', 'green')"
   ]
  },
  {
   "cell_type": "code",
   "execution_count": null,
   "metadata": {
    "collapsed": true
   },
   "outputs": [],
   "source": [
    "distplot(correct_pattern, 'ratioRY', 0.015)\n",
    "distplot(correct_pattern, 'ratioYG', 0.005)\n",
    "distplot(correct_pattern, 'ratioGB', 0.005)"
   ]
  },
  {
   "cell_type": "markdown",
   "metadata": {},
   "source": [
    "# Implementation"
   ]
  },
  {
   "cell_type": "code",
   "execution_count": 4,
   "metadata": {
    "collapsed": true
   },
   "outputs": [],
   "source": [
    "from modeling.strategy import Strategy\n",
    "\n",
    "class HoldStrategy(Strategy):\n",
    "    def __init__(self, exchange, data_manager, contract_pair, trade_size):\n",
    "        super().__init__(exchange, data_manager, contract_pair, trade_size, 0., 0.)    \n",
    "    \n",
    "    def trade(self):\n",
    "        while self.data_manager.has_tick():            \n",
    "            history, price = self.data_manager.tick(1)\n",
    "            \n",
    "            if history.shape[0] == 0:\n",
    "                self.buy(price)\n",
    "            else:\n",
    "                continue\n",
    "        \n",
    "        if self.opened:\n",
    "            self.sell_all(price)"
   ]
  },
  {
   "cell_type": "code",
   "execution_count": 88,
   "metadata": {},
   "outputs": [],
   "source": [
    "from modeling.strategy import Strategy\n",
    "from itertools import permutations\n",
    "\n",
    "ORDERS = list(permutations('BGYR', 4))\n",
    "\n",
    "\n",
    "class CustomStrategy(Strategy):\n",
    "    def __init__(self, exchange, data_manager, contract_pair, trade_size, willing_loss, target_profit, params):\n",
    "        super().__init__(exchange, data_manager, contract_pair, trade_size, willing_loss, target_profit)\n",
    "        self.history_len = 1\n",
    "        self.params = params\n",
    "    \n",
    "    def has_correct_order(self, _type, red, yellow, green, blue):\n",
    "        order = self.params['order_' + _type]\n",
    "        d = {'R': red, 'Y': yellow, 'G': green, 'B': blue}\n",
    "        l = [d[order[i]] for i in range(len(order))]\n",
    "        for i in range(len(l)-1):\n",
    "            if l[i] < l[i+1]:\n",
    "                return False\n",
    "        return True\n",
    "        \n",
    "    \n",
    "    def should_buy(self, red, yellow, green, blue):\n",
    "        if self.trade_size >= self.exchange.wallet[contract_pair['priceContract']] * 1.1:\n",
    "            return False\n",
    "        \n",
    "        order = self.params['order_buy']\n",
    "        if not self.has_correct_order('buy', red, yellow, green, blue):\n",
    "            return False\n",
    "    \n",
    "        d = {'R': red, 'Y': yellow, 'G': green, 'B': blue}\n",
    "        l = [d[order[i]] for i in range(len(order))]\n",
    "        thresholds = [self.params[f'r{i}_buy'] for i in range(1, len(order))]\n",
    "        \n",
    "        def ratio(x, y):\n",
    "            return (x / y) - 1\n",
    "        \n",
    "        for i in range(len(l)-1):\n",
    "            r = ratio(l[i], l[i+1])\n",
    "            if ratio(l[i], l[i+1]) < thresholds[i]:\n",
    "                return False\n",
    "        \n",
    "        return True\n",
    "    \n",
    "    def should_sell(self, red, yellow, green, blue):\n",
    "        return self.has_correct_order('sell', red, yellow, green, blue)\n",
    "    \n",
    "    \n",
    "    def trade(self):\n",
    "        after_sell = False\n",
    "        while self.data_manager.has_tick():            \n",
    "            history, price = self.data_manager.tick(self.history_len)\n",
    "            \n",
    "            if history.shape[0] == 0:\n",
    "                continue\n",
    "            \n",
    "            red, yellow, green, blue = history[0]\n",
    "            if np.isnan(red):\n",
    "                continue\n",
    "            \n",
    "            if not self.opened and self.should_buy(red, yellow, green, blue):\n",
    "                self.buy(price)\n",
    "                price_bought = price\n",
    "            elif self.opened and self.is_risky(price_bought, price):\n",
    "                self.sell_all(price)\n",
    "                after_sell = True\n",
    "            elif self.opened and self.is_target_satisfied(price_bought, price):\n",
    "                self.sell_all(price)\n",
    "                after_sell = True\n",
    "            elif self.opened and self.should_sell(red, yellow, green, blue):\n",
    "                self.sell_all(price)\n",
    "                after_sell = True\n",
    "        \n",
    "        if self.opened:\n",
    "            self.sell_all(price)"
   ]
  },
  {
   "cell_type": "code",
   "execution_count": 89,
   "metadata": {},
   "outputs": [],
   "source": [
    "def create_strategy(data_manager_p, param_array):\n",
    "    params = {\n",
    "        'order_buy': ORDERS[0],\n",
    "        'r1_buy': param_array[0],\n",
    "        'r2_buy': param_array[1],\n",
    "        'r3_buy': param_array[2],\n",
    "        'order_sell': ORDERS[param_array[3]],\n",
    "    }\n",
    "    \n",
    "    data_manager = deepcopy(data_manager_p)\n",
    "    exchange = BackTestExchange(data_manager, deepcopy(wallet), 0.0025)\n",
    "    strategy = CustomStrategy(exchange, data_manager, contract_pair, 100, willing_loss=0.05, target_profit=1, params=params)\n",
    "    return data_manager, exchange, strategy\n",
    "\n",
    "\n",
    "def hold_stats(data_manager_p):\n",
    "    data_manager = deepcopy(data_manager_p)\n",
    "    exchange = BackTestExchange(data_manager, deepcopy(wallet), 0.0025)\n",
    "    strategy = HoldStrategy(exchange, data_manager, contract_pair, 100)\n",
    "    strategy.trade()\n",
    "    return strategy.stats('usdt').report()"
   ]
  },
  {
   "cell_type": "markdown",
   "metadata": {},
   "source": [
    "# Learning"
   ]
  },
  {
   "cell_type": "code",
   "execution_count": 90,
   "metadata": {
    "collapsed": true
   },
   "outputs": [],
   "source": [
    "def create_train_strategy(param_array):\n",
    "    return create_strategy(data_manager_train, param_array)"
   ]
  },
  {
   "cell_type": "code",
   "execution_count": 91,
   "metadata": {},
   "outputs": [
    {
     "data": {
      "text/html": [
       "<div>\n",
       "<table border=\"1\" class=\"dataframe\">\n",
       "  <thead>\n",
       "    <tr style=\"text-align: right;\">\n",
       "      <th></th>\n",
       "      <th>usdt</th>\n",
       "    </tr>\n",
       "  </thead>\n",
       "  <tbody>\n",
       "    <tr>\n",
       "      <th>startAmount</th>\n",
       "      <td>1,000.0000</td>\n",
       "    </tr>\n",
       "    <tr>\n",
       "      <th>numberOfTrades</th>\n",
       "      <td>1.0000</td>\n",
       "    </tr>\n",
       "    <tr>\n",
       "      <th>totalProfit</th>\n",
       "      <td>282.2111</td>\n",
       "    </tr>\n",
       "    <tr>\n",
       "      <th>avgProfit</th>\n",
       "      <td>282.2111</td>\n",
       "    </tr>\n",
       "    <tr>\n",
       "      <th>winPercentage</th>\n",
       "      <td>100.0000</td>\n",
       "    </tr>\n",
       "    <tr>\n",
       "      <th>avgWinTrade</th>\n",
       "      <td>282.2111</td>\n",
       "    </tr>\n",
       "    <tr>\n",
       "      <th>avgLossTrade</th>\n",
       "      <td>0.0000</td>\n",
       "    </tr>\n",
       "    <tr>\n",
       "      <th>profitFactor</th>\n",
       "      <td>inf</td>\n",
       "    </tr>\n",
       "    <tr>\n",
       "      <th>maxDrawdown</th>\n",
       "      <td>0.0000</td>\n",
       "    </tr>\n",
       "  </tbody>\n",
       "</table>\n",
       "</div>"
      ],
      "text/plain": [
       "                     usdt\n",
       "startAmount    1,000.0000\n",
       "numberOfTrades     1.0000\n",
       "totalProfit      282.2111\n",
       "avgProfit        282.2111\n",
       "winPercentage    100.0000\n",
       "avgWinTrade      282.2111\n",
       "avgLossTrade       0.0000\n",
       "profitFactor          inf\n",
       "maxDrawdown        0.0000"
      ]
     },
     "execution_count": 91,
     "metadata": {},
     "output_type": "execute_result"
    }
   ],
   "source": [
    "hold_stats_train = hold_stats(data_manager_train)\n",
    "hold_stats_train"
   ]
  },
  {
   "cell_type": "code",
   "execution_count": 92,
   "metadata": {
    "scrolled": false
   },
   "outputs": [
    {
     "data": {
      "text/html": [
       "<div>\n",
       "<table border=\"1\" class=\"dataframe\">\n",
       "  <thead>\n",
       "    <tr style=\"text-align: right;\">\n",
       "      <th></th>\n",
       "      <th>usdt</th>\n",
       "    </tr>\n",
       "  </thead>\n",
       "  <tbody>\n",
       "    <tr>\n",
       "      <th>startAmount</th>\n",
       "      <td>1,000.0000</td>\n",
       "    </tr>\n",
       "    <tr>\n",
       "      <th>numberOfTrades</th>\n",
       "      <td>68.0000</td>\n",
       "    </tr>\n",
       "    <tr>\n",
       "      <th>totalProfit</th>\n",
       "      <td>115.9605</td>\n",
       "    </tr>\n",
       "    <tr>\n",
       "      <th>avgProfit</th>\n",
       "      <td>1.7053</td>\n",
       "    </tr>\n",
       "    <tr>\n",
       "      <th>winPercentage</th>\n",
       "      <td>47.0588</td>\n",
       "    </tr>\n",
       "    <tr>\n",
       "      <th>avgWinTrade</th>\n",
       "      <td>8.8779</td>\n",
       "    </tr>\n",
       "    <tr>\n",
       "      <th>avgLossTrade</th>\n",
       "      <td>-4.6704</td>\n",
       "    </tr>\n",
       "    <tr>\n",
       "      <th>profitFactor</th>\n",
       "      <td>1.6897</td>\n",
       "    </tr>\n",
       "    <tr>\n",
       "      <th>maxDrawdown</th>\n",
       "      <td>3.3437</td>\n",
       "    </tr>\n",
       "  </tbody>\n",
       "</table>\n",
       "</div>"
      ],
      "text/plain": [
       "                     usdt\n",
       "startAmount    1,000.0000\n",
       "numberOfTrades    68.0000\n",
       "totalProfit      115.9605\n",
       "avgProfit          1.7053\n",
       "winPercentage     47.0588\n",
       "avgWinTrade        8.8779\n",
       "avgLossTrade      -4.6704\n",
       "profitFactor       1.6897\n",
       "maxDrawdown        3.3437"
      ]
     },
     "execution_count": 92,
     "metadata": {},
     "output_type": "execute_result"
    }
   ],
   "source": [
    "data_manager, exchange, strategy = create_train_strategy([0.0005, 0.0001, 0.00015, 4])\n",
    "strategy.trade()\n",
    "r = strategy.stats('usdt').report()\n",
    "r"
   ]
  },
  {
   "cell_type": "code",
   "execution_count": 93,
   "metadata": {},
   "outputs": [
    {
     "data": {
      "text/plain": [
       "(12476, 14)"
      ]
     },
     "execution_count": 93,
     "metadata": {},
     "output_type": "execute_result"
    }
   ],
   "source": [
    "data_train.shape"
   ]
  },
  {
   "cell_type": "code",
   "execution_count": 95,
   "metadata": {
    "scrolled": true
   },
   "outputs": [
    {
     "name": "stdout",
     "output_type": "stream",
     "text": [
      "[0.10993920591046438, 0.8424021950440189, 1e-05, 16], 0.0 4], 0.0, 0.00.0558"
     ]
    },
    {
     "ename": "ValueError",
     "evalue": "",
     "output_type": "error",
     "traceback": [
      "\u001b[1;31m---------------------------------------------------------------------------\u001b[0m",
      "\u001b[1;31mValueError\u001b[0m                                Traceback (most recent call last)",
      "\u001b[1;32m<ipython-input-95-783df2c7c051>\u001b[0m in \u001b[0;36m<module>\u001b[1;34m()\u001b[0m\n\u001b[0;32m     75\u001b[0m                       \u001b[0mbounder\u001b[0m\u001b[1;33m=\u001b[0m\u001b[0mbound_args\u001b[0m\u001b[1;33m,\u001b[0m\u001b[1;33m\u001b[0m\u001b[0m\n\u001b[0;32m     76\u001b[0m                       \u001b[0mmax_evaluations\u001b[0m\u001b[1;33m=\u001b[0m\u001b[1;36m2000\u001b[0m\u001b[1;33m,\u001b[0m\u001b[1;33m\u001b[0m\u001b[0m\n\u001b[1;32m---> 77\u001b[1;33m                       mutation_rate=0.25)\n\u001b[0m\u001b[0;32m     78\u001b[0m \u001b[1;31m# Sort and print the best individual, who will be at index 0.\u001b[0m\u001b[1;33m\u001b[0m\u001b[1;33m\u001b[0m\u001b[0m\n\u001b[0;32m     79\u001b[0m \u001b[0mfinal_pop\u001b[0m\u001b[1;33m.\u001b[0m\u001b[0msort\u001b[0m\u001b[1;33m(\u001b[0m\u001b[0mreverse\u001b[0m\u001b[1;33m=\u001b[0m\u001b[1;32mTrue\u001b[0m\u001b[1;33m)\u001b[0m\u001b[1;33m\u001b[0m\u001b[0m\n",
      "\u001b[1;32m~\\AppData\\Local\\conda\\conda\\envs\\crypto\\lib\\site-packages\\inspyred\\ec\\ec.py\u001b[0m in \u001b[0;36mevolve\u001b[1;34m(self, generator, evaluator, pop_size, seeds, maximize, bounder, **args)\u001b[0m\n\u001b[0;32m    632\u001b[0m                 \u001b[0mc\u001b[0m\u001b[1;33m.\u001b[0m\u001b[0mextend\u001b[0m\u001b[1;33m(\u001b[0m\u001b[1;33m[\u001b[0m\u001b[0mself\u001b[0m\u001b[1;33m.\u001b[0m\u001b[0m_random\u001b[0m\u001b[1;33m.\u001b[0m\u001b[0mrandom\u001b[0m\u001b[1;33m(\u001b[0m\u001b[1;33m)\u001b[0m \u001b[1;32mfor\u001b[0m \u001b[0m_\u001b[0m \u001b[1;32min\u001b[0m \u001b[0mrange\u001b[0m\u001b[1;33m(\u001b[0m\u001b[0mn\u001b[0m\u001b[1;33m)\u001b[0m\u001b[1;33m]\u001b[0m\u001b[1;33m)\u001b[0m\u001b[1;33m\u001b[0m\u001b[0m\n\u001b[0;32m    633\u001b[0m                 \u001b[0mstrategy_seeds\u001b[0m\u001b[1;33m.\u001b[0m\u001b[0mappend\u001b[0m\u001b[1;33m(\u001b[0m\u001b[0mc\u001b[0m\u001b[1;33m)\u001b[0m\u001b[1;33m\u001b[0m\u001b[0m\n\u001b[1;32m--> 634\u001b[1;33m         \u001b[1;32mreturn\u001b[0m \u001b[0mEvolutionaryComputation\u001b[0m\u001b[1;33m.\u001b[0m\u001b[0mevolve\u001b[0m\u001b[1;33m(\u001b[0m\u001b[0mself\u001b[0m\u001b[1;33m,\u001b[0m \u001b[0mgenerator\u001b[0m\u001b[1;33m,\u001b[0m \u001b[0mevaluator\u001b[0m\u001b[1;33m,\u001b[0m \u001b[0mpop_size\u001b[0m\u001b[1;33m,\u001b[0m \u001b[0mstrategy_seeds\u001b[0m\u001b[1;33m,\u001b[0m \u001b[0mmaximize\u001b[0m\u001b[1;33m,\u001b[0m \u001b[0mbounder\u001b[0m\u001b[1;33m,\u001b[0m \u001b[1;33m**\u001b[0m\u001b[0margs\u001b[0m\u001b[1;33m)\u001b[0m\u001b[1;33m\u001b[0m\u001b[0m\n\u001b[0m\u001b[0;32m    635\u001b[0m \u001b[1;33m\u001b[0m\u001b[0m\n\u001b[0;32m    636\u001b[0m \u001b[1;33m\u001b[0m\u001b[0m\n",
      "\u001b[1;32m~\\AppData\\Local\\conda\\conda\\envs\\crypto\\lib\\site-packages\\inspyred\\ec\\ec.py\u001b[0m in \u001b[0;36mevolve\u001b[1;34m(self, generator, evaluator, pop_size, seeds, maximize, bounder, **args)\u001b[0m\n\u001b[0;32m    478\u001b[0m             \u001b[1;31m# Evaluate offspring.\u001b[0m\u001b[1;33m\u001b[0m\u001b[1;33m\u001b[0m\u001b[0m\n\u001b[0;32m    479\u001b[0m             \u001b[0mself\u001b[0m\u001b[1;33m.\u001b[0m\u001b[0mlogger\u001b[0m\u001b[1;33m.\u001b[0m\u001b[0mdebug\u001b[0m\u001b[1;33m(\u001b[0m\u001b[1;34m'evaluation using {0} at generation {1} and evaluation {2}'\u001b[0m\u001b[1;33m.\u001b[0m\u001b[0mformat\u001b[0m\u001b[1;33m(\u001b[0m\u001b[0mevaluator\u001b[0m\u001b[1;33m.\u001b[0m\u001b[0m__name__\u001b[0m\u001b[1;33m,\u001b[0m \u001b[0mself\u001b[0m\u001b[1;33m.\u001b[0m\u001b[0mnum_generations\u001b[0m\u001b[1;33m,\u001b[0m \u001b[0mself\u001b[0m\u001b[1;33m.\u001b[0m\u001b[0mnum_evaluations\u001b[0m\u001b[1;33m)\u001b[0m\u001b[1;33m)\u001b[0m\u001b[1;33m\u001b[0m\u001b[0m\n\u001b[1;32m--> 480\u001b[1;33m             \u001b[0moffspring_fit\u001b[0m \u001b[1;33m=\u001b[0m \u001b[0mevaluator\u001b[0m\u001b[1;33m(\u001b[0m\u001b[0mcandidates\u001b[0m\u001b[1;33m=\u001b[0m\u001b[0moffspring_cs\u001b[0m\u001b[1;33m,\u001b[0m \u001b[0margs\u001b[0m\u001b[1;33m=\u001b[0m\u001b[0mself\u001b[0m\u001b[1;33m.\u001b[0m\u001b[0m_kwargs\u001b[0m\u001b[1;33m)\u001b[0m\u001b[1;33m\u001b[0m\u001b[0m\n\u001b[0m\u001b[0;32m    481\u001b[0m             \u001b[0moffspring\u001b[0m \u001b[1;33m=\u001b[0m \u001b[1;33m[\u001b[0m\u001b[1;33m]\u001b[0m\u001b[1;33m\u001b[0m\u001b[0m\n\u001b[0;32m    482\u001b[0m             \u001b[1;32mfor\u001b[0m \u001b[0mcs\u001b[0m\u001b[1;33m,\u001b[0m \u001b[0mfit\u001b[0m \u001b[1;32min\u001b[0m \u001b[0mzip\u001b[0m\u001b[1;33m(\u001b[0m\u001b[0moffspring_cs\u001b[0m\u001b[1;33m,\u001b[0m \u001b[0moffspring_fit\u001b[0m\u001b[1;33m)\u001b[0m\u001b[1;33m:\u001b[0m\u001b[1;33m\u001b[0m\u001b[0m\n",
      "\u001b[1;32m~\\AppData\\Local\\conda\\conda\\envs\\crypto\\lib\\site-packages\\inspyred\\ec\\ec.py\u001b[0m in \u001b[0;36mevaluator\u001b[1;34m(candidates, args)\u001b[0m\n\u001b[0;32m    617\u001b[0m                 \u001b[0mn\u001b[0m \u001b[1;33m=\u001b[0m \u001b[0mlen\u001b[0m\u001b[1;33m(\u001b[0m\u001b[0mcandidate\u001b[0m\u001b[1;33m)\u001b[0m \u001b[1;33m//\u001b[0m \u001b[1;36m2\u001b[0m\u001b[1;33m\u001b[0m\u001b[0m\n\u001b[0;32m    618\u001b[0m                 \u001b[0mcands\u001b[0m\u001b[1;33m.\u001b[0m\u001b[0mappend\u001b[0m\u001b[1;33m(\u001b[0m\u001b[0mcandidate\u001b[0m\u001b[1;33m[\u001b[0m\u001b[1;33m:\u001b[0m\u001b[0mn\u001b[0m\u001b[1;33m]\u001b[0m\u001b[1;33m)\u001b[0m\u001b[1;33m\u001b[0m\u001b[0m\n\u001b[1;32m--> 619\u001b[1;33m             \u001b[1;32mreturn\u001b[0m \u001b[0mfunc\u001b[0m\u001b[1;33m(\u001b[0m\u001b[0mcands\u001b[0m\u001b[1;33m,\u001b[0m \u001b[0margs\u001b[0m\u001b[1;33m)\u001b[0m\u001b[1;33m\u001b[0m\u001b[0m\n\u001b[0m\u001b[0;32m    620\u001b[0m         \u001b[1;32mreturn\u001b[0m \u001b[0mevaluator\u001b[0m\u001b[1;33m\u001b[0m\u001b[0m\n\u001b[0;32m    621\u001b[0m \u001b[1;33m\u001b[0m\u001b[0m\n",
      "\u001b[1;32m<ipython-input-95-783df2c7c051>\u001b[0m in \u001b[0;36mevaluate_rastrigin\u001b[1;34m(candidates, args)\u001b[0m\n\u001b[0;32m     40\u001b[0m     \u001b[0mfitness\u001b[0m \u001b[1;33m=\u001b[0m \u001b[1;33m[\u001b[0m\u001b[1;33m]\u001b[0m\u001b[1;33m\u001b[0m\u001b[0m\n\u001b[0;32m     41\u001b[0m     \u001b[1;32mfor\u001b[0m \u001b[0mcs\u001b[0m \u001b[1;32min\u001b[0m \u001b[0mcandidates\u001b[0m\u001b[1;33m:\u001b[0m\u001b[1;33m\u001b[0m\u001b[0m\n\u001b[1;32m---> 42\u001b[1;33m         \u001b[0mfit\u001b[0m \u001b[1;33m=\u001b[0m \u001b[0mf\u001b[0m\u001b[1;33m(\u001b[0m\u001b[0mcs\u001b[0m\u001b[1;33m)\u001b[0m\u001b[1;33m\u001b[0m\u001b[0m\n\u001b[0m\u001b[0;32m     43\u001b[0m         \u001b[0mfitness\u001b[0m\u001b[1;33m.\u001b[0m\u001b[0mappend\u001b[0m\u001b[1;33m(\u001b[0m\u001b[0mfit\u001b[0m\u001b[1;33m)\u001b[0m\u001b[1;33m\u001b[0m\u001b[0m\n\u001b[0;32m     44\u001b[0m     \u001b[1;32mreturn\u001b[0m \u001b[0mfitness\u001b[0m\u001b[1;33m\u001b[0m\u001b[0m\n",
      "\u001b[1;32m<ipython-input-95-783df2c7c051>\u001b[0m in \u001b[0;36mf\u001b[1;34m(x)\u001b[0m\n\u001b[0;32m     57\u001b[0m \u001b[1;32mdef\u001b[0m \u001b[0mf\u001b[0m\u001b[1;33m(\u001b[0m\u001b[0mx\u001b[0m\u001b[1;33m)\u001b[0m\u001b[1;33m:\u001b[0m\u001b[1;33m\u001b[0m\u001b[0m\n\u001b[0;32m     58\u001b[0m     \u001b[0mdata_manager\u001b[0m\u001b[1;33m,\u001b[0m \u001b[0mexchange\u001b[0m\u001b[1;33m,\u001b[0m \u001b[0mstrategy\u001b[0m \u001b[1;33m=\u001b[0m \u001b[0mcreate_train_strategy\u001b[0m\u001b[1;33m(\u001b[0m\u001b[0mx\u001b[0m\u001b[1;33m)\u001b[0m\u001b[1;33m\u001b[0m\u001b[0m\n\u001b[1;32m---> 59\u001b[1;33m     \u001b[0mstrategy\u001b[0m\u001b[1;33m.\u001b[0m\u001b[0mtrade\u001b[0m\u001b[1;33m(\u001b[0m\u001b[1;33m)\u001b[0m\u001b[1;33m\u001b[0m\u001b[0m\n\u001b[0m\u001b[0;32m     60\u001b[0m     \u001b[0mr\u001b[0m \u001b[1;33m=\u001b[0m \u001b[0mstrategy\u001b[0m\u001b[1;33m.\u001b[0m\u001b[0mstats\u001b[0m\u001b[1;33m(\u001b[0m\u001b[1;34m'usdt'\u001b[0m\u001b[1;33m)\u001b[0m\u001b[1;33m.\u001b[0m\u001b[0mreport\u001b[0m\u001b[1;33m(\u001b[0m\u001b[1;33m)\u001b[0m\u001b[1;33m\u001b[0m\u001b[0m\n\u001b[0;32m     61\u001b[0m     \u001b[0moptimization_value\u001b[0m \u001b[1;33m=\u001b[0m \u001b[0moptim_val\u001b[0m\u001b[1;33m(\u001b[0m\u001b[0mr\u001b[0m\u001b[1;33m,\u001b[0m \u001b[0mhold_stats_train\u001b[0m\u001b[1;33m)\u001b[0m\u001b[1;33m\u001b[0m\u001b[0m\n",
      "\u001b[1;32m<ipython-input-88-ff3bedd83506>\u001b[0m in \u001b[0;36mtrade\u001b[1;34m(self)\u001b[0m\n\u001b[0;32m     60\u001b[0m \u001b[1;33m\u001b[0m\u001b[0m\n\u001b[0;32m     61\u001b[0m             \u001b[1;32mif\u001b[0m \u001b[1;32mnot\u001b[0m \u001b[0mself\u001b[0m\u001b[1;33m.\u001b[0m\u001b[0mopened\u001b[0m \u001b[1;32mand\u001b[0m \u001b[0mself\u001b[0m\u001b[1;33m.\u001b[0m\u001b[0mshould_buy\u001b[0m\u001b[1;33m(\u001b[0m\u001b[0mred\u001b[0m\u001b[1;33m,\u001b[0m \u001b[0myellow\u001b[0m\u001b[1;33m,\u001b[0m \u001b[0mgreen\u001b[0m\u001b[1;33m,\u001b[0m \u001b[0mblue\u001b[0m\u001b[1;33m)\u001b[0m\u001b[1;33m:\u001b[0m\u001b[1;33m\u001b[0m\u001b[0m\n\u001b[1;32m---> 62\u001b[1;33m                 \u001b[0mself\u001b[0m\u001b[1;33m.\u001b[0m\u001b[0mbuy\u001b[0m\u001b[1;33m(\u001b[0m\u001b[0mprice\u001b[0m\u001b[1;33m)\u001b[0m\u001b[1;33m\u001b[0m\u001b[0m\n\u001b[0m\u001b[0;32m     63\u001b[0m                 \u001b[0mprice_bought\u001b[0m \u001b[1;33m=\u001b[0m \u001b[0mprice\u001b[0m\u001b[1;33m\u001b[0m\u001b[0m\n\u001b[0;32m     64\u001b[0m             \u001b[1;32melif\u001b[0m \u001b[0mself\u001b[0m\u001b[1;33m.\u001b[0m\u001b[0mopened\u001b[0m \u001b[1;32mand\u001b[0m \u001b[0mself\u001b[0m\u001b[1;33m.\u001b[0m\u001b[0mis_risky\u001b[0m\u001b[1;33m(\u001b[0m\u001b[0mprice_bought\u001b[0m\u001b[1;33m,\u001b[0m \u001b[0mprice\u001b[0m\u001b[1;33m)\u001b[0m\u001b[1;33m:\u001b[0m\u001b[1;33m\u001b[0m\u001b[0m\n",
      "\u001b[1;32mD:\\GitProjects\\krypl-project\\modeling\\strategy.py\u001b[0m in \u001b[0;36mbuy\u001b[1;34m(self, price)\u001b[0m\n\u001b[0;32m     29\u001b[0m     \u001b[1;32mdef\u001b[0m \u001b[0mbuy\u001b[0m\u001b[1;33m(\u001b[0m\u001b[0mself\u001b[0m\u001b[1;33m,\u001b[0m \u001b[0mprice\u001b[0m\u001b[1;33m)\u001b[0m\u001b[1;33m:\u001b[0m\u001b[1;33m\u001b[0m\u001b[0m\n\u001b[0;32m     30\u001b[0m         \u001b[0mamount\u001b[0m \u001b[1;33m=\u001b[0m \u001b[0mself\u001b[0m\u001b[1;33m.\u001b[0m\u001b[0mtrade_size\u001b[0m \u001b[1;33m/\u001b[0m \u001b[0mprice\u001b[0m\u001b[1;33m\u001b[0m\u001b[0m\n\u001b[1;32m---> 31\u001b[1;33m         \u001b[0mself\u001b[0m\u001b[1;33m.\u001b[0m\u001b[0mexchange\u001b[0m\u001b[1;33m.\u001b[0m\u001b[0mbuy\u001b[0m\u001b[1;33m(\u001b[0m\u001b[0mself\u001b[0m\u001b[1;33m.\u001b[0m\u001b[0mcontract_pair\u001b[0m\u001b[1;33m,\u001b[0m \u001b[0mamount\u001b[0m\u001b[1;33m,\u001b[0m \u001b[0mprice\u001b[0m\u001b[1;33m)\u001b[0m\u001b[1;33m\u001b[0m\u001b[0m\n\u001b[0m\u001b[0;32m     32\u001b[0m         \u001b[0mself\u001b[0m\u001b[1;33m.\u001b[0m\u001b[0mopened\u001b[0m \u001b[1;33m=\u001b[0m \u001b[1;32mTrue\u001b[0m\u001b[1;33m\u001b[0m\u001b[0m\n\u001b[0;32m     33\u001b[0m \u001b[1;33m\u001b[0m\u001b[0m\n",
      "\u001b[1;32mD:\\GitProjects\\krypl-project\\trading\\exchange.py\u001b[0m in \u001b[0;36mbuy\u001b[1;34m(self, pair, amount, price)\u001b[0m\n\u001b[0;32m     24\u001b[0m         \u001b[0mtransaction\u001b[0m \u001b[1;33m=\u001b[0m \u001b[0mTransaction\u001b[0m\u001b[1;33m.\u001b[0m\u001b[0mbuy\u001b[0m\u001b[1;33m(\u001b[0m\u001b[0mpair\u001b[0m\u001b[1;33m,\u001b[0m \u001b[0mself\u001b[0m\u001b[1;33m.\u001b[0m\u001b[0mtime_server\u001b[0m\u001b[1;33m.\u001b[0m\u001b[0mtime\u001b[0m\u001b[1;33m,\u001b[0m \u001b[0mamount\u001b[0m\u001b[1;33m,\u001b[0m \u001b[0mprice\u001b[0m\u001b[1;33m,\u001b[0m \u001b[0mself\u001b[0m\u001b[1;33m.\u001b[0m\u001b[0m_absolute_fee\u001b[0m\u001b[1;33m(\u001b[0m\u001b[0mamount\u001b[0m\u001b[1;33m,\u001b[0m \u001b[0mprice\u001b[0m\u001b[1;33m)\u001b[0m\u001b[1;33m)\u001b[0m\u001b[1;33m\u001b[0m\u001b[0m\n\u001b[0;32m     25\u001b[0m         \u001b[0msubtracted\u001b[0m \u001b[1;33m=\u001b[0m \u001b[0mContract\u001b[0m\u001b[1;33m.\u001b[0m\u001b[0madd\u001b[0m\u001b[1;33m(\u001b[0m\u001b[0mTransaction\u001b[0m\u001b[1;33m.\u001b[0m\u001b[0msubtracted_contract\u001b[0m\u001b[1;33m(\u001b[0m\u001b[0mtransaction\u001b[0m\u001b[1;33m)\u001b[0m\u001b[1;33m,\u001b[0m \u001b[0mtransaction\u001b[0m\u001b[1;33m[\u001b[0m\u001b[1;34m'fee'\u001b[0m\u001b[1;33m]\u001b[0m\u001b[1;33m)\u001b[0m\u001b[1;33m\u001b[0m\u001b[0m\n\u001b[1;32m---> 26\u001b[1;33m         \u001b[0mself\u001b[0m\u001b[1;33m.\u001b[0m\u001b[0m_assert_enough_in_wallet\u001b[0m\u001b[1;33m(\u001b[0m\u001b[0msubtracted\u001b[0m\u001b[1;33m)\u001b[0m\u001b[1;33m\u001b[0m\u001b[0m\n\u001b[0m\u001b[0;32m     27\u001b[0m \u001b[1;33m\u001b[0m\u001b[0m\n\u001b[0;32m     28\u001b[0m         \u001b[0mself\u001b[0m\u001b[1;33m.\u001b[0m\u001b[0mtransactions\u001b[0m\u001b[1;33m.\u001b[0m\u001b[0mappend\u001b[0m\u001b[1;33m(\u001b[0m\u001b[0mtransaction\u001b[0m\u001b[1;33m)\u001b[0m\u001b[1;33m\u001b[0m\u001b[0m\n",
      "\u001b[1;32mD:\\GitProjects\\krypl-project\\trading\\exchange.py\u001b[0m in \u001b[0;36m_assert_enough_in_wallet\u001b[1;34m(self, contract)\u001b[0m\n\u001b[0;32m     57\u001b[0m         \u001b[0mname\u001b[0m\u001b[1;33m,\u001b[0m \u001b[0mvalue\u001b[0m \u001b[1;33m=\u001b[0m \u001b[0mcontract\u001b[0m\u001b[1;33m\u001b[0m\u001b[0m\n\u001b[0;32m     58\u001b[0m         \u001b[1;32mif\u001b[0m \u001b[0mself\u001b[0m\u001b[1;33m.\u001b[0m\u001b[0mbalance\u001b[0m\u001b[1;33m(\u001b[0m\u001b[0mname\u001b[0m\u001b[1;33m)\u001b[0m \u001b[1;33m<\u001b[0m \u001b[0mvalue\u001b[0m\u001b[1;33m:\u001b[0m\u001b[1;33m\u001b[0m\u001b[0m\n\u001b[1;32m---> 59\u001b[1;33m             \u001b[1;32mraise\u001b[0m \u001b[0mValueError\u001b[0m\u001b[1;33m(\u001b[0m\u001b[1;33m)\u001b[0m\u001b[1;33m\u001b[0m\u001b[0m\n\u001b[0m",
      "\u001b[1;31mValueError\u001b[0m: "
     ]
    }
   ],
   "source": [
    "from random import Random\n",
    "from time import time\n",
    "from math import cos\n",
    "from math import pi\n",
    "from inspyred import ec\n",
    "from inspyred.ec import terminators\n",
    "\n",
    "MIN_FLOAT = 1 / 10**5\n",
    "MAX_FLOAT = 1-MIN_FLOAT\n",
    "\n",
    "def random_args_part(random):\n",
    "    l = [random.randint(0, len(ORDERS)-1)]\n",
    "    l += [random.uniform(MIN_FLOAT, MAX_FLOAT) for _ in range(3)]\n",
    "    return l\n",
    "\n",
    "\n",
    "def generate_rastrigin(random, args):\n",
    "    return [random.uniform(MIN_FLOAT, MAX_FLOAT) for _ in range(3)] + [random.randint(0, len(ORDERS)-1)]\n",
    "\n",
    "\n",
    "def bound_args(candidate, args):\n",
    "    for i in range(3):#[1, 2, 3, 5, 6, 7]:\n",
    "        candidate[i] = max(min(candidate[i], MAX_FLOAT), MIN_FLOAT)\n",
    "    \n",
    "    candidate[3] = int(max(min(candidate[3], len(ORDERS)-1), 0))\n",
    "    \n",
    "    return candidate    \n",
    "\n",
    "def evaluate_rastrigin(candidates, args):\n",
    "    fitness = []\n",
    "    for cs in candidates:\n",
    "        fit = f(cs)\n",
    "        fitness.append(fit)\n",
    "    return fitness\n",
    "\n",
    "\n",
    "from scipy.optimize import minimize, brute\n",
    "import sys\n",
    "from math import log10\n",
    "\n",
    "def optim_val(stats, hold_stats):\n",
    "    profit = stats.loc['totalProfit', 'usdt']\n",
    "    trades = stats.loc['numberOfTrades', 'usdt']\n",
    "    val = profit * trades\n",
    "    return val\n",
    "\n",
    "def f(x):\n",
    "    data_manager, exchange, strategy = create_train_strategy(x)\n",
    "    strategy.trade()\n",
    "    r = strategy.stats('usdt').report()\n",
    "    optimization_value = optim_val(r, hold_stats_train)\n",
    "    sys.stdout.write(f\"\\r{x}, {optimization_value}\")\n",
    "    sys.stdout.flush()\n",
    "    return optimization_value\n",
    "\n",
    "\n",
    "rand = Random()\n",
    "rand.seed(int(time()))\n",
    "es = ec.ES(rand)\n",
    "es.terminator = terminators.evaluation_termination\n",
    "final_pop = es.evolve(generator=generate_rastrigin,\n",
    "                      evaluator=evaluate_rastrigin,\n",
    "                      pop_size=100,\n",
    "                      maximize=True,\n",
    "                      bounder=bound_args,\n",
    "                      max_evaluations=2000,\n",
    "                      mutation_rate=0.25)\n",
    "# Sort and print the best individual, who will be at index 0.\n",
    "final_pop.sort(reverse=True)\n",
    "print(final_pop[0])"
   ]
  },
  {
   "cell_type": "code",
   "execution_count": null,
   "metadata": {},
   "outputs": [],
   "source": [
    "final_pop[-1]"
   ]
  },
  {
   "cell_type": "code",
   "execution_count": null,
   "metadata": {},
   "outputs": [],
   "source": [
    "data_manager, exchange, strategy = create_train_strategy(final_pop[-1].candidate)\n",
    "strategy.trade()\n",
    "r = strategy.stats('usdt').report()\n",
    "print(optim_val(r, hold_stats_train))\n",
    "r"
   ]
  },
  {
   "cell_type": "code",
   "execution_count": null,
   "metadata": {
    "collapsed": true
   },
   "outputs": [],
   "source": []
  },
  {
   "cell_type": "markdown",
   "metadata": {},
   "source": [
    "# Look on transactions"
   ]
  },
  {
   "cell_type": "code",
   "execution_count": null,
   "metadata": {},
   "outputs": [],
   "source": [
    "len(strategy.exchange.transactions)"
   ]
  },
  {
   "cell_type": "code",
   "execution_count": null,
   "metadata": {
    "scrolled": false
   },
   "outputs": [],
   "source": [
    "%matplotlib notebook\n",
    "plot_transactions(ohlc_train, strategy.exchange.transactions[:])\n",
    "\n",
    "for c in ['red', 'yellow', 'green', 'blue']:\n",
    "    plt.plot(range(ohlc_train.shape[0]), ohlc_train[c], c=c)"
   ]
  },
  {
   "cell_type": "markdown",
   "metadata": {},
   "source": [
    "# Evaluate"
   ]
  },
  {
   "cell_type": "code",
   "execution_count": null,
   "metadata": {
    "collapsed": true
   },
   "outputs": [],
   "source": [
    "def create_test_strategy(param_array):\n",
    "    return create_strategy(data_manager_test, param_array)"
   ]
  },
  {
   "cell_type": "code",
   "execution_count": null,
   "metadata": {},
   "outputs": [],
   "source": [
    "data_manager, exchange, strategy = create_test_strategy(best_params['x'])\n",
    "strategy.trade()\n",
    "strategy.stats('usdt').report()"
   ]
  },
  {
   "cell_type": "code",
   "execution_count": null,
   "metadata": {},
   "outputs": [],
   "source": [
    "plot_transactions(ohlc_test, strategy.exchange.transactions[:])\n",
    "\n",
    "for c in ['red', 'yellow', 'green', 'blue']:\n",
    "    plt.plot(range(ohlc_test.shape[0]), ohlc_test[c], c=c)"
   ]
  },
  {
   "cell_type": "code",
   "execution_count": null,
   "metadata": {
    "collapsed": true
   },
   "outputs": [],
   "source": []
  }
 ],
 "metadata": {
  "kernelspec": {
   "display_name": "Python 3",
   "language": "python",
   "name": "python3"
  },
  "language_info": {
   "codemirror_mode": {
    "name": "ipython",
    "version": 3
   },
   "file_extension": ".py",
   "mimetype": "text/x-python",
   "name": "python",
   "nbconvert_exporter": "python",
   "pygments_lexer": "ipython3",
   "version": "3.6.2"
  }
 },
 "nbformat": 4,
 "nbformat_minor": 2
}
