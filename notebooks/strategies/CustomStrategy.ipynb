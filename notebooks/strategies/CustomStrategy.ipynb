{
 "cells": [
  {
   "cell_type": "code",
   "execution_count": 2,
   "metadata": {
    "collapsed": false
   },
   "outputs": [],
   "source": [
    "%run ../utils/commonImports.py\n",
    "%run ../utils/tradingImports.py\n",
    "%matplotlib inline"
   ]
  },
  {
   "cell_type": "markdown",
   "metadata": {
    "collapsed": true
   },
   "source": [
    "# Load Data"
   ]
  },
  {
   "cell_type": "code",
   "execution_count": 3,
   "metadata": {
    "collapsed": true
   },
   "outputs": [],
   "source": [
    "def calculate_EMA(history, col, time_period):\n",
    "    return calculateTalib('EMA', {col: history[col].values}, {'timeperiod': time_period})\n",
    "\n",
    "\n",
    "def add_EMA(df):\n",
    "    df['blue'] = calculate_EMA(df, 'close', 8)\n",
    "    df['green'] = calculate_EMA(df, 'close', 13)\n",
    "    df['yellow'] = calculate_EMA(df, 'close', 21)\n",
    "    df['red'] = calculate_EMA(df, 'close', 55)\n",
    "    return df"
   ]
  },
  {
   "cell_type": "code",
   "execution_count": 4,
   "metadata": {
    "collapsed": false
   },
   "outputs": [],
   "source": [
    "def load_and_divide(db, table, from_date=None, to_date=None, train_ratio=0.7):\n",
    "    data = load_trading_data(db, table, from_date, to_date)\n",
    "    data = add_EMA(data)\n",
    "    data_train, data_test = divide_train_and_test(data, train_ratio)\n",
    "    return data, data_train, data_test\n",
    "\n",
    "\n",
    "db = 'D:\\\\Dropbox\\\\My work\\\\krypl-project\\\\sqlite\\\\ploniex-chart-data\\\\USDT_BTC.db'\n",
    "data, data_train, data_test = load_and_divide(db, 'chart_data', from_date='2017-01-01')\n",
    "ohlc, ohlc_train, ohlc_test = data.copy(), data_train.copy(), data_test.copy()\n",
    "\n",
    "\n",
    "features = ['red', 'yellow', 'green', 'blue']\n",
    "data_manager_train = CurrencyDataManager(data_train['close'], data_train[features])\n",
    "data_manager_test = CurrencyDataManager(data_test['close'], data_test[features])\n",
    "wallet = {'usdt': 1000}\n",
    "contract_pair = ContractPair.new('usdt', 'btc')"
   ]
  },
  {
   "cell_type": "markdown",
   "metadata": {},
   "source": [
    "# Explore"
   ]
  },
  {
   "cell_type": "code",
   "execution_count": null,
   "metadata": {
    "collapsed": true
   },
   "outputs": [],
   "source": [
    "correct_pattern = ohlc_train.query(\"red < yellow < green < blue\").copy()"
   ]
  },
  {
   "cell_type": "code",
   "execution_count": null,
   "metadata": {
    "collapsed": false
   },
   "outputs": [],
   "source": [
    "correct_pattern.shape"
   ]
  },
  {
   "cell_type": "code",
   "execution_count": null,
   "metadata": {
    "collapsed": false
   },
   "outputs": [],
   "source": [
    "def ratio(df, c1, c2):\n",
    "    return (df[c1] / df[c2]) - 1\n",
    "\n",
    "\n",
    "def distplot(df, col, x_max):\n",
    "    plt.figure(figsize=[12, 6])\n",
    "    plt.title(col, fontproperties=title_font)\n",
    "    sns.distplot(df[col])\n",
    "    plt.xlim([0, x_max])\n",
    "\n",
    "correct_pattern['ratioRY'] = ratio(correct_pattern, 'yellow', 'red')\n",
    "correct_pattern['ratioYG'] = ratio(correct_pattern, 'green', 'yellow')\n",
    "correct_pattern['ratioGB'] = ratio(correct_pattern, 'blue', 'green')"
   ]
  },
  {
   "cell_type": "code",
   "execution_count": null,
   "metadata": {
    "collapsed": false
   },
   "outputs": [],
   "source": [
    "distplot(correct_pattern, 'ratioRY', 0.015)\n",
    "distplot(correct_pattern, 'ratioYG', 0.005)\n",
    "distplot(correct_pattern, 'ratioGB', 0.005)"
   ]
  },
  {
   "cell_type": "markdown",
   "metadata": {},
   "source": [
    "# Implementation"
   ]
  },
  {
   "cell_type": "code",
   "execution_count": null,
   "metadata": {
    "collapsed": false
   },
   "outputs": [],
   "source": [
    "from modeling.strategy import Strategy\n",
    "\n",
    "\n",
    "class CustomStrategy(Strategy):\n",
    "    def __init__(self, exchange, data_manager, contract_pair, trade_size, willing_loss, target_profit,\n",
    "                threshold_ry, threshold_yg, threshold_gb):\n",
    "        super().__init__(exchange, data_manager, contract_pair, trade_size, willing_loss, target_profit)\n",
    "        self.history_len = 1\n",
    "        self.threshold_ry = threshold_ry\n",
    "        self.threshold_yg = threshold_yg\n",
    "        self.threshold_gb = threshold_gb\n",
    "    \n",
    "    def has_correct_order(self, red, yellow, green, blue):\n",
    "        def ratio(x, y):\n",
    "            return (x / y) - 1\n",
    "        \n",
    "        return ratio(yellow, red) >= self.threshold_ry \\\n",
    "            and ratio(green, yellow) >= self.threshold_yg \\\n",
    "            and ratio(blue, green) >= self.threshold_gb \\\n",
    "    \n",
    "    @staticmethod\n",
    "    def is_pattern_destroyed(red, yellow, green, blue):\n",
    "        return (red > yellow) or (red > green) or (red > blue)\n",
    "    \n",
    "    def trade(self):\n",
    "        \n",
    "        in_row = 0\n",
    "        after_sell = False\n",
    "        while self.data_manager.has_tick():            \n",
    "            history, price = self.data_manager.tick(self.history_len)\n",
    "            \n",
    "            if history.shape[0] == 0:\n",
    "                continue\n",
    "            \n",
    "            red, yellow, green, blue = history[0]\n",
    "            if np.isnan(red):\n",
    "                continue\n",
    "\n",
    "            if self.has_correct_order(red, yellow, green, blue):\n",
    "                in_row += 1\n",
    "            else:\n",
    "                in_row = 0\n",
    "                after_sell = False\n",
    "            \n",
    "            if not self.opened and not after_sell and in_row > 1:\n",
    "                self.buy(price)\n",
    "                price_bought = price\n",
    "            elif self.opened and self.is_risky(price_bought, price):\n",
    "                self.sell_all(price)\n",
    "                after_sell = True\n",
    "            elif self.opened and self.is_target_satisfied(price_bought, price):\n",
    "                self.sell_all(price)\n",
    "                after_sell = True\n",
    "            elif self.opened and self.is_pattern_destroyed(red, yellow, green, blue):\n",
    "                self.sell_all(price)\n",
    "                after_sell = True\n",
    "        \n",
    "        if self.opened:\n",
    "            self.sell_all(price)\n"
   ]
  },
  {
   "cell_type": "markdown",
   "metadata": {},
   "source": [
    "# Learning"
   ]
  },
  {
   "cell_type": "code",
   "execution_count": null,
   "metadata": {
    "collapsed": true
   },
   "outputs": [],
   "source": [
    "def create_train_strategy(threshold_ry, threshold_yg, threshold_gb):\n",
    "    data_manager = deepcopy(data_manager_train)\n",
    "    exchange = BackTestExchange(data_manager, deepcopy(wallet), 0.0025)\n",
    "    strategy = CustomStrategy(exchange, data_manager, contract_pair, 100, willing_loss=0.5, target_profit=0.05,\n",
    "                             threshold_ry=threshold_ry, threshold_yg=threshold_yg, threshold_gb=threshold_gb)\n",
    "    return data_manager, exchange, strategy"
   ]
  },
  {
   "cell_type": "code",
   "execution_count": null,
   "metadata": {
    "collapsed": false,
    "scrolled": false
   },
   "outputs": [],
   "source": [
    "data_manager, exchange, strategy = create_train_strategy(0.005, 0.001, 0.0015)\n",
    "strategy.trade()\n",
    "strategy.stats('usdt').report()"
   ]
  },
  {
   "cell_type": "markdown",
   "metadata": {},
   "source": [
    "## Learn Thresholds"
   ]
  },
  {
   "cell_type": "code",
   "execution_count": null,
   "metadata": {
    "collapsed": false
   },
   "outputs": [],
   "source": [
    "s['totalProfit']"
   ]
  },
  {
   "cell_type": "code",
   "execution_count": null,
   "metadata": {
    "collapsed": false
   },
   "outputs": [],
   "source": [
    "import timeit\n",
    "\n",
    "\n",
    "def stats_row(strategy, ry, yg, gb):\n",
    "    stats = strategy.stats('usdt').report()\n",
    "    stats = stats.transpose()\n",
    "    stats['threshold_ry'] = ry\n",
    "    stats['threshold_yg'] = yg\n",
    "    stats['threshold_gb'] = gb\n",
    "    return stats.reset_index().drop('index', axis=1) \n",
    "\n",
    "def optimize(rys, ygs, gbs):\n",
    "    stats = pd.DataFrame()\n",
    "    for ry in rys:\n",
    "        for yg in ygs:\n",
    "            for gb in gbs:\n",
    "                print('ry = ', ry, 'yg = ', yg, 'gb = ', gb, end='\\t')\n",
    "                start = timeit.timeit()\n",
    "                data_manager, exchange, strategy = create_train_strategy(ry, yg, gb)\n",
    "                strategy.trade()\n",
    "                row_stats = stats_row(strategy, ry, yg, gb)\n",
    "                stats = stats.append(row_stats)\n",
    "                profit = row_stats['totalProfit'].iloc[0]\n",
    "                end = timeit.timeit()\n",
    "                print('profit = %.2f' % profit,'%.3fs' % (start-end))\n",
    "    \n",
    "    return stats.reset_index().drop('index', axis=1)"
   ]
  },
  {
   "cell_type": "code",
   "execution_count": null,
   "metadata": {
    "collapsed": false,
    "scrolled": true
   },
   "outputs": [],
   "source": [
    "stats = optimize([i / 10**4 for i in range(1, 11)], \n",
    "         [i / 10**4 for i in range(1, 11)], \n",
    "         [i / 10**4 for i in range(1, 11)])\n",
    "write_tsv(stats, \"custom-results.tsv\")"
   ]
  },
  {
   "cell_type": "code",
   "execution_count": null,
   "metadata": {
    "collapsed": false
   },
   "outputs": [],
   "source": [
    "stats.head()"
   ]
  },
  {
   "cell_type": "markdown",
   "metadata": {},
   "source": [
    "# Look on transactions"
   ]
  },
  {
   "cell_type": "code",
   "execution_count": null,
   "metadata": {
    "collapsed": false
   },
   "outputs": [],
   "source": [
    "len(strategy.exchange.transactions)"
   ]
  },
  {
   "cell_type": "code",
   "execution_count": null,
   "metadata": {
    "collapsed": true
   },
   "outputs": [],
   "source": [
    "winningTransactions = []\n",
    "for i in range(int(len(strategy.exchange.transactions) / 2)):\n",
    "    t1, t2 = strategy.exchange.transactions[i:i+2]\n",
    "    if t1['amount'] < t2['amount']:\n",
    "        winningTransactions += [t1, t2]"
   ]
  },
  {
   "cell_type": "code",
   "execution_count": null,
   "metadata": {
    "collapsed": false
   },
   "outputs": [],
   "source": [
    "len(winningTransactions)"
   ]
  },
  {
   "cell_type": "code",
   "execution_count": null,
   "metadata": {
    "collapsed": false
   },
   "outputs": [],
   "source": [
    "strategy.exchange.transactions[2:4]"
   ]
  },
  {
   "cell_type": "code",
   "execution_count": null,
   "metadata": {
    "collapsed": true
   },
   "outputs": [],
   "source": []
  },
  {
   "cell_type": "code",
   "execution_count": null,
   "metadata": {
    "collapsed": false,
    "scrolled": false
   },
   "outputs": [],
   "source": [
    "%matplotlib notebook\n",
    "plot_transactions(ohlc_train, strategy.exchange.transactions[:])\n",
    "\n",
    "for c in ['red', 'yellow', 'green', 'blue']:\n",
    "    plt.plot(range(ohlc_train.shape[0]), ohlc_train[c], c=c)"
   ]
  },
  {
   "cell_type": "code",
   "execution_count": null,
   "metadata": {
    "collapsed": true,
    "scrolled": false
   },
   "outputs": [],
   "source": [
    "t = 70\n",
    "\n",
    "transaction = strategy.exchange.transactions[t]\n",
    "plotTransactionWithSurroundings(ohlc_train, strategy.historyLen, transaction)\n",
    "transaction = strategy.exchange.transactions[t+1]\n",
    "plotTransactionWithSurroundings(ohlc_train, strategy.historyLen, transaction)"
   ]
  },
  {
   "cell_type": "code",
   "execution_count": null,
   "metadata": {
    "collapsed": true
   },
   "outputs": [],
   "source": [
    "transaction"
   ]
  },
  {
   "cell_type": "markdown",
   "metadata": {},
   "source": [
    "# Evaluate"
   ]
  },
  {
   "cell_type": "code",
   "execution_count": null,
   "metadata": {
    "collapsed": true
   },
   "outputs": [],
   "source": [
    "allStats = pd.read_csv('D:\\\\Dropbox\\\\My work\\\\krypl-project\\\\result\\\\customStrategy.tsv',sep='\\t')"
   ]
  },
  {
   "cell_type": "code",
   "execution_count": null,
   "metadata": {
    "collapsed": true,
    "scrolled": true
   },
   "outputs": [],
   "source": [
    "allStats.query('totalProfit > 90 and winPercentage > 70').sort_values('numberOfTrades', ascending=False)"
   ]
  },
  {
   "cell_type": "code",
   "execution_count": null,
   "metadata": {
    "collapsed": true,
    "scrolled": true
   },
   "outputs": [],
   "source": [
    "allStats.sort_values('totalProfit', ascending=False).query('willingLoss < 0.1').query('winPercentage > 50')"
   ]
  },
  {
   "cell_type": "code",
   "execution_count": null,
   "metadata": {
    "collapsed": false
   },
   "outputs": [],
   "source": [
    "dataManager = deepcopy(data_test)\n",
    "exchange = BackTestExchange(dataManager, deepcopy(wallet), 0.0025)\n",
    "strategy = CustomStrategy(exchange, dataManager, 2016, contract_pair, 100, willingLoss=0.05,\n",
    "                          distanceFromMaxThreshold1=0.06, distanceFromMaxThreshold2=0.03, targetProfit=0.01)\n",
    "strategy.trade()\n",
    "strategy.stats('usdt').report()"
   ]
  },
  {
   "cell_type": "code",
   "execution_count": null,
   "metadata": {
    "collapsed": true
   },
   "outputs": [],
   "source": []
  }
 ],
 "metadata": {
  "kernelspec": {
   "display_name": "Python 3.6 (crypto36)",
   "language": "python",
   "name": "crypto36"
  },
  "language_info": {
   "codemirror_mode": {
    "name": "ipython",
    "version": 3
   },
   "file_extension": ".py",
   "mimetype": "text/x-python",
   "name": "python",
   "nbconvert_exporter": "python",
   "pygments_lexer": "ipython3",
   "version": "3.6.5"
  }
 },
 "nbformat": 4,
 "nbformat_minor": 2
}
