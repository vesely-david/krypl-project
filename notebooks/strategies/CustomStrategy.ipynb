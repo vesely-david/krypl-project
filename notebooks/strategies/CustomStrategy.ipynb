{
 "cells": [
  {
   "cell_type": "code",
   "execution_count": 2,
   "metadata": {
    "collapsed": false
   },
   "outputs": [],
   "source": [
    "%run ../utils/commonImports.py\n",
    "%run ../utils/tradingImports.py\n",
    "%matplotlib inline"
   ]
  },
  {
   "cell_type": "markdown",
   "metadata": {
    "collapsed": true
   },
   "source": [
    "# Load Data"
   ]
  },
  {
   "cell_type": "code",
   "execution_count": 3,
   "metadata": {
    "collapsed": true
   },
   "outputs": [],
   "source": [
    "def calculate_EMA(history, col, time_period):\n",
    "    return calculateTalib('EMA', {col: history[col].values}, {'timeperiod': time_period})\n",
    "\n",
    "\n",
    "def add_EMA(df):\n",
    "    df['blue'] = calculate_EMA(df, 'close', 8)\n",
    "    df['green'] = calculate_EMA(df, 'close', 13)\n",
    "    df['yellow'] = calculate_EMA(df, 'close', 21)\n",
    "    df['red'] = calculate_EMA(df, 'close', 55)\n",
    "    return df"
   ]
  },
  {
   "cell_type": "code",
   "execution_count": 4,
   "metadata": {
    "collapsed": true
   },
   "outputs": [],
   "source": [
    "def load_and_divide(db, table, from_date=None, to_date=None, train_ratio=0.5):\n",
    "    data = load_trading_data(db, table, from_date, to_date)\n",
    "    data = add_EMA(data)\n",
    "    data_train, data_test = divide_train_and_test(data, train_ratio)\n",
    "    return data, data_train, data_test\n",
    "\n",
    "\n",
    "db = 'D:\\\\Dropbox\\\\My work\\\\krypl-project\\\\sqlite\\\\ploniex-chart-data\\\\USDT_BTC.db'\n",
    "data, data_train, data_test = load_and_divide(db, 'chart_data', from_date='2017-01-01')\n",
    "ohlc, ohlc_train, ohlc_test = data.copy(), data_train.copy(), data_test.copy()\n",
    "\n",
    "\n",
    "features = ['red', 'yellow', 'green', 'blue']\n",
    "data_manager_train = CurrencyDataManager(data_train['close'], data_train[features])\n",
    "data_manager_test = CurrencyDataManager(data_test['close'], data_test[features])\n",
    "wallet = {'usdt': 1000}\n",
    "contract_pair = ContractPair.new('usdt', 'btc')"
   ]
  },
  {
   "cell_type": "markdown",
   "metadata": {},
   "source": [
    "# Explore"
   ]
  },
  {
   "cell_type": "code",
   "execution_count": 5,
   "metadata": {
    "collapsed": true
   },
   "outputs": [],
   "source": [
    "correct_pattern = ohlc_train.query(\"red < yellow < green < blue\").copy()"
   ]
  },
  {
   "cell_type": "code",
   "execution_count": 6,
   "metadata": {
    "collapsed": false
   },
   "outputs": [
    {
     "data": {
      "text/plain": [
       "(5904, 14)"
      ]
     },
     "execution_count": 6,
     "metadata": {},
     "output_type": "execute_result"
    }
   ],
   "source": [
    "correct_pattern.shape"
   ]
  },
  {
   "cell_type": "code",
   "execution_count": null,
   "metadata": {
    "collapsed": true
   },
   "outputs": [],
   "source": [
    "def ratio(df, c1, c2):\n",
    "    return (df[c1] / df[c2]) - 1\n",
    "\n",
    "\n",
    "def distplot(df, col, x_max):\n",
    "    plt.figure(figsize=[12, 6])\n",
    "    plt.title(col, fontproperties=title_font)\n",
    "    sns.distplot(df[col])\n",
    "    plt.xlim([0, x_max])\n",
    "\n",
    "correct_pattern['ratioRY'] = ratio(correct_pattern, 'yellow', 'red')\n",
    "correct_pattern['ratioYG'] = ratio(correct_pattern, 'green', 'yellow')\n",
    "correct_pattern['ratioGB'] = ratio(correct_pattern, 'blue', 'green')"
   ]
  },
  {
   "cell_type": "code",
   "execution_count": null,
   "metadata": {
    "collapsed": true
   },
   "outputs": [],
   "source": [
    "distplot(correct_pattern, 'ratioRY', 0.015)\n",
    "distplot(correct_pattern, 'ratioYG', 0.005)\n",
    "distplot(correct_pattern, 'ratioGB', 0.005)"
   ]
  },
  {
   "cell_type": "markdown",
   "metadata": {},
   "source": [
    "# Implementation"
   ]
  },
  {
   "cell_type": "code",
   "execution_count": 7,
   "metadata": {
    "collapsed": true
   },
   "outputs": [],
   "source": [
    "from modeling.strategy import Strategy\n",
    "\n",
    "class HoldStrategy(Strategy):\n",
    "    def __init__(self, exchange, data_manager, contract_pair, trade_size):\n",
    "        super().__init__(exchange, data_manager, contract_pair, trade_size, 0., 0.)    \n",
    "    \n",
    "    def trade(self):\n",
    "        while self.data_manager.has_tick():            \n",
    "            history, price = self.data_manager.tick(1)\n",
    "            \n",
    "            if history.shape[0] == 0:\n",
    "                self.buy(price)\n",
    "            else:\n",
    "                continue\n",
    "        \n",
    "        if self.opened:\n",
    "            self.sell_all(price)"
   ]
  },
  {
   "cell_type": "code",
   "execution_count": 8,
   "metadata": {
    "collapsed": false
   },
   "outputs": [],
   "source": [
    "from modeling.strategy import Strategy\n",
    "from itertools import permutations\n",
    "\n",
    "ORDERS = list(permutations('BGYR', 4))\n",
    "\n",
    "\n",
    "class CustomStrategy(Strategy):\n",
    "    def __init__(self, exchange, data_manager, contract_pair, trade_size, willing_loss, target_profit, params):\n",
    "        super().__init__(exchange, data_manager, contract_pair, trade_size, willing_loss, target_profit)\n",
    "        self.history_len = 1\n",
    "        self.params = params\n",
    "    \n",
    "    def has_correct_order(self, _type, red, yellow, green, blue):\n",
    "        order = self.params['order_' + _type]\n",
    "        d = {'R': red, 'Y': yellow, 'G': green, 'B': blue}\n",
    "        l = [d[order[i]] for i in range(len(order))]\n",
    "        for i in range(len(l)-1):\n",
    "            if l[i] < l[i+1]:\n",
    "                return False\n",
    "        \n",
    "        thresholds = [self.params[f'r{i}_{_type}'] for i in range(1, len(order))]\n",
    "        \n",
    "        def ratio(x, y):\n",
    "            return (x / y) - 1\n",
    "        \n",
    "        for i in range(len(l)-1):\n",
    "            if ratio(l[i], l[i+1]) > thresholds[i]:\n",
    "                return False\n",
    "        \n",
    "        return True\n",
    "    \n",
    "    \n",
    "    def trade(self):\n",
    "        after_sell = False\n",
    "        while self.data_manager.has_tick():            \n",
    "            history, price = self.data_manager.tick(self.history_len)\n",
    "            \n",
    "            if history.shape[0] == 0:\n",
    "                continue\n",
    "            \n",
    "            red, yellow, green, blue = history[0]\n",
    "            if np.isnan(red):\n",
    "                continue\n",
    "            \n",
    "            if not self.opened and not after_sell and self.has_correct_order('buy', red, yellow, green, blue):\n",
    "                self.buy(price)\n",
    "                price_bought = price\n",
    "            elif self.opened and self.is_risky(price_bought, price):\n",
    "                self.sell_all(price)\n",
    "                after_sell = True\n",
    "            elif self.opened and self.is_target_satisfied(price_bought, price):\n",
    "                self.sell_all(price)\n",
    "                after_sell = True\n",
    "            elif self.opened and self.has_correct_order('sell', red, yellow, green, blue):\n",
    "                self.sell_all(price)\n",
    "                after_sell = True\n",
    "        \n",
    "        if self.opened:\n",
    "            self.sell_all(price)"
   ]
  },
  {
   "cell_type": "code",
   "execution_count": 9,
   "metadata": {
    "collapsed": true
   },
   "outputs": [],
   "source": [
    "def create_strategy(data_manager_p, param_array):\n",
    "    params = {\n",
    "        'order_buy': ORDERS[int(param_array[0])],\n",
    "        'r1_buy': param_array[1],\n",
    "        'r2_buy': param_array[2],\n",
    "        'r3_buy': param_array[3],\n",
    "        'order_sell': ORDERS[int(param_array[4])],\n",
    "        'r1_sell': param_array[5],\n",
    "        'r2_sell': param_array[6],\n",
    "        'r3_sell': param_array[7],\n",
    "    }\n",
    "    \n",
    "#     params = {\n",
    "#         'order_buy': ORDERS[0],\n",
    "#         'r1_buy': param_array[0],\n",
    "#         'r2_buy': param_array[1],\n",
    "#         'r3_buy': param_array[2],\n",
    "#         'order_sell': ORDERS[7],\n",
    "#         'r1_sell': param_array[3],\n",
    "#         'r2_sell': param_array[4],\n",
    "#         'r3_sell': param_array[5],\n",
    "#     }\n",
    "    \n",
    "    data_manager = deepcopy(data_manager_p)\n",
    "    exchange = BackTestExchange(data_manager, deepcopy(wallet), 0.0025)\n",
    "    strategy = CustomStrategy(exchange, data_manager, contract_pair, 100, willing_loss=0.05, target_profit=1, params=params)\n",
    "    return data_manager, exchange, strategy\n",
    "\n",
    "\n",
    "def hold_stats(data_manager_p):\n",
    "    data_manager = deepcopy(data_manager_p)\n",
    "    exchange = BackTestExchange(data_manager, deepcopy(wallet), 0.0025)\n",
    "    strategy = HoldStrategy(exchange, data_manager, contract_pair, 100)\n",
    "    strategy.trade()\n",
    "    return strategy.stats('usdt').report()"
   ]
  },
  {
   "cell_type": "markdown",
   "metadata": {},
   "source": [
    "# Learning"
   ]
  },
  {
   "cell_type": "code",
   "execution_count": 10,
   "metadata": {
    "collapsed": true
   },
   "outputs": [],
   "source": [
    "def create_train_strategy(param_array):\n",
    "    return create_strategy(data_manager_train, param_array)"
   ]
  },
  {
   "cell_type": "code",
   "execution_count": 11,
   "metadata": {
    "collapsed": false
   },
   "outputs": [
    {
     "data": {
      "text/html": [
       "<div>\n",
       "<style scoped>\n",
       "    .dataframe tbody tr th:only-of-type {\n",
       "        vertical-align: middle;\n",
       "    }\n",
       "\n",
       "    .dataframe tbody tr th {\n",
       "        vertical-align: top;\n",
       "    }\n",
       "\n",
       "    .dataframe thead th {\n",
       "        text-align: right;\n",
       "    }\n",
       "</style>\n",
       "<table border=\"1\" class=\"dataframe\">\n",
       "  <thead>\n",
       "    <tr style=\"text-align: right;\">\n",
       "      <th></th>\n",
       "      <th>usdt</th>\n",
       "    </tr>\n",
       "  </thead>\n",
       "  <tbody>\n",
       "    <tr>\n",
       "      <th>startAmount</th>\n",
       "      <td>1,000.0000</td>\n",
       "    </tr>\n",
       "    <tr>\n",
       "      <th>numberOfTrades</th>\n",
       "      <td>1.0000</td>\n",
       "    </tr>\n",
       "    <tr>\n",
       "      <th>totalProfit</th>\n",
       "      <td>282.2111</td>\n",
       "    </tr>\n",
       "    <tr>\n",
       "      <th>avgProfit</th>\n",
       "      <td>282.2111</td>\n",
       "    </tr>\n",
       "    <tr>\n",
       "      <th>winPercentage</th>\n",
       "      <td>100.0000</td>\n",
       "    </tr>\n",
       "    <tr>\n",
       "      <th>avgWinTrade</th>\n",
       "      <td>282.2111</td>\n",
       "    </tr>\n",
       "    <tr>\n",
       "      <th>avgLossTrade</th>\n",
       "      <td>0.0000</td>\n",
       "    </tr>\n",
       "    <tr>\n",
       "      <th>profitFactor</th>\n",
       "      <td>inf</td>\n",
       "    </tr>\n",
       "    <tr>\n",
       "      <th>maxDrawdown</th>\n",
       "      <td>0.0000</td>\n",
       "    </tr>\n",
       "  </tbody>\n",
       "</table>\n",
       "</div>"
      ],
      "text/plain": [
       "                     usdt\n",
       "startAmount    1,000.0000\n",
       "numberOfTrades     1.0000\n",
       "totalProfit      282.2111\n",
       "avgProfit        282.2111\n",
       "winPercentage    100.0000\n",
       "avgWinTrade      282.2111\n",
       "avgLossTrade       0.0000\n",
       "profitFactor          inf\n",
       "maxDrawdown        0.0000"
      ]
     },
     "execution_count": 11,
     "metadata": {},
     "output_type": "execute_result"
    }
   ],
   "source": [
    "hold_stats_train = hold_stats(data_manager_train)\n",
    "hold_stats_train"
   ]
  },
  {
   "cell_type": "code",
   "execution_count": null,
   "metadata": {
    "collapsed": true
   },
   "outputs": [],
   "source": []
  },
  {
   "cell_type": "code",
   "execution_count": null,
   "metadata": {
    "collapsed": false,
    "scrolled": false
   },
   "outputs": [],
   "source": [
    "data_manager, exchange, strategy = create_train_strategy([0, 0.005, 0.001, 0.0015, 10, 0.005, 0.001, 0.0015,])\n",
    "strategy.trade()\n",
    "r = strategy.stats('usdt').report()\n",
    "r"
   ]
  },
  {
   "cell_type": "code",
   "execution_count": 27,
   "metadata": {
    "collapsed": false,
    "scrolled": true
   },
   "outputs": [
    {
     "name": "stdout",
     "output_type": "stream",
     "text": [
      "[3, 1e-05, 0.10631719939762785, 0.28827554721715715, 18, 0.99999, 0.47421197564537326, 0.24267735776742053], 0.0[1, 0.20395837382277912, 1e-05, 0.99999, 10, 0.41907843807101913, 0.6511499959514674, 0.41645177891322194, 0.35190437971857796, 0.5343515611583227, 0.7211649462254905, 0.38951969087903626, 0.5146169403249824, 0.18470104519233443, 0.042603165740063, 0.1546125928340332] : 101.26169461800328\n"
     ]
    }
   ],
   "source": [
    "from random import Random\n",
    "from time import time\n",
    "from math import cos\n",
    "from math import pi\n",
    "from inspyred import ec\n",
    "from inspyred.ec import terminators\n",
    "\n",
    "MIN_FLOAT = 1 / 10**5\n",
    "MAX_FLOAT = 1-MIN_FLOAT\n",
    "\n",
    "def random_args_part(random):\n",
    "    l = [random.randint(0, len(ORDERS)-1)]\n",
    "    l += [random.uniform(MIN_FLOAT, MAX_FLOAT) for _ in range(3)]\n",
    "    return l\n",
    "\n",
    "\n",
    "def generate_rastrigin(random, args):\n",
    "    return random_args_part(random) + random_args_part(random)\n",
    "\n",
    "\n",
    "def bound_args(candidate, args):\n",
    "    for i in [0, 4]:\n",
    "        candidate[i] = int(max(min(candidate[i], len(ORDERS)-1), 0))\n",
    "    \n",
    "    for i in [1, 2, 3, 5, 6, 7]:\n",
    "        candidate[i] = max(min(candidate[i], MAX_FLOAT), MIN_FLOAT)\n",
    "        \n",
    "    return candidate\n",
    "\n",
    "import itertools\n",
    "\n",
    "# bound_args.lower_bound = itertools.repeat(MIN_FLOAT)\n",
    "# bound_args.upper_bound = itertools.repeat(MAX_FLOAT)\n",
    "    \n",
    "\n",
    "def evaluate_rastrigin(candidates, args):\n",
    "    fitness = []\n",
    "    for cs in candidates:\n",
    "        fit = f(cs)\n",
    "        fitness.append(fit)\n",
    "    return fitness\n",
    "\n",
    "\n",
    "from scipy.optimize import minimize, brute\n",
    "import sys\n",
    "from math import log10\n",
    "\n",
    "def optim_val(stats, hold_stats):\n",
    "    return (stats.loc['totalProfit', 'usdt']) * (stats.loc['numberOfTrades', 'usdt'])\n",
    "\n",
    "def f(x):\n",
    "    data_manager, exchange, strategy = create_train_strategy(x)\n",
    "    strategy.trade()\n",
    "    r = strategy.stats('usdt').report()\n",
    "    optimization_value = optim_val(r, hold_stats_train)\n",
    "    sys.stdout.write(f\"\\r{x}, {optimization_value}\")\n",
    "    sys.stdout.flush()\n",
    "    return optimization_value\n",
    "\n",
    "\n",
    "rand = Random()\n",
    "rand.seed(int(time()))\n",
    "es = ec.ES(rand)\n",
    "es.terminator = terminators.evaluation_termination\n",
    "final_pop = es.evolve(generator=generate_rastrigin,\n",
    "                      evaluator=evaluate_rastrigin,\n",
    "                      pop_size=100,\n",
    "                      maximize=True,\n",
    "                      bounder=bound_args,\n",
    "                      max_evaluations=200,\n",
    "                      mutation_rate=0.25)\n",
    "# Sort and print the best individual, who will be at index 0.\n",
    "final_pop.sort(reverse=True)\n",
    "print(final_pop[0])"
   ]
  },
  {
   "cell_type": "code",
   "execution_count": 32,
   "metadata": {
    "collapsed": false
   },
   "outputs": [
    {
     "data": {
      "text/plain": [
       "[3,\n",
       " 0.837072713719854,\n",
       " 0.6780691753414513,\n",
       " 0.3763048270750474,\n",
       " 15,\n",
       " 0.4915319529410493,\n",
       " 0.6954156098077054,\n",
       " 0.7953752768496755,\n",
       " 0.3111630966516624,\n",
       " 0.855396491886018,\n",
       " 0.07616869280063976,\n",
       " 0.9132715215021304,\n",
       " 0.41162958546311434,\n",
       " 0.7894776458342089,\n",
       " 0.7284303204327756,\n",
       " 0.5199314052092769]"
      ]
     },
     "execution_count": 32,
     "metadata": {},
     "output_type": "execute_result"
    }
   ],
   "source": [
    "final_pop[-1].candidate"
   ]
  },
  {
   "cell_type": "code",
   "execution_count": 19,
   "metadata": {
    "collapsed": false
   },
   "outputs": [
    {
     "name": "stdout",
     "output_type": "stream",
     "text": [
      "100.95492065790813\n"
     ]
    },
    {
     "data": {
      "text/html": [
       "<div>\n",
       "<style scoped>\n",
       "    .dataframe tbody tr th:only-of-type {\n",
       "        vertical-align: middle;\n",
       "    }\n",
       "\n",
       "    .dataframe tbody tr th {\n",
       "        vertical-align: top;\n",
       "    }\n",
       "\n",
       "    .dataframe thead th {\n",
       "        text-align: right;\n",
       "    }\n",
       "</style>\n",
       "<table border=\"1\" class=\"dataframe\">\n",
       "  <thead>\n",
       "    <tr style=\"text-align: right;\">\n",
       "      <th></th>\n",
       "      <th>usdt</th>\n",
       "    </tr>\n",
       "  </thead>\n",
       "  <tbody>\n",
       "    <tr>\n",
       "      <th>startAmount</th>\n",
       "      <td>1,000.0000</td>\n",
       "    </tr>\n",
       "    <tr>\n",
       "      <th>numberOfTrades</th>\n",
       "      <td>1.0000</td>\n",
       "    </tr>\n",
       "    <tr>\n",
       "      <th>totalProfit</th>\n",
       "      <td>100.9549</td>\n",
       "    </tr>\n",
       "    <tr>\n",
       "      <th>avgProfit</th>\n",
       "      <td>100.9549</td>\n",
       "    </tr>\n",
       "    <tr>\n",
       "      <th>winPercentage</th>\n",
       "      <td>100.0000</td>\n",
       "    </tr>\n",
       "    <tr>\n",
       "      <th>avgWinTrade</th>\n",
       "      <td>100.9549</td>\n",
       "    </tr>\n",
       "    <tr>\n",
       "      <th>avgLossTrade</th>\n",
       "      <td>0.0000</td>\n",
       "    </tr>\n",
       "    <tr>\n",
       "      <th>profitFactor</th>\n",
       "      <td>inf</td>\n",
       "    </tr>\n",
       "    <tr>\n",
       "      <th>maxDrawdown</th>\n",
       "      <td>0.0000</td>\n",
       "    </tr>\n",
       "  </tbody>\n",
       "</table>\n",
       "</div>"
      ],
      "text/plain": [
       "                     usdt\n",
       "startAmount    1,000.0000\n",
       "numberOfTrades     1.0000\n",
       "totalProfit      100.9549\n",
       "avgProfit        100.9549\n",
       "winPercentage    100.0000\n",
       "avgWinTrade      100.9549\n",
       "avgLossTrade       0.0000\n",
       "profitFactor          inf\n",
       "maxDrawdown        0.0000"
      ]
     },
     "execution_count": 19,
     "metadata": {},
     "output_type": "execute_result"
    }
   ],
   "source": [
    "data_manager, exchange, strategy = create_train_strategy(final_pop[0].candidate)\n",
    "strategy.trade()\n",
    "r = strategy.stats('usdt').report()\n",
    "print(optim_val(r, hold_stats_train))\n",
    "r"
   ]
  },
  {
   "cell_type": "code",
   "execution_count": null,
   "metadata": {
    "collapsed": true
   },
   "outputs": [],
   "source": []
  },
  {
   "cell_type": "markdown",
   "metadata": {},
   "source": [
    "# Look on transactions"
   ]
  },
  {
   "cell_type": "code",
   "execution_count": null,
   "metadata": {
    "collapsed": false
   },
   "outputs": [],
   "source": [
    "len(strategy.exchange.transactions)"
   ]
  },
  {
   "cell_type": "code",
   "execution_count": null,
   "metadata": {
    "collapsed": false,
    "scrolled": false
   },
   "outputs": [],
   "source": [
    "%matplotlib notebook\n",
    "plot_transactions(ohlc_train, strategy.exchange.transactions[:])\n",
    "\n",
    "for c in ['red', 'yellow', 'green', 'blue']:\n",
    "    plt.plot(range(ohlc_train.shape[0]), ohlc_train[c], c=c)"
   ]
  },
  {
   "cell_type": "markdown",
   "metadata": {},
   "source": [
    "# Evaluate"
   ]
  },
  {
   "cell_type": "code",
   "execution_count": null,
   "metadata": {
    "collapsed": true
   },
   "outputs": [],
   "source": [
    "def create_test_strategy(param_array):\n",
    "    return create_strategy(data_manager_test, param_array)"
   ]
  },
  {
   "cell_type": "code",
   "execution_count": null,
   "metadata": {
    "collapsed": false
   },
   "outputs": [],
   "source": [
    "data_manager, exchange, strategy = create_test_strategy(best_params['x'])\n",
    "strategy.trade()\n",
    "strategy.stats('usdt').report()"
   ]
  },
  {
   "cell_type": "code",
   "execution_count": null,
   "metadata": {
    "collapsed": false
   },
   "outputs": [],
   "source": [
    "plot_transactions(ohlc_test, strategy.exchange.transactions[:])\n",
    "\n",
    "for c in ['red', 'yellow', 'green', 'blue']:\n",
    "    plt.plot(range(ohlc_test.shape[0]), ohlc_test[c], c=c)"
   ]
  },
  {
   "cell_type": "code",
   "execution_count": null,
   "metadata": {
    "collapsed": true
   },
   "outputs": [],
   "source": []
  }
 ],
 "metadata": {
  "kernelspec": {
   "display_name": "Python 3.6 (crypto36)",
   "language": "python",
   "name": "crypto36"
  },
  "language_info": {
   "codemirror_mode": {
    "name": "ipython",
    "version": 3
   },
   "file_extension": ".py",
   "mimetype": "text/x-python",
   "name": "python",
   "nbconvert_exporter": "python",
   "pygments_lexer": "ipython3",
   "version": "3.6.5"
  }
 },
 "nbformat": 4,
 "nbformat_minor": 2
}
