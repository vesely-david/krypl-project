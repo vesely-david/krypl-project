{
 "cells": [
  {
   "cell_type": "code",
   "execution_count": null,
   "metadata": {
    "collapsed": false
   },
   "outputs": [],
   "source": [
    "%matplotlib inline \n",
    "\n",
    "import numpy as np\n",
    "import pandas as pd\n",
    "pd.options.display.float_format = '{:,.4f}'.format\n",
    "import matplotlib.pyplot as plt\n",
    "import seaborn as sns\n",
    "from matplotlib.font_manager import FontProperties\n",
    "\n",
    "sns.set_style('darkgrid')\n",
    "titleFont = FontProperties(weight='bold', size=20)\n",
    "axisFont = FontProperties(weight='bold', size=14) \n",
    "\n",
    "from trading.exchange import BackTestExchange\n",
    "from trading.dataManager import CurrencyDataManager\n",
    "from trading.money.contract import ContractPair, Contract\n",
    "from trading.statistics import Statistics\n",
    "from trading.money.transaction import BuyTransaction, SellTransaction\n",
    "from calculator.talibWrapper import calculateTalib"
   ]
  },
  {
   "cell_type": "code",
   "execution_count": null,
   "metadata": {
    "collapsed": false
   },
   "outputs": [],
   "source": [
    "from calculator.talibWrapper import talibFunctionInfo\n",
    "talibFunctionInfo('BBANDS')"
   ]
  },
  {
   "cell_type": "markdown",
   "metadata": {
    "collapsed": true
   },
   "source": [
    "# Load Data"
   ]
  },
  {
   "cell_type": "code",
   "execution_count": null,
   "metadata": {
    "collapsed": false
   },
   "outputs": [],
   "source": [
    "dataRoot = 'D:\\\\Dropbox\\\\My work\\\\krypl-project\\\\dataLabeled\\\\poloniex\\\\5min'\n",
    "fileName = 'USDT_BTC_5min_2016-01-01_2017-12-31.tsv'\n",
    "file = '{dataRoot}\\\\{fileName}'.format(dataRoot=dataRoot, fileName=fileName)\n",
    "\n",
    "usdtBtc = pd.read_csv(file, sep='\\t').sort_values('timestamp').reset_index().drop('index', axis=1)\n",
    "\n",
    "trainRatio = 0.7\n",
    "trainSize = int(usdtBtc.shape[0] * trainRatio)\n",
    "usdtBtcTrain = usdtBtc.iloc[:trainSize]\n",
    "usdtBtcTest = usdtBtc.iloc[trainSize:]\n",
    "\n",
    "usdtBtcManagerTrain = CurrencyDataManager(usdtBtcTrain)\n",
    "usdtBtcManagerTest = CurrencyDataManager(usdtBtcTest)\n",
    "wallet = {'usdt': 1000}\n",
    "contractPair = ContractPair('usdt', 'btc')"
   ]
  },
  {
   "cell_type": "markdown",
   "metadata": {},
   "source": [
    "# Bollinger Bands\n",
    "\n",
    "Bollinger Bands consist of a moving average and two standard deviations,\n",
    "one above the moving average and one below. The important thing\n",
    "to know about Bollinger Bands is that they contain up to 95% of the\n",
    "closing prices, depending on the settings.\n",
    "\n",
    "- A buy signal is generated when prices move below the lower Bollinger Band.\n",
    "- A sell signal is generated when prices move above the upper Bollinger Band.\n",
    "\n",
    "Source: Markus Heitkoetter: The Complet Guide to Day Trading"
   ]
  },
  {
   "cell_type": "code",
   "execution_count": null,
   "metadata": {
    "collapsed": false
   },
   "outputs": [],
   "source": [
    "data = {\n",
    "            'close': usdtBtc.head(10)['close'].values,\n",
    "        }\n",
    "        \n",
    "upper, middle, lower = calculateTalib('BBANDS', data, {'timeperiod': 5})"
   ]
  },
  {
   "cell_type": "code",
   "execution_count": null,
   "metadata": {
    "collapsed": false
   },
   "outputs": [],
   "source": [
    "from copy import deepcopy\n",
    "\n",
    "class BollingerBandsStrategy:\n",
    "    def __init__(self, exchange, dataManager, historyLen, contractPair, tradeSize, willingLoss, opened=False):\n",
    "        self.exchange = exchange\n",
    "        self.walletStart = deepcopy(self.exchange.wallet)\n",
    "        self.dataManager = dataManager\n",
    "        self.historyLen = historyLen\n",
    "        self.contractPair = contractPair\n",
    "        self.opened = opened\n",
    "        self.tradeSize = tradeSize\n",
    "        self.willingLoss = willingLoss\n",
    "\n",
    "    def calculateBBands(self, history, col, timePeriod):\n",
    "        upper, middle, lower = calculateTalib('BBANDS', {col: history[col].values}, {'timeperiod': timePeriod})\n",
    "        return upper[-1], middle[-1], lower[-1]\n",
    "    \n",
    "    \n",
    "    def isRisky(self, priceBought, actualPrice):\n",
    "        return self.currentReturn(priceBought, actualPrice) < -self.willingLoss \n",
    "    \n",
    "    \n",
    "    def currentReturn(self, priceBought, actualPrice):\n",
    "        return float(actualPrice - priceBought) / priceBought\n",
    "    \n",
    "    \n",
    "    def trade(self):\n",
    "        \n",
    "        wasBellow = False\n",
    "        while self.dataManager.hasTick():            \n",
    "            history, price = self.dataManager.tick(self.historyLen)\n",
    "            if history.shape[0] < self.historyLen:\n",
    "                continue\n",
    "\n",
    "            upper, middle, lower = self.calculateBBands(history, 'close', self.historyLen)\n",
    "            \n",
    "            lastLow = history['low'].iloc[-1]\n",
    "            if not self.opened and wasBellow and  lastLow > lower:\n",
    "                print(self.dataManager.time, 'openning trade: ', price, end='\\t')\n",
    "                amount = self.tradeSize / price\n",
    "                self.exchange.buy(self.contractPair, amount, price)\n",
    "                priceBought = price\n",
    "                self.opened = True\n",
    "                wasBellow = False\n",
    "            elif self.opened and self.isRisky(priceBought, price):\n",
    "                print(self.dataManager.time, 'stopLoss: ', price, self.currentReturn(priceBought, price) * 100)\n",
    "                self.opened = False\n",
    "                amount = self.exchange.balance(self.contractPair.tradeContract)\n",
    "                self.exchange.sell(self.contractPair, amount, price)\n",
    "            elif self.opened and price > upper:\n",
    "                print(self.dataManager.time, 'profit: ', price, self.currentReturn(priceBought, price) * 100)\n",
    "                self.opened = False\n",
    "                amount = self.exchange.balance(self.contractPair.tradeContract)\n",
    "                self.exchange.sell(self.contractPair, amount, price)\n",
    "\n",
    "                \n",
    "            wasBellow = price < lower\n",
    "                \n",
    "    def stats(self, contractName):\n",
    "        return Statistics(contractName, self.walletStart[contractName]).evaluate(self.exchange.transactions)"
   ]
  },
  {
   "cell_type": "markdown",
   "metadata": {},
   "source": [
    "# Learning"
   ]
  },
  {
   "cell_type": "code",
   "execution_count": null,
   "metadata": {
    "collapsed": false,
    "scrolled": true
   },
   "outputs": [],
   "source": [
    "dataManager = deepcopy(usdtBtcManagerTrain)\n",
    "exchange = BackTestExchange(dataManager, deepcopy(wallet), 0.0025)\n",
    "strategy = BollingerBandsStrategy(exchange, dataManager, 20, contractPair, 100, 0.05)\n",
    "strategy.trade()\n",
    "strategy.stats('usdt').report()"
   ]
  },
  {
   "cell_type": "code",
   "execution_count": null,
   "metadata": {
    "collapsed": false
   },
   "outputs": [],
   "source": [
    "for t in exchange.transactions:\n",
    "    print(t)"
   ]
  },
  {
   "cell_type": "code",
   "execution_count": null,
   "metadata": {
    "collapsed": false
   },
   "outputs": [],
   "source": [
    "allStats"
   ]
  },
  {
   "cell_type": "code",
   "execution_count": null,
   "metadata": {
    "collapsed": false,
    "scrolled": false
   },
   "outputs": [],
   "source": [
    "import time\n",
    "\n",
    "allStats = None\n",
    "for slow in range(96, 96*30, 96):\n",
    "    print('fast:', slow, end='')\n",
    "    for fast in range(96, slow, 96):\n",
    "        print('\\t slow', fast, end='')\n",
    "        start_time = time.time()\n",
    "        dataManager = deepcopy(usdtBtcManager)\n",
    "        exchange = BackTestExchange(dataManager, deepcopy(wallet), 0.0035)\n",
    "        strategy = CrossoverMAStrategy(exchange, dataManager, slow, fast, contractPair)\n",
    "        strategy.trade()\n",
    "        stats = strategy.stats('usdt').report().transpose().reset_index().rename(columns={'index': 'contract'})\n",
    "        stats['timePeriodFast'] = fast\n",
    "        stats['timePeriodSlow'] = slow\n",
    "        if allStats is None:\n",
    "            allStats = stats\n",
    "        else:\n",
    "            allStats = allStats.append(stats)\n",
    "        print(\"\\t %.2f seconds\" % (time.time() - start_time))\n",
    "        print(\"\\t\", end='')\n",
    "    print()"
   ]
  },
  {
   "cell_type": "markdown",
   "metadata": {},
   "source": [
    "# Look on transactions"
   ]
  },
  {
   "cell_type": "code",
   "execution_count": null,
   "metadata": {
    "collapsed": true
   },
   "outputs": [],
   "source": [
    "from matplotlib.finance import candlestick_ohlc\n",
    "import matplotlib.dates as mdates\n",
    "\n",
    "import time\n",
    "import datetime as dt\n",
    "\n",
    "def timestampToDate(timestamp):\n",
    "    return dt.datetime.fromtimestamp(int(timestamp))\n",
    "\n",
    "def strTimeToTimestamp(strTime):\n",
    "    return dt.datetime.strptime(strTime, \"%Y-%m-%d %H:%M:%S\").timestamp()\n",
    "\n",
    "\n",
    "def calculateMA(history, col, timePeriod):\n",
    "        return calculateTalib('MA', {col: history[col].values}, {'timeperiod': timePeriod})\n",
    "\n",
    "\n",
    "def plotCandles(df, currencyPair):\n",
    "    DATA = df[['open', 'high', 'low', 'close', 'volume', 'date', 'timestamp']].copy()\n",
    "    DATA = DATA.reset_index()\n",
    "    DATA[\"dateStr\"] = DATA[\"date\"]\n",
    "    DATA[\"date\"]  = DATA[\"timestamp\"].apply(timestampToDate).apply(mdates.date2num)\n",
    "\n",
    "    plt.figure(figsize=(16, 8))\n",
    "    ax = plt.gca()\n",
    "    candlestick_ohlc(ax, DATA.values, width=.6, colorup='#53c156', colordown='#ff1717')\n",
    "\n",
    "    ax.xaxis_date()\n",
    "    \n",
    "    xDates = DATA['dateStr']\n",
    "    step = int(xDates.shape[0] / 20) + 1\n",
    "    xDates[[i for i in range(xDates.shape[0]) if i % step != 0]] = ''\n",
    "    \n",
    "    plt.xticks(range(DATA.shape[0]), DATA['dateStr'], rotation=45)\n",
    "    plt.title(currencyPair, fontproperties=titleFont)\n",
    "    \n",
    "\n",
    "def plotMA(df, col, timeperiod):\n",
    "    ma = calculateMA(df, col, timeperiod)\n",
    "    return plt.plot(ma)\n",
    "\n",
    "\n",
    "def calculateBB(history, col, timePeriod):\n",
    "        upper, middle, lower = calculateTalib('BBANDS', {col: history[col].values}, {'timeperiod': timePeriod})\n",
    "        return upper, middle, lower\n",
    "\n",
    "\n",
    "def plotBB(df, col, timeperiod):\n",
    "    upper, middle, lower = calculateBB(df, col, timeperiod)\n",
    "    return plt.plot(upper), plt.plot(middle), plt.plot(lower)\n",
    "\n",
    "\n",
    "def plotTransaction(transaction, i):\n",
    "    color = 'k' if type(transaction) == BuyTransaction else 'm'\n",
    "    plt.scatter(i, transaction.price.value, s=200, c=color)\n",
    "\n",
    "    \n",
    "def plotTransactionWithSurroundings(prices, timePeriod, transaction):\n",
    "    i = transaction.timestamp\n",
    "    start = i - 40 if i - 20 > 0 else 0\n",
    "    end = i + 20 if i + 20 < prices.shape[0] else prices.shape[0]-1\n",
    "    selected = prices.ix[start:end, :].reset_index()\n",
    "    plotCandles(selected, '')\n",
    "    plotTransaction(transaction, 39)\n",
    "    l1, l2, l3 = plotBB(selected, 'close', timePeriod)\n",
    "    plt.legend(l1+l2+l3, ['Upper', 'Mean', 'Lower'])"
   ]
  },
  {
   "cell_type": "code",
   "execution_count": null,
   "metadata": {
    "collapsed": false
   },
   "outputs": [],
   "source": [
    "len(strategy.exchange.transactions)"
   ]
  },
  {
   "cell_type": "code",
   "execution_count": null,
   "metadata": {
    "collapsed": false,
    "scrolled": false
   },
   "outputs": [],
   "source": [
    "t = 2002\n",
    "transaction = strategy.exchange.transactions[t]\n",
    "plotTransactionWithSurroundings(usdtBtc, 20, transaction)\n",
    "transaction = strategy.exchange.transactions[t+1]\n",
    "plotTransactionWithSurroundings(usdtBtc, 20, transaction)"
   ]
  },
  {
   "cell_type": "code",
   "execution_count": null,
   "metadata": {
    "collapsed": true
   },
   "outputs": [],
   "source": [
    "transaction"
   ]
  },
  {
   "cell_type": "markdown",
   "metadata": {},
   "source": [
    "# Evaluate Statistics Crossover MA"
   ]
  },
  {
   "cell_type": "code",
   "execution_count": null,
   "metadata": {
    "collapsed": true,
    "scrolled": true
   },
   "outputs": [],
   "source": [
    "allStats.to_csv('results/crossoverMA-results.tsv', sep='\\t', index=False)"
   ]
  },
  {
   "cell_type": "code",
   "execution_count": null,
   "metadata": {
    "collapsed": false,
    "scrolled": true
   },
   "outputs": [],
   "source": [
    "allStats.head()"
   ]
  },
  {
   "cell_type": "code",
   "execution_count": null,
   "metadata": {
    "collapsed": true
   },
   "outputs": [],
   "source": [
    "def plotResults(stats, xCol):\n",
    "    yCols=['numberOfTrades', 'totalProfit', 'avgProfit', 'winPercentage', 'avgWinTrade', \n",
    "           'avgLossTrade', 'profitFactor', 'maxDrawdown']\n",
    "    \n",
    "    f, axarr = plt.subplots(3, 3, figsize=[16,10])\n",
    "    for i in range(axarr.shape[0]):\n",
    "        for j in range(axarr.shape[1]):\n",
    "            step = i * axarr.shape[0] + j\n",
    "            if step >= len(yCols):\n",
    "                break\n",
    "            col = yCols[step]\n",
    "            ax = axarr[i, j]\n",
    "            ax.scatter(stats['timePeriodSlow'], stats['timePeriodFast'], s=stats[col], alpha=0.5)\n",
    "            ax.set_title(col)\n",
    "#             ax.set_xlabel('timePeriodSlow')\n",
    "            ax.set_ylabel('timePeriodFast')"
   ]
  },
  {
   "cell_type": "code",
   "execution_count": null,
   "metadata": {
    "collapsed": false
   },
   "outputs": [],
   "source": [
    "plotResults(allStats, 'timePeriodSlow')"
   ]
  },
  {
   "cell_type": "code",
   "execution_count": null,
   "metadata": {
    "collapsed": false,
    "scrolled": true
   },
   "outputs": [],
   "source": [
    "allStats.query('totalProfit > 200').sort_values('numberOfTrades', ascending=False)"
   ]
  },
  {
   "cell_type": "markdown",
   "metadata": {},
   "source": [
    "# Conclusion\n",
    "\n",
    "Strategie Moving Average crossover, uz dokaze na paru usdt-btc, vytvorit az 25% zisk za necele dva roky. Bohuzel vytvari celkem \n",
    "malo obchodu (za dva roky kolem 50-60). Ze zkusennosti z marketu, a sledovani volatility moc dobre vime, ze lze vydelat daleko vice. Crossover moving average by vsak mohl byt dobrou featurou, pro machine learning techniky."
   ]
  },
  {
   "cell_type": "code",
   "execution_count": null,
   "metadata": {
    "collapsed": true
   },
   "outputs": [],
   "source": []
  }
 ],
 "metadata": {
  "kernelspec": {
   "display_name": "Python 3",
   "language": "python",
   "name": "python3"
  },
  "language_info": {
   "codemirror_mode": {
    "name": "ipython",
    "version": 3
   },
   "file_extension": ".py",
   "mimetype": "text/x-python",
   "name": "python",
   "nbconvert_exporter": "python",
   "pygments_lexer": "ipython3",
   "version": "3.5.4"
  }
 },
 "nbformat": 4,
 "nbformat_minor": 2
}
