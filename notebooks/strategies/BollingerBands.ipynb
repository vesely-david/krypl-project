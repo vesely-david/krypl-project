{
 "cells": [
  {
   "cell_type": "code",
   "execution_count": 1,
   "metadata": {
    "collapsed": false
   },
   "outputs": [],
   "source": [
    "%matplotlib inline \n",
    "\n",
    "import numpy as np\n",
    "import pandas as pd\n",
    "pd.options.display.float_format = '{:,.4f}'.format\n",
    "import matplotlib.pyplot as plt\n",
    "import seaborn as sns\n",
    "from matplotlib.font_manager import FontProperties\n",
    "\n",
    "sns.set_style('darkgrid')\n",
    "titleFont = FontProperties(weight='bold', size=20)\n",
    "axisFont = FontProperties(weight='bold', size=14) \n",
    "\n",
    "from trading.exchange import BackTestExchange\n",
    "from trading.dataManager import CurrencyDataManager\n",
    "from trading.money.contract import ContractPair, Contract\n",
    "from trading.statistics import Statistics\n",
    "from trading.money.transaction import BuyTransaction, SellTransaction\n",
    "from calculator.talibWrapper import calculateTalib"
   ]
  },
  {
   "cell_type": "code",
   "execution_count": 2,
   "metadata": {
    "collapsed": false
   },
   "outputs": [
    {
     "data": {
      "text/plain": [
       "'BBANDS([input_arrays], [timeperiod=5], [nbdevup=2], [nbdevdn=2], [matype=0])\\n\\nBollinger Bands (Overlap Studies)\\n\\nInputs:\\n    price: (any ndarray)\\nParameters:\\n    timeperiod: 5\\n    nbdevup: 2\\n    nbdevdn: 2\\n    matype: 0 (Simple Moving Average)\\nOutputs:\\n    upperband\\n    middleband\\n    lowerband'"
      ]
     },
     "execution_count": 2,
     "metadata": {},
     "output_type": "execute_result"
    }
   ],
   "source": [
    "from calculator.talibWrapper import talibFunctionInfo\n",
    "talibFunctionInfo('BBANDS')"
   ]
  },
  {
   "cell_type": "markdown",
   "metadata": {
    "collapsed": true
   },
   "source": [
    "# Load Data"
   ]
  },
  {
   "cell_type": "code",
   "execution_count": 3,
   "metadata": {
    "collapsed": false
   },
   "outputs": [],
   "source": [
    "dataRoot = 'D:\\\\Dropbox\\\\My work\\\\krypl-project\\\\dataLabeled\\\\poloniex\\\\5min'\n",
    "fileName = 'USDT_BTC_5min_2016-01-01_2017-12-31.tsv'\n",
    "file = '{dataRoot}\\\\{fileName}'.format(dataRoot=dataRoot, fileName=fileName)\n",
    "\n",
    "usdtBtc = pd.read_csv(file, sep='\\t').query(\"date >= '2017-01-01'\")\\\n",
    "    .sort_values('timestamp').reset_index().drop('index', axis=1)\n",
    "usdtBtc = usdtBtc\n",
    "\n",
    "trainRatio = 0.7\n",
    "trainSize = int(usdtBtc.shape[0] * trainRatio)\n",
    "usdtBtcTrain = usdtBtc.iloc[:trainSize]\n",
    "usdtBtcTest = usdtBtc.iloc[trainSize:].reset_index().drop('index', axis=1)\n",
    "\n",
    "usdtBtcManagerTrain = CurrencyDataManager(usdtBtcTrain)\n",
    "usdtBtcManagerTest = CurrencyDataManager(usdtBtcTest)\n",
    "wallet = {'usdt': 1000}\n",
    "contractPair = ContractPair('usdt', 'btc')"
   ]
  },
  {
   "cell_type": "markdown",
   "metadata": {},
   "source": [
    "# Bollinger Bands\n",
    "\n",
    "Bollinger Bands consist of a moving average and two standard deviations,\n",
    "one above the moving average and one below. The important thing\n",
    "to know about Bollinger Bands is that they contain up to 95% of the\n",
    "closing prices, depending on the settings.\n",
    "\n",
    "- A buy signal is generated when prices move below the lower Bollinger Band.\n",
    "- A sell signal is generated when prices move above the upper Bollinger Band.\n",
    "\n",
    "Source: Markus Heitkoetter: The Complet Guide to Day Trading"
   ]
  },
  {
   "cell_type": "code",
   "execution_count": 4,
   "metadata": {
    "collapsed": false
   },
   "outputs": [],
   "source": [
    "data = {\n",
    "            'close': usdtBtc.head(10)['close'].values,\n",
    "        }\n",
    "        \n",
    "upper, middle, lower = calculateTalib('BBANDS', data, {'timeperiod': 5})"
   ]
  },
  {
   "cell_type": "code",
   "execution_count": 5,
   "metadata": {
    "collapsed": false
   },
   "outputs": [],
   "source": [
    "from copy import deepcopy\n",
    "\n",
    "class BollingerBandsStrategy:\n",
    "    def __init__(self, exchange, dataManager, historyLen, contractPair, tradeSize, willingLoss, \n",
    "                 distFromMiddleThreshold, diffThreshold):\n",
    "        self.exchange = exchange\n",
    "        self.walletStart = deepcopy(self.exchange.wallet)\n",
    "        self.dataManager = dataManager\n",
    "        self.historyLen = historyLen\n",
    "        self.contractPair = contractPair\n",
    "        self.opened = False\n",
    "        self.tradeSize = tradeSize\n",
    "        self.willingLoss = willingLoss\n",
    "        self.distFromMiddleThreshold = distFromMiddleThreshold\n",
    "        self.diffThreshold = diffThreshold\n",
    "\n",
    "    def calculateBBands(self, history, col, timePeriod):\n",
    "        upper, middle, lower = calculateTalib('BBANDS', {col: history[col].values}, {'timeperiod': timePeriod})\n",
    "        return upper[-1], middle[-1], lower[-1]\n",
    "    \n",
    "    \n",
    "    def isRisky(self, priceBought, actualPrice):\n",
    "        return self.currentReturn(priceBought, actualPrice) < -self.willingLoss \n",
    "    \n",
    "    \n",
    "    def currentReturn(self, priceBought, actualPrice):\n",
    "        return float(actualPrice - priceBought) / priceBought\n",
    "    \n",
    "    \n",
    "    def sellWhole(self, price):\n",
    "        self.opened = False\n",
    "        amount = self.exchange.balance(self.contractPair.tradeContract)\n",
    "        self.exchange.sell(self.contractPair, amount, price)\n",
    "    \n",
    "    \n",
    "    def buy(self, price):\n",
    "        amount = self.tradeSize / price\n",
    "        self.exchange.buy(self.contractPair, amount, price)\n",
    "        self.opened = True\n",
    "        breakEvenPrice = price + price * self.exchange.fee * 2\n",
    "        return breakEvenPrice\n",
    "        \n",
    "    \n",
    "    def trade(self):\n",
    "        \n",
    "        wasBellow = False\n",
    "        while self.dataManager.hasTick():            \n",
    "            history, price = self.dataManager.tick(self.historyLen)\n",
    "            if history.shape[0] < self.historyLen:\n",
    "                continue\n",
    "\n",
    "            upper, middle, lower = self.calculateBBands(history, 'close', self.historyLen)\n",
    "            \n",
    "            lastLow = history['low'].iloc[-1]\n",
    "            lastHigh = history['high'].iloc[-1]\n",
    "            lastClose = history['close'].iloc[-1]\n",
    "            lastOpen = history['open'].iloc[-1]\n",
    "            if not self.opened and wasBellow and price > lower and (upper-lower) / upper < self.diffThreshold:\n",
    "#                 print(self.dataManager.time, 'openning trade: ', price, end='\\t')\n",
    "                breakEvenPrice = self.buy(price)\n",
    "                priceBought = price\n",
    "                wasBellow = False\n",
    "                \n",
    "            elif self.opened and self.isRisky(priceBought, price):\n",
    "#                 print(self.dataManager.time, 'stopLoss: ', price, self.currentReturn(priceBought, price) * 100)\n",
    "                self.sellWhole(price)\n",
    "            elif self.opened and (price-middle) / middle > self.distFromMiddleThreshold and price > breakEvenPrice:\n",
    "#                 print(self.dataManager.time, 'profit: ', price, self.currentReturn(priceBought, price) * 100)\n",
    "                self.sellWhole(price)\n",
    "\n",
    "                \n",
    "            wasBellow = price < lower\n",
    "                \n",
    "    def stats(self, contractName):\n",
    "        return Statistics(contractName, self.walletStart[contractName]).evaluate(self.exchange.transactions)"
   ]
  },
  {
   "cell_type": "markdown",
   "metadata": {},
   "source": [
    "# Learning"
   ]
  },
  {
   "cell_type": "code",
   "execution_count": 43,
   "metadata": {
    "collapsed": false,
    "scrolled": false
   },
   "outputs": [
    {
     "data": {
      "text/html": [
       "<div>\n",
       "<style>\n",
       "    .dataframe thead tr:only-child th {\n",
       "        text-align: right;\n",
       "    }\n",
       "\n",
       "    .dataframe thead th {\n",
       "        text-align: left;\n",
       "    }\n",
       "\n",
       "    .dataframe tbody tr th {\n",
       "        vertical-align: top;\n",
       "    }\n",
       "</style>\n",
       "<table border=\"1\" class=\"dataframe\">\n",
       "  <thead>\n",
       "    <tr style=\"text-align: right;\">\n",
       "      <th></th>\n",
       "      <th>usdt</th>\n",
       "    </tr>\n",
       "  </thead>\n",
       "  <tbody>\n",
       "    <tr>\n",
       "      <th>startAmount</th>\n",
       "      <td>1,000.0000</td>\n",
       "    </tr>\n",
       "    <tr>\n",
       "      <th>numberOfTrades</th>\n",
       "      <td>217.0000</td>\n",
       "    </tr>\n",
       "    <tr>\n",
       "      <th>totalProfit</th>\n",
       "      <td>-128.6594</td>\n",
       "    </tr>\n",
       "    <tr>\n",
       "      <th>avgProfit</th>\n",
       "      <td>-0.5929</td>\n",
       "    </tr>\n",
       "    <tr>\n",
       "      <th>winPercentage</th>\n",
       "      <td>81.5668</td>\n",
       "    </tr>\n",
       "    <tr>\n",
       "      <th>avgWinTrade</th>\n",
       "      <td>1.2323</td>\n",
       "    </tr>\n",
       "    <tr>\n",
       "      <th>avgLossTrade</th>\n",
       "      <td>-6.1631</td>\n",
       "    </tr>\n",
       "    <tr>\n",
       "      <th>profitFactor</th>\n",
       "      <td>0.8848</td>\n",
       "    </tr>\n",
       "    <tr>\n",
       "      <th>maxDrawdown</th>\n",
       "      <td>4.8932</td>\n",
       "    </tr>\n",
       "  </tbody>\n",
       "</table>\n",
       "</div>"
      ],
      "text/plain": [
       "                     usdt\n",
       "startAmount    1,000.0000\n",
       "numberOfTrades   217.0000\n",
       "totalProfit     -128.6594\n",
       "avgProfit         -0.5929\n",
       "winPercentage     81.5668\n",
       "avgWinTrade        1.2323\n",
       "avgLossTrade      -6.1631\n",
       "profitFactor       0.8848\n",
       "maxDrawdown        4.8932"
      ]
     },
     "execution_count": 43,
     "metadata": {},
     "output_type": "execute_result"
    }
   ],
   "source": [
    "dataManager = deepcopy(usdtBtcManagerTrain)\n",
    "exchange = BackTestExchange(dataManager, deepcopy(wallet), 0.0025)\n",
    "strategy = BollingerBandsStrategy(exchange, dataManager, 20, contractPair, 100, willingLoss=0.05, distFromMiddleThreshold=0.01, diffThreshold=0.03)\n",
    "strategy.trade()\n",
    "strategy.stats('usdt').report()"
   ]
  },
  {
   "cell_type": "code",
   "execution_count": 79,
   "metadata": {
    "collapsed": false,
    "scrolled": true
   },
   "outputs": [
    {
     "name": "stdout",
     "output_type": "stream",
     "text": [
      "historyLen: 415\twillingLoss 0.01\tdistFromMiddleThreshold 0.01\tdiffThreshold 0.01\t71.94 seconds\n",
      "historyLen: 415\twillingLoss 0.01\tdistFromMiddleThreshold 0.01\tdiffThreshold 0.02\t76.64 seconds\n",
      "historyLen: 415\twillingLoss 0.01\tdistFromMiddleThreshold 0.01\tdiffThreshold 0.03\t"
     ]
    },
    {
     "ename": "KeyboardInterrupt",
     "evalue": "",
     "output_type": "error",
     "traceback": [
      "\u001b[1;31m---------------------------------------------------------------------------\u001b[0m",
      "\u001b[1;31mKeyboardInterrupt\u001b[0m                         Traceback (most recent call last)",
      "\u001b[1;32m<ipython-input-79-85fe53e1f08f>\u001b[0m in \u001b[0;36m<module>\u001b[1;34m()\u001b[0m\n\u001b[0;32m     18\u001b[0m                                                   \u001b[0mwillingLoss\u001b[0m\u001b[1;33m=\u001b[0m\u001b[0mwillingLoss\u001b[0m\u001b[1;33m,\u001b[0m \u001b[0mdistFromMiddleThreshold\u001b[0m\u001b[1;33m=\u001b[0m\u001b[0mdistFromMiddleThreshold\u001b[0m\u001b[1;33m,\u001b[0m\u001b[1;33m\u001b[0m\u001b[0m\n\u001b[0;32m     19\u001b[0m                                                   diffThreshold=diffThreshold)\n\u001b[1;32m---> 20\u001b[1;33m                 \u001b[0mstrategy\u001b[0m\u001b[1;33m.\u001b[0m\u001b[0mtrade\u001b[0m\u001b[1;33m(\u001b[0m\u001b[1;33m)\u001b[0m\u001b[1;33m\u001b[0m\u001b[0m\n\u001b[0m\u001b[0;32m     21\u001b[0m                 \u001b[0mstats\u001b[0m \u001b[1;33m=\u001b[0m \u001b[0mstrategy\u001b[0m\u001b[1;33m.\u001b[0m\u001b[0mstats\u001b[0m\u001b[1;33m(\u001b[0m\u001b[1;34m'usdt'\u001b[0m\u001b[1;33m)\u001b[0m\u001b[1;33m.\u001b[0m\u001b[0mreport\u001b[0m\u001b[1;33m(\u001b[0m\u001b[1;33m)\u001b[0m\u001b[1;33m.\u001b[0m\u001b[0mtranspose\u001b[0m\u001b[1;33m(\u001b[0m\u001b[1;33m)\u001b[0m\u001b[1;33m.\u001b[0m\u001b[0mreset_index\u001b[0m\u001b[1;33m(\u001b[0m\u001b[1;33m)\u001b[0m\u001b[1;33m.\u001b[0m\u001b[0mrename\u001b[0m\u001b[1;33m(\u001b[0m\u001b[0mcolumns\u001b[0m\u001b[1;33m=\u001b[0m\u001b[1;33m{\u001b[0m\u001b[1;34m'index'\u001b[0m\u001b[1;33m:\u001b[0m \u001b[1;34m'contract'\u001b[0m\u001b[1;33m}\u001b[0m\u001b[1;33m)\u001b[0m\u001b[1;33m\u001b[0m\u001b[0m\n\u001b[0;32m     22\u001b[0m                 \u001b[0mstats\u001b[0m\u001b[1;33m[\u001b[0m\u001b[1;34m'historyLen'\u001b[0m\u001b[1;33m]\u001b[0m \u001b[1;33m=\u001b[0m \u001b[0mhistoryLen\u001b[0m\u001b[1;33m\u001b[0m\u001b[0m\n",
      "\u001b[1;32m<ipython-input-41-2db3e75b0220>\u001b[0m in \u001b[0;36mtrade\u001b[1;34m(self)\u001b[0m\n\u001b[0;32m     54\u001b[0m             \u001b[0mlastLow\u001b[0m \u001b[1;33m=\u001b[0m \u001b[0mhistory\u001b[0m\u001b[1;33m[\u001b[0m\u001b[1;34m'low'\u001b[0m\u001b[1;33m]\u001b[0m\u001b[1;33m.\u001b[0m\u001b[0miloc\u001b[0m\u001b[1;33m[\u001b[0m\u001b[1;33m-\u001b[0m\u001b[1;36m1\u001b[0m\u001b[1;33m]\u001b[0m\u001b[1;33m\u001b[0m\u001b[0m\n\u001b[0;32m     55\u001b[0m             \u001b[0mlastHigh\u001b[0m \u001b[1;33m=\u001b[0m \u001b[0mhistory\u001b[0m\u001b[1;33m[\u001b[0m\u001b[1;34m'high'\u001b[0m\u001b[1;33m]\u001b[0m\u001b[1;33m.\u001b[0m\u001b[0miloc\u001b[0m\u001b[1;33m[\u001b[0m\u001b[1;33m-\u001b[0m\u001b[1;36m1\u001b[0m\u001b[1;33m]\u001b[0m\u001b[1;33m\u001b[0m\u001b[0m\n\u001b[1;32m---> 56\u001b[1;33m             \u001b[0mlastClose\u001b[0m \u001b[1;33m=\u001b[0m \u001b[0mhistory\u001b[0m\u001b[1;33m[\u001b[0m\u001b[1;34m'close'\u001b[0m\u001b[1;33m]\u001b[0m\u001b[1;33m.\u001b[0m\u001b[0miloc\u001b[0m\u001b[1;33m[\u001b[0m\u001b[1;33m-\u001b[0m\u001b[1;36m1\u001b[0m\u001b[1;33m]\u001b[0m\u001b[1;33m\u001b[0m\u001b[0m\n\u001b[0m\u001b[0;32m     57\u001b[0m             \u001b[0mlastOpen\u001b[0m \u001b[1;33m=\u001b[0m \u001b[0mhistory\u001b[0m\u001b[1;33m[\u001b[0m\u001b[1;34m'open'\u001b[0m\u001b[1;33m]\u001b[0m\u001b[1;33m.\u001b[0m\u001b[0miloc\u001b[0m\u001b[1;33m[\u001b[0m\u001b[1;33m-\u001b[0m\u001b[1;36m1\u001b[0m\u001b[1;33m]\u001b[0m\u001b[1;33m\u001b[0m\u001b[0m\n\u001b[0;32m     58\u001b[0m             \u001b[1;32mif\u001b[0m \u001b[1;32mnot\u001b[0m \u001b[0mself\u001b[0m\u001b[1;33m.\u001b[0m\u001b[0mopened\u001b[0m \u001b[1;32mand\u001b[0m \u001b[0mwasBellow\u001b[0m \u001b[1;32mand\u001b[0m \u001b[0mlastLow\u001b[0m \u001b[1;33m>\u001b[0m \u001b[0mlower\u001b[0m \u001b[1;32mand\u001b[0m \u001b[1;33m(\u001b[0m\u001b[0mupper\u001b[0m\u001b[1;33m-\u001b[0m\u001b[0mlower\u001b[0m\u001b[1;33m)\u001b[0m \u001b[1;33m/\u001b[0m \u001b[0mupper\u001b[0m \u001b[1;33m<\u001b[0m \u001b[0mself\u001b[0m\u001b[1;33m.\u001b[0m\u001b[0mdiffThreshold\u001b[0m\u001b[1;33m:\u001b[0m\u001b[1;33m\u001b[0m\u001b[0m\n",
      "\u001b[1;32mC:\\Anaconda3\\lib\\site-packages\\pandas\\core\\indexing.py\u001b[0m in \u001b[0;36m__getitem__\u001b[1;34m(self, key)\u001b[0m\n\u001b[0;32m   1326\u001b[0m         \u001b[1;32melse\u001b[0m\u001b[1;33m:\u001b[0m\u001b[1;33m\u001b[0m\u001b[0m\n\u001b[0;32m   1327\u001b[0m             \u001b[0mkey\u001b[0m \u001b[1;33m=\u001b[0m \u001b[0mcom\u001b[0m\u001b[1;33m.\u001b[0m\u001b[0m_apply_if_callable\u001b[0m\u001b[1;33m(\u001b[0m\u001b[0mkey\u001b[0m\u001b[1;33m,\u001b[0m \u001b[0mself\u001b[0m\u001b[1;33m.\u001b[0m\u001b[0mobj\u001b[0m\u001b[1;33m)\u001b[0m\u001b[1;33m\u001b[0m\u001b[0m\n\u001b[1;32m-> 1328\u001b[1;33m             \u001b[1;32mreturn\u001b[0m \u001b[0mself\u001b[0m\u001b[1;33m.\u001b[0m\u001b[0m_getitem_axis\u001b[0m\u001b[1;33m(\u001b[0m\u001b[0mkey\u001b[0m\u001b[1;33m,\u001b[0m \u001b[0maxis\u001b[0m\u001b[1;33m=\u001b[0m\u001b[1;36m0\u001b[0m\u001b[1;33m)\u001b[0m\u001b[1;33m\u001b[0m\u001b[0m\n\u001b[0m\u001b[0;32m   1329\u001b[0m \u001b[1;33m\u001b[0m\u001b[0m\n\u001b[0;32m   1330\u001b[0m     \u001b[1;32mdef\u001b[0m \u001b[0m_is_scalar_access\u001b[0m\u001b[1;33m(\u001b[0m\u001b[0mself\u001b[0m\u001b[1;33m,\u001b[0m \u001b[0mkey\u001b[0m\u001b[1;33m)\u001b[0m\u001b[1;33m:\u001b[0m\u001b[1;33m\u001b[0m\u001b[0m\n",
      "\u001b[1;32mC:\\Anaconda3\\lib\\site-packages\\pandas\\core\\indexing.py\u001b[0m in \u001b[0;36m_getitem_axis\u001b[1;34m(self, key, axis)\u001b[0m\n\u001b[0;32m   1730\u001b[0m                 \u001b[1;32mpass\u001b[0m\u001b[1;33m\u001b[0m\u001b[0m\n\u001b[0;32m   1731\u001b[0m \u001b[1;33m\u001b[0m\u001b[0m\n\u001b[1;32m-> 1732\u001b[1;33m         \u001b[1;32mif\u001b[0m \u001b[0mis_bool_indexer\u001b[0m\u001b[1;33m(\u001b[0m\u001b[0mkey\u001b[0m\u001b[1;33m)\u001b[0m\u001b[1;33m:\u001b[0m\u001b[1;33m\u001b[0m\u001b[0m\n\u001b[0m\u001b[0;32m   1733\u001b[0m             \u001b[0mself\u001b[0m\u001b[1;33m.\u001b[0m\u001b[0m_has_valid_type\u001b[0m\u001b[1;33m(\u001b[0m\u001b[0mkey\u001b[0m\u001b[1;33m,\u001b[0m \u001b[0maxis\u001b[0m\u001b[1;33m)\u001b[0m\u001b[1;33m\u001b[0m\u001b[0m\n\u001b[0;32m   1734\u001b[0m             \u001b[1;32mreturn\u001b[0m \u001b[0mself\u001b[0m\u001b[1;33m.\u001b[0m\u001b[0m_getbool_axis\u001b[0m\u001b[1;33m(\u001b[0m\u001b[0mkey\u001b[0m\u001b[1;33m,\u001b[0m \u001b[0maxis\u001b[0m\u001b[1;33m=\u001b[0m\u001b[0maxis\u001b[0m\u001b[1;33m)\u001b[0m\u001b[1;33m\u001b[0m\u001b[0m\n",
      "\u001b[1;32mC:\\Anaconda3\\lib\\site-packages\\pandas\\core\\common.py\u001b[0m in \u001b[0;36mis_bool_indexer\u001b[1;34m(key)\u001b[0m\n\u001b[0;32m    181\u001b[0m \u001b[1;33m\u001b[0m\u001b[0m\n\u001b[0;32m    182\u001b[0m \u001b[1;32mdef\u001b[0m \u001b[0mis_bool_indexer\u001b[0m\u001b[1;33m(\u001b[0m\u001b[0mkey\u001b[0m\u001b[1;33m)\u001b[0m\u001b[1;33m:\u001b[0m\u001b[1;33m\u001b[0m\u001b[0m\n\u001b[1;32m--> 183\u001b[1;33m     \u001b[1;32mif\u001b[0m \u001b[0misinstance\u001b[0m\u001b[1;33m(\u001b[0m\u001b[0mkey\u001b[0m\u001b[1;33m,\u001b[0m \u001b[1;33m(\u001b[0m\u001b[0mABCSeries\u001b[0m\u001b[1;33m,\u001b[0m \u001b[0mnp\u001b[0m\u001b[1;33m.\u001b[0m\u001b[0mndarray\u001b[0m\u001b[1;33m)\u001b[0m\u001b[1;33m)\u001b[0m\u001b[1;33m:\u001b[0m\u001b[1;33m\u001b[0m\u001b[0m\n\u001b[0m\u001b[0;32m    184\u001b[0m         \u001b[1;32mif\u001b[0m \u001b[0mkey\u001b[0m\u001b[1;33m.\u001b[0m\u001b[0mdtype\u001b[0m \u001b[1;33m==\u001b[0m \u001b[0mnp\u001b[0m\u001b[1;33m.\u001b[0m\u001b[0mobject_\u001b[0m\u001b[1;33m:\u001b[0m\u001b[1;33m\u001b[0m\u001b[0m\n\u001b[0;32m    185\u001b[0m             \u001b[0mkey\u001b[0m \u001b[1;33m=\u001b[0m \u001b[0mnp\u001b[0m\u001b[1;33m.\u001b[0m\u001b[0masarray\u001b[0m\u001b[1;33m(\u001b[0m\u001b[0m_values_from_object\u001b[0m\u001b[1;33m(\u001b[0m\u001b[0mkey\u001b[0m\u001b[1;33m)\u001b[0m\u001b[1;33m)\u001b[0m\u001b[1;33m\u001b[0m\u001b[0m\n",
      "\u001b[1;32mC:\\Anaconda3\\lib\\site-packages\\pandas\\core\\dtypes\\generic.py\u001b[0m in \u001b[0;36m_check\u001b[1;34m(cls, inst)\u001b[0m\n\u001b[0;32m      7\u001b[0m     \u001b[1;33m@\u001b[0m\u001b[0mclassmethod\u001b[0m\u001b[1;33m\u001b[0m\u001b[0m\n\u001b[0;32m      8\u001b[0m     \u001b[1;32mdef\u001b[0m \u001b[0m_check\u001b[0m\u001b[1;33m(\u001b[0m\u001b[0mcls\u001b[0m\u001b[1;33m,\u001b[0m \u001b[0minst\u001b[0m\u001b[1;33m)\u001b[0m\u001b[1;33m:\u001b[0m\u001b[1;33m\u001b[0m\u001b[0m\n\u001b[1;32m----> 9\u001b[1;33m         \u001b[1;32mreturn\u001b[0m \u001b[0mgetattr\u001b[0m\u001b[1;33m(\u001b[0m\u001b[0minst\u001b[0m\u001b[1;33m,\u001b[0m \u001b[0mattr\u001b[0m\u001b[1;33m,\u001b[0m \u001b[1;34m'_typ'\u001b[0m\u001b[1;33m)\u001b[0m \u001b[1;32min\u001b[0m \u001b[0mcomp\u001b[0m\u001b[1;33m\u001b[0m\u001b[0m\n\u001b[0m\u001b[0;32m     10\u001b[0m \u001b[1;33m\u001b[0m\u001b[0m\n\u001b[0;32m     11\u001b[0m     \u001b[0mdct\u001b[0m \u001b[1;33m=\u001b[0m \u001b[0mdict\u001b[0m\u001b[1;33m(\u001b[0m\u001b[0m__instancecheck__\u001b[0m\u001b[1;33m=\u001b[0m\u001b[0m_check\u001b[0m\u001b[1;33m,\u001b[0m \u001b[0m__subclasscheck__\u001b[0m\u001b[1;33m=\u001b[0m\u001b[0m_check\u001b[0m\u001b[1;33m)\u001b[0m\u001b[1;33m\u001b[0m\u001b[0m\n",
      "\u001b[1;31mKeyboardInterrupt\u001b[0m: "
     ]
    }
   ],
   "source": [
    "import time, sys\n",
    "\n",
    "allStats = None\n",
    "for historyLen in [15, 20, 30, 50]:\n",
    "    for willingLoss in [.01, .03, .05, .1, .2, .4, .5]:\n",
    "        for distFromMiddleThreshold in [.01, .02, .05, .07, .1, .2,]:\n",
    "            for diffThreshold in [.01, .02, .03]:\n",
    "                print('historyLen:', historyLen, end='\\t')\n",
    "                print('willingLoss', willingLoss, end='\\t')\n",
    "                print('distFromMiddleThreshold', distFromMiddleThreshold, end='\\t')\n",
    "                print('diffThreshold', diffThreshold, end='\\t')\n",
    "                sys.stdout.flush()\n",
    "                \n",
    "                start_time = time.time()\n",
    "                dataManager = deepcopy(usdtBtcManagerTrain)\n",
    "                exchange = BackTestExchange(dataManager, deepcopy(wallet), 0.0025)\n",
    "                strategy = BollingerBandsStrategy(exchange, dataManager, historyLen, contractPair, 100, \n",
    "                                                  willingLoss=willingLoss, distFromMiddleThreshold=distFromMiddleThreshold, \n",
    "                                                  diffThreshold=diffThreshold)\n",
    "                strategy.trade()\n",
    "                stats = strategy.stats('usdt').report().transpose().reset_index().rename(columns={'index': 'contract'})\n",
    "                stats['historyLen'] = historyLen\n",
    "                stats['willingLoss'] = willingLoss\n",
    "                stats['distFromMiddleThreshold'] = distFromMiddleThreshold\n",
    "                stats['diffThreshold'] = diffThreshold\n",
    "                if allStats is None:\n",
    "                    allStats = stats\n",
    "                else:\n",
    "                    allStats = allStats.append(stats)\n",
    "                print(\"%.2f seconds\" % (time.time() - start_time))\n",
    "allStats.to_csv('bbandsResult.tsv', index=False, sep='\\t')"
   ]
  },
  {
   "cell_type": "code",
   "execution_count": 77,
   "metadata": {
    "collapsed": false
   },
   "outputs": [],
   "source": []
  },
  {
   "cell_type": "markdown",
   "metadata": {},
   "source": [
    "# Look on transactions"
   ]
  },
  {
   "cell_type": "code",
   "execution_count": 21,
   "metadata": {
    "collapsed": true
   },
   "outputs": [],
   "source": [
    "from matplotlib.finance import candlestick_ohlc\n",
    "import matplotlib.dates as mdates\n",
    "\n",
    "import time\n",
    "import datetime as dt\n",
    "\n",
    "def timestampToDate(timestamp):\n",
    "    return dt.datetime.fromtimestamp(int(timestamp))\n",
    "\n",
    "def strTimeToTimestamp(strTime):\n",
    "    return dt.datetime.strptime(strTime, \"%Y-%m-%d %H:%M:%S\").timestamp()\n",
    "\n",
    "\n",
    "def calculateMA(history, col, timePeriod):\n",
    "        return calculateTalib('MA', {col: history[col].values}, {'timeperiod': timePeriod})\n",
    "\n",
    "\n",
    "def plotCandles(df, currencyPair):\n",
    "    DATA = df[['open', 'high', 'low', 'close', 'volume', 'date', 'timestamp']].copy()\n",
    "    DATA = DATA.reset_index()\n",
    "    DATA[\"dateStr\"] = DATA[\"date\"]\n",
    "    DATA[\"date\"]  = DATA[\"timestamp\"].apply(timestampToDate).apply(mdates.date2num)\n",
    "\n",
    "    plt.figure(figsize=(16, 8))\n",
    "    ax = plt.gca()\n",
    "    candlestick_ohlc(ax, DATA.values, width=.6, colorup='#53c156', colordown='#ff1717')\n",
    "\n",
    "    ax.xaxis_date()\n",
    "    \n",
    "    xDates = DATA['dateStr']\n",
    "    step = int(xDates.shape[0] / 20) + 1\n",
    "    xDates[[i for i in range(xDates.shape[0]) if i % step != 0]] = ''\n",
    "    \n",
    "    plt.xticks(range(DATA.shape[0]), DATA['dateStr'], rotation=45)\n",
    "    plt.title(currencyPair, fontproperties=titleFont)\n",
    "    \n",
    "\n",
    "def plotMA(df, col, timeperiod):\n",
    "    ma = calculateMA(df, col, timeperiod)\n",
    "    return plt.plot(ma)\n",
    "\n",
    "\n",
    "def calculateBB(history, col, timePeriod):\n",
    "        upper, middle, lower = calculateTalib('BBANDS', {col: history[col].values}, {'timeperiod': timePeriod})\n",
    "        return upper, middle, lower\n",
    "\n",
    "\n",
    "def plotBB(df, col, timeperiod):\n",
    "    upper, middle, lower = calculateBB(df, col, timeperiod)\n",
    "    return plt.plot(upper), plt.plot(middle), plt.plot(lower)\n",
    "\n",
    "\n",
    "def plotTransaction(transaction, i):\n",
    "    color = 'k' if type(transaction) == BuyTransaction else 'm'\n",
    "    plt.scatter(i, transaction.price.value, s=200, c=color)\n",
    "\n",
    "    \n",
    "def plotTransactionWithSurroundings(prices, timePeriod, transaction):\n",
    "    i = transaction.timestamp\n",
    "    start = i - 40 if i - 20 > 0 else 0\n",
    "    end = i + 20 if i + 20 < prices.shape[0] else prices.shape[0]-1\n",
    "    selected = prices.ix[start:end, :].reset_index()\n",
    "    plotCandles(selected, '')\n",
    "    plotTransaction(transaction, 39)\n",
    "    l1, l2, l3 = plotBB(selected, 'close', timePeriod)\n",
    "    plt.legend(l1+l2+l3, ['Upper', 'Mean', 'Lower'])"
   ]
  },
  {
   "cell_type": "code",
   "execution_count": 37,
   "metadata": {
    "collapsed": false
   },
   "outputs": [
    {
     "data": {
      "text/plain": [
       "506"
      ]
     },
     "execution_count": 37,
     "metadata": {},
     "output_type": "execute_result"
    }
   ],
   "source": [
    "len(strategy.exchange.transactions)"
   ]
  },
  {
   "cell_type": "code",
   "execution_count": null,
   "metadata": {
    "collapsed": true
   },
   "outputs": [],
   "source": []
  },
  {
   "cell_type": "code",
   "execution_count": 38,
   "metadata": {
    "collapsed": false,
    "scrolled": false
   },
   "outputs": [
    {
     "name": "stderr",
     "output_type": "stream",
     "text": [
      "C:\\Anaconda3\\lib\\site-packages\\ipykernel\\__main__.py:32: SettingWithCopyWarning: \n",
      "A value is trying to be set on a copy of a slice from a DataFrame\n",
      "\n",
      "See the caveats in the documentation: http://pandas.pydata.org/pandas-docs/stable/indexing.html#indexing-view-versus-copy\n"
     ]
    },
    {
     "data": {
      "image/png": "[encoded data removed]",
      "text/plain": [
       "<matplotlib.figure.Figure at 0x1f38eb5ef28>"
      ]
     },
     "metadata": {},
     "output_type": "display_data"
    },
    {
     "data": {
      "image/png": "[encoded data removed]",
      "text/plain": [
       "<matplotlib.figure.Figure at 0x1f38f7f74a8>"
      ]
     },
     "metadata": {},
     "output_type": "display_data"
    }
   ],
   "source": [
    "t = 500\n",
    "\n",
    "transaction = strategy.exchange.transactions[t]\n",
    "plotTransactionWithSurroundings(usdtBtcTrain, 20, transaction)\n",
    "transaction = strategy.exchange.transactions[t+1]\n",
    "plotTransactionWithSurroundings(usdtBtcTrain, 20, transaction)"
   ]
  },
  {
   "cell_type": "code",
   "execution_count": null,
   "metadata": {
    "collapsed": true
   },
   "outputs": [],
   "source": [
    "transaction"
   ]
  },
  {
   "cell_type": "markdown",
   "metadata": {},
   "source": [
    "# Evaluate Statistics Crossover MA"
   ]
  },
  {
   "cell_type": "code",
   "execution_count": 6,
   "metadata": {
    "collapsed": true
   },
   "outputs": [],
   "source": [
    "allStats = pd.read_csv('D:\\\\Dropbox\\\\My work\\\\krypl-project\\\\result\\\\bbandsResult.tsv',sep='\\t')"
   ]
  },
  {
   "cell_type": "code",
   "execution_count": 16,
   "metadata": {
    "collapsed": false,
    "scrolled": true
   },
   "outputs": [
    {
     "data": {
      "text/html": [
       "<div>\n",
       "<style>\n",
       "    .dataframe thead tr:only-child th {\n",
       "        text-align: right;\n",
       "    }\n",
       "\n",
       "    .dataframe thead th {\n",
       "        text-align: left;\n",
       "    }\n",
       "\n",
       "    .dataframe tbody tr th {\n",
       "        vertical-align: top;\n",
       "    }\n",
       "</style>\n",
       "<table border=\"1\" class=\"dataframe\">\n",
       "  <thead>\n",
       "    <tr style=\"text-align: right;\">\n",
       "      <th></th>\n",
       "      <th>contract</th>\n",
       "      <th>startAmount</th>\n",
       "      <th>numberOfTrades</th>\n",
       "      <th>totalProfit</th>\n",
       "      <th>avgProfit</th>\n",
       "      <th>winPercentage</th>\n",
       "      <th>avgWinTrade</th>\n",
       "      <th>avgLossTrade</th>\n",
       "      <th>profitFactor</th>\n",
       "      <th>maxDrawdown</th>\n",
       "      <th>historyLen</th>\n",
       "      <th>willingLoss</th>\n",
       "      <th>distFromMiddleThreshold</th>\n",
       "      <th>diffThreshold</th>\n",
       "    </tr>\n",
       "  </thead>\n",
       "  <tbody>\n",
       "    <tr>\n",
       "      <th>273</th>\n",
       "      <td>usdt</td>\n",
       "      <td>1,000.0000</td>\n",
       "      <td>56.0000</td>\n",
       "      <td>101.8809</td>\n",
       "      <td>1.8193</td>\n",
       "      <td>57.1429</td>\n",
       "      <td>6.0826</td>\n",
       "      <td>-3.8651</td>\n",
       "      <td>2.0983</td>\n",
       "      <td>2.3395</td>\n",
       "      <td>30</td>\n",
       "      <td>0.0300</td>\n",
       "      <td>0.0200</td>\n",
       "      <td>0.0100</td>\n",
       "    </tr>\n",
       "    <tr>\n",
       "      <th>205</th>\n",
       "      <td>usdt</td>\n",
       "      <td>1,000.0000</td>\n",
       "      <td>10.0000</td>\n",
       "      <td>93.2724</td>\n",
       "      <td>9.3272</td>\n",
       "      <td>60.0000</td>\n",
       "      <td>46.0404</td>\n",
       "      <td>-20.6800</td>\n",
       "      <td>3.3395</td>\n",
       "      <td>2.6947</td>\n",
       "      <td>20</td>\n",
       "      <td>0.2000</td>\n",
       "      <td>0.0500</td>\n",
       "      <td>0.0200</td>\n",
       "    </tr>\n",
       "    <tr>\n",
       "      <th>206</th>\n",
       "      <td>usdt</td>\n",
       "      <td>1,000.0000</td>\n",
       "      <td>10.0000</td>\n",
       "      <td>97.4533</td>\n",
       "      <td>9.7453</td>\n",
       "      <td>60.0000</td>\n",
       "      <td>46.7573</td>\n",
       "      <td>-20.7102</td>\n",
       "      <td>3.3865</td>\n",
       "      <td>3.1522</td>\n",
       "      <td>20</td>\n",
       "      <td>0.2000</td>\n",
       "      <td>0.0500</td>\n",
       "      <td>0.0300</td>\n",
       "    </tr>\n",
       "    <tr>\n",
       "      <th>79</th>\n",
       "      <td>usdt</td>\n",
       "      <td>1,000.0000</td>\n",
       "      <td>9.0000</td>\n",
       "      <td>115.9220</td>\n",
       "      <td>12.8802</td>\n",
       "      <td>55.5556</td>\n",
       "      <td>59.7695</td>\n",
       "      <td>-20.6689</td>\n",
       "      <td>3.6147</td>\n",
       "      <td>2.3965</td>\n",
       "      <td>15</td>\n",
       "      <td>0.2000</td>\n",
       "      <td>0.0500</td>\n",
       "      <td>0.0200</td>\n",
       "    </tr>\n",
       "    <tr>\n",
       "      <th>80</th>\n",
       "      <td>usdt</td>\n",
       "      <td>1,000.0000</td>\n",
       "      <td>9.0000</td>\n",
       "      <td>123.5979</td>\n",
       "      <td>13.7331</td>\n",
       "      <td>55.5556</td>\n",
       "      <td>61.3324</td>\n",
       "      <td>-20.7035</td>\n",
       "      <td>3.7030</td>\n",
       "      <td>2.5426</td>\n",
       "      <td>15</td>\n",
       "      <td>0.2000</td>\n",
       "      <td>0.0500</td>\n",
       "      <td>0.0300</td>\n",
       "    </tr>\n",
       "    <tr>\n",
       "      <th>204</th>\n",
       "      <td>usdt</td>\n",
       "      <td>1,000.0000</td>\n",
       "      <td>9.0000</td>\n",
       "      <td>90.1667</td>\n",
       "      <td>10.0185</td>\n",
       "      <td>66.6667</td>\n",
       "      <td>42.0064</td>\n",
       "      <td>-20.5405</td>\n",
       "      <td>4.0901</td>\n",
       "      <td>2.0512</td>\n",
       "      <td>20</td>\n",
       "      <td>0.2000</td>\n",
       "      <td>0.0500</td>\n",
       "      <td>0.0100</td>\n",
       "    </tr>\n",
       "    <tr>\n",
       "      <th>78</th>\n",
       "      <td>usdt</td>\n",
       "      <td>1,000.0000</td>\n",
       "      <td>8.0000</td>\n",
       "      <td>107.7693</td>\n",
       "      <td>13.4712</td>\n",
       "      <td>62.5000</td>\n",
       "      <td>53.9215</td>\n",
       "      <td>-20.5294</td>\n",
       "      <td>4.3776</td>\n",
       "      <td>2.0479</td>\n",
       "      <td>15</td>\n",
       "      <td>0.2000</td>\n",
       "      <td>0.0500</td>\n",
       "      <td>0.0100</td>\n",
       "    </tr>\n",
       "    <tr>\n",
       "      <th>96</th>\n",
       "      <td>usdt</td>\n",
       "      <td>1,000.0000</td>\n",
       "      <td>5.0000</td>\n",
       "      <td>99.2789</td>\n",
       "      <td>19.8558</td>\n",
       "      <td>100.0000</td>\n",
       "      <td>39.9058</td>\n",
       "      <td>0.0000</td>\n",
       "      <td>inf</td>\n",
       "      <td>0.0000</td>\n",
       "      <td>15</td>\n",
       "      <td>0.4000</td>\n",
       "      <td>0.0500</td>\n",
       "      <td>0.0100</td>\n",
       "    </tr>\n",
       "    <tr>\n",
       "      <th>114</th>\n",
       "      <td>usdt</td>\n",
       "      <td>1,000.0000</td>\n",
       "      <td>5.0000</td>\n",
       "      <td>99.2789</td>\n",
       "      <td>19.8558</td>\n",
       "      <td>100.0000</td>\n",
       "      <td>39.9058</td>\n",
       "      <td>0.0000</td>\n",
       "      <td>inf</td>\n",
       "      <td>0.0000</td>\n",
       "      <td>15</td>\n",
       "      <td>0.5000</td>\n",
       "      <td>0.0500</td>\n",
       "      <td>0.0100</td>\n",
       "    </tr>\n",
       "  </tbody>\n",
       "</table>\n",
       "</div>"
      ],
      "text/plain": [
       "    contract  startAmount  numberOfTrades  totalProfit  avgProfit  \\\n",
       "273     usdt   1,000.0000         56.0000     101.8809     1.8193   \n",
       "205     usdt   1,000.0000         10.0000      93.2724     9.3272   \n",
       "206     usdt   1,000.0000         10.0000      97.4533     9.7453   \n",
       "79      usdt   1,000.0000          9.0000     115.9220    12.8802   \n",
       "80      usdt   1,000.0000          9.0000     123.5979    13.7331   \n",
       "204     usdt   1,000.0000          9.0000      90.1667    10.0185   \n",
       "78      usdt   1,000.0000          8.0000     107.7693    13.4712   \n",
       "96      usdt   1,000.0000          5.0000      99.2789    19.8558   \n",
       "114     usdt   1,000.0000          5.0000      99.2789    19.8558   \n",
       "\n",
       "     winPercentage  avgWinTrade  avgLossTrade  profitFactor  maxDrawdown  \\\n",
       "273        57.1429       6.0826       -3.8651        2.0983       2.3395   \n",
       "205        60.0000      46.0404      -20.6800        3.3395       2.6947   \n",
       "206        60.0000      46.7573      -20.7102        3.3865       3.1522   \n",
       "79         55.5556      59.7695      -20.6689        3.6147       2.3965   \n",
       "80         55.5556      61.3324      -20.7035        3.7030       2.5426   \n",
       "204        66.6667      42.0064      -20.5405        4.0901       2.0512   \n",
       "78         62.5000      53.9215      -20.5294        4.3776       2.0479   \n",
       "96        100.0000      39.9058        0.0000           inf       0.0000   \n",
       "114       100.0000      39.9058        0.0000           inf       0.0000   \n",
       "\n",
       "     historyLen  willingLoss  distFromMiddleThreshold  diffThreshold  \n",
       "273          30       0.0300                   0.0200         0.0100  \n",
       "205          20       0.2000                   0.0500         0.0200  \n",
       "206          20       0.2000                   0.0500         0.0300  \n",
       "79           15       0.2000                   0.0500         0.0200  \n",
       "80           15       0.2000                   0.0500         0.0300  \n",
       "204          20       0.2000                   0.0500         0.0100  \n",
       "78           15       0.2000                   0.0500         0.0100  \n",
       "96           15       0.4000                   0.0500         0.0100  \n",
       "114          15       0.5000                   0.0500         0.0100  "
      ]
     },
     "execution_count": 16,
     "metadata": {},
     "output_type": "execute_result"
    }
   ],
   "source": [
    "allStats.query('totalProfit > 90 and winPercentage > 50').sort_values('numberOfTrades', ascending=False)"
   ]
  },
  {
   "cell_type": "code",
   "execution_count": null,
   "metadata": {
    "collapsed": true
   },
   "outputs": [],
   "source": []
  },
  {
   "cell_type": "code",
   "execution_count": 8,
   "metadata": {
    "collapsed": false
   },
   "outputs": [
    {
     "data": {
      "text/html": [
       "<div>\n",
       "<style>\n",
       "    .dataframe thead tr:only-child th {\n",
       "        text-align: right;\n",
       "    }\n",
       "\n",
       "    .dataframe thead th {\n",
       "        text-align: left;\n",
       "    }\n",
       "\n",
       "    .dataframe tbody tr th {\n",
       "        vertical-align: top;\n",
       "    }\n",
       "</style>\n",
       "<table border=\"1\" class=\"dataframe\">\n",
       "  <thead>\n",
       "    <tr style=\"text-align: right;\">\n",
       "      <th></th>\n",
       "      <th>usdt</th>\n",
       "    </tr>\n",
       "  </thead>\n",
       "  <tbody>\n",
       "    <tr>\n",
       "      <th>startAmount</th>\n",
       "      <td>1,000.0000</td>\n",
       "    </tr>\n",
       "    <tr>\n",
       "      <th>numberOfTrades</th>\n",
       "      <td>21.0000</td>\n",
       "    </tr>\n",
       "    <tr>\n",
       "      <th>totalProfit</th>\n",
       "      <td>260.8806</td>\n",
       "    </tr>\n",
       "    <tr>\n",
       "      <th>avgProfit</th>\n",
       "      <td>12.4229</td>\n",
       "    </tr>\n",
       "    <tr>\n",
       "      <th>winPercentage</th>\n",
       "      <td>61.9048</td>\n",
       "    </tr>\n",
       "    <tr>\n",
       "      <th>avgWinTrade</th>\n",
       "      <td>42.9565</td>\n",
       "    </tr>\n",
       "    <tr>\n",
       "      <th>avgLossTrade</th>\n",
       "      <td>-37.1942</td>\n",
       "    </tr>\n",
       "    <tr>\n",
       "      <th>profitFactor</th>\n",
       "      <td>1.8768</td>\n",
       "    </tr>\n",
       "    <tr>\n",
       "      <th>maxDrawdown</th>\n",
       "      <td>6.7830</td>\n",
       "    </tr>\n",
       "  </tbody>\n",
       "</table>\n",
       "</div>"
      ],
      "text/plain": [
       "                     usdt\n",
       "startAmount    1,000.0000\n",
       "numberOfTrades    21.0000\n",
       "totalProfit      260.8806\n",
       "avgProfit         12.4229\n",
       "winPercentage     61.9048\n",
       "avgWinTrade       42.9565\n",
       "avgLossTrade     -37.1942\n",
       "profitFactor       1.8768\n",
       "maxDrawdown        6.7830"
      ]
     },
     "execution_count": 8,
     "metadata": {},
     "output_type": "execute_result"
    }
   ],
   "source": [
    "dataManager = deepcopy(usdtBtcManagerTest)\n",
    "exchange = BackTestExchange(dataManager, deepcopy(wallet), 0.0025)\n",
    "strategy = BollingerBandsStrategy(exchange, dataManager, 30, contractPair, 100, willingLoss=0.03, distFromMiddleThreshold=0.02, diffThreshold=0.01)\n",
    "strategy.trade()\n",
    "strategy.stats('usdt').report()"
   ]
  },
  {
   "cell_type": "markdown",
   "metadata": {},
   "source": [
    "# Distance of lower and upper"
   ]
  },
  {
   "cell_type": "code",
   "execution_count": 7,
   "metadata": {
    "collapsed": true
   },
   "outputs": [],
   "source": [
    "def distanceOfBB(df, col='close', timePeriod=20):\n",
    "    upper, middle, lower = calculateBB(df, col, timePeriod)\n",
    "    return (upper-lower) / upper"
   ]
  },
  {
   "cell_type": "code",
   "execution_count": 8,
   "metadata": {
    "collapsed": true
   },
   "outputs": [],
   "source": [
    "tmpData = usdtBtcTrain.copy()\n",
    "tmpData['diffBB'] = distanceOfBB(tmpData)"
   ]
  },
  {
   "cell_type": "code",
   "execution_count": 17,
   "metadata": {
    "collapsed": false
   },
   "outputs": [
    {
     "data": {
      "text/plain": [
       "<matplotlib.axes._subplots.AxesSubplot at 0x1f38e8b3e80>"
      ]
     },
     "execution_count": 17,
     "metadata": {},
     "output_type": "execute_result"
    },
    {
     "data": {
      "image/png": "[encoded data removed]",
      "text/plain": [
       "<matplotlib.figure.Figure at 0x1f38e85e358>"
      ]
     },
     "metadata": {},
     "output_type": "display_data"
    }
   ],
   "source": [
    "plt.figure(figsize=[12, 6])\n",
    "sns.distplot(tmpData.query('diffBB < 0.05')['diffBB'].dropna())"
   ]
  },
  {
   "cell_type": "markdown",
   "metadata": {
    "collapsed": true
   },
   "source": [
    "# Explore maximum return per day"
   ]
  },
  {
   "cell_type": "code",
   "execution_count": 22,
   "metadata": {
    "collapsed": false
   },
   "outputs": [],
   "source": [
    "tmpData = usdtBtc.copy()\n",
    "tmpData['day'] = tmpData['date'].apply(lambda x: x[:10])\n",
    "grouped = tmpData[['day', 'close']].groupby('day').aggregate(['min', 'max'])['close'].reset_index()\n",
    "grouped['maxReturn'] = (grouped['max'] - grouped['min']) / grouped['min']\n",
    "grouped['maxReturnFloor'] = np.floor(grouped['maxReturn'] * 100)"
   ]
  },
  {
   "cell_type": "code",
   "execution_count": 27,
   "metadata": {
    "collapsed": false
   },
   "outputs": [
    {
     "data": {
      "text/plain": [
       "<matplotlib.axes._subplots.AxesSubplot at 0x2330f292438>"
      ]
     },
     "execution_count": 27,
     "metadata": {},
     "output_type": "execute_result"
    },
    {
     "data": {
      "image/png": "[encoded data removed]",
      "text/plain": [
       "<matplotlib.figure.Figure at 0x2330f28cf98>"
      ]
     },
     "metadata": {},
     "output_type": "display_data"
    }
   ],
   "source": [
    "grouped['maxReturnFloor'].value_counts().sort_index().plot(kind='bar', figsize=[12,6])"
   ]
  },
  {
   "cell_type": "code",
   "execution_count": null,
   "metadata": {
    "collapsed": true
   },
   "outputs": [],
   "source": []
  }
 ],
 "metadata": {
  "kernelspec": {
   "display_name": "Python 3",
   "language": "python",
   "name": "python3"
  },
  "language_info": {
   "codemirror_mode": {
    "name": "ipython",
    "version": 3
   },
   "file_extension": ".py",
   "mimetype": "text/x-python",
   "name": "python",
   "nbconvert_exporter": "python",
   "pygments_lexer": "ipython3",
   "version": "3.5.4"
  }
 },
 "nbformat": 4,
 "nbformat_minor": 2
}
