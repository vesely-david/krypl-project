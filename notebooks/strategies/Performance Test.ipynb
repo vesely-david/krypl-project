{
 "cells": [
  {
   "cell_type": "markdown",
   "metadata": {},
   "source": [
    "Reference - this code is just modification of https://github.com/dennybritz/reinforcement-learning"
   ]
  },
  {
   "cell_type": "code",
   "execution_count": 3,
   "metadata": {
    "collapsed": true
   },
   "outputs": [],
   "source": [
    "%run ../utils/commonImports.py\n",
    "%run ../utils/tradingImports.py\n",
    "%matplotlib inline"
   ]
  },
  {
   "cell_type": "code",
   "execution_count": 4,
   "metadata": {
    "collapsed": false
   },
   "outputs": [],
   "source": [
    "import gym\n",
    "import itertools\n",
    "import matplotlib\n",
    "import sys\n",
    "import tensorflow as tf\n",
    "import collections\n",
    "from copy import deepcopy\n",
    "\n",
    "matplotlib.style.use('ggplot')"
   ]
  },
  {
   "cell_type": "markdown",
   "metadata": {},
   "source": [
    "# Load Data"
   ]
  },
  {
   "cell_type": "code",
   "execution_count": 5,
   "metadata": {
    "collapsed": true
   },
   "outputs": [],
   "source": [
    "dataRoot = 'D:\\\\Dropbox\\\\My work\\\\krypl-project\\\\dataLabeled\\\\poloniex\\\\5min'\n",
    "fileName = 'USDT_BTC_5min_2016-01-01_2017-12-31.tsv'\n",
    "file = '{dataRoot}\\\\{fileName}'.format(dataRoot=dataRoot, fileName=fileName)\n",
    "\n",
    "usdtBtc = pd.read_csv(file, sep='\\t').query(\"date >= '2017-01-01'\")\\\n",
    "    .sort_values('timestamp').reset_index().drop('index', axis=1)\n",
    "usdtBtc = usdtBtc\n",
    "\n",
    "trainRatio = 0.7\n",
    "trainSize = int(usdtBtc.shape[0] * trainRatio)\n",
    "usdtBtcTrain = usdtBtc.iloc[:trainSize]\n",
    "usdtBtcTest = usdtBtc.iloc[trainSize:].reset_index().drop('index', axis=1)\n",
    "\n",
    "usdtBtcManagerTrain = CurrencyDataManager(usdtBtcTrain)\n",
    "usdtBtcManagerTest = CurrencyDataManager(usdtBtcTest)\n",
    "wallet = {'usdt': 1000}\n",
    "contractPair = ContractPair('usdt', 'btc')"
   ]
  },
  {
   "cell_type": "code",
   "execution_count": null,
   "metadata": {
    "collapsed": true
   },
   "outputs": [],
   "source": []
  },
  {
   "cell_type": "code",
   "execution_count": 9,
   "metadata": {
    "collapsed": false
   },
   "outputs": [
    {
     "name": "stdout",
     "output_type": "stream",
     "text": [
      "1 loop, best of 3: 250 ms per loop\n"
     ]
    }
   ],
   "source": [
    "%%timeit\n",
    "for i in range(1000):\n",
    "    usdtBtc.iloc[10:11, :]"
   ]
  },
  {
   "cell_type": "code",
   "execution_count": 15,
   "metadata": {
    "collapsed": false
   },
   "outputs": [
    {
     "name": "stdout",
     "output_type": "stream",
     "text": [
      "1 loop, best of 3: 276 ms per loop\n"
     ]
    },
    {
     "name": "stderr",
     "output_type": "stream",
     "text": [
      "C:\\Anaconda3\\lib\\site-packages\\ipykernel\\__main__.py:258: DeprecationWarning: \n",
      ".ix is deprecated. Please use\n",
      ".loc for label based indexing or\n",
      ".iloc for positional indexing\n",
      "\n",
      "See the documentation here:\n",
      "http://pandas.pydata.org/pandas-docs/stable/indexing.html#ix-indexer-is-deprecated\n"
     ]
    }
   ],
   "source": [
    "%%timeit\n",
    "for i in range(1000):\n",
    "    usdtBtc.ix[10:11, :]"
   ]
  },
  {
   "cell_type": "code",
   "execution_count": 14,
   "metadata": {
    "collapsed": false
   },
   "outputs": [
    {
     "name": "stdout",
     "output_type": "stream",
     "text": [
      "1 loop, best of 3: 121 ms per loop\n"
     ]
    }
   ],
   "source": [
    "%%timeit\n",
    "arr = usdtBtc.values\n",
    "for i in range(1000):\n",
    "    arr[10:11, :]"
   ]
  },
  {
   "cell_type": "code",
   "execution_count": null,
   "metadata": {
    "collapsed": true
   },
   "outputs": [],
   "source": []
  }
 ],
 "metadata": {
  "kernelspec": {
   "display_name": "Python 3",
   "language": "python",
   "name": "python3"
  },
  "language_info": {
   "codemirror_mode": {
    "name": "ipython",
    "version": 3
   },
   "file_extension": ".py",
   "mimetype": "text/x-python",
   "name": "python",
   "nbconvert_exporter": "python",
   "pygments_lexer": "ipython3",
   "version": "3.5.4"
  }
 },
 "nbformat": 4,
 "nbformat_minor": 2
}
