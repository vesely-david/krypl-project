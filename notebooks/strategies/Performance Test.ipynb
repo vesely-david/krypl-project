{
 "cells": [
  {
   "cell_type": "markdown",
   "metadata": {},
   "source": [
    "Reference - this code is just modification of https://github.com/dennybritz/reinforcement-learning"
   ]
  },
  {
   "cell_type": "code",
   "execution_count": 1,
   "metadata": {
    "collapsed": true
   },
   "outputs": [],
   "source": [
    "%run ../utils/commonImports.py\n",
    "%run ../utils/tradingImports.py\n",
    "%matplotlib inline"
   ]
  },
  {
   "cell_type": "code",
   "execution_count": 2,
   "metadata": {
    "collapsed": true
   },
   "outputs": [],
   "source": [
    "import gym\n",
    "import itertools\n",
    "import matplotlib\n",
    "import sys\n",
    "import tensorflow as tf\n",
    "import collections\n",
    "from copy import deepcopy\n",
    "\n",
    "matplotlib.style.use('ggplot')"
   ]
  },
  {
   "cell_type": "markdown",
   "metadata": {},
   "source": [
    "# Load Data"
   ]
  },
  {
   "cell_type": "code",
   "execution_count": 4,
   "metadata": {},
   "outputs": [],
   "source": [
    "dataRoot = 'D:\\\\Dropbox\\\\My work\\\\krypl-project\\\\dataLabeled\\\\poloniex\\\\5min'\n",
    "fileName = 'USDT_BTC_5min_2016-01-01_2017-12-31.tsv'\n",
    "file = '{dataRoot}\\\\{fileName}'.format(dataRoot=dataRoot, fileName=fileName)\n",
    "\n",
    "usdtBtc = pd.read_csv(file, sep='\\t').query(\"date >= '2017-01-01'\")\\\n",
    "    .sort_values('timestamp').reset_index().drop('index', axis=1)\n",
    "usdtBtc = usdtBtc\n",
    "\n",
    "trainRatio = 0.7\n",
    "trainSize = int(usdtBtc.shape[0] * trainRatio)\n",
    "usdtBtcTrain = usdtBtc.iloc[:trainSize]\n",
    "usdtBtcTest = usdtBtc.iloc[trainSize:].reset_index().drop('index', axis=1)\n",
    "\n",
    "usdtBtcManagerTrain = CurrencyDataManager(usdtBtcTrain['close'], usdtBtcTrain)\n",
    "usdtBtcManagerTest = CurrencyDataManager(usdtBtcTest['close'], usdtBtcTest)\n",
    "wallet = {'usdt': 1000}\n",
    "contractPair = ContractPair.new('usdt', 'btc')"
   ]
  },
  {
   "cell_type": "markdown",
   "metadata": {
    "collapsed": true
   },
   "source": [
    "# Slicing Array"
   ]
  },
  {
   "cell_type": "code",
   "execution_count": null,
   "metadata": {},
   "outputs": [],
   "source": [
    "%%timeit\n",
    "for i in range(1000):\n",
    "    usdtBtc.iloc[10:11, :]"
   ]
  },
  {
   "cell_type": "code",
   "execution_count": 15,
   "metadata": {},
   "outputs": [
    {
     "name": "stdout",
     "output_type": "stream",
     "text": [
      "1 loop, best of 3: 276 ms per loop\n"
     ]
    },
    {
     "name": "stderr",
     "output_type": "stream",
     "text": [
      "C:\\Anaconda3\\lib\\site-packages\\ipykernel\\__main__.py:258: DeprecationWarning: \n",
      ".ix is deprecated. Please use\n",
      ".loc for label based indexing or\n",
      ".iloc for positional indexing\n",
      "\n",
      "See the documentation here:\n",
      "http://pandas.pydata.org/pandas-docs/stable/indexing.html#ix-indexer-is-deprecated\n"
     ]
    }
   ],
   "source": [
    "%%timeit\n",
    "for i in range(1000):\n",
    "    usdtBtc.ix[10:11, :]"
   ]
  },
  {
   "cell_type": "code",
   "execution_count": 14,
   "metadata": {},
   "outputs": [
    {
     "name": "stdout",
     "output_type": "stream",
     "text": [
      "1 loop, best of 3: 121 ms per loop\n"
     ]
    }
   ],
   "source": [
    "%%timeit\n",
    "arr = usdtBtc.values\n",
    "for i in range(1000):\n",
    "    arr[10:11, :]"
   ]
  },
  {
   "cell_type": "markdown",
   "metadata": {
    "collapsed": true
   },
   "source": [
    "# Data Classes"
   ]
  },
  {
   "cell_type": "code",
   "execution_count": 5,
   "metadata": {
    "collapsed": true
   },
   "outputs": [],
   "source": [
    "from trading.money.transaction import SellTransaction\n",
    "from trading.money.contract import ContractPair\n",
    "from collections import namedtuple"
   ]
  },
  {
   "cell_type": "code",
   "execution_count": 6,
   "metadata": {},
   "outputs": [
    {
     "name": "stdout",
     "output_type": "stream",
     "text": [
      "The slowest run took 8.38 times longer than the fastest. This could mean that an intermediate result is being cached.\n",
      "1000000 loops, best of 3: 393 ns per loop\n"
     ]
    }
   ],
   "source": [
    "%%timeit\n",
    "cPair = ContractPair('usdt', 'btc')"
   ]
  },
  {
   "cell_type": "code",
   "execution_count": 7,
   "metadata": {
    "collapsed": true
   },
   "outputs": [],
   "source": [
    "ContractPairNT = namedtuple('ContractPairNT', ['priceContract', 'tradeContract'])"
   ]
  },
  {
   "cell_type": "code",
   "execution_count": 8,
   "metadata": {},
   "outputs": [
    {
     "name": "stdout",
     "output_type": "stream",
     "text": [
      "The slowest run took 6.69 times longer than the fastest. This could mean that an intermediate result is being cached.\n",
      "1000000 loops, best of 3: 438 ns per loop\n"
     ]
    }
   ],
   "source": [
    "%%timeit\n",
    "tmp = ContractPairNT('usdt', 'btc')"
   ]
  },
  {
   "cell_type": "code",
   "execution_count": 16,
   "metadata": {
    "collapsed": true
   },
   "outputs": [],
   "source": [
    "priceContract = 'usdt'\n",
    "tradeContract = 'btc'\n",
    "def contractPair(priceContract, tradeContract):\n",
    "    return {'priceContract': priceContract, 'tradeContract': tradeContract}"
   ]
  },
  {
   "cell_type": "code",
   "execution_count": 17,
   "metadata": {},
   "outputs": [
    {
     "name": "stdout",
     "output_type": "stream",
     "text": [
      "The slowest run took 5.35 times longer than the fastest. This could mean that an intermediate result is being cached.\n",
      "1000000 loops, best of 3: 206 ns per loop\n"
     ]
    }
   ],
   "source": [
    "%%timeit\n",
    "tmp = contractPair(priceContract, tradeContract)"
   ]
  },
  {
   "cell_type": "code",
   "execution_count": 18,
   "metadata": {},
   "outputs": [
    {
     "name": "stdout",
     "output_type": "stream",
     "text": [
      "10000000 loops, best of 3: 96.6 ns per loop\n"
     ]
    }
   ],
   "source": [
    "%%timeit\n",
    "tmp = {'priceContract': priceContract, 'tradeContract': tradeContract}"
   ]
  },
  {
   "cell_type": "code",
   "execution_count": 20,
   "metadata": {
    "collapsed": true
   },
   "outputs": [],
   "source": [
    "class ContractPairTmp:\n",
    "    @staticmethod\n",
    "    def contractPair(priceContract, tradeContract):\n",
    "        return {'priceContract': priceContract, 'tradeContract': tradeContract} "
   ]
  },
  {
   "cell_type": "code",
   "execution_count": 21,
   "metadata": {},
   "outputs": [
    {
     "name": "stdout",
     "output_type": "stream",
     "text": [
      "The slowest run took 8.85 times longer than the fastest. This could mean that an intermediate result is being cached.\n",
      "1000000 loops, best of 3: 207 ns per loop\n"
     ]
    }
   ],
   "source": [
    "%%timeit\n",
    "tmp = ContractPairTmp.contractPair(priceContract, tradeContract)"
   ]
  },
  {
   "cell_type": "code",
   "execution_count": null,
   "metadata": {
    "collapsed": true
   },
   "outputs": [],
   "source": [
    "tmp = Contract.new(name, value)"
   ]
  },
  {
   "cell_type": "code",
   "execution_count": null,
   "metadata": {
    "collapsed": true
   },
   "outputs": [],
   "source": []
  },
  {
   "cell_type": "markdown",
   "metadata": {
    "collapsed": true
   },
   "source": [
    "# Accesing object attribute vs dictionary key"
   ]
  },
  {
   "cell_type": "code",
   "execution_count": 1,
   "metadata": {
    "collapsed": true
   },
   "outputs": [],
   "source": [
    "class O:\n",
    "    def __init__(self):\n",
    "        self.contractPair = \"usdt-btc\"\n",
    "        self.timestamp = 1\n",
    "        self.amount = 10.\n",
    "        self.price = 2.\n",
    "        self.fee = .5\n",
    "\n",
    "d = {'contractPair': \"usdt-btc\", 'timestamp': 1, 'amount': 10., 'price': 2., 'fee': .5}\n",
    "o = O()"
   ]
  },
  {
   "cell_type": "code",
   "execution_count": 6,
   "metadata": {},
   "outputs": [
    {
     "name": "stdout",
     "output_type": "stream",
     "text": [
      "The slowest run took 16.95 times longer than the fastest. This could mean that an intermediate result is being cached.\n",
      "10000000 loops, best of 3: 68.1 ns per loop\n"
     ]
    }
   ],
   "source": [
    "%%timeit\n",
    "a = o.timestamp"
   ]
  },
  {
   "cell_type": "code",
   "execution_count": 7,
   "metadata": {},
   "outputs": [
    {
     "name": "stdout",
     "output_type": "stream",
     "text": [
      "The slowest run took 19.77 times longer than the fastest. This could mean that an intermediate result is being cached.\n",
      "10000000 loops, best of 3: 58.4 ns per loop\n"
     ]
    }
   ],
   "source": [
    "%%timeit\n",
    "a = d['timestamp']"
   ]
  },
  {
   "cell_type": "markdown",
   "metadata": {
    "collapsed": true
   },
   "source": [
    "# Currency Data Manager"
   ]
  },
  {
   "cell_type": "code",
   "execution_count": 65,
   "metadata": {},
   "outputs": [],
   "source": [
    "class DataManager:\n",
    "\n",
    "    def tick(self, historyLen):\n",
    "        raise NotImplementedError()\n",
    "\n",
    "class CurrencyDataManager2(DataManager):\n",
    "\n",
    "    # expected prices to be pandas dataframe with columns: timestamp, open, close, high, low, volume\n",
    "    def __init__(self, prices, data):\n",
    "        self.prices = prices.values\n",
    "        self.maxTime = self.prices.shape[0]\n",
    "        self.data = data.values\n",
    "        self.time = 1\n",
    "\n",
    "    def tick(self):\n",
    "        if self.time >= self.maxTime:\n",
    "            self.time = 1\n",
    "#             return None, None\n",
    "        time = self.time\n",
    "        price = self.prices[time]\n",
    "        first = time - 1\n",
    "        history = self.data[first, :]\n",
    "\n",
    "        self.time += 1\n",
    "        return history, price\n",
    "\n",
    "    def has_tick(self):\n",
    "        return self.time < self.maxTime\n",
    "    \n",
    "manager = CurrencyDataManager2(usdtBtcTrain['close'], usdtBtcTrain)"
   ]
  },
  {
   "cell_type": "code",
   "execution_count": 68,
   "metadata": {},
   "outputs": [
    {
     "name": "stdout",
     "output_type": "stream",
     "text": [
      "The slowest run took 12.98 times longer than the fastest. This could mean that an intermediate result is being cached.\n",
      "1000000 loops, best of 3: 791 ns per loop\n"
     ]
    }
   ],
   "source": [
    "%%timeit\n",
    "manager.tick()"
   ]
  },
  {
   "cell_type": "code",
   "execution_count": 60,
   "metadata": {},
   "outputs": [],
   "source": [
    "import cProfile, pstats, io\n",
    "pr = cProfile.Profile()\n",
    "pr.enable()\n",
    "\n",
    "for i in range(100000):\n",
    "    manager.tick(1)\n",
    "\n",
    "pr.disable()"
   ]
  },
  {
   "cell_type": "code",
   "execution_count": 61,
   "metadata": {},
   "outputs": [
    {
     "name": "stdout",
     "output_type": "stream",
     "text": [
      "         100019 function calls in 0.146 seconds\n",
      "\n",
      "   Ordered by: internal time\n",
      "\n",
      "   ncalls  tottime  percall  cumtime  percall filename:lineno(function)\n",
      "   100000    0.104    0.000    0.104    0.000 <ipython-input-47-91de9d08af8b>:15(tick)\n",
      "        1    0.042    0.042    0.145    0.145 <ipython-input-60-54b01f2de953>:5(<module>)\n",
      "        2    0.000    0.000    0.000    0.000 {built-in method builtins.compile}\n",
      "        2    0.000    0.000    0.145    0.073 C:\\ProgramData\\Anaconda3\\lib\\site-packages\\IPython\\core\\interactiveshell.py:2851(run_code)\n",
      "        2    0.000    0.000    0.000    0.000 C:\\ProgramData\\Anaconda3\\lib\\codeop.py:132(__call__)\n",
      "        1    0.000    0.000    0.000    0.000 <ipython-input-60-54b01f2de953>:8(<module>)\n",
      "        2    0.000    0.000    0.145    0.073 {built-in method builtins.exec}\n",
      "        2    0.000    0.000    0.000    0.000 C:\\ProgramData\\Anaconda3\\lib\\site-packages\\IPython\\core\\hooks.py:139(__call__)\n",
      "        2    0.000    0.000    0.000    0.000 C:\\ProgramData\\Anaconda3\\lib\\site-packages\\IPython\\utils\\ipstruct.py:125(__getattr__)\n",
      "        2    0.000    0.000    0.000    0.000 C:\\ProgramData\\Anaconda3\\lib\\site-packages\\IPython\\core\\interactiveshell.py:1065(user_global_ns)\n",
      "        2    0.000    0.000    0.000    0.000 C:\\ProgramData\\Anaconda3\\lib\\site-packages\\IPython\\core\\hooks.py:204(pre_run_code_hook)\n",
      "        1    0.000    0.000    0.000    0.000 {method 'disable' of '_lsprof.Profiler' objects}\n",
      "\n",
      "\n",
      "\n"
     ]
    }
   ],
   "source": [
    "s = io.StringIO()\n",
    "sortby = 'tottime'\n",
    "ps = pstats.Stats(pr, stream=s).sort_stats(sortby)\n",
    "ps.print_stats()\n",
    "print(s.getvalue())"
   ]
  },
  {
   "cell_type": "code",
   "execution_count": null,
   "metadata": {
    "collapsed": true
   },
   "outputs": [],
   "source": [
    "def filterEmpty(ll):\n",
    "    return list(filter(lambda x: len(x)!=0, ll))\n",
    "\n",
    "def statsToPandas(stats):\n",
    "    lines = filterEmpty(stats.getvalue().split('\\n'))\n",
    "    cols = filterEmpty(lines[2].split(' '))\n",
    "    rows = [filterEmpty(l.split(' ')) for l in lines[3:]]\n",
    "    rows = [l[:5] + [''.join(l[5:])] for l in rows]\n",
    "    df = pd.DataFrame(rows, columns=cols)\n",
    "    return df"
   ]
  },
  {
   "cell_type": "code",
   "execution_count": null,
   "metadata": {
    "collapsed": true
   },
   "outputs": [],
   "source": [
    "df = statsToPandas(s)\n",
    "kryplCalls = df[df['filename:lineno(function)'].str.contains('krypl-project')]\n",
    "kryplCalls['file'] = kryplCalls['filename:lineno(function)'].apply(lambda x: x.replace('D:\\\\Gitprojekty\\\\krypl-project\\\\', ''))\\\n",
    "    .apply(lambda x: x.replace('D:\\\\GitProjects\\\\krypl-project\\\\', ''))\n",
    "kryplCalls.sort_values('tottime', ascending=False)"
   ]
  }
 ],
 "metadata": {
  "kernelspec": {
   "display_name": "Python 3",
   "language": "python",
   "name": "python3"
  },
  "language_info": {
   "codemirror_mode": {
    "name": "ipython",
    "version": 3
   },
   "file_extension": ".py",
   "mimetype": "text/x-python",
   "name": "python",
   "nbconvert_exporter": "python",
   "pygments_lexer": "ipython3",
   "version": "3.6.1"
  }
 },
 "nbformat": 4,
 "nbformat_minor": 2
}
