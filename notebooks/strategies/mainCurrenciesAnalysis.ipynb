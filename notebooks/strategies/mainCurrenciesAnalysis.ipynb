{
 "cells": [
  {
   "cell_type": "code",
   "execution_count": 1,
   "metadata": {
    "collapsed": false
   },
   "outputs": [
    {
     "name": "stderr",
     "output_type": "stream",
     "text": [
      "C:\\Anaconda3\\lib\\site-packages\\pandas\\core\\computation\\__init__.py:18: UserWarning: The installed version of numexpr 2.4.4 is not supported in pandas and will be not be used\n",
      "The minimum supported version is 2.4.6\n",
      "\n",
      "  ver=ver, min_ver=_MIN_NUMEXPR_VERSION), UserWarning)\n"
     ]
    }
   ],
   "source": [
    "import numpy as np\n",
    "import pandas as pd\n",
    "import seaborn as sns"
   ]
  },
  {
   "cell_type": "markdown",
   "metadata": {},
   "source": [
    "# Get Data\n",
    "\n",
    "The first analysis is meant to dive in to crypto currencies trading, therefor the most know currencies are chosen.\n",
    "The main idea is to have a look how those currencies behaved in the time after they reached their popularity.\n",
    "\n",
    "**Chosen Currencies:**\n",
    "- BTC\n",
    "- ETH\n",
    "- LTC\n",
    "- NEO"
   ]
  },
  {
   "cell_type": "code",
   "execution_count": 2,
   "metadata": {
    "collapsed": false
   },
   "outputs": [],
   "source": [
    "import urllib.request\n",
    "import json\n",
    "\n",
    "def retrieve(url):\n",
    "    with urllib.request.urlopen(url) as response:\n",
    "        html = response.read().decode(\"utf-8\")\n",
    "        data = json.loads(html)\n",
    "    return data"
   ]
  },
  {
   "cell_type": "code",
   "execution_count": 3,
   "metadata": {
    "collapsed": true
   },
   "outputs": [],
   "source": [
    "import time\n",
    "import datetime\n",
    "\n",
    "\n",
    "def timestampToDatetime(timestamp):\n",
    "    return datetime.datetime.fromtimestamp(timestamp)\n",
    "\n",
    "\n",
    "def strTimeToDatetime(strTime):\n",
    "    return datetime.datetime.strptime(strTime, \"%Y-%m-%d %H:%M:%S\")\n",
    "\n",
    "\n",
    "def strTimeToTimestamp(strTime):\n",
    "    return strTimeToDatetime(strTime).timestamp()"
   ]
  },
  {
   "cell_type": "code",
   "execution_count": 4,
   "metadata": {
    "collapsed": true
   },
   "outputs": [],
   "source": [
    "def queryPoloniex(beginDatetime, endDatetime, currencyPair, period):\n",
    "    beginTimestamp, endTimestamp = beginDatetime.timestamp(), endDatetime.timestamp()\n",
    "    url = 'https://poloniex.com/public?command=returnTradeHistory&currencyPair={pair}&start={begin}&end={end}'\n",
    "    url = 'https://poloniex.com/public?command=returnChartData&currencyPair={pair}&start={begin}&end={end}&period={period}'\n",
    "    return retrieve(url.format(pair=currencyPair, begin=beginTimestamp, end=endTimestamp, period=period))"
   ]
  },
  {
   "cell_type": "code",
   "execution_count": 5,
   "metadata": {
    "collapsed": false
   },
   "outputs": [],
   "source": [
    "from dateutil.rrule import rrule, MONTHLY \n",
    "from time import sleep\n",
    "\n",
    "def retrieveLongWindowPoloniex(beginTime, endTime, currencyPair, period):\n",
    "    beginDT = strTimeToDatetime(beginTime)\n",
    "    endDT = strTimeToDatetime(endTime)\n",
    "    data = queryPoloniex(beginDT, endDT, currencyPair, period)\n",
    "    return data\n",
    "        "
   ]
  },
  {
   "cell_type": "code",
   "execution_count": 6,
   "metadata": {
    "collapsed": true
   },
   "outputs": [],
   "source": [
    "def renameDateToTimestamp(df):\n",
    "    return df.rename(columns={'date': 'timestamp'})"
   ]
  },
  {
   "cell_type": "code",
   "execution_count": 11,
   "metadata": {
    "collapsed": true
   },
   "outputs": [],
   "source": [
    "def poloniexDataToDf(data):\n",
    "    df = pd.DataFrame(data)\n",
    "    df = renameDateToTimestamp(df)\n",
    "    df['date'] = df['timestamp'].apply(timestampToDatetime)\n",
    "    return df"
   ]
  },
  {
   "cell_type": "markdown",
   "metadata": {},
   "source": [
    "### BTC - USD"
   ]
  },
  {
   "cell_type": "code",
   "execution_count": 68,
   "metadata": {
    "collapsed": false,
    "scrolled": true
   },
   "outputs": [],
   "source": [
    "btc_usd = retrieveLongWindowPoloniex('2014-01-01 00:00:00', '2017-11-28 23:59:59', 'USDT_BTC', 900)"
   ]
  },
  {
   "cell_type": "code",
   "execution_count": 8,
   "metadata": {
    "collapsed": false
   },
   "outputs": [
    {
     "ename": "NameError",
     "evalue": "name 'btc_usd' is not defined",
     "output_type": "error",
     "traceback": [
      "\u001b[1;31m---------------------------------------------------------------------------\u001b[0m",
      "\u001b[1;31mNameError\u001b[0m                                 Traceback (most recent call last)",
      "\u001b[1;32m<ipython-input-8-8efac8fbfe1b>\u001b[0m in \u001b[0;36m<module>\u001b[1;34m()\u001b[0m\n\u001b[1;32m----> 1\u001b[1;33m \u001b[0mbtcUsdDf\u001b[0m \u001b[1;33m=\u001b[0m \u001b[0mpoloniexDataToDf\u001b[0m\u001b[1;33m(\u001b[0m\u001b[0mbtc_usd\u001b[0m\u001b[1;33m)\u001b[0m\u001b[1;33m\u001b[0m\u001b[0m\n\u001b[0m",
      "\u001b[1;31mNameError\u001b[0m: name 'btc_usd' is not defined"
     ]
    }
   ],
   "source": [
    "btcUsdDf = poloniexDataToDf(btc_usd)"
   ]
  },
  {
   "cell_type": "code",
   "execution_count": 84,
   "metadata": {
    "collapsed": false
   },
   "outputs": [],
   "source": [
    "btcUsdDfTimeSelected = btcUsdDf[btcUsdDf['date'] > '2016-01-01 00:00:00']"
   ]
  },
  {
   "cell_type": "code",
   "execution_count": 86,
   "metadata": {
    "collapsed": false
   },
   "outputs": [],
   "source": [
    "btcUsdDfTimeSelected.to_csv('./data/USDT-BTC_15min_2016-01-01_2017-11-28.tsv', index=False, sep='\\t')"
   ]
  },
  {
   "cell_type": "markdown",
   "metadata": {
    "collapsed": true
   },
   "source": [
    "### ETH USD"
   ]
  },
  {
   "cell_type": "code",
   "execution_count": 12,
   "metadata": {
    "collapsed": false
   },
   "outputs": [],
   "source": [
    "eth_usd = retrieveLongWindowPoloniex('2014-01-01 00:00:00', '2017-11-28 23:59:59', 'USDT_ETH', 900)\n",
    "ethUsdDf = poloniexDataToDf(eth_usd)"
   ]
  },
  {
   "cell_type": "code",
   "execution_count": 21,
   "metadata": {
    "collapsed": false
   },
   "outputs": [],
   "source": [
    "selected = ethUsdDf[ethUsdDf['date'] > '2016-01-01 00:00:00']\n",
    "selected.to_csv('./data/USDT_ETH_15min_2016-01-01_2017-11-28.tsv', index=False, sep='\\t')"
   ]
  },
  {
   "cell_type": "markdown",
   "metadata": {},
   "source": [
    "# Evaluator"
   ]
  },
  {
   "cell_type": "code",
   "execution_count": null,
   "metadata": {
    "collapsed": true
   },
   "outputs": [],
   "source": [
    "class Evaluator:\n",
    "    def "
   ]
  }
 ],
 "metadata": {
  "kernelspec": {
   "display_name": "Python 3",
   "language": "python",
   "name": "python3"
  },
  "language_info": {
   "codemirror_mode": {
    "name": "ipython",
    "version": 3
   },
   "file_extension": ".py",
   "mimetype": "text/x-python",
   "name": "python",
   "nbconvert_exporter": "python",
   "pygments_lexer": "ipython3",
   "version": "3.5.4"
  }
 },
 "nbformat": 4,
 "nbformat_minor": 0
}
