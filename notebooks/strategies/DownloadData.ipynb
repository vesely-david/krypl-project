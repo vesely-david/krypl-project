{
 "cells": [
  {
   "cell_type": "code",
   "execution_count": 1,
   "metadata": {
    "collapsed": true
   },
   "outputs": [],
   "source": [
    "import numpy as np\n",
    "import pandas as pd\n",
    "import seaborn as sns"
   ]
  },
  {
   "cell_type": "markdown",
   "metadata": {},
   "source": [
    "# Get Data"
   ]
  },
  {
   "cell_type": "code",
   "execution_count": 2,
   "metadata": {
    "collapsed": true
   },
   "outputs": [],
   "source": [
    "import urllib.request\n",
    "import json\n",
    "\n",
    "def retrieve(url):\n",
    "    with urllib.request.urlopen(url) as response:\n",
    "        html = response.read().decode(\"utf-8\")\n",
    "        data = json.loads(html)\n",
    "    return data"
   ]
  },
  {
   "cell_type": "code",
   "execution_count": 3,
   "metadata": {
    "collapsed": true
   },
   "outputs": [],
   "source": [
    "import time\n",
    "import datetime\n",
    "\n",
    "\n",
    "def timestampToDatetime(timestamp):\n",
    "    return datetime.datetime.fromtimestamp(timestamp)\n",
    "\n",
    "\n",
    "def strTimeToDatetime(strTime):\n",
    "    return datetime.datetime.strptime(strTime, \"%Y-%m-%d %H:%M:%S\")\n",
    "\n",
    "\n",
    "def strTimeToTimestamp(strTime):\n",
    "    return strTimeToDatetime(strTime).timestamp()"
   ]
  },
  {
   "cell_type": "code",
   "execution_count": 4,
   "metadata": {
    "collapsed": true
   },
   "outputs": [],
   "source": [
    "def queryPoloniex(beginDatetime, endDatetime, currencyPair, period):\n",
    "    beginTimestamp, endTimestamp = beginDatetime.timestamp(), endDatetime.timestamp()\n",
    "#     url = 'https://poloniex.com/public?command=returnTradeHistory&currencyPair={pair}&start={begin}&end={end}'\n",
    "    url = 'https://poloniex.com/public?command=returnChartData&currencyPair={pair}&start={begin}&end={end}&period={period}'\n",
    "    return retrieve(url.format(pair=currencyPair, begin=beginTimestamp, end=endTimestamp, period=period))"
   ]
  },
  {
   "cell_type": "code",
   "execution_count": 5,
   "metadata": {
    "collapsed": true
   },
   "outputs": [],
   "source": [
    "from dateutil.rrule import rrule, MONTHLY \n",
    "from time import sleep\n",
    "\n",
    "def retrieveLongWindowPoloniex(beginTime, endTime, currencyPair, period):\n",
    "    beginDT = strTimeToDatetime(beginTime)\n",
    "    endDT = strTimeToDatetime(endTime)\n",
    "    data = queryPoloniex(beginDT, endDT, currencyPair, period)\n",
    "    return data\n",
    "        "
   ]
  },
  {
   "cell_type": "code",
   "execution_count": 6,
   "metadata": {
    "collapsed": true
   },
   "outputs": [],
   "source": [
    "def renameDateToTimestamp(df):\n",
    "    return df.rename(columns={'date': 'timestamp'})"
   ]
  },
  {
   "cell_type": "code",
   "execution_count": 7,
   "metadata": {
    "collapsed": true
   },
   "outputs": [],
   "source": [
    "def poloniexDataToDf(data):\n",
    "    df = pd.DataFrame(data)\n",
    "    df = renameDateToTimestamp(df)\n",
    "    df['date'] = df['timestamp'].apply(timestampToDatetime)\n",
    "    return df"
   ]
  },
  {
   "cell_type": "markdown",
   "metadata": {},
   "source": [
    "# Download"
   ]
  },
  {
   "cell_type": "code",
   "execution_count": 8,
   "metadata": {
    "collapsed": true
   },
   "outputs": [],
   "source": [
    "startDateTime, endDateTime = '2014-01-01 00:00:00', '2017-12-31 23:59:59'\n",
    "startDate, endDate = startDateTime[:10], endDateTime[:10]\n",
    "interval, intervalStr = 900, '5min'\n",
    "cPairs = [\n",
    "    'USDT_BCH', 'BTC_BCH', \n",
    "    'BTC_XEM', \n",
    "    'USDT_STR', 'BTC_STR',\n",
    "    'BTC_DASH',\n",
    "    'USDT_ETC', 'BTC_ETC',\n",
    "    'BTC_LSK'\n",
    "]"
   ]
  },
  {
   "cell_type": "code",
   "execution_count": 10,
   "metadata": {},
   "outputs": [
    {
     "name": "stdout",
     "output_type": "stream",
     "text": [
      "USDT_BCH\tdone\n",
      "BTC_BCH\tdone\n",
      "BTC_XEM\tdone\n",
      "USDT_STR\tdone\n",
      "BTC_STR\tdone\n",
      "BTC_DASH\tdone\n",
      "USDT_ETC\tdone\n",
      "BTC_ETC\tdone\n",
      "BTC_LSK\tdone\n"
     ]
    }
   ],
   "source": [
    "for cPair in cPairs:\n",
    "    print(cPair, end='\\t')\n",
    "    data = retrieveLongWindowPoloniex(startDateTime, endDateTime, cPair, interval)\n",
    "    df = poloniexDataToDf(data)\n",
    "    fileName = '{cPair}_{intervalStr}_{startDate}_{endDate}.tsv'.format(**locals())\n",
    "    path = 'data/poloniex/{intervalStr}/{fileName}'.format(**locals())\n",
    "    df.to_csv(path, index=False, sep='\\t')\n",
    "    print('done')"
   ]
  },
  {
   "cell_type": "code",
   "execution_count": null,
   "metadata": {
    "collapsed": true
   },
   "outputs": [],
   "source": []
  }
 ],
 "metadata": {
  "kernelspec": {
   "display_name": "Python 3",
   "language": "python",
   "name": "python3"
  },
  "language_info": {
   "codemirror_mode": {
    "name": "ipython",
    "version": 3
   },
   "file_extension": ".py",
   "mimetype": "text/x-python",
   "name": "python",
   "nbconvert_exporter": "python",
   "pygments_lexer": "ipython3",
   "version": "3.6.1"
  }
 },
 "nbformat": 4,
 "nbformat_minor": 1
}
