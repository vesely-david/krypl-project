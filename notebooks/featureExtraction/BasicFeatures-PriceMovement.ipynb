{
 "cells": [
  {
   "cell_type": "code",
   "execution_count": 1,
   "metadata": {
    "collapsed": false
   },
   "outputs": [],
   "source": [
    "%run ../utils/commonImports.py\n",
    "%run ../utils/tradingImports.py\n",
    "%matplotlib inline"
   ]
  },
  {
   "cell_type": "markdown",
   "metadata": {},
   "source": [
    "# Properties"
   ]
  },
  {
   "cell_type": "code",
   "execution_count": 2,
   "metadata": {
    "collapsed": true
   },
   "outputs": [],
   "source": [
    "dataRoot = 'D:\\\\Dropbox\\\\My work\\\\krypl-project\\\\dataLabeled'\n",
    "featuresRoot = 'D:\\\\Dropbox\\\\My work\\\\krypl-project\\\\dataFeatures'"
   ]
  },
  {
   "cell_type": "code",
   "execution_count": 3,
   "metadata": {
    "collapsed": false
   },
   "outputs": [],
   "source": [
    "fileName = 'return-01-within-day.tsv'\n",
    "file = '{dataRoot}\\\\{fileName}'.format(dataRoot=dataRoot, fileName=fileName)\n",
    "featuresFile = '{dataRoot}\\\\{fileName}'.format(dataRoot=featuresRoot, fileName=fileName)\n",
    "data = pd.read_csv(file, sep='\\t')"
   ]
  },
  {
   "cell_type": "code",
   "execution_count": 4,
   "metadata": {
    "collapsed": true
   },
   "outputs": [],
   "source": [
    "featured = data.copy()"
   ]
  },
  {
   "cell_type": "markdown",
   "metadata": {},
   "source": [
    "# Return"
   ]
  },
  {
   "cell_type": "code",
   "execution_count": 5,
   "metadata": {
    "collapsed": true
   },
   "outputs": [],
   "source": [
    "def lag(arr, l):\n",
    "    laged = arr[:arr.shape[0]-l]\n",
    "    laged = np.array([0]*l + laged.tolist())\n",
    "    return laged"
   ]
  },
  {
   "cell_type": "code",
   "execution_count": 6,
   "metadata": {
    "collapsed": true
   },
   "outputs": [],
   "source": [
    "def _return(arr):\n",
    "    arr0 = arr[:arr.shape[0]-1]\n",
    "    arr1 = arr[1:]\n",
    "    r = (arr1 / arr0) - 1\n",
    "    r = np.insert(r, 0, 0., axis=0)\n",
    "    return r"
   ]
  },
  {
   "cell_type": "code",
   "execution_count": 7,
   "metadata": {
    "collapsed": true
   },
   "outputs": [],
   "source": [
    "featured['return'] = _return(featured['close'].values)\n",
    "featured['return_1'] = lag(featured['return'].values, 1)\n",
    "featured['return_2'] = lag(featured['return'].values, 2)"
   ]
  },
  {
   "cell_type": "markdown",
   "metadata": {},
   "source": [
    "# Z-Score"
   ]
  },
  {
   "cell_type": "code",
   "execution_count": 8,
   "metadata": {
    "collapsed": true
   },
   "outputs": [],
   "source": [
    "from scipy import stats\n",
    "def zscore(x, window):\n",
    "    r = x.rolling(window=window)\n",
    "    m = r.mean().shift(1)\n",
    "    s = r.std(ddof=0).shift(1)\n",
    "    z = (x-m)/s\n",
    "    return z"
   ]
  },
  {
   "cell_type": "code",
   "execution_count": 9,
   "metadata": {
    "collapsed": true
   },
   "outputs": [],
   "source": [
    "featured['zscore_36_return'] = zscore(featured['return'], 36)\n",
    "featured['zscore_288_return'] = zscore(featured['return'], 288)"
   ]
  },
  {
   "cell_type": "code",
   "execution_count": 10,
   "metadata": {
    "collapsed": true
   },
   "outputs": [],
   "source": [
    "featured['zscore_36_volume'] = zscore(featured['volume'], 36)\n",
    "featured['zscore_288_volume'] = zscore(featured['volume'], 288)\n",
    "featured['zscore_2016_volume'] = zscore(featured['volume'], 2016)"
   ]
  },
  {
   "cell_type": "markdown",
   "metadata": {
    "collapsed": true
   },
   "source": [
    "# Sliding Mean"
   ]
  },
  {
   "cell_type": "code",
   "execution_count": 11,
   "metadata": {
    "collapsed": true
   },
   "outputs": [],
   "source": [
    "def sliding_mean(x, window):\n",
    "    return x.rolling(center=False,window=window).mean()"
   ]
  },
  {
   "cell_type": "code",
   "execution_count": 12,
   "metadata": {
    "collapsed": false,
    "scrolled": true
   },
   "outputs": [
    {
     "data": {
      "text/plain": [
       "0               nan\n",
       "1               nan\n",
       "2               nan\n",
       "3               nan\n",
       "4               nan\n",
       "5               nan\n",
       "6               nan\n",
       "7               nan\n",
       "8               nan\n",
       "9               nan\n",
       "10              nan\n",
       "11              nan\n",
       "12              nan\n",
       "13              nan\n",
       "14              nan\n",
       "15              nan\n",
       "16              nan\n",
       "17              nan\n",
       "18              nan\n",
       "19              nan\n",
       "20              nan\n",
       "21              nan\n",
       "22              nan\n",
       "23              nan\n",
       "24              nan\n",
       "25              nan\n",
       "26              nan\n",
       "27              nan\n",
       "28              nan\n",
       "29              nan\n",
       "            ...    \n",
       "160925   6,256.2874\n",
       "160926   6,256.4497\n",
       "160927   6,256.7438\n",
       "160928   6,257.3022\n",
       "160929   6,257.8977\n",
       "160930   6,258.4507\n",
       "160931   6,258.9789\n",
       "160932   6,259.5748\n",
       "160933   6,260.1974\n",
       "160934   6,261.0131\n",
       "160935   6,261.6251\n",
       "160936   6,263.5598\n",
       "160937   6,265.2763\n",
       "160938   6,265.9830\n",
       "160939   6,266.3229\n",
       "160940   6,266.5720\n",
       "160941   6,266.4050\n",
       "160942   6,266.0520\n",
       "160943   6,265.7479\n",
       "160944   6,264.9498\n",
       "160945   6,263.7354\n",
       "160946   6,262.3332\n",
       "160947   6,260.6379\n",
       "160948   6,259.0144\n",
       "160949   6,257.3012\n",
       "160950   6,255.3646\n",
       "160951   6,253.4271\n",
       "160952   6,251.0894\n",
       "160953   6,248.7213\n",
       "160954   6,246.3406\n",
       "Name: close, Length: 160955, dtype: float64"
      ]
     },
     "execution_count": 12,
     "metadata": {},
     "output_type": "execute_result"
    }
   ],
   "source": [
    "sliding_mean(featured['close'], 36)"
   ]
  },
  {
   "cell_type": "markdown",
   "metadata": {},
   "source": [
    "# Change In Price\n",
    "\n",
    "$ pma = zscore(\\frac{p}{avg(p, w_m)} - 1, w_z) $"
   ]
  },
  {
   "cell_type": "code",
   "execution_count": 13,
   "metadata": {
    "collapsed": true
   },
   "outputs": [],
   "source": [
    "def change_in_price(x, mean_window, zscore_window):\n",
    "    mean_x = sliding_mean(x, mean_window)\n",
    "    change_x = (x / mean_x) - 1\n",
    "    zscore_change = zscore(change_x, zscore_window)\n",
    "    return zscore_change"
   ]
  },
  {
   "cell_type": "code",
   "execution_count": 14,
   "metadata": {
    "collapsed": false
   },
   "outputs": [],
   "source": [
    "featured['pma36'] = change_in_price(featured['close'], 36, 288)\n",
    "featured['pma288'] = change_in_price(featured['close'], 288, 288)\n",
    "featured['pma2016'] = change_in_price(featured['close'], 2016, 288)"
   ]
  },
  {
   "cell_type": "code",
   "execution_count": 15,
   "metadata": {
    "collapsed": false
   },
   "outputs": [],
   "source": [
    "featured['vma36'] = change_in_price(featured['volume'], 36, 288)\n",
    "featured['vma288'] = change_in_price(featured['volume'], 288, 288)\n",
    "featured['vma2016'] = change_in_price(featured['volume'], 2016, 288)"
   ]
  },
  {
   "cell_type": "markdown",
   "metadata": {},
   "source": [
    "# Sliding means change\n",
    "\n",
    "$ ma = zscore(\\frac{avg(p, w_1)}{avg(p, w_2)}-1, w_z) $"
   ]
  },
  {
   "cell_type": "code",
   "execution_count": 16,
   "metadata": {
    "collapsed": true
   },
   "outputs": [],
   "source": [
    "def sliding_means_change(x, w1, w2, zscore_window):\n",
    "    mean1 = sliding_mean(x, w1)\n",
    "    mean2 = sliding_mean(x, w2)\n",
    "    change = (mean1 / mean2) - 1\n",
    "    zscored = zscore(change, zscore_window)\n",
    "    return zscored"
   ]
  },
  {
   "cell_type": "code",
   "execution_count": 17,
   "metadata": {
    "collapsed": true
   },
   "outputs": [],
   "source": [
    "featured['ma_12_108'] = sliding_means_change(featured['close'], 12, 108, 288)\n",
    "featured['ma_36_288'] = sliding_means_change(featured['close'], 12, 108, 288)"
   ]
  },
  {
   "cell_type": "markdown",
   "metadata": {},
   "source": [
    "# Price acceleration\n",
    "\n",
    "$ pavg = \\frac{p}{avg(p, w_m)} $\n",
    "\n",
    "$ ac = zscore(\\frac{pavg}{avg(pavg, w_m)}, w_z) $"
   ]
  },
  {
   "cell_type": "code",
   "execution_count": 18,
   "metadata": {
    "collapsed": true
   },
   "outputs": [],
   "source": [
    "def price_acceleration(x, w_mean, zscore_window):\n",
    "    pavg = sliding_mean(x, w_mean)\n",
    "    pavg_mean = sliding_mean(pavg, w_mean)\n",
    "    acceleration = pavg / pavg_mean\n",
    "    zscored = zscore(acceleration, zscore_window)\n",
    "    return zscored"
   ]
  },
  {
   "cell_type": "code",
   "execution_count": 19,
   "metadata": {
    "collapsed": true
   },
   "outputs": [],
   "source": [
    "featured['ac36'] = price_acceleration(featured['close'], 36, 288)\n",
    "featured['ac288'] = price_acceleration(featured['close'], 288, 288)"
   ]
  },
  {
   "cell_type": "markdown",
   "metadata": {},
   "source": [
    "# Volatility"
   ]
  },
  {
   "cell_type": "code",
   "execution_count": 20,
   "metadata": {
    "collapsed": true
   },
   "outputs": [],
   "source": [
    "def std(x, window):\n",
    "    return x.rolling(center=False,window=window).std()\n",
    "\n",
    "\n",
    "def volatility(x, w_std, w_zscore):\n",
    "    vol = std(x, w_std)\n",
    "    return zscore(vol, w_zscore)"
   ]
  },
  {
   "cell_type": "code",
   "execution_count": 21,
   "metadata": {
    "collapsed": false
   },
   "outputs": [],
   "source": [
    "featured['vol36'] = volatility(featured['return'], 36, 288)\n",
    "featured['vol288'] = volatility(featured['return'], 288, 288)\n",
    "featured['vol2016'] = volatility(featured['return'], 2016, 288)"
   ]
  },
  {
   "cell_type": "markdown",
   "metadata": {},
   "source": [
    "# Change in Volatility\n",
    "\n",
    "$ sd = std(r, w_s)\n",
    "\n",
    "$ dv =  zscore(\\frac{std}{avg(std, w_a)}, w_z) $"
   ]
  },
  {
   "cell_type": "code",
   "execution_count": 22,
   "metadata": {
    "collapsed": true
   },
   "outputs": [],
   "source": [
    "def volatility_change(x, w_std, w_a,  w_zscore):\n",
    "    sd = std(x, w_std)\n",
    "    sd_mean = sliding_mean(sd, w_a)\n",
    "    change = sd / sd_mean\n",
    "    return zscore(change, w_zscore)"
   ]
  },
  {
   "cell_type": "code",
   "execution_count": 23,
   "metadata": {
    "collapsed": true
   },
   "outputs": [],
   "source": [
    "featured['dv_36_288'] = volatility_change(featured['return'], 36, 288, 288)\n",
    "featured['dv_36_288'] = volatility_change(featured['return'], 288, 2016, 288)"
   ]
  },
  {
   "cell_type": "code",
   "execution_count": 24,
   "metadata": {
    "collapsed": false
   },
   "outputs": [
    {
     "data": {
      "text/html": [
       "<div>\n",
       "<style scoped>\n",
       "    .dataframe tbody tr th:only-of-type {\n",
       "        vertical-align: middle;\n",
       "    }\n",
       "\n",
       "    .dataframe tbody tr th {\n",
       "        vertical-align: top;\n",
       "    }\n",
       "\n",
       "    .dataframe thead th {\n",
       "        text-align: right;\n",
       "    }\n",
       "</style>\n",
       "<table border=\"1\" class=\"dataframe\">\n",
       "  <thead>\n",
       "    <tr style=\"text-align: right;\">\n",
       "      <th></th>\n",
       "      <th>timestamp</th>\n",
       "      <th>period</th>\n",
       "      <th>open</th>\n",
       "      <th>high</th>\n",
       "      <th>low</th>\n",
       "      <th>close</th>\n",
       "      <th>volume</th>\n",
       "      <th>quoteVolume</th>\n",
       "      <th>weightedAverage</th>\n",
       "      <th>date</th>\n",
       "      <th>...</th>\n",
       "      <th>vma288</th>\n",
       "      <th>vma2016</th>\n",
       "      <th>ma_12_108</th>\n",
       "      <th>ma_36_288</th>\n",
       "      <th>ac36</th>\n",
       "      <th>ac288</th>\n",
       "      <th>vol36</th>\n",
       "      <th>vol288</th>\n",
       "      <th>vol2016</th>\n",
       "      <th>dv_36_288</th>\n",
       "    </tr>\n",
       "  </thead>\n",
       "  <tbody>\n",
       "    <tr>\n",
       "      <th>0</th>\n",
       "      <td>1483225200</td>\n",
       "      <td>5min</td>\n",
       "      <td>964.0000</td>\n",
       "      <td>964.0000</td>\n",
       "      <td>964.0000</td>\n",
       "      <td>964.0000</td>\n",
       "      <td>3.7374</td>\n",
       "      <td>0.0039</td>\n",
       "      <td>964.0000</td>\n",
       "      <td>2017-01-01 00:00:00</td>\n",
       "      <td>...</td>\n",
       "      <td>nan</td>\n",
       "      <td>nan</td>\n",
       "      <td>nan</td>\n",
       "      <td>nan</td>\n",
       "      <td>nan</td>\n",
       "      <td>nan</td>\n",
       "      <td>nan</td>\n",
       "      <td>nan</td>\n",
       "      <td>nan</td>\n",
       "      <td>nan</td>\n",
       "    </tr>\n",
       "    <tr>\n",
       "      <th>1</th>\n",
       "      <td>1483225500</td>\n",
       "      <td>5min</td>\n",
       "      <td>962.8600</td>\n",
       "      <td>962.8600</td>\n",
       "      <td>962.8600</td>\n",
       "      <td>962.8600</td>\n",
       "      <td>74.4955</td>\n",
       "      <td>0.0774</td>\n",
       "      <td>962.8600</td>\n",
       "      <td>2017-01-01 00:05:00</td>\n",
       "      <td>...</td>\n",
       "      <td>nan</td>\n",
       "      <td>nan</td>\n",
       "      <td>nan</td>\n",
       "      <td>nan</td>\n",
       "      <td>nan</td>\n",
       "      <td>nan</td>\n",
       "      <td>nan</td>\n",
       "      <td>nan</td>\n",
       "      <td>nan</td>\n",
       "      <td>nan</td>\n",
       "    </tr>\n",
       "    <tr>\n",
       "      <th>2</th>\n",
       "      <td>1483225800</td>\n",
       "      <td>5min</td>\n",
       "      <td>964.0000</td>\n",
       "      <td>964.0000</td>\n",
       "      <td>962.8600</td>\n",
       "      <td>962.8600</td>\n",
       "      <td>273.3070</td>\n",
       "      <td>0.2837</td>\n",
       "      <td>963.2768</td>\n",
       "      <td>2017-01-01 00:10:00</td>\n",
       "      <td>...</td>\n",
       "      <td>nan</td>\n",
       "      <td>nan</td>\n",
       "      <td>nan</td>\n",
       "      <td>nan</td>\n",
       "      <td>nan</td>\n",
       "      <td>nan</td>\n",
       "      <td>nan</td>\n",
       "      <td>nan</td>\n",
       "      <td>nan</td>\n",
       "      <td>nan</td>\n",
       "    </tr>\n",
       "    <tr>\n",
       "      <th>3</th>\n",
       "      <td>1483226100</td>\n",
       "      <td>5min</td>\n",
       "      <td>964.0000</td>\n",
       "      <td>964.0000</td>\n",
       "      <td>964.0000</td>\n",
       "      <td>964.0000</td>\n",
       "      <td>69.1332</td>\n",
       "      <td>0.0717</td>\n",
       "      <td>964.0000</td>\n",
       "      <td>2017-01-01 00:15:00</td>\n",
       "      <td>...</td>\n",
       "      <td>nan</td>\n",
       "      <td>nan</td>\n",
       "      <td>nan</td>\n",
       "      <td>nan</td>\n",
       "      <td>nan</td>\n",
       "      <td>nan</td>\n",
       "      <td>nan</td>\n",
       "      <td>nan</td>\n",
       "      <td>nan</td>\n",
       "      <td>nan</td>\n",
       "    </tr>\n",
       "    <tr>\n",
       "      <th>4</th>\n",
       "      <td>1483226400</td>\n",
       "      <td>5min</td>\n",
       "      <td>964.0000</td>\n",
       "      <td>965.0000</td>\n",
       "      <td>962.8600</td>\n",
       "      <td>965.0000</td>\n",
       "      <td>3,050.4950</td>\n",
       "      <td>3.1637</td>\n",
       "      <td>964.2074</td>\n",
       "      <td>2017-01-01 00:20:00</td>\n",
       "      <td>...</td>\n",
       "      <td>nan</td>\n",
       "      <td>nan</td>\n",
       "      <td>nan</td>\n",
       "      <td>nan</td>\n",
       "      <td>nan</td>\n",
       "      <td>nan</td>\n",
       "      <td>nan</td>\n",
       "      <td>nan</td>\n",
       "      <td>nan</td>\n",
       "      <td>nan</td>\n",
       "    </tr>\n",
       "  </tbody>\n",
       "</table>\n",
       "<p>5 rows × 36 columns</p>\n",
       "</div>"
      ],
      "text/plain": [
       "    timestamp period     open     high      low    close     volume  \\\n",
       "0  1483225200   5min 964.0000 964.0000 964.0000 964.0000     3.7374   \n",
       "1  1483225500   5min 962.8600 962.8600 962.8600 962.8600    74.4955   \n",
       "2  1483225800   5min 964.0000 964.0000 962.8600 962.8600   273.3070   \n",
       "3  1483226100   5min 964.0000 964.0000 964.0000 964.0000    69.1332   \n",
       "4  1483226400   5min 964.0000 965.0000 962.8600 965.0000 3,050.4950   \n",
       "\n",
       "   quoteVolume  weightedAverage                 date    ...      vma288  \\\n",
       "0       0.0039         964.0000  2017-01-01 00:00:00    ...         nan   \n",
       "1       0.0774         962.8600  2017-01-01 00:05:00    ...         nan   \n",
       "2       0.2837         963.2768  2017-01-01 00:10:00    ...         nan   \n",
       "3       0.0717         964.0000  2017-01-01 00:15:00    ...         nan   \n",
       "4       3.1637         964.2074  2017-01-01 00:20:00    ...         nan   \n",
       "\n",
       "   vma2016  ma_12_108  ma_36_288  ac36  ac288  vol36  vol288  vol2016  \\\n",
       "0      nan        nan        nan   nan    nan    nan     nan      nan   \n",
       "1      nan        nan        nan   nan    nan    nan     nan      nan   \n",
       "2      nan        nan        nan   nan    nan    nan     nan      nan   \n",
       "3      nan        nan        nan   nan    nan    nan     nan      nan   \n",
       "4      nan        nan        nan   nan    nan    nan     nan      nan   \n",
       "\n",
       "   dv_36_288  \n",
       "0        nan  \n",
       "1        nan  \n",
       "2        nan  \n",
       "3        nan  \n",
       "4        nan  \n",
       "\n",
       "[5 rows x 36 columns]"
      ]
     },
     "execution_count": 24,
     "metadata": {},
     "output_type": "execute_result"
    }
   ],
   "source": [
    "featured.head()"
   ]
  },
  {
   "cell_type": "markdown",
   "metadata": {},
   "source": [
    "# Save Features"
   ]
  },
  {
   "cell_type": "code",
   "execution_count": 25,
   "metadata": {
    "collapsed": false
   },
   "outputs": [
    {
     "data": {
      "text/plain": [
       "Index(['timestamp', 'period', 'open', 'high', 'low', 'close', 'volume',\n",
       "       'quoteVolume', 'weightedAverage', 'date', 'maxReturn', 'tillMax',\n",
       "       'minReturn', 'label', 'return', 'return_1', 'return_2',\n",
       "       'zscore_36_return', 'zscore_288_return', 'zscore_36_volume',\n",
       "       'zscore_288_volume', 'zscore_2016_volume', 'pma36', 'pma288', 'pma2016',\n",
       "       'vma36', 'vma288', 'vma2016', 'ma_12_108', 'ma_36_288', 'ac36', 'ac288',\n",
       "       'vol36', 'vol288', 'vol2016', 'dv_36_288'],\n",
       "      dtype='object')"
      ]
     },
     "execution_count": 25,
     "metadata": {},
     "output_type": "execute_result"
    }
   ],
   "source": [
    "featured.columns"
   ]
  },
  {
   "cell_type": "code",
   "execution_count": 28,
   "metadata": {
    "collapsed": true
   },
   "outputs": [],
   "source": [
    "write_cols = ['date', 'label', 'close', 'return', 'return_1', 'return_2', 'zscore_36_return',\n",
    "       'zscore_288_return', 'pma36', 'ma_12_108', 'ma_36_288', 'ac36', 'ac288',\n",
    "       'zscore_36_volume', 'zscore_288_volume', 'zscore_2016_volume', 'vol36',\n",
    "       'vol288', 'vol2016', 'dv_36_288']"
   ]
  },
  {
   "cell_type": "code",
   "execution_count": 29,
   "metadata": {
    "collapsed": false
   },
   "outputs": [],
   "source": [
    "write_tsv(featured[write_cols].dropna(), featuresFile)"
   ]
  },
  {
   "cell_type": "code",
   "execution_count": 26,
   "metadata": {
    "collapsed": false
   },
   "outputs": [
    {
     "data": {
      "text/plain": [
       "(160955, 36)"
      ]
     },
     "execution_count": 26,
     "metadata": {},
     "output_type": "execute_result"
    }
   ],
   "source": [
    "featured.shape"
   ]
  },
  {
   "cell_type": "code",
   "execution_count": 27,
   "metadata": {
    "collapsed": false
   },
   "outputs": [
    {
     "data": {
      "text/plain": [
       "(158365, 36)"
      ]
     },
     "execution_count": 27,
     "metadata": {},
     "output_type": "execute_result"
    }
   ],
   "source": [
    "featured.dropna().shape"
   ]
  },
  {
   "cell_type": "markdown",
   "metadata": {},
   "source": [
    "# Explore Features"
   ]
  },
  {
   "cell_type": "code",
   "execution_count": 8,
   "metadata": {
    "collapsed": false
   },
   "outputs": [
    {
     "data": {
      "text/plain": [
       "Index(['close', 'timestamp', 'high', 'low', 'open', 'quoteVolume', 'volume',\n",
       "       'weightedAverage', 'date', 'entryReturn_001', 'entryReturn_003',\n",
       "       'entryReturn_006', 'entryReturn_01', 'entryReturn_03', 'entryReturn_05',\n",
       "       'entryReturn_07', 'entryReturn_1', 'entryReturn_12', 'entryReturn_15',\n",
       "       'entryReturn_18', 'entryReturn_2', 'entryReturn_22', 'entryReturn_25',\n",
       "       'entryReturn_28', 'entryReturn_3', 'labelSlope_close_12', 'returnOpen',\n",
       "       'returnClose', 'returnHigh', 'returnLow', 'labelSlope_returnClose_12',\n",
       "       'return', 'return_1', 'return_2'],\n",
       "      dtype='object')"
      ]
     },
     "execution_count": 8,
     "metadata": {},
     "output_type": "execute_result"
    }
   ],
   "source": [
    "featured.columns"
   ]
  }
 ],
 "metadata": {
  "kernelspec": {
   "display_name": "Python 3.6 (crypto36)",
   "language": "python",
   "name": "crypto36"
  },
  "language_info": {
   "codemirror_mode": {
    "name": "ipython",
    "version": 3
   },
   "file_extension": ".py",
   "mimetype": "text/x-python",
   "name": "python",
   "nbconvert_exporter": "python",
   "pygments_lexer": "ipython3",
   "version": "3.6.5"
  }
 },
 "nbformat": 4,
 "nbformat_minor": 2
}
