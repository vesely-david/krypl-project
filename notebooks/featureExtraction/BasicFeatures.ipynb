{
 "cells": [
  {
   "cell_type": "code",
   "execution_count": 1,
   "metadata": {
    "collapsed": true
   },
   "outputs": [],
   "source": [
    "%run ../utils/commonImports.py\n",
    "%run ../utils/tradingImports.py\n",
    "%matplotlib inline"
   ]
  },
  {
   "cell_type": "markdown",
   "metadata": {},
   "source": [
    "# Properties"
   ]
  },
  {
   "cell_type": "code",
   "execution_count": 2,
   "metadata": {
    "collapsed": true
   },
   "outputs": [],
   "source": [
    "dataRoot = 'D:\\\\Dropbox\\\\My work\\\\krypl-project\\\\dataLabeled\\\\poloniex\\\\5min'\n",
    "featuresRoot = 'D:\\\\Dropbox\\\\My work\\\\krypl-project\\\\dataFeatures\\\\poloniex\\\\5min'"
   ]
  },
  {
   "cell_type": "code",
   "execution_count": 3,
   "metadata": {
    "collapsed": true
   },
   "outputs": [],
   "source": [
    "fileName = 'USDT_BTC_5min_2016-01-01_2017-12-31.tsv'\n",
    "file = '{dataRoot}\\\\{fileName}'.format(dataRoot=dataRoot, fileName=fileName)\n",
    "featuresFile = '{dataRoot}\\\\{fileName}'.format(dataRoot=featuresRoot, fileName=fileName)\n",
    "data = pd.read_csv(file, sep='\\t')"
   ]
  },
  {
   "cell_type": "code",
   "execution_count": 4,
   "metadata": {
    "collapsed": true
   },
   "outputs": [],
   "source": [
    "featured = data.copy()"
   ]
  },
  {
   "cell_type": "markdown",
   "metadata": {},
   "source": [
    "# Return"
   ]
  },
  {
   "cell_type": "code",
   "execution_count": 8,
   "metadata": {
    "collapsed": true
   },
   "outputs": [],
   "source": [
    "def lag(arr, l):\n",
    "    laged = arr[:arr.shape[0]-l]\n",
    "    laged = np.array([0]*l + laged.tolist())\n",
    "    return laged"
   ]
  },
  {
   "cell_type": "code",
   "execution_count": 9,
   "metadata": {
    "collapsed": true
   },
   "outputs": [],
   "source": [
    "def _return(arr):\n",
    "    arr0 = arr[:arr.shape[0]-1]\n",
    "    arr1 = arr[1:]\n",
    "    r = (arr1 / arr0) - 1\n",
    "    r = np.insert(r, 0, 0., axis=0)\n",
    "    return r"
   ]
  },
  {
   "cell_type": "code",
   "execution_count": 10,
   "metadata": {
    "collapsed": true
   },
   "outputs": [],
   "source": [
    "featured['return'] = _return(featured['close'].values)\n",
    "featured['return_1'] = lag(featured['return'].values, 1)\n",
    "featured['return_2'] = lag(featured['return'].values, 2)"
   ]
  },
  {
   "cell_type": "markdown",
   "metadata": {},
   "source": [
    "# Z-Score"
   ]
  },
  {
   "cell_type": "code",
   "execution_count": 11,
   "metadata": {
    "collapsed": true
   },
   "outputs": [],
   "source": [
    "from scipy import stats\n",
    "def zscore(x, window):\n",
    "    r = x.rolling(window=window)\n",
    "    m = r.mean().shift(1)\n",
    "    s = r.std(ddof=0).shift(1)\n",
    "    z = (x-m)/s\n",
    "    return z"
   ]
  },
  {
   "cell_type": "code",
   "execution_count": 12,
   "metadata": {
    "collapsed": true
   },
   "outputs": [],
   "source": [
    "featured['zscore_36_return'] = zscore(featured['return'], 36)\n",
    "featured['zscore_288_return'] = zscore(featured['return'], 288)"
   ]
  },
  {
   "cell_type": "code",
   "execution_count": 39,
   "metadata": {
    "collapsed": true
   },
   "outputs": [],
   "source": [
    "featured['zscore_36_volume'] = zscore(featured['volume'], 36)\n",
    "featured['zscore_288_volume'] = zscore(featured['volume'], 288)\n",
    "featured['zscore_2016_volume'] = zscore(featured['volume'], 2016)"
   ]
  },
  {
   "cell_type": "markdown",
   "metadata": {
    "collapsed": true
   },
   "source": [
    "# Sliding Mean"
   ]
  },
  {
   "cell_type": "code",
   "execution_count": 23,
   "metadata": {
    "collapsed": true
   },
   "outputs": [],
   "source": [
    "def sliding_mean(x, window):\n",
    "    return x.rolling(center=False,window=window).mean()"
   ]
  },
  {
   "cell_type": "code",
   "execution_count": 24,
   "metadata": {
    "collapsed": false,
    "scrolled": true
   },
   "outputs": [
    {
     "data": {
      "text/plain": [
       "0                nan\n",
       "1                nan\n",
       "2                nan\n",
       "3                nan\n",
       "4                nan\n",
       "5                nan\n",
       "6                nan\n",
       "7                nan\n",
       "8                nan\n",
       "9                nan\n",
       "10               nan\n",
       "11               nan\n",
       "12               nan\n",
       "13               nan\n",
       "14               nan\n",
       "15               nan\n",
       "16               nan\n",
       "17               nan\n",
       "18               nan\n",
       "19               nan\n",
       "20               nan\n",
       "21               nan\n",
       "22               nan\n",
       "23               nan\n",
       "24               nan\n",
       "25               nan\n",
       "26               nan\n",
       "27               nan\n",
       "28               nan\n",
       "29               nan\n",
       "             ...    \n",
       "210211   12,615.4672\n",
       "210212   12,624.7966\n",
       "210213   12,631.5188\n",
       "210214   12,638.4447\n",
       "210215   12,642.7276\n",
       "210216   12,648.6442\n",
       "210217   12,658.0222\n",
       "210218   12,662.8855\n",
       "210219   12,666.2646\n",
       "210220   12,673.2135\n",
       "210221   12,683.6028\n",
       "210222   12,697.2139\n",
       "210223   12,708.3330\n",
       "210224   12,719.0861\n",
       "210225   12,725.7357\n",
       "210226   12,732.9932\n",
       "210227   12,740.1732\n",
       "210228   12,746.5883\n",
       "210229   12,747.1141\n",
       "210230   12,743.3113\n",
       "210231   12,742.0361\n",
       "210232   12,740.6472\n",
       "210233   12,738.3694\n",
       "210234   12,740.6483\n",
       "210235   12,743.4325\n",
       "210236   12,740.5945\n",
       "210237   12,737.1620\n",
       "210238   12,732.9672\n",
       "210239   12,725.3661\n",
       "210240   12,720.3292\n",
       "Name: close, Length: 210241, dtype: float64"
      ]
     },
     "execution_count": 24,
     "metadata": {},
     "output_type": "execute_result"
    }
   ],
   "source": [
    "sliding_mean(featured['close'], 36)"
   ]
  },
  {
   "cell_type": "markdown",
   "metadata": {},
   "source": [
    "# Change In Price\n",
    "\n",
    "$ pma = zscore(\\frac{p}{avg(p, w_m)} - 1, w_z) $"
   ]
  },
  {
   "cell_type": "code",
   "execution_count": 25,
   "metadata": {
    "collapsed": true
   },
   "outputs": [],
   "source": [
    "def change_in_price(x, mean_window, zscore_window):\n",
    "    mean_x = sliding_mean(x, mean_window)\n",
    "    change_x = (x / mean_x) - 1\n",
    "    zscore_change = zscore(change_x, zscore_window)\n",
    "    return zscore_change"
   ]
  },
  {
   "cell_type": "code",
   "execution_count": 26,
   "metadata": {
    "collapsed": false
   },
   "outputs": [],
   "source": [
    "featured['pma36'] = change_in_price(featured['close'], 36, 288)\n",
    "featured['pma288'] = change_in_price(featured['close'], 288, 288)\n",
    "featured['pma2016'] = change_in_price(featured['close'], 2016, 288)"
   ]
  },
  {
   "cell_type": "code",
   "execution_count": 26,
   "metadata": {
    "collapsed": false
   },
   "outputs": [],
   "source": [
    "featured['vma36'] = change_in_price(featured['volume'], 36, 288)\n",
    "featured['vma288'] = change_in_price(featured['volume'], 288, 288)\n",
    "featured['vma2016'] = change_in_price(featured['volume'], 2016, 288)"
   ]
  },
  {
   "cell_type": "markdown",
   "metadata": {},
   "source": [
    "# Sliding means change\n",
    "\n",
    "$ ma = zscore(\\frac{avg(p, w_1)}{avg(p, w_2)}-1, w_z) $"
   ]
  },
  {
   "cell_type": "code",
   "execution_count": 28,
   "metadata": {
    "collapsed": true
   },
   "outputs": [],
   "source": [
    "def sliding_means_change(x, w1, w2, zscore_window):\n",
    "    mean1 = sliding_mean(x, w1)\n",
    "    mean2 = sliding_mean(x, w2)\n",
    "    change = (mean1 / mean2) - 1\n",
    "    zscored = zscore(change, zscore_window)\n",
    "    return zscored"
   ]
  },
  {
   "cell_type": "code",
   "execution_count": 30,
   "metadata": {
    "collapsed": true
   },
   "outputs": [],
   "source": [
    "featured['ma_12_108'] = sliding_means_change(featured['close'], 12, 108, 288)\n",
    "featured['ma_36_288'] = sliding_means_change(featured['close'], 12, 108, 288)"
   ]
  },
  {
   "cell_type": "markdown",
   "metadata": {},
   "source": [
    "# Price acceleration\n",
    "\n",
    "$ pavg = \\frac{p}{avg(p, w_m)} $\n",
    "\n",
    "$ ac = zscore(\\frac{pavg}{avg(pavg, w_m)}, w_z) $"
   ]
  },
  {
   "cell_type": "code",
   "execution_count": 31,
   "metadata": {
    "collapsed": true
   },
   "outputs": [],
   "source": [
    "def price_acceleration(x, w_mean, zscore_window):\n",
    "    pavg = sliding_mean(x, w_mean)\n",
    "    pavg_mean = sliding_mean(pavg, w_mean)\n",
    "    acceleration = pavg / pavg_mean\n",
    "    zscored = zscore(acceleration, zscore_window)\n",
    "    return zscored"
   ]
  },
  {
   "cell_type": "code",
   "execution_count": 33,
   "metadata": {
    "collapsed": true
   },
   "outputs": [],
   "source": [
    "featured['ac36'] = price_acceleration(featured['close'], 36, 288)\n",
    "featured['ac288'] = price_acceleration(featured['close'], 288, 288)"
   ]
  },
  {
   "cell_type": "markdown",
   "metadata": {},
   "source": [
    "# Volatility"
   ]
  },
  {
   "cell_type": "code",
   "execution_count": 43,
   "metadata": {
    "collapsed": true
   },
   "outputs": [],
   "source": [
    "def std(x, window):\n",
    "    return x.rolling(center=False,window=window).std()\n",
    "\n",
    "\n",
    "def volatility(x, w_std, w_zscore):\n",
    "    vol = std(x, w_std)\n",
    "    return zscore(vol, w_zscore)"
   ]
  },
  {
   "cell_type": "code",
   "execution_count": 44,
   "metadata": {
    "collapsed": false
   },
   "outputs": [],
   "source": [
    "featured['vol36'] = volatility(featured['return'], 36, 288)\n",
    "featured['vol288'] = volatility(featured['return'], 288, 288)\n",
    "featured['vol2016'] = volatility(featured['return'], 2016, 288)"
   ]
  },
  {
   "cell_type": "markdown",
   "metadata": {},
   "source": [
    "# Change in Volatility\n",
    "\n",
    "$ sd = std(r, w_s)\n",
    "\n",
    "$ dv =  zscore(\\frac{std}{avg(std, w_a)}, w_z) $"
   ]
  },
  {
   "cell_type": "code",
   "execution_count": 46,
   "metadata": {
    "collapsed": true
   },
   "outputs": [],
   "source": [
    "def volatility_change(x, w_std, w_a,  w_zscore):\n",
    "    sd = std(x, w_std)\n",
    "    sd_mean = sliding_mean(sd, w_a)\n",
    "    change = sd / sd_mean\n",
    "    return zscore(change, w_zscore)"
   ]
  },
  {
   "cell_type": "code",
   "execution_count": 47,
   "metadata": {
    "collapsed": true
   },
   "outputs": [],
   "source": [
    "featured['dv_36_288'] = volatility_change(featured['return'], 36, 288, 288)\n",
    "featured['dv_36_288'] = volatility_change(featured['return'], 288, 2016, 288)"
   ]
  },
  {
   "cell_type": "code",
   "execution_count": 48,
   "metadata": {
    "collapsed": false
   },
   "outputs": [
    {
     "data": {
      "text/html": [
       "<div>\n",
       "<style>\n",
       "    .dataframe thead tr:only-child th {\n",
       "        text-align: right;\n",
       "    }\n",
       "\n",
       "    .dataframe thead th {\n",
       "        text-align: left;\n",
       "    }\n",
       "\n",
       "    .dataframe tbody tr th {\n",
       "        vertical-align: top;\n",
       "    }\n",
       "</style>\n",
       "<table border=\"1\" class=\"dataframe\">\n",
       "  <thead>\n",
       "    <tr style=\"text-align: right;\">\n",
       "      <th></th>\n",
       "      <th>close</th>\n",
       "      <th>timestamp</th>\n",
       "      <th>high</th>\n",
       "      <th>low</th>\n",
       "      <th>open</th>\n",
       "      <th>quoteVolume</th>\n",
       "      <th>volume</th>\n",
       "      <th>weightedAverage</th>\n",
       "      <th>date</th>\n",
       "      <th>entryReturn_001</th>\n",
       "      <th>...</th>\n",
       "      <th>ma_36_288</th>\n",
       "      <th>ac36</th>\n",
       "      <th>ac288</th>\n",
       "      <th>zscore_36_volume</th>\n",
       "      <th>zscore_288_volume</th>\n",
       "      <th>zscore_2016_volume</th>\n",
       "      <th>vol36</th>\n",
       "      <th>vol288</th>\n",
       "      <th>vol2016</th>\n",
       "      <th>dv_36_288</th>\n",
       "    </tr>\n",
       "  </thead>\n",
       "  <tbody>\n",
       "    <tr>\n",
       "      <th>0</th>\n",
       "      <td>430.5732</td>\n",
       "      <td>1451602800</td>\n",
       "      <td>430.5732</td>\n",
       "      <td>430.5732</td>\n",
       "      <td>430.5732</td>\n",
       "      <td>0.0000</td>\n",
       "      <td>0.0000</td>\n",
       "      <td>430.5732</td>\n",
       "      <td>2016-01-01 00:00:00</td>\n",
       "      <td>0</td>\n",
       "      <td>...</td>\n",
       "      <td>nan</td>\n",
       "      <td>nan</td>\n",
       "      <td>nan</td>\n",
       "      <td>nan</td>\n",
       "      <td>nan</td>\n",
       "      <td>nan</td>\n",
       "      <td>nan</td>\n",
       "      <td>nan</td>\n",
       "      <td>nan</td>\n",
       "      <td>nan</td>\n",
       "    </tr>\n",
       "    <tr>\n",
       "      <th>1</th>\n",
       "      <td>430.5732</td>\n",
       "      <td>1451603100</td>\n",
       "      <td>430.5732</td>\n",
       "      <td>430.5732</td>\n",
       "      <td>430.5732</td>\n",
       "      <td>0.0000</td>\n",
       "      <td>0.0000</td>\n",
       "      <td>430.5732</td>\n",
       "      <td>2016-01-01 00:05:00</td>\n",
       "      <td>0</td>\n",
       "      <td>...</td>\n",
       "      <td>nan</td>\n",
       "      <td>nan</td>\n",
       "      <td>nan</td>\n",
       "      <td>nan</td>\n",
       "      <td>nan</td>\n",
       "      <td>nan</td>\n",
       "      <td>nan</td>\n",
       "      <td>nan</td>\n",
       "      <td>nan</td>\n",
       "      <td>nan</td>\n",
       "    </tr>\n",
       "    <tr>\n",
       "      <th>2</th>\n",
       "      <td>430.5732</td>\n",
       "      <td>1451603400</td>\n",
       "      <td>430.5732</td>\n",
       "      <td>430.5732</td>\n",
       "      <td>430.5732</td>\n",
       "      <td>0.0000</td>\n",
       "      <td>0.0000</td>\n",
       "      <td>430.5732</td>\n",
       "      <td>2016-01-01 00:10:00</td>\n",
       "      <td>0</td>\n",
       "      <td>...</td>\n",
       "      <td>nan</td>\n",
       "      <td>nan</td>\n",
       "      <td>nan</td>\n",
       "      <td>nan</td>\n",
       "      <td>nan</td>\n",
       "      <td>nan</td>\n",
       "      <td>nan</td>\n",
       "      <td>nan</td>\n",
       "      <td>nan</td>\n",
       "      <td>nan</td>\n",
       "    </tr>\n",
       "    <tr>\n",
       "      <th>3</th>\n",
       "      <td>430.5732</td>\n",
       "      <td>1451603700</td>\n",
       "      <td>430.5732</td>\n",
       "      <td>430.5732</td>\n",
       "      <td>430.5732</td>\n",
       "      <td>0.0000</td>\n",
       "      <td>0.0000</td>\n",
       "      <td>430.5732</td>\n",
       "      <td>2016-01-01 00:15:00</td>\n",
       "      <td>0</td>\n",
       "      <td>...</td>\n",
       "      <td>nan</td>\n",
       "      <td>nan</td>\n",
       "      <td>nan</td>\n",
       "      <td>nan</td>\n",
       "      <td>nan</td>\n",
       "      <td>nan</td>\n",
       "      <td>nan</td>\n",
       "      <td>nan</td>\n",
       "      <td>nan</td>\n",
       "      <td>nan</td>\n",
       "    </tr>\n",
       "    <tr>\n",
       "      <th>4</th>\n",
       "      <td>430.5732</td>\n",
       "      <td>1451604000</td>\n",
       "      <td>430.5732</td>\n",
       "      <td>430.5732</td>\n",
       "      <td>430.5732</td>\n",
       "      <td>0.0000</td>\n",
       "      <td>0.0000</td>\n",
       "      <td>430.5732</td>\n",
       "      <td>2016-01-01 00:20:00</td>\n",
       "      <td>0</td>\n",
       "      <td>...</td>\n",
       "      <td>nan</td>\n",
       "      <td>nan</td>\n",
       "      <td>nan</td>\n",
       "      <td>nan</td>\n",
       "      <td>nan</td>\n",
       "      <td>nan</td>\n",
       "      <td>nan</td>\n",
       "      <td>nan</td>\n",
       "      <td>nan</td>\n",
       "      <td>nan</td>\n",
       "    </tr>\n",
       "  </tbody>\n",
       "</table>\n",
       "<p>5 rows × 48 columns</p>\n",
       "</div>"
      ],
      "text/plain": [
       "     close   timestamp     high      low     open  quoteVolume  volume  \\\n",
       "0 430.5732  1451602800 430.5732 430.5732 430.5732       0.0000  0.0000   \n",
       "1 430.5732  1451603100 430.5732 430.5732 430.5732       0.0000  0.0000   \n",
       "2 430.5732  1451603400 430.5732 430.5732 430.5732       0.0000  0.0000   \n",
       "3 430.5732  1451603700 430.5732 430.5732 430.5732       0.0000  0.0000   \n",
       "4 430.5732  1451604000 430.5732 430.5732 430.5732       0.0000  0.0000   \n",
       "\n",
       "   weightedAverage                 date  entryReturn_001    ...      \\\n",
       "0         430.5732  2016-01-01 00:00:00                0    ...       \n",
       "1         430.5732  2016-01-01 00:05:00                0    ...       \n",
       "2         430.5732  2016-01-01 00:10:00                0    ...       \n",
       "3         430.5732  2016-01-01 00:15:00                0    ...       \n",
       "4         430.5732  2016-01-01 00:20:00                0    ...       \n",
       "\n",
       "   ma_36_288  ac36  ac288  zscore_36_volume  zscore_288_volume  \\\n",
       "0        nan   nan    nan               nan                nan   \n",
       "1        nan   nan    nan               nan                nan   \n",
       "2        nan   nan    nan               nan                nan   \n",
       "3        nan   nan    nan               nan                nan   \n",
       "4        nan   nan    nan               nan                nan   \n",
       "\n",
       "   zscore_2016_volume  vol36  vol288  vol2016  dv_36_288  \n",
       "0                 nan    nan     nan      nan        nan  \n",
       "1                 nan    nan     nan      nan        nan  \n",
       "2                 nan    nan     nan      nan        nan  \n",
       "3                 nan    nan     nan      nan        nan  \n",
       "4                 nan    nan     nan      nan        nan  \n",
       "\n",
       "[5 rows x 48 columns]"
      ]
     },
     "execution_count": 48,
     "metadata": {},
     "output_type": "execute_result"
    }
   ],
   "source": [
    "featured.head()"
   ]
  },
  {
   "cell_type": "markdown",
   "metadata": {},
   "source": [
    "# Save Features"
   ]
  },
  {
   "cell_type": "code",
   "execution_count": 50,
   "metadata": {
    "collapsed": false
   },
   "outputs": [
    {
     "data": {
      "text/plain": [
       "Index(['close', 'timestamp', 'high', 'low', 'open', 'quoteVolume', 'volume',\n",
       "       'weightedAverage', 'date', 'entryReturn_001', 'entryReturn_003',\n",
       "       'entryReturn_006', 'entryReturn_01', 'entryReturn_03', 'entryReturn_05',\n",
       "       'entryReturn_07', 'entryReturn_1', 'entryReturn_12', 'entryReturn_15',\n",
       "       'entryReturn_18', 'entryReturn_2', 'entryReturn_22', 'entryReturn_25',\n",
       "       'entryReturn_28', 'entryReturn_3', 'labelSlope_close_12', 'returnOpen',\n",
       "       'returnClose', 'returnHigh', 'returnLow', 'labelSlope_returnClose_12',\n",
       "       'return', 'return_1', 'return_2', 'zscore_36_return',\n",
       "       'zscore_288_return', 'pma36', 'ma_12_108', 'ma_36_288', 'ac36', 'ac288',\n",
       "       'zscore_36_volume', 'zscore_288_volume', 'zscore_2016_volume', 'vol36',\n",
       "       'vol288', 'vol2016', 'dv_36_288'],\n",
       "      dtype='object')"
      ]
     },
     "execution_count": 50,
     "metadata": {},
     "output_type": "execute_result"
    }
   ],
   "source": [
    "featured.columns"
   ]
  },
  {
   "cell_type": "code",
   "execution_count": 54,
   "metadata": {
    "collapsed": true
   },
   "outputs": [],
   "source": [
    "write_cols = ['date', 'close', 'return', 'return_1', 'return_2', 'zscore_36_return',\n",
    "       'zscore_288_return', 'pma36', 'ma_12_108', 'ma_36_288', 'ac36', 'ac288',\n",
    "       'zscore_36_volume', 'zscore_288_volume', 'zscore_2016_volume', 'vol36',\n",
    "       'vol288', 'vol2016', 'dv_36_288']"
   ]
  },
  {
   "cell_type": "code",
   "execution_count": 55,
   "metadata": {
    "collapsed": false
   },
   "outputs": [],
   "source": [
    "featured[write_cols].to_csv(featuresFile, index=False, sep='\\t')"
   ]
  },
  {
   "cell_type": "markdown",
   "metadata": {},
   "source": [
    "# Explore Features"
   ]
  },
  {
   "cell_type": "code",
   "execution_count": 8,
   "metadata": {
    "collapsed": false
   },
   "outputs": [
    {
     "data": {
      "text/plain": [
       "Index(['close', 'timestamp', 'high', 'low', 'open', 'quoteVolume', 'volume',\n",
       "       'weightedAverage', 'date', 'entryReturn_001', 'entryReturn_003',\n",
       "       'entryReturn_006', 'entryReturn_01', 'entryReturn_03', 'entryReturn_05',\n",
       "       'entryReturn_07', 'entryReturn_1', 'entryReturn_12', 'entryReturn_15',\n",
       "       'entryReturn_18', 'entryReturn_2', 'entryReturn_22', 'entryReturn_25',\n",
       "       'entryReturn_28', 'entryReturn_3', 'labelSlope_close_12', 'returnOpen',\n",
       "       'returnClose', 'returnHigh', 'returnLow', 'labelSlope_returnClose_12',\n",
       "       'return', 'return_1', 'return_2'],\n",
       "      dtype='object')"
      ]
     },
     "execution_count": 8,
     "metadata": {},
     "output_type": "execute_result"
    }
   ],
   "source": [
    "featured.columns"
   ]
  }
 ],
 "metadata": {
  "kernelspec": {
   "display_name": "Python 3",
   "language": "python",
   "name": "python3"
  },
  "language_info": {
   "codemirror_mode": {
    "name": "ipython",
    "version": 3
   },
   "file_extension": ".py",
   "mimetype": "text/x-python",
   "name": "python",
   "nbconvert_exporter": "python",
   "pygments_lexer": "ipython3",
   "version": "3.5.4"
  }
 },
 "nbformat": 4,
 "nbformat_minor": 2
}
