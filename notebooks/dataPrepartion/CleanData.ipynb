{
 "cells": [
  {
   "cell_type": "code",
   "execution_count": null,
   "metadata": {
    "collapsed": false
   },
   "outputs": [],
   "source": [
    "import plotly.offline as py\n",
    "import plotly.graph_objs as go\n",
    "import pandas as pd\n",
    "from datetime import datetime\n",
    "from plotly.figure_factory import create_candlestick\n",
    "\n",
    "py.init_notebook_mode()"
   ]
  },
  {
   "cell_type": "markdown",
   "metadata": {},
   "source": [
    "# Properties"
   ]
  },
  {
   "cell_type": "code",
   "execution_count": null,
   "metadata": {
    "collapsed": true
   },
   "outputs": [],
   "source": [
    "exchange = 'poloniex'\n",
    "duration = '5min'\n",
    "start = '2014-01-01'\n",
    "end = '2017-12-31'\n",
    "dataRoot = 'D:\\\\Dropbox\\\\My work\\\\krypl-project\\\\data\\\\{exchange}\\\\{duration}'.format(**locals())\n",
    "cleanedRoot = 'D:\\\\Dropbox\\\\My work\\\\krypl-project\\\\dataCleaned\\\\{exchange}\\\\{duration}'.format(**locals())\n",
    "# cleanedRoot = '.\\\\cleanedData'\n",
    "\n",
    "\n",
    "def readData(currencyPair):\n",
    "    pathMask = \"{dataRoot}\\\\{currencyPair}_{duration}_{start}_{end}.tsv\"\n",
    "    return pd.read_csv(pathMask.format(**locals(), **globals()), sep='\\t')\n",
    "\n",
    "\n",
    "def writeData(df, currencyPair, newStart, newEnd=end):\n",
    "    pathMask = \"{cleanedRoot}\\\\{currencyPair}_{duration}_{newStart}_{newEnd}.tsv\"\n",
    "    print()\n",
    "    df.to_csv(pathMask.format(cleanedRoot=cleanedRoot, duration=duration, **locals()), sep='\\t', index=False)\n",
    "    \n",
    "    \n",
    "usdtBtc = readData('USDT_BTC')"
   ]
  },
  {
   "cell_type": "markdown",
   "metadata": {},
   "source": [
    "# Explore"
   ]
  },
  {
   "cell_type": "code",
   "execution_count": null,
   "metadata": {
    "collapsed": true
   },
   "outputs": [],
   "source": [
    "def plotCandles(data):\n",
    "    traceVolume = go.Scatter(\n",
    "        x=data.date,\n",
    "        y=data.volume,\n",
    "        mode='lines',\n",
    "        name='Volume',\n",
    "        yaxis='y2',\n",
    "        marker=dict(\n",
    "            size=10,\n",
    "            color='rgb(148, 103, 189)',\n",
    "            line=dict(width=2, )\n",
    "        )\n",
    "    )\n",
    "\n",
    "    layout = go.Layout(\n",
    "        title='Explore Currency Pair',\n",
    "        yaxis=dict(title='price'),\n",
    "        yaxis2=dict(\n",
    "            title='volume',\n",
    "            titlefont=dict(color='rgb(148, 103, 189)'),\n",
    "            tickfont=dict(color='rgb(148, 103, 189)'),\n",
    "            overlaying='y',\n",
    "            side='right'\n",
    "        )\n",
    "    )\n",
    "\n",
    "    fig = create_candlestick(data.open, data.high, data.low, data.close, dates=data.date)\n",
    "    fig.data.append(traceVolume)\n",
    "    fig['layout'] = layout\n",
    "    py.iplot(fig, filename='finance/aapl-candlestick', validate=False)\n"
   ]
  },
  {
   "cell_type": "code",
   "execution_count": null,
   "metadata": {
    "collapsed": true
   },
   "outputs": [],
   "source": [
    "def findStartOfRealTrading(df, realVolume):\n",
    "    filtered = df.query(\"volume > {realVolume}\".format(**locals()))\n",
    "    i = filtered.reset_index().sort_values('date').iloc[0, :]['index']\n",
    "    i -= 10000\n",
    "    i = 0 if i < 0 else i\n",
    "    return df.loc[i, 'date']\n"
   ]
  },
  {
   "cell_type": "code",
   "execution_count": null,
   "metadata": {
    "collapsed": true
   },
   "outputs": [],
   "source": [
    "def selectFromDate(df, date):\n",
    "    return df.query(\"date >= '{date}'\".format(**locals()))"
   ]
  },
  {
   "cell_type": "markdown",
   "metadata": {},
   "source": [
    "# USDT-BTC"
   ]
  },
  {
   "cell_type": "code",
   "execution_count": null,
   "metadata": {
    "collapsed": false
   },
   "outputs": [],
   "source": [
    "cPair = 'USDT_BTC'\n",
    "data = readData(cPair)"
   ]
  },
  {
   "cell_type": "code",
   "execution_count": null,
   "metadata": {
    "collapsed": false
   },
   "outputs": [],
   "source": [
    "dateOfInterest = findStartOfRealTrading(usdtBtc, 20000)\n",
    "dateOfInterest = '2016-01-01' \n",
    "selected = selectFromDate(dataAndrea Londo, dateOfInterest)"
   ]
  },
  {
   "cell_type": "code",
   "execution_count": null,
   "metadata": {
    "collapsed": false
   },
   "outputs": [],
   "source": [
    "writeData(selected, cPair, dateOfInterest)"
   ]
  },
  {
   "cell_type": "markdown",
   "metadata": {},
   "source": [
    "# USDT_ETH"
   ]
  },
  {
   "cell_type": "code",
   "execution_count": null,
   "metadata": {
    "collapsed": false
   },
   "outputs": [],
   "source": [
    "cPair = 'USDT_ETH'\n",
    "data = readData(cPair)\n",
    "data.head()"
   ]
  },
  {
   "cell_type": "code",
   "execution_count": null,
   "metadata": {
    "collapsed": false
   },
   "outputs": [],
   "source": [
    "dateOfInterest = findStartOfRealTrading(data, 20000)\n",
    "dateOfInterest = '2016-02-08' \n",
    "selected = selectFromDate(data, dateOfInterest)\n",
    "selected.head()"
   ]
  },
  {
   "cell_type": "code",
   "execution_count": null,
   "metadata": {
    "collapsed": false
   },
   "outputs": [],
   "source": [
    "writeData(selected, cPair, dateOfInterest)"
   ]
  },
  {
   "cell_type": "markdown",
   "metadata": {},
   "source": [
    "# BTC_ETH"
   ]
  },
  {
   "cell_type": "code",
   "execution_count": null,
   "metadata": {
    "collapsed": false
   },
   "outputs": [],
   "source": [
    "cPair = 'BTC_ETH'\n",
    "data = readData(cPair)\n",
    "data.head()"
   ]
  },
  {
   "cell_type": "code",
   "execution_count": null,
   "metadata": {
    "collapsed": false
   },
   "outputs": [],
   "source": [
    "cols = ['date', 'volume']\n",
    "dataUsdtVolume = data[cols].copy()\n",
    "dataUsdtVolume = dataUsdtVolume.merge(usdtBtc[['date', 'close']], on='date', how='inner', suffixes=['Btc', 'Usdt'])\n",
    "dataUsdtVolume['volume'] = dataUsdtVolume['volume']*dataUsdtVolume['close']"
   ]
  },
  {
   "cell_type": "code",
   "execution_count": null,
   "metadata": {
    "collapsed": false
   },
   "outputs": [],
   "source": [
    "dateOfInterest = findStartOfRealTrading(dataUsdtVolume, 20000)\n",
    "dateOfInterest = '2015-08-09'\n",
    "selected = selectFromDate(data, dateOfInterest)\n",
    "selected.head()"
   ]
  },
  {
   "cell_type": "code",
   "execution_count": null,
   "metadata": {
    "collapsed": true
   },
   "outputs": [],
   "source": [
    "writeData(selected, cPair, dateOfInterest)"
   ]
  },
  {
   "cell_type": "markdown",
   "metadata": {},
   "source": [
    "# USDT_XRP"
   ]
  },
  {
   "cell_type": "code",
   "execution_count": null,
   "metadata": {
    "collapsed": false
   },
   "outputs": [],
   "source": [
    "cPair = 'USDT_XRP'\n",
    "data = readData(cPair)\n",
    "data.head()"
   ]
  },
  {
   "cell_type": "code",
   "execution_count": null,
   "metadata": {
    "collapsed": false
   },
   "outputs": [],
   "source": [
    "dateOfInterest = findStartOfRealTrading(data, 20000)\n",
    "dateOfInterest = '2017-01-01'\n",
    "selected = selectFromDate(data, dateOfInterest)\n",
    "selected.head()"
   ]
  },
  {
   "cell_type": "code",
   "execution_count": null,
   "metadata": {
    "collapsed": false
   },
   "outputs": [],
   "source": [
    "writeData(selected, cPair, dateOfInterest)"
   ]
  },
  {
   "cell_type": "markdown",
   "metadata": {},
   "source": [
    "# BTC_XRP"
   ]
  },
  {
   "cell_type": "code",
   "execution_count": null,
   "metadata": {
    "collapsed": false
   },
   "outputs": [],
   "source": [
    "cPair = 'BTC_XRP'\n",
    "data = readData(cPair)\n",
    "data.head()"
   ]
  },
  {
   "cell_type": "code",
   "execution_count": null,
   "metadata": {
    "collapsed": false
   },
   "outputs": [],
   "source": [
    "cols = ['date', 'volume']\n",
    "dataUsdtVolume = data[cols].copy()\n",
    "dataUsdtVolume = dataUsdtVolume.merge(usdtBtc[['date', 'close']], on='date', how='inner', suffixes=['Btc', 'Usdt'])\n",
    "dataUsdtVolume['volume'] = dataUsdtVolume['volume']*dataUsdtVolume['close']"
   ]
  },
  {
   "cell_type": "code",
   "execution_count": null,
   "metadata": {
    "collapsed": false,
    "scrolled": true
   },
   "outputs": [],
   "source": [
    "dateOfInterest = findStartOfRealTrading(dataUsdtVolume, 20000)\n",
    "dateOfInterest = '2016-01-01'\n",
    "selected = selectFromDate(data, dateOfInterest)\n",
    "selected.head()"
   ]
  },
  {
   "cell_type": "code",
   "execution_count": null,
   "metadata": {
    "collapsed": false
   },
   "outputs": [],
   "source": [
    "writeData(selected, cPair, dateOfInterest)"
   ]
  },
  {
   "cell_type": "markdown",
   "metadata": {},
   "source": [
    "# USDT_ LTC"
   ]
  },
  {
   "cell_type": "code",
   "execution_count": null,
   "metadata": {
    "collapsed": false
   },
   "outputs": [],
   "source": [
    "cPair = 'USDT_LTC'\n",
    "data = readData(cPair)\n",
    "data.head()"
   ]
  },
  {
   "cell_type": "code",
   "execution_count": null,
   "metadata": {
    "collapsed": false
   },
   "outputs": [],
   "source": [
    "dateOfInterest = findStartOfRealTrading(data, 20000)\n",
    "dateOfInterest = '2016-06-01'\n",
    "selected = selectFromDate(data, dateOfInterest)\n",
    "selected.head()"
   ]
  },
  {
   "cell_type": "code",
   "execution_count": null,
   "metadata": {
    "collapsed": false
   },
   "outputs": [],
   "source": [
    "writeData(selected, cPair, dateOfInterest)"
   ]
  },
  {
   "cell_type": "markdown",
   "metadata": {},
   "source": [
    "# BTC_LTC"
   ]
  },
  {
   "cell_type": "code",
   "execution_count": null,
   "metadata": {
    "collapsed": false
   },
   "outputs": [],
   "source": [
    "cPair = 'BTC_LTC'\n",
    "data = readData(cPair)\n",
    "data.head()"
   ]
  },
  {
   "cell_type": "code",
   "execution_count": null,
   "metadata": {
    "collapsed": false
   },
   "outputs": [],
   "source": [
    "cols = ['date', 'volume']\n",
    "dataUsdtVolume = data[cols].copy()\n",
    "dataUsdtVolume = dataUsdtVolume.merge(usdtBtc[['date', 'close']], on='date', how='inner', suffixes=['Btc', 'Usdt'])\n",
    "dataUsdtVolume['volume'] = dataUsdtVolume['volume']*dataUsdtVolume['close']"
   ]
  },
  {
   "cell_type": "code",
   "execution_count": null,
   "metadata": {
    "collapsed": false,
    "scrolled": true
   },
   "outputs": [],
   "source": [
    "dateOfInterest = findStartOfRealTrading(dataUsdtVolume, 10000)\n",
    "dateOfInterest = '2016-07-01'\n",
    "selected = selectFromDate(data, dateOfInterest)\n",
    "selected.head()"
   ]
  },
  {
   "cell_type": "code",
   "execution_count": null,
   "metadata": {
    "collapsed": false
   },
   "outputs": [],
   "source": [
    "writeData(selected, cPair, dateOfInterest)"
   ]
  },
  {
   "cell_type": "markdown",
   "metadata": {},
   "source": [
    "# BTC_XMR"
   ]
  },
  {
   "cell_type": "code",
   "execution_count": null,
   "metadata": {
    "collapsed": false
   },
   "outputs": [],
   "source": [
    "cPair = 'BTC_XMR'\n",
    "data = readData(cPair)\n",
    "data.head()"
   ]
  },
  {
   "cell_type": "code",
   "execution_count": null,
   "metadata": {
    "collapsed": false
   },
   "outputs": [],
   "source": [
    "cols = ['date', 'volume']\n",
    "dataUsdtVolume = data[cols].copy()\n",
    "dataUsdtVolume = dataUsdtVolume.merge(usdtBtc[['date', 'close']], on='date', how='inner', suffixes=['Btc', 'Usdt'])\n",
    "dataUsdtVolume['volume'] = dataUsdtVolume['volume']*dataUsdtVolume['close']"
   ]
  },
  {
   "cell_type": "code",
   "execution_count": null,
   "metadata": {
    "collapsed": false,
    "scrolled": true
   },
   "outputs": [],
   "source": [
    "dateOfInterest = findStartOfRealTrading(dataUsdtVolume, 10000)\n",
    "dateOfInterest = '2015-01-01'\n",
    "selected = selectFromDate(data, dateOfInterest)\n",
    "selected.head()"
   ]
  },
  {
   "cell_type": "code",
   "execution_count": null,
   "metadata": {
    "collapsed": false
   },
   "outputs": [],
   "source": [
    "writeData(selected, cPair, dateOfInterest)"
   ]
  },
  {
   "cell_type": "markdown",
   "metadata": {},
   "source": [
    "# USDT_XMR"
   ]
  },
  {
   "cell_type": "code",
   "execution_count": null,
   "metadata": {
    "collapsed": false
   },
   "outputs": [],
   "source": [
    "cPair = 'USDT_XMR'\n",
    "data = readData(cPair)\n",
    "data.head()"
   ]
  },
  {
   "cell_type": "code",
   "execution_count": null,
   "metadata": {
    "collapsed": false
   },
   "outputs": [],
   "source": [
    "dateOfInterest = findStartOfRealTrading(data, 20000)\n",
    "dateOfInterest = '2016-10-01'\n",
    "selected = selectFromDate(data, dateOfInterest)\n",
    "selected.head()"
   ]
  },
  {
   "cell_type": "code",
   "execution_count": null,
   "metadata": {
    "collapsed": false
   },
   "outputs": [],
   "source": [
    "writeData(selected, cPair, dateOfInterest)"
   ]
  },
  {
   "cell_type": "markdown",
   "metadata": {},
   "source": [
    "# USDT_BCH"
   ]
  },
  {
   "cell_type": "code",
   "execution_count": null,
   "metadata": {
    "collapsed": false
   },
   "outputs": [],
   "source": [
    "cPair = 'USDT_BCH'\n",
    "data = readData(cPair)\n",
    "data.head()"
   ]
  },
  {
   "cell_type": "code",
   "execution_count": null,
   "metadata": {
    "collapsed": false
   },
   "outputs": [],
   "source": [
    "dateOfInterest = findStartOfRealTrading(data, 0)\n",
    "dateOfInterest = '2017-08-14'\n",
    "selected = selectFromDate(data, dateOfInterest)\n",
    "selected.head()"
   ]
  },
  {
   "cell_type": "code",
   "execution_count": null,
   "metadata": {
    "collapsed": false
   },
   "outputs": [],
   "source": [
    "writeData(selected, cPair, dateOfInterest)"
   ]
  },
  {
   "cell_type": "markdown",
   "metadata": {},
   "source": [
    "# BTC_BCH"
   ]
  },
  {
   "cell_type": "code",
   "execution_count": null,
   "metadata": {
    "collapsed": false
   },
   "outputs": [],
   "source": [
    "cPair = 'BTC_BCH'\n",
    "data = readData(cPair)\n",
    "data.head()"
   ]
  },
  {
   "cell_type": "code",
   "execution_count": null,
   "metadata": {
    "collapsed": false
   },
   "outputs": [],
   "source": [
    "cols = ['date', 'volume']\n",
    "dataUsdtVolume = data[cols].copy()\n",
    "dataUsdtVolume = dataUsdtVolume.merge(usdtBtc[['date', 'close']], on='date', how='inner', suffixes=['Btc', 'Usdt'])\n",
    "dataUsdtVolume['volume'] = dataUsdtVolume['volume']*dataUsdtVolume['close']"
   ]
  },
  {
   "cell_type": "code",
   "execution_count": null,
   "metadata": {
    "collapsed": false,
    "scrolled": true
   },
   "outputs": [],
   "source": [
    "dateOfInterest = findStartOfRealTrading(dataUsdtVolume, 10000)\n",
    "dateOfInterest = '2017-08-14'\n",
    "selected = selectFromDate(data, dateOfInterest)\n",
    "selected.head()"
   ]
  },
  {
   "cell_type": "code",
   "execution_count": 80,
   "metadata": {
    "collapsed": false
   },
   "outputs": [
    {
     "name": "stdout",
     "output_type": "stream",
     "text": [
      "\n"
     ]
    }
   ],
   "source": [
    "writeData(selected, cPair, dateOfInterest)"
   ]
  },
  {
   "cell_type": "code",
   "execution_count": null,
   "metadata": {
    "collapsed": false
   },
   "outputs": [],
   "source": [
    "plotCandles(selected.iloc[:10000,:].reset_index())"
   ]
  },
  {
   "cell_type": "code",
   "execution_count": null,
   "metadata": {
    "collapsed": true
   },
   "outputs": [],
   "source": []
  }
 ],
 "metadata": {
  "kernelspec": {
   "display_name": "Python 3",
   "language": "python",
   "name": "python3"
  },
  "language_info": {
   "codemirror_mode": {
    "name": "ipython",
    "version": 3
   },
   "file_extension": ".py",
   "mimetype": "text/x-python",
   "name": "python",
   "nbconvert_exporter": "python",
   "pygments_lexer": "ipython3",
   "version": "3.5.4"
  }
 },
 "nbformat": 4,
 "nbformat_minor": 2
}
