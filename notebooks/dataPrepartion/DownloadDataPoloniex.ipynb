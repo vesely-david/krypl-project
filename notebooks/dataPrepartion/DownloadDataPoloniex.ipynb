{
 "cells": [
  {
   "cell_type": "code",
   "execution_count": 16,
   "metadata": {},
   "outputs": [
    {
     "name": "stderr",
     "output_type": "stream",
     "text": [
      "C:\\Users\\vesely\\AppData\\Local\\conda\\conda\\envs\\crypto\\lib\\site-packages\\matplotlib\\cbook\\deprecation.py:107: MatplotlibDeprecationWarning: The finance module has been deprecated in mpl 2.0 and will be removed in mpl 2.2. Please use the module mpl_finance instead.\n"
     ]
    }
   ],
   "source": [
    "import numpy as np\n",
    "import pandas as pd\n",
    "\n",
    "from utils.common import *"
   ]
  },
  {
   "cell_type": "markdown",
   "metadata": {},
   "source": [
    "# Get Data"
   ]
  },
  {
   "cell_type": "code",
   "execution_count": 17,
   "metadata": {
    "collapsed": true
   },
   "outputs": [],
   "source": [
    "import urllib.request\n",
    "import json\n",
    "\n",
    "def retrieve(url):\n",
    "    with urllib.request.urlopen(url) as response:\n",
    "        html = response.read().decode(\"utf-8\")\n",
    "        data = json.loads(html)\n",
    "    return data"
   ]
  },
  {
   "cell_type": "code",
   "execution_count": 18,
   "metadata": {
    "collapsed": true
   },
   "outputs": [],
   "source": [
    "def queryPoloniex(beginDatetime, endDatetime, currencyPair, period):\n",
    "    beginTimestamp, endTimestamp = beginDatetime.timestamp(), endDatetime.timestamp()\n",
    "    url = 'https://poloniex.com/public?command=returnTradeHistory&currencyPair={pair}&start={begin}&end={end}'\n",
    "#     url = 'https://poloniex.com/public?command=returnChartData&currencyPair={pair}&start={begin}&end={end}&period={period}'\n",
    "    return retrieve(url.format(pair=currencyPair, begin=beginTimestamp, end=endTimestamp))"
   ]
  },
  {
   "cell_type": "code",
   "execution_count": 19,
   "metadata": {
    "collapsed": true
   },
   "outputs": [],
   "source": [
    "from dateutil.rrule import rrule, YEARLY\n",
    "from dateutil.relativedelta import relativedelta\n",
    "from time import sleep\n",
    "\n",
    "def retrieveLongWindowPoloniex(beginTime, endTime, currencyPair, period):\n",
    "    beginDT = strTimeToDatetime(beginTime)\n",
    "    endDT = strTimeToDatetime(endTime)\n",
    "    data = []\n",
    "    for dt in rrule(YEARLY, dtstart=beginDT, until=endDT):\n",
    "        dt2 = dt+relativedelta(years=1)\n",
    "        data += queryPoloniex(dt, dt+relativedelta(years=1), currencyPair, period)\n",
    "        sleep(1)\n",
    "    \n",
    "    return data\n",
    "        "
   ]
  },
  {
   "cell_type": "code",
   "execution_count": 20,
   "metadata": {
    "collapsed": true
   },
   "outputs": [],
   "source": [
    "def renameDateToTimestamp(df):\n",
    "    return df.rename(columns={'date': 'timestamp'})"
   ]
  },
  {
   "cell_type": "code",
   "execution_count": 21,
   "metadata": {
    "collapsed": true
   },
   "outputs": [],
   "source": [
    "def poloniexDataToDf(data):\n",
    "    df = pd.DataFrame(data)\n",
    "    df = renameDateToTimestamp(df)\n",
    "    df['date'] = df['timestamp'].apply(timestampToDate)\n",
    "    return df.drop_duplicates()"
   ]
  },
  {
   "cell_type": "markdown",
   "metadata": {},
   "source": [
    "# Download"
   ]
  },
  {
   "cell_type": "code",
   "execution_count": 22,
   "metadata": {
    "collapsed": true
   },
   "outputs": [],
   "source": [
    "def retrieveAndSave(cPair, startDateTime, endDateTime, interval, intervalStr):\n",
    "    startDate, endDate = startDateTime[:10], endDateTime[:10]\n",
    "    data = retrieveLongWindowPoloniex(startDateTime, endDateTime, cPair, interval)\n",
    "    df = poloniexDataToDf(data)\n",
    "    fileName = '{cPair}_{intervalStr}_{startDate}_{endDate}.tsv'.format(**locals())\n",
    "    dataRoot = 'D:\\\\Dropbox\\\\My work\\\\krypl-project\\\\'\n",
    "    path = '{dataRoot}\\\\data\\\\poloniex\\\\{intervalStr}\\\\{fileName}'.format(**locals())\n",
    "    writeTsv(df, path)"
   ]
  },
  {
   "cell_type": "code",
   "execution_count": 12,
   "metadata": {
    "collapsed": true
   },
   "outputs": [],
   "source": [
    "startDateTime, endDateTime = '2014-01-01 00:00:00', '2018-03-27 23:59:59'\n",
    "interval, intervalStr = 300, '5min'\n",
    "cPairs = [\n",
    "    'USDT_BCH', 'BTC_BCH', \n",
    "    'BTC_XEM', \n",
    "    'USDT_STR', 'BTC_STR',\n",
    "    'BTC_DASH',\n",
    "    'USDT_ETC', 'BTC_ETC',\n",
    "    'BTC_LSK'\n",
    "]\n",
    "cPairs = ['USDT_BTC']"
   ]
  },
  {
   "cell_type": "code",
   "execution_count": 38,
   "metadata": {},
   "outputs": [
    {
     "name": "stdout",
     "output_type": "stream",
     "text": [
      "USDT_BTC\tdone\n"
     ]
    }
   ],
   "source": [
    "for cPair in cPairs:\n",
    "    print(cPair, end='\\t')\n",
    "    retrieveAndSave(cPair, startDateTime, endDateTime, interval, intervalStr)\n",
    "    print('done')"
   ]
  },
  {
   "cell_type": "code",
   "execution_count": null,
   "metadata": {
    "collapsed": true
   },
   "outputs": [],
   "source": []
  },
  {
   "cell_type": "code",
   "execution_count": 32,
   "metadata": {},
   "outputs": [],
   "source": [
    "tmp = queryPoloniex(strTimeToDatetime('2018-03-26 23:59:59'), strTimeToDatetime('2018-03-27 03:05:17'), 'USDT_BTC', None)"
   ]
  },
  {
   "cell_type": "code",
   "execution_count": 33,
   "metadata": {},
   "outputs": [
    {
     "data": {
      "text/plain": [
       "'2018-03-26 22:00:03'"
      ]
     },
     "execution_count": 33,
     "metadata": {},
     "output_type": "execute_result"
    }
   ],
   "source": [
    "pd.DataFrame(tmp).date.min()"
   ]
  },
  {
   "cell_type": "code",
   "execution_count": 34,
   "metadata": {},
   "outputs": [
    {
     "data": {
      "text/plain": [
       "'2018-03-27 01:05:12'"
      ]
     },
     "execution_count": 34,
     "metadata": {},
     "output_type": "execute_result"
    }
   ],
   "source": [
    "pd.DataFrame(tmp).date.max()"
   ]
  },
  {
   "cell_type": "code",
   "execution_count": null,
   "metadata": {
    "collapsed": true
   },
   "outputs": [],
   "source": []
  }
 ],
 "metadata": {
  "kernelspec": {
   "display_name": "Python 3",
   "language": "python",
   "name": "python3"
  },
  "language_info": {
   "codemirror_mode": {
    "name": "ipython",
    "version": 3
   },
   "file_extension": ".py",
   "mimetype": "text/x-python",
   "name": "python",
   "nbconvert_exporter": "python",
   "pygments_lexer": "ipython3",
   "version": "3.6.2"
  }
 },
 "nbformat": 4,
 "nbformat_minor": 1
}
