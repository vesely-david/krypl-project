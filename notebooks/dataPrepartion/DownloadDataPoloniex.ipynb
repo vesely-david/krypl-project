{
 "cells": [
  {
   "cell_type": "code",
   "execution_count": 1,
   "metadata": {
    "collapsed": false
   },
   "outputs": [
    {
     "name": "stderr",
     "output_type": "stream",
     "text": [
      "C:\\Anaconda3\\lib\\site-packages\\matplotlib\\cbook.py:136: MatplotlibDeprecationWarning: The finance module has been deprecated in mpl 2.0 and will be removed in mpl 2.2. Please use the module mpl_finance instead.\n",
      "  warnings.warn(message, mplDeprecation, stacklevel=1)\n"
     ]
    }
   ],
   "source": [
    "import numpy as np\n",
    "import pandas as pd\n",
    "\n",
    "from utils.common import *"
   ]
  },
  {
   "cell_type": "markdown",
   "metadata": {},
   "source": [
    "# Get Data"
   ]
  },
  {
   "cell_type": "code",
   "execution_count": 2,
   "metadata": {
    "collapsed": true
   },
   "outputs": [],
   "source": [
    "import urllib.request\n",
    "import json\n",
    "\n",
    "def retrieve(url):\n",
    "    with urllib.request.urlopen(url) as response:\n",
    "        html = response.read().decode(\"utf-8\")\n",
    "        data = json.loads(html)\n",
    "    return data"
   ]
  },
  {
   "cell_type": "code",
   "execution_count": 8,
   "metadata": {
    "collapsed": true
   },
   "outputs": [],
   "source": [
    "def query_chart_data(beginDatetime, endDatetime, currencyPair, period):\n",
    "    beginTimestamp, endTimestamp = beginDatetime.timestamp(), endDatetime.timestamp()\n",
    "    url = 'https://poloniex.com/public?command=returnChartData&currencyPair={pair}&start={begin}&end={end}&period={period}'\n",
    "    return retrieve(url.format(pair=currencyPair, begin=beginTimestamp, end=endTimestamp, period=priod))\n",
    "\n",
    "\n",
    "def query_trade_history(beginDatetime, endDatetime, currencyPair):\n",
    "    beginTimestamp, endTimestamp = beginDatetime.timestamp(), endDatetime.timestamp()\n",
    "    url = 'https://poloniex.com/public?command=returnTradeHistory&currencyPair={pair}&start={begin}&end={end}'\n",
    "    return retrieve(url.format(pair=currencyPair, begin=beginTimestamp, end=endTimestamp))"
   ]
  },
  {
   "cell_type": "code",
   "execution_count": 16,
   "metadata": {
    "collapsed": true
   },
   "outputs": [],
   "source": [
    "from dateutil.rrule import rrule, YEARLY, MONTHLY\n",
    "from dateutil.relativedelta import relativedelta\n",
    "from time import sleep\n",
    "\n",
    "def retrieveLongWindowPoloniex(beginTime, endTime, currencyPair, period):\n",
    "    beginDT = strTimeToDatetime(beginTime)\n",
    "    endDT = strTimeToDatetime(endTime)\n",
    "    data = []\n",
    "    for dt in rrule(YEARLY, dtstart=beginDT, until=endDT):\n",
    "        dt2 = dt+relativedelta(years=1)\n",
    "        data += queryPoloniex(dt, dt+relativedelta(years=1), currencyPair, period)\n",
    "        sleep(1)\n",
    "    \n",
    "    return data\n",
    "        "
   ]
  },
  {
   "cell_type": "code",
   "execution_count": 5,
   "metadata": {
    "collapsed": true
   },
   "outputs": [],
   "source": [
    "def renameDateToTimestamp(df):\n",
    "    return df.rename(columns={'date': 'timestamp'})"
   ]
  },
  {
   "cell_type": "code",
   "execution_count": 6,
   "metadata": {
    "collapsed": true
   },
   "outputs": [],
   "source": [
    "def poloniexDataToDf(data):\n",
    "    df = pd.DataFrame(data)\n",
    "    df = renameDateToTimestamp(df)\n",
    "    df['date'] = df['timestamp'].apply(timestampToDate)\n",
    "    return df.drop_duplicates()"
   ]
  },
  {
   "cell_type": "markdown",
   "metadata": {},
   "source": [
    "# Download Chart Data"
   ]
  },
  {
   "cell_type": "code",
   "execution_count": 7,
   "metadata": {
    "collapsed": true
   },
   "outputs": [],
   "source": [
    "def retrieveAndSave(cPair, startDateTime, endDateTime, interval, intervalStr):\n",
    "    startDate, endDate = startDateTime[:10], endDateTime[:10]\n",
    "    data = retrieveLongWindowPoloniex(startDateTime, endDateTime, cPair, interval)\n",
    "    df = poloniexDataToDf(data)\n",
    "    fileName = '{cPair}_{intervalStr}_{startDate}_{endDate}.tsv'.format(**locals())\n",
    "    dataRoot = 'D:\\\\Dropbox\\\\My work\\\\krypl-project\\\\'\n",
    "    path = '{dataRoot}\\\\data\\\\poloniex\\\\{intervalStr}\\\\{fileName}'.format(**locals())\n",
    "    writeTsv(df, path)"
   ]
  },
  {
   "cell_type": "code",
   "execution_count": null,
   "metadata": {
    "collapsed": true
   },
   "outputs": [],
   "source": [
    "startDateTime, endDateTime = '2014-01-01 00:00:00', '2018-03-27 23:59:59'\n",
    "interval, intervalStr = 300, '5min'\n",
    "cPairs = [\n",
    "    'USDT_BCH', 'BTC_BCH', \n",
    "    'BTC_XEM', \n",
    "    'USDT_STR', 'BTC_STR',\n",
    "    'BTC_DASH',\n",
    "    'USDT_ETC', 'BTC_ETC',\n",
    "    'BTC_LSK'\n",
    "]\n",
    "cPairs = ['USDT_BTC']"
   ]
  },
  {
   "cell_type": "code",
   "execution_count": null,
   "metadata": {
    "collapsed": false
   },
   "outputs": [],
   "source": [
    "for cPair in cPairs:\n",
    "    print(cPair, end='\\t')\n",
    "    retrieveAndSave(cPair, startDateTime, endDateTime, interval, intervalStr)\n",
    "    print('done')"
   ]
  },
  {
   "cell_type": "markdown",
   "metadata": {
    "collapsed": true
   },
   "source": [
    "# Download Trades"
   ]
  },
  {
   "cell_type": "code",
   "execution_count": 38,
   "metadata": {
    "collapsed": true
   },
   "outputs": [],
   "source": [
    "import datetime\n",
    "import calendar\n",
    "\n",
    "def add_months(sourcedate, months=1):\n",
    "    month = sourcedate.month - 1 + months\n",
    "    year = sourcedate.year + month // 12\n",
    "    month = month % 12 + 1\n",
    "    day = min(sourcedate.day,calendar.monthrange(year, month)[1])\n",
    "    return datetime.datetime(year, month, day)\n",
    "    "
   ]
  },
  {
   "cell_type": "code",
   "execution_count": 64,
   "metadata": {
    "collapsed": false
   },
   "outputs": [],
   "source": [
    "pair = 'USDT_BTC'\n",
    "startDateTime, endDateTime = '2017-10-01 00:00:00', '2018-05-19 23:59:59'\n",
    "beginDT = strTimeToDatetime(startDateTime)\n",
    "endDT = strTimeToDatetime(endDateTime)"
   ]
  },
  {
   "cell_type": "code",
   "execution_count": 65,
   "metadata": {
    "collapsed": false
   },
   "outputs": [],
   "source": [
    "data_root = 'D:\\\\Dropbox\\\\My work\\\\krypl-project\\\\'\n",
    "path = '{data_root}\\\\data\\\\poloniex\\\\trades\\\\{pair}'.format(data_root=data_root, pair=pair)"
   ]
  },
  {
   "cell_type": "code",
   "execution_count": 66,
   "metadata": {
    "collapsed": false,
    "scrolled": true
   },
   "outputs": [
    {
     "name": "stdout",
     "output_type": "stream",
     "text": [
      "2018-05-01 00:00:00 - 2018-05-02 01:25:22"
     ]
    }
   ],
   "source": [
    "import sys\n",
    "from datetime import timedelta\n",
    "\n",
    "for dt in rrule(MONTHLY, dtstart=beginDT, until=endDT):\n",
    "    f, t = dt, add_months(dt)\n",
    "    month_trades = pd.DataFrame()\n",
    "    while True:\n",
    "        sys.stdout.write('\\r' + str(f) + ' - ' + str(t))\n",
    "        sys.stdout.flush()\n",
    "        trades = query_trade_history(f, t, pair)\n",
    "        \n",
    "        if trades == {'error': 'Please specify a time window of no more than 1 month.'}:\n",
    "            f += timedelta(days=1)\n",
    "            continue\n",
    "        \n",
    "        trades = pd.DataFrame(trades)\n",
    "        month_trades = month_trades.append(trades)\n",
    "        t = strTimeToDatetime(trades.date.min())\n",
    "        f = dt\n",
    "        if len(trades) < 50000:\n",
    "            break\n",
    "    \n",
    "    month = '0%d' % dt.month if dt.month < 10 else str(dt.month)\n",
    "    file_name = '{year}_{month}.tsv'.format(year=dt.year, month=month)\n",
    "    month_trades = month_trades.drop_duplicates().sort_values('date')\n",
    "    writeTsv(month_trades, path + '\\\\' + file_name)"
   ]
  },
  {
   "cell_type": "code",
   "execution_count": 61,
   "metadata": {
    "collapsed": false
   },
   "outputs": [
    {
     "data": {
      "text/plain": [
       "True"
      ]
     },
     "execution_count": 61,
     "metadata": {},
     "output_type": "execute_result"
    }
   ],
   "source": []
  },
  {
   "cell_type": "code",
   "execution_count": null,
   "metadata": {
    "collapsed": true
   },
   "outputs": [],
   "source": []
  }
 ],
 "metadata": {
  "kernelspec": {
   "display_name": "Python 3",
   "language": "python",
   "name": "python3"
  },
  "language_info": {
   "codemirror_mode": {
    "name": "ipython",
    "version": 3
   },
   "file_extension": ".py",
   "mimetype": "text/x-python",
   "name": "python",
   "nbconvert_exporter": "python",
   "pygments_lexer": "ipython3",
   "version": "3.5.4"
  }
 },
 "nbformat": 4,
 "nbformat_minor": 1
}
