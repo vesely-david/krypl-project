{
 "cells": [
  {
   "cell_type": "code",
   "execution_count": 2,
   "metadata": {
    "collapsed": true
   },
   "outputs": [],
   "source": [
    "from utils.common import *"
   ]
  },
  {
   "cell_type": "markdown",
   "metadata": {},
   "source": [
    "# Get Data"
   ]
  },
  {
   "cell_type": "code",
   "execution_count": 3,
   "metadata": {
    "collapsed": true
   },
   "outputs": [],
   "source": [
    "import urllib.request\n",
    "import json\n",
    "\n",
    "\n",
    "def retrieve(url):\n",
    "    with urllib.request.urlopen(url) as response:\n",
    "        html = response.read().decode(\"utf-8\")\n",
    "        data = json.loads(html)\n",
    "    return data"
   ]
  },
  {
   "cell_type": "code",
   "execution_count": 4,
   "metadata": {
    "collapsed": false
   },
   "outputs": [],
   "source": [
    "def query_chart_data(begin_datetime, end_datetime, pair, period):\n",
    "    begin, end = begin_datetime.timestamp(), end_datetime.timestamp()\n",
    "    url = f'https://poloniex.com/public?command=returnChartData&currencyPair={pair}&start={begin}&end={end}&period={period}'\n",
    "    return retrieve(url)\n",
    "\n",
    "\n",
    "def query_trade_history(begin_datetime, end_datetime, pair):\n",
    "    begin, begin = begin_datetime.timestamp(), end_datetime.timestamp()\n",
    "    url = f'https://poloniex.com/public?command=returnTradeHistory&currencyPair={pair}&start={begin}&end={end}'\n",
    "    return retrieve(url)"
   ]
  },
  {
   "cell_type": "code",
   "execution_count": 5,
   "metadata": {
    "collapsed": true
   },
   "outputs": [],
   "source": [
    "from dateutil.rrule import rrule, YEARLY, MONTHLY\n",
    "from dateutil.relativedelta import relativedelta\n",
    "from time import sleep\n",
    "\n",
    "\n",
    "def retrieve_long_window(begin_time, end_time, pair, period):\n",
    "    begin, end = str_time_to_datetime(begin_time, end_time)\n",
    "    data = []\n",
    "    for dt in rrule(YEARLY, dtstart=begin, until=end):\n",
    "        dt2 = dt+relativedelta(years=1)\n",
    "        data += query_chart_data(dt, dt2, pair, period)\n",
    "        sleep(1)\n",
    "    \n",
    "    return data"
   ]
  },
  {
   "cell_type": "code",
   "execution_count": 6,
   "metadata": {
    "collapsed": true
   },
   "outputs": [],
   "source": [
    "def rename_date_to_timestamp(df):\n",
    "    return df.rename(columns={'date': 'timestamp'})"
   ]
  },
  {
   "cell_type": "code",
   "execution_count": 7,
   "metadata": {
    "collapsed": true
   },
   "outputs": [],
   "source": [
    "def poloniex_data_to_df(data):\n",
    "    df = pd.DataFrame(data)\n",
    "    df = rename_date_to_timestamp(df).query('timestamp > 0')\n",
    "    df['date'] = df['timestamp'].apply(timestamp_to_date)\n",
    "    return df.drop_duplicates()"
   ]
  },
  {
   "cell_type": "markdown",
   "metadata": {},
   "source": [
    "# Download Chart Data"
   ]
  },
  {
   "cell_type": "code",
   "execution_count": 13,
   "metadata": {
    "collapsed": true
   },
   "outputs": [],
   "source": [
    "from sqlite3 import connect\n",
    "\n",
    "def create_table(table_name, conn):\n",
    "    sql_create = f\"\"\"\n",
    "    CREATE TABLE IF NOT EXISTS {table_name} (\n",
    "            timestamp       BIGINT,\n",
    "            period          STRING,\n",
    "            open            DOUBLE,\n",
    "            high            DOUBLE,\n",
    "            low             DOUBLE,\n",
    "            close           DOUBLE,\n",
    "            volume          DOUBLE,\n",
    "            quoteVolume     DOUBLE,\n",
    "            weightedAverage DOUBLE,\n",
    "            date            DATETIME,\n",
    "            PRIMARY KEY (\n",
    "                timestamp,\n",
    "                period\n",
    "            )\n",
    "        );\n",
    "    \"\"\"\n",
    "\n",
    "    conn.execute(sql_create);\n",
    "    \n",
    "\n",
    "def write_sql(df, db, table_name):\n",
    "    conn = connect(db)\n",
    "    create_table(table_name, conn)\n",
    "    \n",
    "    key_cols = ['timestamp', 'period']\n",
    "    old = read_table(table_name, db, conn)\n",
    "    keys = old.append(df, sort=True).groupby(key_cols).count().query('close == 1').reset_index()[key_cols]\n",
    "    not_in_db = df.merge(keys, on=key_cols, how='inner')\n",
    "    not_in_db.to_sql(table_name, conn, if_exists='append', index=False)"
   ]
  },
  {
   "cell_type": "code",
   "execution_count": 14,
   "metadata": {
    "collapsed": true
   },
   "outputs": [],
   "source": [
    "def retrieve_and_save(pair, start_time, end_time, interval, interval_str):\n",
    "    data = retrieve_long_window(start_time, end_time, pair, interval)\n",
    "    df = poloniex_data_to_df(data)\n",
    "    df['period'] = interval_str\n",
    "    \n",
    "    db_root = \"D:\\\\Dropbox\\\\My work\\\\krypl-project\\\\sqlite\\\\ploniex-chart-data\"\n",
    "    db = f\"{db_root}\\\\{pair}.db\"\n",
    "    write_sql(df, db, 'chart_data')"
   ]
  },
  {
   "cell_type": "code",
   "execution_count": 15,
   "metadata": {
    "collapsed": true
   },
   "outputs": [],
   "source": [
    "start_time, end_time = '2014-01-02 00:00:00', '2018-09-16 23:59:59'\n",
    "interval, interval_str = 1800, '5min'\n",
    "pairs = [\n",
    "    'USDT_BTC',\n",
    "#     'BTC_ETH',\n",
    "#     'BTC_LTC',\n",
    "#     'BTC_XRP',\n",
    "#     'BTC_XMR',\n",
    "#     'BTC_STR'\n",
    "]"
   ]
  },
  {
   "cell_type": "code",
   "execution_count": 16,
   "metadata": {
    "collapsed": false
   },
   "outputs": [
    {
     "name": "stdout",
     "output_type": "stream",
     "text": [
      "USDT_BTC\tdone\n"
     ]
    }
   ],
   "source": [
    "for pair in pairs:\n",
    "    print(pair, end='\\t')\n",
    "    retrieve_and_save(pair, start_time, end_time, interval, interval_str)\n",
    "    print('done')"
   ]
  },
  {
   "cell_type": "markdown",
   "metadata": {
    "collapsed": true
   },
   "source": [
    "# Download Trades"
   ]
  },
  {
   "cell_type": "code",
   "execution_count": null,
   "metadata": {
    "collapsed": true
   },
   "outputs": [],
   "source": [
    "import datetime\n",
    "import calendar\n",
    "\n",
    "\n",
    "def add_months(sourcedate, months=1):\n",
    "    month = sourcedate.month - 1 + months\n",
    "    year = sourcedate.year + month // 12\n",
    "    month = month % 12 + 1\n",
    "    day = min(sourcedate.day,calendar.monthrange(year, month)[1])\n",
    "    return datetime.datetime(year, month, day)"
   ]
  },
  {
   "cell_type": "code",
   "execution_count": null,
   "metadata": {
    "collapsed": true
   },
   "outputs": [],
   "source": [
    "pair = 'USDT_BTC'\n",
    "start_time, end_time = '2017-10-01 00:00:00', '2018-05-19 23:59:59'\n",
    "beginDT, endDT = str_time_to_datetime(start_time, end_time)"
   ]
  },
  {
   "cell_type": "code",
   "execution_count": null,
   "metadata": {
    "collapsed": true
   },
   "outputs": [],
   "source": [
    "data_root = 'D:\\\\Dropbox\\\\My work\\\\krypl-project\\\\'\n",
    "path = f'{data_root}\\\\data\\\\poloniex\\\\trades\\\\{pair}'"
   ]
  },
  {
   "cell_type": "code",
   "execution_count": null,
   "metadata": {
    "collapsed": true,
    "scrolled": true
   },
   "outputs": [],
   "source": [
    "import sys\n",
    "from datetime import timedelta\n",
    "\n",
    "for dt in rrule(MONTHLY, dtstart=beginDT, until=endDT):\n",
    "    f, t = dt, add_months(dt)\n",
    "    month_trades = pd.DataFrame()\n",
    "    while True:\n",
    "        sys.stdout.write('\\r' + str(f) + ' - ' + str(t))\n",
    "        sys.stdout.flush()\n",
    "        trades = query_trade_history(f, t, pair)\n",
    "        \n",
    "        if trades == {'error': 'Please specify a time window of no more than 1 month.'}:\n",
    "            f += timedelta(days=1)\n",
    "            continue\n",
    "        \n",
    "        trades = pd.DataFrame(trades)\n",
    "        month_trades = month_trades.append(trades)\n",
    "        t = strTimeToDatetime(trades.date.min())\n",
    "        f = dt\n",
    "        if len(trades) < 50000:\n",
    "            break\n",
    "    \n",
    "    month = '0%d' % dt.month if dt.month < 10 else str(dt.month)\n",
    "    file_name = '{year}_{month}.tsv'.format(year=dt.year, month=month)\n",
    "    month_trades = month_trades.drop_duplicates().sort_values('date')\n",
    "    writeTsv(month_trades, path + '\\\\' + file_name)"
   ]
  },
  {
   "cell_type": "code",
   "execution_count": null,
   "metadata": {
    "collapsed": true
   },
   "outputs": [],
   "source": []
  },
  {
   "cell_type": "code",
   "execution_count": null,
   "metadata": {
    "collapsed": true
   },
   "outputs": [],
   "source": []
  }
 ],
 "metadata": {
  "kernelspec": {
   "display_name": "Python 3.6 (crypto36)",
   "language": "python",
   "name": "crypto36"
  },
  "language_info": {
   "codemirror_mode": {
    "name": "ipython",
    "version": 3
   },
   "file_extension": ".py",
   "mimetype": "text/x-python",
   "name": "python",
   "nbconvert_exporter": "python",
   "pygments_lexer": "ipython3",
   "version": "3.6.5"
  }
 },
 "nbformat": 4,
 "nbformat_minor": 1
}
