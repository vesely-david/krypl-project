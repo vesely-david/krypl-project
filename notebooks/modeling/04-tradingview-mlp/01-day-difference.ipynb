{
 "cells": [
  {
   "cell_type": "code",
   "execution_count": 1,
   "metadata": {
    "collapsed": false
   },
   "outputs": [],
   "source": [
    "%run ./../../utils/commonImports.py\n",
    "%matplotlib inline"
   ]
  },
  {
   "cell_type": "markdown",
   "metadata": {},
   "source": [
    "# Load Data"
   ]
  },
  {
   "cell_type": "code",
   "execution_count": 2,
   "metadata": {
    "collapsed": false
   },
   "outputs": [],
   "source": [
    "db = 'D:\\\\Dropbox\\\\My work\\\\krypl-project\\\\sqlite\\\\ploniex-chart-data\\\\USDT_BTC.db'\n",
    "data = load_trading_data(db, 'chart_data', from_date='2016-01-01', period='5min')"
   ]
  },
  {
   "cell_type": "code",
   "execution_count": 3,
   "metadata": {},
   "outputs": [
    {
     "data": {
      "text/html": [
       "<div>\n",
       "<style scoped>\n",
       "    .dataframe tbody tr th:only-of-type {\n",
       "        vertical-align: middle;\n",
       "    }\n",
       "\n",
       "    .dataframe tbody tr th {\n",
       "        vertical-align: top;\n",
       "    }\n",
       "\n",
       "    .dataframe thead th {\n",
       "        text-align: right;\n",
       "    }\n",
       "</style>\n",
       "<table border=\"1\" class=\"dataframe\">\n",
       "  <thead>\n",
       "    <tr style=\"text-align: right;\">\n",
       "      <th></th>\n",
       "      <th>timestamp</th>\n",
       "      <th>period</th>\n",
       "      <th>open</th>\n",
       "      <th>high</th>\n",
       "      <th>low</th>\n",
       "      <th>close</th>\n",
       "      <th>volume</th>\n",
       "      <th>quoteVolume</th>\n",
       "      <th>weightedAverage</th>\n",
       "      <th>date</th>\n",
       "    </tr>\n",
       "  </thead>\n",
       "  <tbody>\n",
       "    <tr>\n",
       "      <th>0</th>\n",
       "      <td>1451606400</td>\n",
       "      <td>5min</td>\n",
       "      <td>430.5732</td>\n",
       "      <td>430.5732</td>\n",
       "      <td>430.5732</td>\n",
       "      <td>430.5732</td>\n",
       "      <td>0.0000</td>\n",
       "      <td>0.0000</td>\n",
       "      <td>430.5732</td>\n",
       "      <td>2016-01-01 00:00:00</td>\n",
       "    </tr>\n",
       "    <tr>\n",
       "      <th>1</th>\n",
       "      <td>1451606700</td>\n",
       "      <td>5min</td>\n",
       "      <td>428.2600</td>\n",
       "      <td>428.2600</td>\n",
       "      <td>428.2600</td>\n",
       "      <td>428.2600</td>\n",
       "      <td>76.5618</td>\n",
       "      <td>0.1788</td>\n",
       "      <td>428.2600</td>\n",
       "      <td>2016-01-01 00:05:00</td>\n",
       "    </tr>\n",
       "    <tr>\n",
       "      <th>2</th>\n",
       "      <td>1451607000</td>\n",
       "      <td>5min</td>\n",
       "      <td>428.2600</td>\n",
       "      <td>428.2600</td>\n",
       "      <td>428.2600</td>\n",
       "      <td>428.2600</td>\n",
       "      <td>0.0000</td>\n",
       "      <td>0.0000</td>\n",
       "      <td>428.2600</td>\n",
       "      <td>2016-01-01 00:10:00</td>\n",
       "    </tr>\n",
       "    <tr>\n",
       "      <th>3</th>\n",
       "      <td>1451607300</td>\n",
       "      <td>5min</td>\n",
       "      <td>428.2600</td>\n",
       "      <td>428.2600</td>\n",
       "      <td>428.2600</td>\n",
       "      <td>428.2600</td>\n",
       "      <td>0.0000</td>\n",
       "      <td>0.0000</td>\n",
       "      <td>428.2600</td>\n",
       "      <td>2016-01-01 00:15:00</td>\n",
       "    </tr>\n",
       "    <tr>\n",
       "      <th>4</th>\n",
       "      <td>1451607600</td>\n",
       "      <td>5min</td>\n",
       "      <td>428.2600</td>\n",
       "      <td>428.2600</td>\n",
       "      <td>428.2600</td>\n",
       "      <td>428.2600</td>\n",
       "      <td>0.0000</td>\n",
       "      <td>0.0000</td>\n",
       "      <td>428.2600</td>\n",
       "      <td>2016-01-01 00:20:00</td>\n",
       "    </tr>\n",
       "  </tbody>\n",
       "</table>\n",
       "</div>"
      ],
      "text/plain": [
       "    timestamp period     open     high      low    close  volume  quoteVolume  \\\n",
       "0  1451606400   5min 430.5732 430.5732 430.5732 430.5732  0.0000       0.0000   \n",
       "1  1451606700   5min 428.2600 428.2600 428.2600 428.2600 76.5618       0.1788   \n",
       "2  1451607000   5min 428.2600 428.2600 428.2600 428.2600  0.0000       0.0000   \n",
       "3  1451607300   5min 428.2600 428.2600 428.2600 428.2600  0.0000       0.0000   \n",
       "4  1451607600   5min 428.2600 428.2600 428.2600 428.2600  0.0000       0.0000   \n",
       "\n",
       "   weightedAverage                 date  \n",
       "0         430.5732  2016-01-01 00:00:00  \n",
       "1         428.2600  2016-01-01 00:05:00  \n",
       "2         428.2600  2016-01-01 00:10:00  \n",
       "3         428.2600  2016-01-01 00:15:00  \n",
       "4         428.2600  2016-01-01 00:20:00  "
      ]
     },
     "execution_count": 3,
     "metadata": {},
     "output_type": "execute_result"
    }
   ],
   "source": [
    "data.head()"
   ]
  },
  {
   "cell_type": "markdown",
   "metadata": {},
   "source": [
    "# Test Data - Timestamp diff"
   ]
  },
  {
   "cell_type": "code",
   "execution_count": 4,
   "metadata": {},
   "outputs": [],
   "source": [
    "diffs = data['timestamp'].shift(-1) - data['timestamp']\n",
    "data['timestampDiff'] = diffs"
   ]
  },
  {
   "cell_type": "code",
   "execution_count": 5,
   "metadata": {},
   "outputs": [
    {
     "data": {
      "text/plain": [
       "300.0000    290463\n",
       "Name: timestamp, dtype: int64"
      ]
     },
     "execution_count": 5,
     "metadata": {},
     "output_type": "execute_result"
    }
   ],
   "source": [
    "diffs.value_counts()"
   ]
  },
  {
   "cell_type": "code",
   "execution_count": 6,
   "metadata": {},
   "outputs": [
    {
     "data": {
      "text/html": [
       "<div>\n",
       "<style scoped>\n",
       "    .dataframe tbody tr th:only-of-type {\n",
       "        vertical-align: middle;\n",
       "    }\n",
       "\n",
       "    .dataframe tbody tr th {\n",
       "        vertical-align: top;\n",
       "    }\n",
       "\n",
       "    .dataframe thead th {\n",
       "        text-align: right;\n",
       "    }\n",
       "</style>\n",
       "<table border=\"1\" class=\"dataframe\">\n",
       "  <thead>\n",
       "    <tr style=\"text-align: right;\">\n",
       "      <th></th>\n",
       "      <th>timestamp</th>\n",
       "      <th>period</th>\n",
       "      <th>open</th>\n",
       "      <th>high</th>\n",
       "      <th>low</th>\n",
       "      <th>close</th>\n",
       "      <th>volume</th>\n",
       "      <th>quoteVolume</th>\n",
       "      <th>weightedAverage</th>\n",
       "      <th>date</th>\n",
       "      <th>timestampDiff</th>\n",
       "    </tr>\n",
       "  </thead>\n",
       "  <tbody>\n",
       "  </tbody>\n",
       "</table>\n",
       "</div>"
      ],
      "text/plain": [
       "Empty DataFrame\n",
       "Columns: [timestamp, period, open, high, low, close, volume, quoteVolume, weightedAverage, date, timestampDiff]\n",
       "Index: []"
      ]
     },
     "execution_count": 6,
     "metadata": {},
     "output_type": "execute_result"
    }
   ],
   "source": [
    "zero_diff = data.query('timestampDiff == 1200')\n",
    "zero_diff"
   ]
  },
  {
   "cell_type": "markdown",
   "metadata": {},
   "source": [
    "# Day Difference Calc"
   ]
  },
  {
   "cell_type": "code",
   "execution_count": 7,
   "metadata": {},
   "outputs": [],
   "source": [
    "from utils.date import timestamp_to_date\n",
    "from datetime import timedelta\n",
    "import time\n",
    "   \n",
    "\n",
    "ohlc = data[['timestamp', 'period', 'open', 'high', 'low', 'close', 'date']].copy()\n",
    "ohlc['day'] = ohlc['timestamp'].apply(timestamp_to_date).apply(lambda x: x.date())\n",
    "ohlc['yesterday'] = ohlc['day'] - timedelta(days=1)\n",
    "\n",
    "grouped = ohlc.groupby('day').agg(['min', 'max', 'first', 'last'])\n",
    "_open = grouped['open']['first']\n",
    "high = grouped['high']['max']\n",
    "low = grouped['low']['min']\n",
    "close = grouped['close']['last']\n",
    "mean_candle = ((_open + high + low + close) / 4) \\\n",
    "    .to_frame('yesterdayMeanCandle')\\\n",
    "    .reset_index()\\\n",
    "    .rename(columns={'day': 'yesterday'})\n",
    "\n",
    "ohlc = ohlc.merge(mean_candle, how='inner', on='yesterday')"
   ]
  },
  {
   "cell_type": "code",
   "execution_count": 9,
   "metadata": {},
   "outputs": [
    {
     "data": {
      "text/plain": [
       "(290464, 11)"
      ]
     },
     "execution_count": 9,
     "metadata": {},
     "output_type": "execute_result"
    }
   ],
   "source": [
    "data.shape"
   ]
  },
  {
   "cell_type": "code",
   "execution_count": 8,
   "metadata": {},
   "outputs": [
    {
     "data": {
      "text/plain": [
       "(290176, 10)"
      ]
     },
     "execution_count": 8,
     "metadata": {},
     "output_type": "execute_result"
    }
   ],
   "source": [
    "ohlc.shape"
   ]
  },
  {
   "cell_type": "code",
   "execution_count": 13,
   "metadata": {},
   "outputs": [
    {
     "ename": "ValueError",
     "evalue": "not enough values to unpack (expected 3, got 2)",
     "output_type": "error",
     "traceback": [
      "\u001b[1;31m---------------------------------------------------------------------------\u001b[0m",
      "\u001b[1;31mValueError\u001b[0m                                Traceback (most recent call last)",
      "\u001b[1;32m<ipython-input-13-86a2d4540439>\u001b[0m in \u001b[0;36m<module>\u001b[1;34m()\u001b[0m\n\u001b[0;32m      1\u001b[0m \u001b[0mdf\u001b[0m \u001b[1;33m=\u001b[0m \u001b[0mpd\u001b[0m\u001b[1;33m.\u001b[0m\u001b[0mDataFrame\u001b[0m\u001b[1;33m(\u001b[0m\u001b[1;33m{\u001b[0m\u001b[1;34m'a'\u001b[0m\u001b[1;33m:\u001b[0m \u001b[1;33m[\u001b[0m\u001b[1;36m0\u001b[0m\u001b[1;33m,\u001b[0m \u001b[1;36m1\u001b[0m\u001b[1;33m]\u001b[0m\u001b[1;33m,\u001b[0m \u001b[1;34m'b'\u001b[0m\u001b[1;33m:\u001b[0m \u001b[1;33m[\u001b[0m\u001b[1;36m3\u001b[0m\u001b[1;33m,\u001b[0m \u001b[1;36m4\u001b[0m\u001b[1;33m]\u001b[0m\u001b[1;33m}\u001b[0m\u001b[1;33m)\u001b[0m\u001b[1;33m\u001b[0m\u001b[0m\n\u001b[1;32m----> 2\u001b[1;33m \u001b[0ma\u001b[0m\u001b[1;33m,\u001b[0m \u001b[0mb\u001b[0m\u001b[1;33m,\u001b[0m \u001b[0mc\u001b[0m \u001b[1;33m=\u001b[0m \u001b[0mdf\u001b[0m\u001b[1;33m.\u001b[0m\u001b[0miloc\u001b[0m\u001b[1;33m[\u001b[0m\u001b[1;36m0\u001b[0m\u001b[1;33m,\u001b[0m \u001b[1;33m:\u001b[0m\u001b[1;33m]\u001b[0m\u001b[1;33m\u001b[0m\u001b[0m\n\u001b[0m\u001b[0;32m      3\u001b[0m \u001b[0ma\u001b[0m\u001b[1;33m,\u001b[0m \u001b[0mb\u001b[0m\u001b[1;33m\u001b[0m\u001b[0m\n",
      "\u001b[1;31mValueError\u001b[0m: not enough values to unpack (expected 3, got 2)"
     ]
    }
   ],
   "source": [
    "df = pd.DataFrame({'a': [0, 1], 'b': [3, 4]})\n",
    "a, b, c = df.iloc[0, :]\n",
    "a, b"
   ]
  },
  {
   "cell_type": "code",
   "execution_count": 17,
   "metadata": {},
   "outputs": [],
   "source": [
    "def day_group(col):\n",
    "    return ohlc.groupby('day')[col].apply(list).to_frame(col)\n",
    "\n",
    "def mean_candle_group(row):\n",
    "    opens, highs, lows, closes, dates = row\n",
    "    mean_candles = []\n",
    "    for i in range(len(row['open'])):\n",
    "        mean_candle = np.mean([opens[0], max(highs[:i+1]), min(lows[:i+1]), closes[i]])\n",
    "        mean_candles.append(mean_candle)\n",
    "    \n",
    "    return dates, mean_candles\n",
    "\n",
    "dates = day_group('date')\n",
    "opens = day_group('open')\n",
    "highs = day_group('high')\n",
    "lows = day_group('low')\n",
    "closes = day_group('close')\n",
    "\n",
    "day_groups = opens.join(highs).join(lows).join(closes).join(dates)\n",
    "mean_candle_groups = day_groups.apply(mean_candle_group, axis=1).to_frame('date_candles_tuple').reset_index()"
   ]
  },
  {
   "cell_type": "code",
   "execution_count": 18,
   "metadata": {},
   "outputs": [
    {
     "data": {
      "text/html": [
       "<div>\n",
       "<style scoped>\n",
       "    .dataframe tbody tr th:only-of-type {\n",
       "        vertical-align: middle;\n",
       "    }\n",
       "\n",
       "    .dataframe tbody tr th {\n",
       "        vertical-align: top;\n",
       "    }\n",
       "\n",
       "    .dataframe thead th {\n",
       "        text-align: right;\n",
       "    }\n",
       "</style>\n",
       "<table border=\"1\" class=\"dataframe\">\n",
       "  <thead>\n",
       "    <tr style=\"text-align: right;\">\n",
       "      <th></th>\n",
       "      <th>day</th>\n",
       "      <th>date_candles_tuple</th>\n",
       "    </tr>\n",
       "  </thead>\n",
       "  <tbody>\n",
       "    <tr>\n",
       "      <th>0</th>\n",
       "      <td>2016-01-02</td>\n",
       "      <td>([2016-01-02 00:00:00, 2016-01-02 00:05:00, 20...</td>\n",
       "    </tr>\n",
       "    <tr>\n",
       "      <th>1</th>\n",
       "      <td>2016-01-03</td>\n",
       "      <td>([2016-01-03 00:00:00, 2016-01-03 00:05:00, 20...</td>\n",
       "    </tr>\n",
       "    <tr>\n",
       "      <th>2</th>\n",
       "      <td>2016-01-04</td>\n",
       "      <td>([2016-01-04 00:00:00, 2016-01-04 00:05:00, 20...</td>\n",
       "    </tr>\n",
       "    <tr>\n",
       "      <th>3</th>\n",
       "      <td>2016-01-05</td>\n",
       "      <td>([2016-01-05 00:00:00, 2016-01-05 00:05:00, 20...</td>\n",
       "    </tr>\n",
       "    <tr>\n",
       "      <th>4</th>\n",
       "      <td>2016-01-06</td>\n",
       "      <td>([2016-01-06 00:00:00, 2016-01-06 00:05:00, 20...</td>\n",
       "    </tr>\n",
       "  </tbody>\n",
       "</table>\n",
       "</div>"
      ],
      "text/plain": [
       "          day                                 date_candles_tuple\n",
       "0  2016-01-02  ([2016-01-02 00:00:00, 2016-01-02 00:05:00, 20...\n",
       "1  2016-01-03  ([2016-01-03 00:00:00, 2016-01-03 00:05:00, 20...\n",
       "2  2016-01-04  ([2016-01-04 00:00:00, 2016-01-04 00:05:00, 20...\n",
       "3  2016-01-05  ([2016-01-05 00:00:00, 2016-01-05 00:05:00, 20...\n",
       "4  2016-01-06  ([2016-01-06 00:00:00, 2016-01-06 00:05:00, 20..."
      ]
     },
     "execution_count": 18,
     "metadata": {},
     "output_type": "execute_result"
    }
   ],
   "source": [
    "mean_candle_groups.head()"
   ]
  },
  {
   "cell_type": "code",
   "execution_count": 20,
   "metadata": {},
   "outputs": [],
   "source": [
    "dates, mean_candles = [], []\n",
    "for i in range(mean_candle_groups.shape[0]):\n",
    "    dates += mean_candle_groups.loc[i, 'date_candles_tuple'][0]\n",
    "    mean_candles += mean_candle_groups.loc[i, 'date_candles_tuple'][1]\n",
    "\n",
    "today_mean_candles = pd.DataFrame({'todayMeanCandle': mean_candles, 'date': dates})\n",
    "ohlc = ohlc.merge(today_mean_candles, how='inner', on='date')"
   ]
  },
  {
   "cell_type": "code",
   "execution_count": 21,
   "metadata": {},
   "outputs": [],
   "source": [
    "ohlc['dayDifference'] = (ohlc['todayMeanCandle'] - ohlc['yesterdayMeanCandle']) / ohlc['yesterdayMeanCandle'] "
   ]
  },
  {
   "cell_type": "code",
   "execution_count": 24,
   "metadata": {},
   "outputs": [
    {
     "data": {
      "text/html": [
       "<div>\n",
       "<style scoped>\n",
       "    .dataframe tbody tr th:only-of-type {\n",
       "        vertical-align: middle;\n",
       "    }\n",
       "\n",
       "    .dataframe tbody tr th {\n",
       "        vertical-align: top;\n",
       "    }\n",
       "\n",
       "    .dataframe thead th {\n",
       "        text-align: right;\n",
       "    }\n",
       "</style>\n",
       "<table border=\"1\" class=\"dataframe\">\n",
       "  <thead>\n",
       "    <tr style=\"text-align: right;\">\n",
       "      <th></th>\n",
       "      <th>timestamp</th>\n",
       "      <th>period</th>\n",
       "      <th>open</th>\n",
       "      <th>high</th>\n",
       "      <th>low</th>\n",
       "      <th>close</th>\n",
       "      <th>date</th>\n",
       "      <th>day</th>\n",
       "      <th>yesterday</th>\n",
       "      <th>yesterdayMeanCandle</th>\n",
       "      <th>todayMeanCandle</th>\n",
       "      <th>dayDifference</th>\n",
       "    </tr>\n",
       "  </thead>\n",
       "  <tbody>\n",
       "    <tr>\n",
       "      <th>0</th>\n",
       "      <td>1451692800</td>\n",
       "      <td>5min</td>\n",
       "      <td>434.9900</td>\n",
       "      <td>434.9900</td>\n",
       "      <td>434.9900</td>\n",
       "      <td>434.9900</td>\n",
       "      <td>2016-01-02 00:00:00</td>\n",
       "      <td>2016-01-02</td>\n",
       "      <td>2016-01-01</td>\n",
       "      <td>432.2058</td>\n",
       "      <td>434.9900</td>\n",
       "      <td>0.0064</td>\n",
       "    </tr>\n",
       "    <tr>\n",
       "      <th>1</th>\n",
       "      <td>1451693100</td>\n",
       "      <td>5min</td>\n",
       "      <td>434.9900</td>\n",
       "      <td>435.0000</td>\n",
       "      <td>434.9900</td>\n",
       "      <td>435.0000</td>\n",
       "      <td>2016-01-02 00:05:00</td>\n",
       "      <td>2016-01-02</td>\n",
       "      <td>2016-01-01</td>\n",
       "      <td>432.2058</td>\n",
       "      <td>434.9950</td>\n",
       "      <td>0.0065</td>\n",
       "    </tr>\n",
       "    <tr>\n",
       "      <th>2</th>\n",
       "      <td>1451693400</td>\n",
       "      <td>5min</td>\n",
       "      <td>435.0000</td>\n",
       "      <td>435.0000</td>\n",
       "      <td>435.0000</td>\n",
       "      <td>435.0000</td>\n",
       "      <td>2016-01-02 00:10:00</td>\n",
       "      <td>2016-01-02</td>\n",
       "      <td>2016-01-01</td>\n",
       "      <td>432.2058</td>\n",
       "      <td>434.9950</td>\n",
       "      <td>0.0065</td>\n",
       "    </tr>\n",
       "    <tr>\n",
       "      <th>3</th>\n",
       "      <td>1451693700</td>\n",
       "      <td>5min</td>\n",
       "      <td>435.0000</td>\n",
       "      <td>435.0000</td>\n",
       "      <td>435.0000</td>\n",
       "      <td>435.0000</td>\n",
       "      <td>2016-01-02 00:15:00</td>\n",
       "      <td>2016-01-02</td>\n",
       "      <td>2016-01-01</td>\n",
       "      <td>432.2058</td>\n",
       "      <td>434.9950</td>\n",
       "      <td>0.0065</td>\n",
       "    </tr>\n",
       "    <tr>\n",
       "      <th>4</th>\n",
       "      <td>1451694000</td>\n",
       "      <td>5min</td>\n",
       "      <td>435.0000</td>\n",
       "      <td>435.0000</td>\n",
       "      <td>435.0000</td>\n",
       "      <td>435.0000</td>\n",
       "      <td>2016-01-02 00:20:00</td>\n",
       "      <td>2016-01-02</td>\n",
       "      <td>2016-01-01</td>\n",
       "      <td>432.2058</td>\n",
       "      <td>434.9950</td>\n",
       "      <td>0.0065</td>\n",
       "    </tr>\n",
       "  </tbody>\n",
       "</table>\n",
       "</div>"
      ],
      "text/plain": [
       "    timestamp period     open     high      low    close                 date  \\\n",
       "0  1451692800   5min 434.9900 434.9900 434.9900 434.9900  2016-01-02 00:00:00   \n",
       "1  1451693100   5min 434.9900 435.0000 434.9900 435.0000  2016-01-02 00:05:00   \n",
       "2  1451693400   5min 435.0000 435.0000 435.0000 435.0000  2016-01-02 00:10:00   \n",
       "3  1451693700   5min 435.0000 435.0000 435.0000 435.0000  2016-01-02 00:15:00   \n",
       "4  1451694000   5min 435.0000 435.0000 435.0000 435.0000  2016-01-02 00:20:00   \n",
       "\n",
       "          day   yesterday  yesterdayMeanCandle  todayMeanCandle  dayDifference  \n",
       "0  2016-01-02  2016-01-01             432.2058         434.9900         0.0064  \n",
       "1  2016-01-02  2016-01-01             432.2058         434.9950         0.0065  \n",
       "2  2016-01-02  2016-01-01             432.2058         434.9950         0.0065  \n",
       "3  2016-01-02  2016-01-01             432.2058         434.9950         0.0065  \n",
       "4  2016-01-02  2016-01-01             432.2058         434.9950         0.0065  "
      ]
     },
     "execution_count": 24,
     "metadata": {},
     "output_type": "execute_result"
    }
   ],
   "source": [
    "ohlc.head()"
   ]
  },
  {
   "cell_type": "code",
   "execution_count": 25,
   "metadata": {},
   "outputs": [],
   "source": [
    "write_tsv(ohlc, 'D:\\\\Dropbox\\\\My work\\\\krypl-project\\\\dataFeatures\\\\day-difference.tsv')"
   ]
  },
  {
   "cell_type": "code",
   "execution_count": null,
   "metadata": {},
   "outputs": [],
   "source": []
  }
 ],
 "metadata": {
  "kernelspec": {
   "display_name": "crypto36",
   "language": "python",
   "name": "crypto36"
  },
  "language_info": {
   "codemirror_mode": {
    "name": "ipython",
    "version": 3
   },
   "file_extension": ".py",
   "mimetype": "text/x-python",
   "name": "python",
   "nbconvert_exporter": "python",
   "pygments_lexer": "ipython3",
   "version": "3.6.5"
  }
 },
 "nbformat": 4,
 "nbformat_minor": 2
}
