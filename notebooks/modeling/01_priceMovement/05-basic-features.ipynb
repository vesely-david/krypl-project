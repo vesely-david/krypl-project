{
 "cells": [
  {
   "cell_type": "code",
   "execution_count": 1,
   "metadata": {
    "collapsed": false
   },
   "outputs": [],
   "source": [
    "%run ../../utils/commonImports.py\n",
    "%run ../../utils/tradingImports.py\n",
    "%matplotlib inline"
   ]
  },
  {
   "cell_type": "markdown",
   "metadata": {},
   "source": [
    "# Properties"
   ]
  },
  {
   "cell_type": "code",
   "execution_count": 2,
   "metadata": {
    "collapsed": true
   },
   "outputs": [],
   "source": [
    "dataRoot = 'D:\\\\Dropbox\\\\My work\\\\krypl-project\\\\dataLabeled'\n",
    "featuresRoot = 'D:\\\\Dropbox\\\\My work\\\\krypl-project\\\\dataFeatures'\n",
    "\n",
    "fileName = 'return-01-loss-max-01-within-day.tsv'\n",
    "fileNameDropedNA = 'return-01-loss-max-01-within-day-droped-na.tsv'\n",
    "featuresFile = f'{featuresRoot}\\\\{fileName}'\n",
    "featuresFileDropedNA = f'{featuresRoot}\\\\{fileNameDropedNA}'"
   ]
  },
  {
   "cell_type": "code",
   "execution_count": 3,
   "metadata": {
    "collapsed": false
   },
   "outputs": [],
   "source": [
    "file = f'{dataRoot}\\\\{fileName}'\n",
    "data = pd.read_csv(file, sep='\\t')\n",
    "featured = data.copy()"
   ]
  },
  {
   "cell_type": "markdown",
   "metadata": {},
   "source": [
    "# Return"
   ]
  },
  {
   "cell_type": "code",
   "execution_count": 4,
   "metadata": {
    "collapsed": true
   },
   "outputs": [],
   "source": [
    "def lag(arr, l):\n",
    "    laged = arr[:arr.shape[0]-l]\n",
    "    laged = np.array([0]*l + laged.tolist())\n",
    "    return laged"
   ]
  },
  {
   "cell_type": "code",
   "execution_count": 5,
   "metadata": {
    "collapsed": true
   },
   "outputs": [],
   "source": [
    "def _return(arr):\n",
    "    arr0 = arr[:arr.shape[0]-1]\n",
    "    arr1 = arr[1:]\n",
    "    r = (arr1 / arr0) - 1\n",
    "    r = np.insert(r, 0, 0., axis=0)\n",
    "    return r"
   ]
  },
  {
   "cell_type": "code",
   "execution_count": 6,
   "metadata": {
    "collapsed": true
   },
   "outputs": [],
   "source": [
    "featured['return'] = _return(featured['close'].values)\n",
    "featured['return_1'] = lag(featured['return'].values, 1)\n",
    "featured['return_2'] = lag(featured['return'].values, 2)"
   ]
  },
  {
   "cell_type": "markdown",
   "metadata": {},
   "source": [
    "# Z-Score"
   ]
  },
  {
   "cell_type": "code",
   "execution_count": 7,
   "metadata": {
    "collapsed": true
   },
   "outputs": [],
   "source": [
    "from scipy import stats\n",
    "def zscore(x, window):\n",
    "    r = x.rolling(window=window)\n",
    "    m = r.mean().shift(1)\n",
    "    s = r.std(ddof=0).shift(1)\n",
    "    z = (x-m)/s\n",
    "    return z"
   ]
  },
  {
   "cell_type": "code",
   "execution_count": 8,
   "metadata": {
    "collapsed": true
   },
   "outputs": [],
   "source": [
    "featured['zscore_36_return'] = zscore(featured['return'], 36)\n",
    "featured['zscore_288_return'] = zscore(featured['return'], 288)"
   ]
  },
  {
   "cell_type": "code",
   "execution_count": 9,
   "metadata": {
    "collapsed": true
   },
   "outputs": [],
   "source": [
    "featured['zscore_36_volume'] = zscore(featured['volume'], 36)\n",
    "featured['zscore_288_volume'] = zscore(featured['volume'], 288)\n",
    "featured['zscore_2016_volume'] = zscore(featured['volume'], 2016)"
   ]
  },
  {
   "cell_type": "markdown",
   "metadata": {
    "collapsed": true
   },
   "source": [
    "# Sliding Mean"
   ]
  },
  {
   "cell_type": "code",
   "execution_count": 10,
   "metadata": {
    "collapsed": true
   },
   "outputs": [],
   "source": [
    "def sliding_mean(x, window):\n",
    "    return x.rolling(center=False,window=window).mean()"
   ]
  },
  {
   "cell_type": "code",
   "execution_count": 11,
   "metadata": {
    "collapsed": false,
    "scrolled": true
   },
   "outputs": [
    {
     "data": {
      "text/plain": [
       "0               nan\n",
       "1               nan\n",
       "2               nan\n",
       "3               nan\n",
       "4               nan\n",
       "5               nan\n",
       "6               nan\n",
       "7               nan\n",
       "8               nan\n",
       "9               nan\n",
       "10              nan\n",
       "11              nan\n",
       "12              nan\n",
       "13              nan\n",
       "14              nan\n",
       "15              nan\n",
       "16              nan\n",
       "17              nan\n",
       "18              nan\n",
       "19              nan\n",
       "20              nan\n",
       "21              nan\n",
       "22              nan\n",
       "23              nan\n",
       "24              nan\n",
       "25              nan\n",
       "26              nan\n",
       "27              nan\n",
       "28              nan\n",
       "29              nan\n",
       "            ...    \n",
       "360262   6,496.8732\n",
       "360263   6,496.6553\n",
       "360264   6,495.7416\n",
       "360265   6,494.8440\n",
       "360266   6,494.4865\n",
       "360267   6,493.9882\n",
       "360268   6,493.5159\n",
       "360269   6,492.6906\n",
       "360270   6,492.5938\n",
       "360271   6,492.5554\n",
       "360272   6,492.4701\n",
       "360273   6,493.0376\n",
       "360274   6,493.4741\n",
       "360275   6,493.6836\n",
       "360276   6,493.5285\n",
       "360277   6,493.5506\n",
       "360278   6,493.5063\n",
       "360279   6,492.5320\n",
       "360280   6,491.4848\n",
       "360281   6,490.4675\n",
       "360282   6,488.1743\n",
       "360283   6,483.8238\n",
       "360284   6,479.5929\n",
       "360285   6,472.6518\n",
       "360286   6,466.2923\n",
       "360287   6,460.2952\n",
       "360288   6,453.8334\n",
       "360289   6,447.3294\n",
       "360290   6,441.4241\n",
       "360291   6,435.4561\n",
       "Name: close, Length: 360292, dtype: float64"
      ]
     },
     "execution_count": 11,
     "metadata": {},
     "output_type": "execute_result"
    }
   ],
   "source": [
    "sliding_mean(featured['close'], 36)"
   ]
  },
  {
   "cell_type": "markdown",
   "metadata": {},
   "source": [
    "# Change In Price\n",
    "\n",
    "$ pma = zscore(\\frac{p}{avg(p, w_m)} - 1, w_z) $"
   ]
  },
  {
   "cell_type": "code",
   "execution_count": 12,
   "metadata": {
    "collapsed": true
   },
   "outputs": [],
   "source": [
    "def change_in_price(x, mean_window, zscore_window):\n",
    "    mean_x = sliding_mean(x, mean_window)\n",
    "    change_x = (x / mean_x) - 1\n",
    "    zscore_change = zscore(change_x, zscore_window)\n",
    "    return zscore_change"
   ]
  },
  {
   "cell_type": "code",
   "execution_count": 13,
   "metadata": {
    "collapsed": false
   },
   "outputs": [],
   "source": [
    "featured['pma36'] = change_in_price(featured['close'], 36, 288)\n",
    "featured['pma288'] = change_in_price(featured['close'], 288, 288)\n",
    "featured['pma2016'] = change_in_price(featured['close'], 2016, 288)"
   ]
  },
  {
   "cell_type": "code",
   "execution_count": 14,
   "metadata": {
    "collapsed": false
   },
   "outputs": [],
   "source": [
    "featured['vma36'] = change_in_price(featured['volume'], 36, 288)\n",
    "featured['vma288'] = change_in_price(featured['volume'], 288, 288)\n",
    "featured['vma2016'] = change_in_price(featured['volume'], 2016, 288)"
   ]
  },
  {
   "cell_type": "markdown",
   "metadata": {},
   "source": [
    "# Sliding means change\n",
    "\n",
    "$ ma = zscore(\\frac{avg(p, w_1)}{avg(p, w_2)}-1, w_z) $"
   ]
  },
  {
   "cell_type": "code",
   "execution_count": 15,
   "metadata": {
    "collapsed": true
   },
   "outputs": [],
   "source": [
    "def sliding_means_change(x, w1, w2, zscore_window):\n",
    "    mean1 = sliding_mean(x, w1)\n",
    "    mean2 = sliding_mean(x, w2)\n",
    "    change = (mean1 / mean2) - 1\n",
    "    zscored = zscore(change, zscore_window)\n",
    "    return zscored"
   ]
  },
  {
   "cell_type": "code",
   "execution_count": 16,
   "metadata": {
    "collapsed": true
   },
   "outputs": [],
   "source": [
    "featured['ma_12_108'] = sliding_means_change(featured['close'], 12, 108, 288)\n",
    "featured['ma_36_288'] = sliding_means_change(featured['close'], 12, 288, 288)"
   ]
  },
  {
   "cell_type": "markdown",
   "metadata": {},
   "source": [
    "# Price acceleration\n",
    "\n",
    "$ pavg = \\frac{p}{avg(p, w_m)} $\n",
    "\n",
    "$ ac = zscore(\\frac{pavg}{avg(pavg, w_m)}, w_z) $"
   ]
  },
  {
   "cell_type": "code",
   "execution_count": 17,
   "metadata": {
    "collapsed": true
   },
   "outputs": [],
   "source": [
    "def price_acceleration(x, w_mean, zscore_window):\n",
    "    pavg = sliding_mean(x, w_mean)\n",
    "    pavg_mean = sliding_mean(pavg, w_mean)\n",
    "    acceleration = pavg / pavg_mean\n",
    "    zscored = zscore(acceleration, zscore_window)\n",
    "    return zscored"
   ]
  },
  {
   "cell_type": "code",
   "execution_count": 18,
   "metadata": {
    "collapsed": true
   },
   "outputs": [],
   "source": [
    "featured['ac36'] = price_acceleration(featured['close'], 36, 288)\n",
    "featured['ac288'] = price_acceleration(featured['close'], 288, 288)"
   ]
  },
  {
   "cell_type": "markdown",
   "metadata": {},
   "source": [
    "# Volatility"
   ]
  },
  {
   "cell_type": "code",
   "execution_count": 19,
   "metadata": {
    "collapsed": true
   },
   "outputs": [],
   "source": [
    "def std(x, window):\n",
    "    return x.rolling(center=False,window=window).std()\n",
    "\n",
    "\n",
    "def volatility(x, w_std, w_zscore):\n",
    "    vol = std(x, w_std)\n",
    "    return zscore(vol, w_zscore)"
   ]
  },
  {
   "cell_type": "code",
   "execution_count": 20,
   "metadata": {
    "collapsed": false
   },
   "outputs": [],
   "source": [
    "featured['vol36'] = volatility(featured['return'], 36, 288)\n",
    "featured['vol288'] = volatility(featured['return'], 288, 288)\n",
    "featured['vol2016'] = volatility(featured['return'], 2016, 288)"
   ]
  },
  {
   "cell_type": "markdown",
   "metadata": {},
   "source": [
    "# Change in Volatility\n",
    "\n",
    "$ sd = std(r, w_s)\n",
    "\n",
    "$ dv =  zscore(\\frac{std}{avg(std, w_a)}, w_z) $"
   ]
  },
  {
   "cell_type": "code",
   "execution_count": 21,
   "metadata": {
    "collapsed": true
   },
   "outputs": [],
   "source": [
    "def volatility_change(x, w_std, w_a,  w_zscore):\n",
    "    sd = std(x, w_std)\n",
    "    sd_mean = sliding_mean(sd, w_a)\n",
    "    change = sd / sd_mean\n",
    "    return zscore(change, w_zscore)"
   ]
  },
  {
   "cell_type": "code",
   "execution_count": 22,
   "metadata": {
    "collapsed": true
   },
   "outputs": [],
   "source": [
    "featured['dv_36_288'] = volatility_change(featured['return'], 36, 288, 288)\n",
    "featured['dv_288_2016'] = volatility_change(featured['return'], 288, 2016, 288)"
   ]
  },
  {
   "cell_type": "code",
   "execution_count": 23,
   "metadata": {
    "collapsed": false
   },
   "outputs": [
    {
     "data": {
      "text/html": [
       "<div>\n",
       "<style scoped>\n",
       "    .dataframe tbody tr th:only-of-type {\n",
       "        vertical-align: middle;\n",
       "    }\n",
       "\n",
       "    .dataframe tbody tr th {\n",
       "        vertical-align: top;\n",
       "    }\n",
       "\n",
       "    .dataframe thead th {\n",
       "        text-align: right;\n",
       "    }\n",
       "</style>\n",
       "<table border=\"1\" class=\"dataframe\">\n",
       "  <thead>\n",
       "    <tr style=\"text-align: right;\">\n",
       "      <th></th>\n",
       "      <th>timestamp</th>\n",
       "      <th>period</th>\n",
       "      <th>open</th>\n",
       "      <th>high</th>\n",
       "      <th>low</th>\n",
       "      <th>close</th>\n",
       "      <th>volume</th>\n",
       "      <th>quoteVolume</th>\n",
       "      <th>weightedAverage</th>\n",
       "      <th>date</th>\n",
       "      <th>...</th>\n",
       "      <th>vma2016</th>\n",
       "      <th>ma_12_108</th>\n",
       "      <th>ma_36_288</th>\n",
       "      <th>ac36</th>\n",
       "      <th>ac288</th>\n",
       "      <th>vol36</th>\n",
       "      <th>vol288</th>\n",
       "      <th>vol2016</th>\n",
       "      <th>dv_36_288</th>\n",
       "      <th>dv_288_2016</th>\n",
       "    </tr>\n",
       "  </thead>\n",
       "  <tbody>\n",
       "    <tr>\n",
       "      <th>0</th>\n",
       "      <td>1424372400</td>\n",
       "      <td>5min</td>\n",
       "      <td>225.0000</td>\n",
       "      <td>225.0000</td>\n",
       "      <td>225.0000</td>\n",
       "      <td>225.0000</td>\n",
       "      <td>1.0000</td>\n",
       "      <td>0.0044</td>\n",
       "      <td>225.0000</td>\n",
       "      <td>2015-02-19 20:00:00</td>\n",
       "      <td>...</td>\n",
       "      <td>nan</td>\n",
       "      <td>nan</td>\n",
       "      <td>nan</td>\n",
       "      <td>nan</td>\n",
       "      <td>nan</td>\n",
       "      <td>nan</td>\n",
       "      <td>nan</td>\n",
       "      <td>nan</td>\n",
       "      <td>nan</td>\n",
       "      <td>nan</td>\n",
       "    </tr>\n",
       "    <tr>\n",
       "      <th>1</th>\n",
       "      <td>1424373000</td>\n",
       "      <td>5min</td>\n",
       "      <td>225.0000</td>\n",
       "      <td>225.0000</td>\n",
       "      <td>225.0000</td>\n",
       "      <td>225.0000</td>\n",
       "      <td>1.0000</td>\n",
       "      <td>0.0044</td>\n",
       "      <td>225.0000</td>\n",
       "      <td>2015-02-19 20:10:00</td>\n",
       "      <td>...</td>\n",
       "      <td>nan</td>\n",
       "      <td>nan</td>\n",
       "      <td>nan</td>\n",
       "      <td>nan</td>\n",
       "      <td>nan</td>\n",
       "      <td>nan</td>\n",
       "      <td>nan</td>\n",
       "      <td>nan</td>\n",
       "      <td>nan</td>\n",
       "      <td>nan</td>\n",
       "    </tr>\n",
       "    <tr>\n",
       "      <th>2</th>\n",
       "      <td>1424373300</td>\n",
       "      <td>5min</td>\n",
       "      <td>225.0000</td>\n",
       "      <td>225.0000</td>\n",
       "      <td>225.0000</td>\n",
       "      <td>225.0000</td>\n",
       "      <td>0.0000</td>\n",
       "      <td>0.0000</td>\n",
       "      <td>225.0000</td>\n",
       "      <td>2015-02-19 20:15:00</td>\n",
       "      <td>...</td>\n",
       "      <td>nan</td>\n",
       "      <td>nan</td>\n",
       "      <td>nan</td>\n",
       "      <td>nan</td>\n",
       "      <td>nan</td>\n",
       "      <td>nan</td>\n",
       "      <td>nan</td>\n",
       "      <td>nan</td>\n",
       "      <td>nan</td>\n",
       "      <td>nan</td>\n",
       "    </tr>\n",
       "    <tr>\n",
       "      <th>3</th>\n",
       "      <td>1424373600</td>\n",
       "      <td>5min</td>\n",
       "      <td>225.0000</td>\n",
       "      <td>225.0000</td>\n",
       "      <td>225.0000</td>\n",
       "      <td>225.0000</td>\n",
       "      <td>0.0000</td>\n",
       "      <td>0.0000</td>\n",
       "      <td>225.0000</td>\n",
       "      <td>2015-02-19 20:20:00</td>\n",
       "      <td>...</td>\n",
       "      <td>nan</td>\n",
       "      <td>nan</td>\n",
       "      <td>nan</td>\n",
       "      <td>nan</td>\n",
       "      <td>nan</td>\n",
       "      <td>nan</td>\n",
       "      <td>nan</td>\n",
       "      <td>nan</td>\n",
       "      <td>nan</td>\n",
       "      <td>nan</td>\n",
       "    </tr>\n",
       "    <tr>\n",
       "      <th>4</th>\n",
       "      <td>1424373900</td>\n",
       "      <td>5min</td>\n",
       "      <td>225.0000</td>\n",
       "      <td>225.0000</td>\n",
       "      <td>225.0000</td>\n",
       "      <td>225.0000</td>\n",
       "      <td>0.0000</td>\n",
       "      <td>0.0000</td>\n",
       "      <td>225.0000</td>\n",
       "      <td>2015-02-19 20:25:00</td>\n",
       "      <td>...</td>\n",
       "      <td>nan</td>\n",
       "      <td>nan</td>\n",
       "      <td>nan</td>\n",
       "      <td>nan</td>\n",
       "      <td>nan</td>\n",
       "      <td>nan</td>\n",
       "      <td>nan</td>\n",
       "      <td>nan</td>\n",
       "      <td>nan</td>\n",
       "      <td>nan</td>\n",
       "    </tr>\n",
       "  </tbody>\n",
       "</table>\n",
       "<p>5 rows × 37 columns</p>\n",
       "</div>"
      ],
      "text/plain": [
       "    timestamp period     open     high      low    close  volume  quoteVolume  \\\n",
       "0  1424372400   5min 225.0000 225.0000 225.0000 225.0000  1.0000       0.0044   \n",
       "1  1424373000   5min 225.0000 225.0000 225.0000 225.0000  1.0000       0.0044   \n",
       "2  1424373300   5min 225.0000 225.0000 225.0000 225.0000  0.0000       0.0000   \n",
       "3  1424373600   5min 225.0000 225.0000 225.0000 225.0000  0.0000       0.0000   \n",
       "4  1424373900   5min 225.0000 225.0000 225.0000 225.0000  0.0000       0.0000   \n",
       "\n",
       "   weightedAverage                 date     ...       vma2016  ma_12_108  \\\n",
       "0         225.0000  2015-02-19 20:00:00     ...           nan        nan   \n",
       "1         225.0000  2015-02-19 20:10:00     ...           nan        nan   \n",
       "2         225.0000  2015-02-19 20:15:00     ...           nan        nan   \n",
       "3         225.0000  2015-02-19 20:20:00     ...           nan        nan   \n",
       "4         225.0000  2015-02-19 20:25:00     ...           nan        nan   \n",
       "\n",
       "   ma_36_288  ac36  ac288  vol36  vol288  vol2016  dv_36_288  dv_288_2016  \n",
       "0        nan   nan    nan    nan     nan      nan        nan          nan  \n",
       "1        nan   nan    nan    nan     nan      nan        nan          nan  \n",
       "2        nan   nan    nan    nan     nan      nan        nan          nan  \n",
       "3        nan   nan    nan    nan     nan      nan        nan          nan  \n",
       "4        nan   nan    nan    nan     nan      nan        nan          nan  \n",
       "\n",
       "[5 rows x 37 columns]"
      ]
     },
     "execution_count": 23,
     "metadata": {},
     "output_type": "execute_result"
    }
   ],
   "source": [
    "featured.head()"
   ]
  },
  {
   "cell_type": "markdown",
   "metadata": {},
   "source": [
    "# Save Features"
   ]
  },
  {
   "cell_type": "code",
   "execution_count": 24,
   "metadata": {
    "collapsed": false
   },
   "outputs": [
    {
     "data": {
      "text/plain": [
       "Index(['timestamp', 'period', 'open', 'high', 'low', 'close', 'volume',\n",
       "       'quoteVolume', 'weightedAverage', 'date', 'maxReturn', 'tillMax',\n",
       "       'minReturn', 'label', 'return', 'return_1', 'return_2',\n",
       "       'zscore_36_return', 'zscore_288_return', 'zscore_36_volume',\n",
       "       'zscore_288_volume', 'zscore_2016_volume', 'pma36', 'pma288', 'pma2016',\n",
       "       'vma36', 'vma288', 'vma2016', 'ma_12_108', 'ma_36_288', 'ac36', 'ac288',\n",
       "       'vol36', 'vol288', 'vol2016', 'dv_36_288', 'dv_288_2016'],\n",
       "      dtype='object')"
      ]
     },
     "execution_count": 24,
     "metadata": {},
     "output_type": "execute_result"
    }
   ],
   "source": [
    "featured.columns"
   ]
  },
  {
   "cell_type": "code",
   "execution_count": 25,
   "metadata": {
    "collapsed": false
   },
   "outputs": [],
   "source": [
    "write_tsv(fillna(featured, 0), featuresFile)\n",
    "write_tsv(dropna(featured), featuresFileDropedNA)"
   ]
  },
  {
   "cell_type": "code",
   "execution_count": 26,
   "metadata": {
    "collapsed": false
   },
   "outputs": [
    {
     "data": {
      "text/plain": [
       "(360292, 37)"
      ]
     },
     "execution_count": 26,
     "metadata": {},
     "output_type": "execute_result"
    }
   ],
   "source": [
    "featured.shape"
   ]
  },
  {
   "cell_type": "code",
   "execution_count": 27,
   "metadata": {
    "collapsed": false
   },
   "outputs": [
    {
     "data": {
      "text/plain": [
       "(323391, 37)"
      ]
     },
     "execution_count": 27,
     "metadata": {},
     "output_type": "execute_result"
    }
   ],
   "source": [
    "dropna(featured).shape"
   ]
  },
  {
   "cell_type": "code",
   "execution_count": 28,
   "metadata": {
    "collapsed": false
   },
   "outputs": [
    {
     "data": {
      "text/html": [
       "<div>\n",
       "<style scoped>\n",
       "    .dataframe tbody tr th:only-of-type {\n",
       "        vertical-align: middle;\n",
       "    }\n",
       "\n",
       "    .dataframe tbody tr th {\n",
       "        vertical-align: top;\n",
       "    }\n",
       "\n",
       "    .dataframe thead th {\n",
       "        text-align: right;\n",
       "    }\n",
       "</style>\n",
       "<table border=\"1\" class=\"dataframe\">\n",
       "  <thead>\n",
       "    <tr style=\"text-align: right;\">\n",
       "      <th></th>\n",
       "      <th>timestamp</th>\n",
       "      <th>open</th>\n",
       "      <th>high</th>\n",
       "      <th>low</th>\n",
       "      <th>close</th>\n",
       "      <th>volume</th>\n",
       "      <th>quoteVolume</th>\n",
       "      <th>weightedAverage</th>\n",
       "      <th>maxReturn</th>\n",
       "      <th>tillMax</th>\n",
       "      <th>...</th>\n",
       "      <th>vma2016</th>\n",
       "      <th>ma_12_108</th>\n",
       "      <th>ma_36_288</th>\n",
       "      <th>ac36</th>\n",
       "      <th>ac288</th>\n",
       "      <th>vol36</th>\n",
       "      <th>vol288</th>\n",
       "      <th>vol2016</th>\n",
       "      <th>dv_36_288</th>\n",
       "      <th>dv_288_2016</th>\n",
       "    </tr>\n",
       "  </thead>\n",
       "  <tbody>\n",
       "    <tr>\n",
       "      <th>count</th>\n",
       "      <td>323,391.0000</td>\n",
       "      <td>323,391.0000</td>\n",
       "      <td>323,391.0000</td>\n",
       "      <td>323,391.0000</td>\n",
       "      <td>323,391.0000</td>\n",
       "      <td>323,391.0000</td>\n",
       "      <td>323,391.0000</td>\n",
       "      <td>323,391.0000</td>\n",
       "      <td>323,391.0000</td>\n",
       "      <td>323,391.0000</td>\n",
       "      <td>...</td>\n",
       "      <td>323,391.0000</td>\n",
       "      <td>323,391.0000</td>\n",
       "      <td>323,391.0000</td>\n",
       "      <td>323,391.0000</td>\n",
       "      <td>323,391.0000</td>\n",
       "      <td>323,391.0000</td>\n",
       "      <td>323,391.0000</td>\n",
       "      <td>323,391.0000</td>\n",
       "      <td>323,391.0000</td>\n",
       "      <td>323,391.0000</td>\n",
       "    </tr>\n",
       "    <tr>\n",
       "      <th>mean</th>\n",
       "      <td>1,483,618,664.2578</td>\n",
       "      <td>3,120.7577</td>\n",
       "      <td>3,127.6637</td>\n",
       "      <td>3,113.2482</td>\n",
       "      <td>3,120.5208</td>\n",
       "      <td>65,340.2579</td>\n",
       "      <td>13.5572</td>\n",
       "      <td>3,120.4525</td>\n",
       "      <td>0.0031</td>\n",
       "      <td>136.7691</td>\n",
       "      <td>...</td>\n",
       "      <td>0.0435</td>\n",
       "      <td>-0.0134</td>\n",
       "      <td>-0.0182</td>\n",
       "      <td>-0.0092</td>\n",
       "      <td>0.0075</td>\n",
       "      <td>0.0762</td>\n",
       "      <td>-0.0781</td>\n",
       "      <td>-0.0264</td>\n",
       "      <td>0.1224</td>\n",
       "      <td>-0.0230</td>\n",
       "    </tr>\n",
       "    <tr>\n",
       "      <th>std</th>\n",
       "      <td>28,654,744.5802</td>\n",
       "      <td>3,933.3445</td>\n",
       "      <td>3,944.3690</td>\n",
       "      <td>3,921.2168</td>\n",
       "      <td>3,932.9298</td>\n",
       "      <td>183,985.4619</td>\n",
       "      <td>33.2333</td>\n",
       "      <td>3,932.8270</td>\n",
       "      <td>0.0256</td>\n",
       "      <td>116.4608</td>\n",
       "      <td>...</td>\n",
       "      <td>2.0713</td>\n",
       "      <td>1.2758</td>\n",
       "      <td>1.4347</td>\n",
       "      <td>1.2414</td>\n",
       "      <td>1.6941</td>\n",
       "      <td>1.2879</td>\n",
       "      <td>1.6602</td>\n",
       "      <td>1.7326</td>\n",
       "      <td>1.2875</td>\n",
       "      <td>1.6510</td>\n",
       "    </tr>\n",
       "    <tr>\n",
       "      <th>min</th>\n",
       "      <td>1,425,447,000.0000</td>\n",
       "      <td>178.7193</td>\n",
       "      <td>178.7193</td>\n",
       "      <td>174.5701</td>\n",
       "      <td>178.7193</td>\n",
       "      <td>0.0000</td>\n",
       "      <td>0.0000</td>\n",
       "      <td>0.0000</td>\n",
       "      <td>-1.0000</td>\n",
       "      <td>-1.0000</td>\n",
       "      <td>...</td>\n",
       "      <td>-1.5447</td>\n",
       "      <td>-13.5045</td>\n",
       "      <td>-12.0290</td>\n",
       "      <td>-33.4562</td>\n",
       "      <td>-5.3630</td>\n",
       "      <td>-6.0729</td>\n",
       "      <td>-51.6309</td>\n",
       "      <td>-49.8430</td>\n",
       "      <td>-5.9688</td>\n",
       "      <td>-14.9462</td>\n",
       "    </tr>\n",
       "    <tr>\n",
       "      <th>25%</th>\n",
       "      <td>1,459,698,150.0000</td>\n",
       "      <td>437.0674</td>\n",
       "      <td>437.5000</td>\n",
       "      <td>437.0000</td>\n",
       "      <td>437.1639</td>\n",
       "      <td>0.7008</td>\n",
       "      <td>0.0014</td>\n",
       "      <td>437.0783</td>\n",
       "      <td>0.0000</td>\n",
       "      <td>23.0000</td>\n",
       "      <td>...</td>\n",
       "      <td>-0.4014</td>\n",
       "      <td>-0.7615</td>\n",
       "      <td>-1.0272</td>\n",
       "      <td>-0.6986</td>\n",
       "      <td>-1.5208</td>\n",
       "      <td>-0.7781</td>\n",
       "      <td>-1.3781</td>\n",
       "      <td>-1.4281</td>\n",
       "      <td>-0.7400</td>\n",
       "      <td>-1.3388</td>\n",
       "    </tr>\n",
       "    <tr>\n",
       "      <th>50%</th>\n",
       "      <td>1,483,952,400.0000</td>\n",
       "      <td>904.9140</td>\n",
       "      <td>905.9000</td>\n",
       "      <td>903.5000</td>\n",
       "      <td>904.7731</td>\n",
       "      <td>1,983.1365</td>\n",
       "      <td>1.4232</td>\n",
       "      <td>904.7568</td>\n",
       "      <td>0.0110</td>\n",
       "      <td>97.0000</td>\n",
       "      <td>...</td>\n",
       "      <td>-0.2176</td>\n",
       "      <td>-0.0153</td>\n",
       "      <td>-0.0220</td>\n",
       "      <td>-0.0020</td>\n",
       "      <td>0.0180</td>\n",
       "      <td>-0.1641</td>\n",
       "      <td>-0.1841</td>\n",
       "      <td>-0.1074</td>\n",
       "      <td>-0.1288</td>\n",
       "      <td>-0.0767</td>\n",
       "    </tr>\n",
       "    <tr>\n",
       "      <th>75%</th>\n",
       "      <td>1,508,206,650.0000</td>\n",
       "      <td>5,621.0972</td>\n",
       "      <td>5,632.9403</td>\n",
       "      <td>5,610.0000</td>\n",
       "      <td>5,621.0012</td>\n",
       "      <td>52,868.2268</td>\n",
       "      <td>13.1682</td>\n",
       "      <td>5,621.0327</td>\n",
       "      <td>0.0133</td>\n",
       "      <td>286.0000</td>\n",
       "      <td>...</td>\n",
       "      <td>-0.0514</td>\n",
       "      <td>0.7421</td>\n",
       "      <td>1.0039</td>\n",
       "      <td>0.6870</td>\n",
       "      <td>1.5360</td>\n",
       "      <td>0.7340</td>\n",
       "      <td>1.2481</td>\n",
       "      <td>1.4045</td>\n",
       "      <td>0.7779</td>\n",
       "      <td>1.2872</td>\n",
       "    </tr>\n",
       "    <tr>\n",
       "      <th>max</th>\n",
       "      <td>1,537,207,200.0000</td>\n",
       "      <td>19,896.6873</td>\n",
       "      <td>19,903.4402</td>\n",
       "      <td>19,860.1200</td>\n",
       "      <td>19,896.6873</td>\n",
       "      <td>8,905,611.9065</td>\n",
       "      <td>1,244.4380</td>\n",
       "      <td>19,888.0100</td>\n",
       "      <td>0.2598</td>\n",
       "      <td>286.0000</td>\n",
       "      <td>...</td>\n",
       "      <td>385.3693</td>\n",
       "      <td>50.0138</td>\n",
       "      <td>9.3768</td>\n",
       "      <td>50.3711</td>\n",
       "      <td>4.9823</td>\n",
       "      <td>69.1420</td>\n",
       "      <td>37.4764</td>\n",
       "      <td>34.4536</td>\n",
       "      <td>92.9770</td>\n",
       "      <td>37.2431</td>\n",
       "    </tr>\n",
       "  </tbody>\n",
       "</table>\n",
       "<p>8 rows × 34 columns</p>\n",
       "</div>"
      ],
      "text/plain": [
       "               timestamp         open         high          low        close  \\\n",
       "count       323,391.0000 323,391.0000 323,391.0000 323,391.0000 323,391.0000   \n",
       "mean  1,483,618,664.2578   3,120.7577   3,127.6637   3,113.2482   3,120.5208   \n",
       "std      28,654,744.5802   3,933.3445   3,944.3690   3,921.2168   3,932.9298   \n",
       "min   1,425,447,000.0000     178.7193     178.7193     174.5701     178.7193   \n",
       "25%   1,459,698,150.0000     437.0674     437.5000     437.0000     437.1639   \n",
       "50%   1,483,952,400.0000     904.9140     905.9000     903.5000     904.7731   \n",
       "75%   1,508,206,650.0000   5,621.0972   5,632.9403   5,610.0000   5,621.0012   \n",
       "max   1,537,207,200.0000  19,896.6873  19,903.4402  19,860.1200  19,896.6873   \n",
       "\n",
       "              volume  quoteVolume  weightedAverage    maxReturn      tillMax  \\\n",
       "count   323,391.0000 323,391.0000     323,391.0000 323,391.0000 323,391.0000   \n",
       "mean     65,340.2579      13.5572       3,120.4525       0.0031     136.7691   \n",
       "std     183,985.4619      33.2333       3,932.8270       0.0256     116.4608   \n",
       "min           0.0000       0.0000           0.0000      -1.0000      -1.0000   \n",
       "25%           0.7008       0.0014         437.0783       0.0000      23.0000   \n",
       "50%       1,983.1365       1.4232         904.7568       0.0110      97.0000   \n",
       "75%      52,868.2268      13.1682       5,621.0327       0.0133     286.0000   \n",
       "max   8,905,611.9065   1,244.4380      19,888.0100       0.2598     286.0000   \n",
       "\n",
       "          ...           vma2016    ma_12_108    ma_36_288         ac36  \\\n",
       "count     ...      323,391.0000 323,391.0000 323,391.0000 323,391.0000   \n",
       "mean      ...            0.0435      -0.0134      -0.0182      -0.0092   \n",
       "std       ...            2.0713       1.2758       1.4347       1.2414   \n",
       "min       ...           -1.5447     -13.5045     -12.0290     -33.4562   \n",
       "25%       ...           -0.4014      -0.7615      -1.0272      -0.6986   \n",
       "50%       ...           -0.2176      -0.0153      -0.0220      -0.0020   \n",
       "75%       ...           -0.0514       0.7421       1.0039       0.6870   \n",
       "max       ...          385.3693      50.0138       9.3768      50.3711   \n",
       "\n",
       "             ac288        vol36       vol288      vol2016    dv_36_288  \\\n",
       "count 323,391.0000 323,391.0000 323,391.0000 323,391.0000 323,391.0000   \n",
       "mean        0.0075       0.0762      -0.0781      -0.0264       0.1224   \n",
       "std         1.6941       1.2879       1.6602       1.7326       1.2875   \n",
       "min        -5.3630      -6.0729     -51.6309     -49.8430      -5.9688   \n",
       "25%        -1.5208      -0.7781      -1.3781      -1.4281      -0.7400   \n",
       "50%         0.0180      -0.1641      -0.1841      -0.1074      -0.1288   \n",
       "75%         1.5360       0.7340       1.2481       1.4045       0.7779   \n",
       "max         4.9823      69.1420      37.4764      34.4536      92.9770   \n",
       "\n",
       "       dv_288_2016  \n",
       "count 323,391.0000  \n",
       "mean       -0.0230  \n",
       "std         1.6510  \n",
       "min       -14.9462  \n",
       "25%        -1.3388  \n",
       "50%        -0.0767  \n",
       "75%         1.2872  \n",
       "max        37.2431  \n",
       "\n",
       "[8 rows x 34 columns]"
      ]
     },
     "execution_count": 28,
     "metadata": {},
     "output_type": "execute_result"
    }
   ],
   "source": [
    "dropna(featured).describe()"
   ]
  },
  {
   "cell_type": "code",
   "execution_count": 29,
   "metadata": {
    "collapsed": false
   },
   "outputs": [
    {
     "data": {
      "text/plain": [
       "count   357,400.0000\n",
       "mean          1.0671\n",
       "std         277.6016\n",
       "min          -1.5447\n",
       "25%          -0.3780\n",
       "50%          -0.1822\n",
       "75%          -0.0627\n",
       "max     111,739.8308\n",
       "Name: vma2016, dtype: float64"
      ]
     },
     "execution_count": 29,
     "metadata": {},
     "output_type": "execute_result"
    }
   ],
   "source": [
    "dropna(featured['vma2016']).describe()"
   ]
  },
  {
   "cell_type": "code",
   "execution_count": null,
   "metadata": {
    "collapsed": true
   },
   "outputs": [],
   "source": []
  }
 ],
 "metadata": {
  "kernelspec": {
   "display_name": "Python 3.6 (crypto36)",
   "language": "python",
   "name": "crypto36"
  },
  "language_info": {
   "codemirror_mode": {
    "name": "ipython",
    "version": 3
   },
   "file_extension": ".py",
   "mimetype": "text/x-python",
   "name": "python",
   "nbconvert_exporter": "python",
   "pygments_lexer": "ipython3",
   "version": "3.6.5"
  }
 },
 "nbformat": 4,
 "nbformat_minor": 2
}
