{
 "cells": [
  {
   "cell_type": "code",
   "execution_count": 1,
   "metadata": {
    "collapsed": false
   },
   "outputs": [],
   "source": [
    "%run ./../../utils/commonImports.py\n",
    "%run ./../../utils/tradingImports.py\n",
    "%matplotlib inline"
   ]
  },
  {
   "cell_type": "markdown",
   "metadata": {},
   "source": [
    "# Load Data"
   ]
  },
  {
   "cell_type": "code",
   "execution_count": 31,
   "metadata": {
    "collapsed": false
   },
   "outputs": [],
   "source": [
    "def load_and_divide(db, table, from_date=None, to_date=None, train_ratio=0.5, period=None):\n",
    "    data = load_trading_data(db, table, from_date, to_date, period)\n",
    "    data_train, data_test = divide_train_and_test(data, train_ratio)\n",
    "    return data, data_train, data_test\n",
    "\n",
    "\n",
    "db = 'D:\\\\Dropbox\\\\My work\\\\krypl-project\\\\sqlite\\\\ploniex-chart-data\\\\USDT_BTC.db'\n",
    "data, data_train, data_test = load_and_divide(db, 'chart_data', from_date='2014-01-01', period='5min')\n",
    "ohlc, ohlc_train, ohlc_test = data.copy(), data_train.copy(), data_test.copy()"
   ]
  },
  {
   "cell_type": "code",
   "execution_count": 32,
   "metadata": {},
   "outputs": [
    {
     "data": {
      "text/html": [
       "<div>\n",
       "<table border=\"1\" class=\"dataframe\">\n",
       "  <thead>\n",
       "    <tr style=\"text-align: right;\">\n",
       "      <th></th>\n",
       "      <th>timestamp</th>\n",
       "      <th>period</th>\n",
       "      <th>open</th>\n",
       "      <th>high</th>\n",
       "      <th>low</th>\n",
       "      <th>close</th>\n",
       "      <th>volume</th>\n",
       "      <th>quoteVolume</th>\n",
       "      <th>weightedAverage</th>\n",
       "      <th>date</th>\n",
       "    </tr>\n",
       "  </thead>\n",
       "  <tbody>\n",
       "    <tr>\n",
       "      <th>0</th>\n",
       "      <td>1424373000</td>\n",
       "      <td>5min</td>\n",
       "      <td>225.0000</td>\n",
       "      <td>225.0000</td>\n",
       "      <td>225.0000</td>\n",
       "      <td>225.0000</td>\n",
       "      <td>1.0000</td>\n",
       "      <td>0.0044</td>\n",
       "      <td>225.0000</td>\n",
       "      <td>2015-02-19 20:10:00</td>\n",
       "    </tr>\n",
       "    <tr>\n",
       "      <th>1</th>\n",
       "      <td>1424373300</td>\n",
       "      <td>5min</td>\n",
       "      <td>225.0000</td>\n",
       "      <td>225.0000</td>\n",
       "      <td>225.0000</td>\n",
       "      <td>225.0000</td>\n",
       "      <td>0.0000</td>\n",
       "      <td>0.0000</td>\n",
       "      <td>225.0000</td>\n",
       "      <td>2015-02-19 20:15:00</td>\n",
       "    </tr>\n",
       "    <tr>\n",
       "      <th>2</th>\n",
       "      <td>1424373600</td>\n",
       "      <td>5min</td>\n",
       "      <td>225.0000</td>\n",
       "      <td>225.0000</td>\n",
       "      <td>225.0000</td>\n",
       "      <td>225.0000</td>\n",
       "      <td>0.0000</td>\n",
       "      <td>0.0000</td>\n",
       "      <td>225.0000</td>\n",
       "      <td>2015-02-19 20:20:00</td>\n",
       "    </tr>\n",
       "    <tr>\n",
       "      <th>3</th>\n",
       "      <td>1424373900</td>\n",
       "      <td>5min</td>\n",
       "      <td>225.0000</td>\n",
       "      <td>225.0000</td>\n",
       "      <td>225.0000</td>\n",
       "      <td>225.0000</td>\n",
       "      <td>0.0000</td>\n",
       "      <td>0.0000</td>\n",
       "      <td>225.0000</td>\n",
       "      <td>2015-02-19 20:25:00</td>\n",
       "    </tr>\n",
       "    <tr>\n",
       "      <th>4</th>\n",
       "      <td>1424374200</td>\n",
       "      <td>5min</td>\n",
       "      <td>225.0000</td>\n",
       "      <td>225.0000</td>\n",
       "      <td>225.0000</td>\n",
       "      <td>225.0000</td>\n",
       "      <td>0.0000</td>\n",
       "      <td>0.0000</td>\n",
       "      <td>225.0000</td>\n",
       "      <td>2015-02-19 20:30:00</td>\n",
       "    </tr>\n",
       "  </tbody>\n",
       "</table>\n",
       "</div>"
      ],
      "text/plain": [
       "    timestamp period     open     high      low    close  volume  quoteVolume  \\\n",
       "0  1424373000   5min 225.0000 225.0000 225.0000 225.0000  1.0000       0.0044   \n",
       "1  1424373300   5min 225.0000 225.0000 225.0000 225.0000  0.0000       0.0000   \n",
       "2  1424373600   5min 225.0000 225.0000 225.0000 225.0000  0.0000       0.0000   \n",
       "3  1424373900   5min 225.0000 225.0000 225.0000 225.0000  0.0000       0.0000   \n",
       "4  1424374200   5min 225.0000 225.0000 225.0000 225.0000  0.0000       0.0000   \n",
       "\n",
       "   weightedAverage                 date  \n",
       "0         225.0000  2015-02-19 20:10:00  \n",
       "1         225.0000  2015-02-19 20:15:00  \n",
       "2         225.0000  2015-02-19 20:20:00  \n",
       "3         225.0000  2015-02-19 20:25:00  \n",
       "4         225.0000  2015-02-19 20:30:00  "
      ]
     },
     "execution_count": 32,
     "metadata": {},
     "output_type": "execute_result"
    }
   ],
   "source": [
    "data.head()"
   ]
  },
  {
   "cell_type": "markdown",
   "metadata": {},
   "source": [
    "# Period distribution"
   ]
  },
  {
   "cell_type": "code",
   "execution_count": 33,
   "metadata": {},
   "outputs": [
    {
     "data": {
      "text/plain": [
       "5min    380697\n",
       "Name: period, dtype: int64"
      ]
     },
     "execution_count": 33,
     "metadata": {},
     "output_type": "execute_result"
    }
   ],
   "source": [
    "data['period'].value_counts()"
   ]
  },
  {
   "cell_type": "markdown",
   "metadata": {},
   "source": [
    "# Timestamp diff"
   ]
  },
  {
   "cell_type": "code",
   "execution_count": 34,
   "metadata": {},
   "outputs": [],
   "source": [
    "def remove_duplicates_of_timestamp(df):\n",
    "    data = df.copy()\n",
    "    diffs = data['timestamp'].shift(-1) - data['timestamp']\n",
    "    data['timestampDiff'] = diffs\n",
    "    zero_diff = data.query('timestampDiff == 0')\n",
    "    data_dropped_duplicates = reset_index_hard(df.drop(zero_diff.index))\n",
    "    return data_dropped_duplicates"
   ]
  },
  {
   "cell_type": "code",
   "execution_count": 35,
   "metadata": {},
   "outputs": [],
   "source": [
    "data2 = data"
   ]
  },
  {
   "cell_type": "code",
   "execution_count": 36,
   "metadata": {},
   "outputs": [],
   "source": [
    "diffs = data2['timestamp'].shift(-1) - data2['timestamp']\n",
    "data2['timestampDiff'] = diffs"
   ]
  },
  {
   "cell_type": "code",
   "execution_count": 37,
   "metadata": {},
   "outputs": [
    {
     "data": {
      "text/plain": [
       "300.0000      380656\n",
       "0.0000            36\n",
       "3,900.0000         3\n",
       "1,200.0000         1\n",
       "Name: timestamp, dtype: int64"
      ]
     },
     "execution_count": 37,
     "metadata": {},
     "output_type": "execute_result"
    }
   ],
   "source": [
    "diffs.value_counts()"
   ]
  },
  {
   "cell_type": "code",
   "execution_count": 17,
   "metadata": {},
   "outputs": [],
   "source": [
    "zero_diff = data.query('timestampDiff == 0')"
   ]
  },
  {
   "cell_type": "code",
   "execution_count": 20,
   "metadata": {},
   "outputs": [],
   "source": [
    "data_dropped_duplicates = reset_index_hard(data.drop(zero_diff.index))"
   ]
  },
  {
   "cell_type": "code",
   "execution_count": 21,
   "metadata": {},
   "outputs": [
    {
     "data": {
      "text/plain": [
       "300.0000      380650\n",
       "3,900.0000         3\n",
       "1,200.0000         1\n",
       "Name: timestamp, dtype: int64"
      ]
     },
     "execution_count": 21,
     "metadata": {},
     "output_type": "execute_result"
    }
   ],
   "source": [
    "diffs = data_dropped_duplicates['timestamp'].shift(-1) - data_dropped_duplicates['timestamp']\n",
    "diffs.value_counts()"
   ]
  },
  {
   "cell_type": "code",
   "execution_count": 16,
   "metadata": {},
   "outputs": [
    {
     "data": {
      "text/html": [
       "<div>\n",
       "<table border=\"1\" class=\"dataframe\">\n",
       "  <thead>\n",
       "    <tr style=\"text-align: right;\">\n",
       "      <th></th>\n",
       "      <th>timestamp</th>\n",
       "      <th>period</th>\n",
       "      <th>open</th>\n",
       "      <th>high</th>\n",
       "      <th>low</th>\n",
       "      <th>close</th>\n",
       "      <th>volume</th>\n",
       "      <th>quoteVolume</th>\n",
       "      <th>weightedAverage</th>\n",
       "      <th>date</th>\n",
       "      <th>timestampDiff</th>\n",
       "    </tr>\n",
       "  </thead>\n",
       "  <tbody>\n",
       "    <tr>\n",
       "      <th>71190</th>\n",
       "      <td>1445730000</td>\n",
       "      <td>5min</td>\n",
       "      <td>280.0000</td>\n",
       "      <td>280.0000</td>\n",
       "      <td>280.0000</td>\n",
       "      <td>280.0000</td>\n",
       "      <td>0.0000</td>\n",
       "      <td>0.0000</td>\n",
       "      <td>280.0000</td>\n",
       "      <td>2015-10-25 01:40:00</td>\n",
       "      <td>300.0000</td>\n",
       "    </tr>\n",
       "    <tr>\n",
       "      <th>71191</th>\n",
       "      <td>1445730300</td>\n",
       "      <td>5min</td>\n",
       "      <td>280.0000</td>\n",
       "      <td>280.0000</td>\n",
       "      <td>280.0000</td>\n",
       "      <td>280.0000</td>\n",
       "      <td>0.0000</td>\n",
       "      <td>0.0000</td>\n",
       "      <td>280.0000</td>\n",
       "      <td>2015-10-25 01:45:00</td>\n",
       "      <td>300.0000</td>\n",
       "    </tr>\n",
       "    <tr>\n",
       "      <th>71192</th>\n",
       "      <td>1445730600</td>\n",
       "      <td>5min</td>\n",
       "      <td>280.0000</td>\n",
       "      <td>280.0000</td>\n",
       "      <td>280.0000</td>\n",
       "      <td>280.0000</td>\n",
       "      <td>0.0000</td>\n",
       "      <td>0.0000</td>\n",
       "      <td>280.0000</td>\n",
       "      <td>2015-10-25 01:50:00</td>\n",
       "      <td>300.0000</td>\n",
       "    </tr>\n",
       "    <tr>\n",
       "      <th>71193</th>\n",
       "      <td>1445730900</td>\n",
       "      <td>5min</td>\n",
       "      <td>280.0000</td>\n",
       "      <td>280.0000</td>\n",
       "      <td>280.0000</td>\n",
       "      <td>280.0000</td>\n",
       "      <td>0.0000</td>\n",
       "      <td>0.0000</td>\n",
       "      <td>280.0000</td>\n",
       "      <td>2015-10-25 01:55:00</td>\n",
       "      <td>300.0000</td>\n",
       "    </tr>\n",
       "    <tr>\n",
       "      <th>71194</th>\n",
       "      <td>1445731200</td>\n",
       "      <td>5min</td>\n",
       "      <td>280.0000</td>\n",
       "      <td>280.0000</td>\n",
       "      <td>280.0000</td>\n",
       "      <td>280.0000</td>\n",
       "      <td>0.0000</td>\n",
       "      <td>0.0000</td>\n",
       "      <td>280.0000</td>\n",
       "      <td>2015-10-25 02:00:00</td>\n",
       "      <td>0.0000</td>\n",
       "    </tr>\n",
       "    <tr>\n",
       "      <th>71195</th>\n",
       "      <td>1445731200</td>\n",
       "      <td>5min</td>\n",
       "      <td>283.0600</td>\n",
       "      <td>283.0600</td>\n",
       "      <td>283.0600</td>\n",
       "      <td>283.0600</td>\n",
       "      <td>0.0000</td>\n",
       "      <td>0.0000</td>\n",
       "      <td>283.0600</td>\n",
       "      <td>2015-10-25 02:00:00</td>\n",
       "      <td>300.0000</td>\n",
       "    </tr>\n",
       "    <tr>\n",
       "      <th>71196</th>\n",
       "      <td>1445731500</td>\n",
       "      <td>5min</td>\n",
       "      <td>280.0000</td>\n",
       "      <td>280.0000</td>\n",
       "      <td>280.0000</td>\n",
       "      <td>280.0000</td>\n",
       "      <td>0.0000</td>\n",
       "      <td>0.0000</td>\n",
       "      <td>280.0000</td>\n",
       "      <td>2015-10-25 02:05:00</td>\n",
       "      <td>0.0000</td>\n",
       "    </tr>\n",
       "    <tr>\n",
       "      <th>71197</th>\n",
       "      <td>1445731500</td>\n",
       "      <td>5min</td>\n",
       "      <td>281.6023</td>\n",
       "      <td>281.6023</td>\n",
       "      <td>281.6023</td>\n",
       "      <td>281.6023</td>\n",
       "      <td>5.4744</td>\n",
       "      <td>0.0194</td>\n",
       "      <td>281.6023</td>\n",
       "      <td>2015-10-25 02:05:00</td>\n",
       "      <td>300.0000</td>\n",
       "    </tr>\n",
       "    <tr>\n",
       "      <th>71198</th>\n",
       "      <td>1445731800</td>\n",
       "      <td>5min</td>\n",
       "      <td>280.0000</td>\n",
       "      <td>280.0000</td>\n",
       "      <td>280.0000</td>\n",
       "      <td>280.0000</td>\n",
       "      <td>0.0000</td>\n",
       "      <td>0.0000</td>\n",
       "      <td>280.0000</td>\n",
       "      <td>2015-10-25 02:10:00</td>\n",
       "      <td>0.0000</td>\n",
       "    </tr>\n",
       "    <tr>\n",
       "      <th>71199</th>\n",
       "      <td>1445731800</td>\n",
       "      <td>5min</td>\n",
       "      <td>281.6023</td>\n",
       "      <td>281.6023</td>\n",
       "      <td>281.6023</td>\n",
       "      <td>281.6023</td>\n",
       "      <td>0.0000</td>\n",
       "      <td>0.0000</td>\n",
       "      <td>281.6023</td>\n",
       "      <td>2015-10-25 02:10:00</td>\n",
       "      <td>300.0000</td>\n",
       "    </tr>\n",
       "  </tbody>\n",
       "</table>\n",
       "</div>"
      ],
      "text/plain": [
       "        timestamp period     open     high      low    close  volume  \\\n",
       "71190  1445730000   5min 280.0000 280.0000 280.0000 280.0000  0.0000   \n",
       "71191  1445730300   5min 280.0000 280.0000 280.0000 280.0000  0.0000   \n",
       "71192  1445730600   5min 280.0000 280.0000 280.0000 280.0000  0.0000   \n",
       "71193  1445730900   5min 280.0000 280.0000 280.0000 280.0000  0.0000   \n",
       "71194  1445731200   5min 280.0000 280.0000 280.0000 280.0000  0.0000   \n",
       "71195  1445731200   5min 283.0600 283.0600 283.0600 283.0600  0.0000   \n",
       "71196  1445731500   5min 280.0000 280.0000 280.0000 280.0000  0.0000   \n",
       "71197  1445731500   5min 281.6023 281.6023 281.6023 281.6023  5.4744   \n",
       "71198  1445731800   5min 280.0000 280.0000 280.0000 280.0000  0.0000   \n",
       "71199  1445731800   5min 281.6023 281.6023 281.6023 281.6023  0.0000   \n",
       "\n",
       "       quoteVolume  weightedAverage                 date  timestampDiff  \n",
       "71190       0.0000         280.0000  2015-10-25 01:40:00       300.0000  \n",
       "71191       0.0000         280.0000  2015-10-25 01:45:00       300.0000  \n",
       "71192       0.0000         280.0000  2015-10-25 01:50:00       300.0000  \n",
       "71193       0.0000         280.0000  2015-10-25 01:55:00       300.0000  \n",
       "71194       0.0000         280.0000  2015-10-25 02:00:00         0.0000  \n",
       "71195       0.0000         283.0600  2015-10-25 02:00:00       300.0000  \n",
       "71196       0.0000         280.0000  2015-10-25 02:05:00         0.0000  \n",
       "71197       0.0194         281.6023  2015-10-25 02:05:00       300.0000  \n",
       "71198       0.0000         280.0000  2015-10-25 02:10:00         0.0000  \n",
       "71199       0.0000         281.6023  2015-10-25 02:10:00       300.0000  "
      ]
     },
     "execution_count": 16,
     "metadata": {},
     "output_type": "execute_result"
    }
   ],
   "source": [
    "data.loc[71190:, :].head(10)"
   ]
  },
  {
   "cell_type": "code",
   "execution_count": null,
   "metadata": {},
   "outputs": [],
   "source": []
  }
 ],
 "metadata": {
  "kernelspec": {
   "display_name": "Python 3",
   "language": "python",
   "name": "python3"
  },
  "language_info": {
   "codemirror_mode": {
    "name": "ipython",
    "version": 3
   },
   "file_extension": ".py",
   "mimetype": "text/x-python",
   "name": "python",
   "nbconvert_exporter": "python",
   "pygments_lexer": "ipython3",
   "version": "3.6.2"
  }
 },
 "nbformat": 4,
 "nbformat_minor": 2
}
