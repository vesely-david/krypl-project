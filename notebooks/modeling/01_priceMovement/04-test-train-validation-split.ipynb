{
 "cells": [
  {
   "cell_type": "code",
   "execution_count": 2,
   "metadata": {
    "collapsed": false
   },
   "outputs": [],
   "source": [
    "%run ../../utils/commonImports.py\n",
    "%run ../../utils/tradingImports.py\n",
    "%matplotlib inline"
   ]
  },
  {
   "cell_type": "markdown",
   "metadata": {},
   "source": [
    "# Load Data"
   ]
  },
  {
   "cell_type": "code",
   "execution_count": 12,
   "metadata": {
    "collapsed": false
   },
   "outputs": [],
   "source": [
    "featuresRoot = 'D:\\\\Dropbox\\\\My work\\\\krypl-project\\\\dataFeatures'\n",
    "fileName = 'return-01-loss-max-01-within-day-droped-na.tsv'\n",
    "featuresFile = f'{featuresRoot}\\\\{fileName}'\n",
    "featured = read_tsv(featuresFile).sort_values('timestamp')\n",
    "featured = reset_index_hard(featured)"
   ]
  },
  {
   "cell_type": "code",
   "execution_count": 4,
   "metadata": {
    "collapsed": false
   },
   "outputs": [
    {
     "data": {
      "text/html": [
       "<div>\n",
       "<table border=\"1\" class=\"dataframe\">\n",
       "  <thead>\n",
       "    <tr style=\"text-align: right;\">\n",
       "      <th></th>\n",
       "      <th>timestamp</th>\n",
       "      <th>period</th>\n",
       "      <th>open</th>\n",
       "      <th>high</th>\n",
       "      <th>low</th>\n",
       "      <th>close</th>\n",
       "      <th>volume</th>\n",
       "      <th>quoteVolume</th>\n",
       "      <th>weightedAverage</th>\n",
       "      <th>date</th>\n",
       "      <th>...</th>\n",
       "      <th>vma2016</th>\n",
       "      <th>ma_12_108</th>\n",
       "      <th>ma_36_288</th>\n",
       "      <th>ac36</th>\n",
       "      <th>ac288</th>\n",
       "      <th>vol36</th>\n",
       "      <th>vol288</th>\n",
       "      <th>vol2016</th>\n",
       "      <th>dv_36_288</th>\n",
       "      <th>dv_288_2016</th>\n",
       "    </tr>\n",
       "  </thead>\n",
       "  <tbody>\n",
       "    <tr>\n",
       "      <th>0</th>\n",
       "      <td>1425447000</td>\n",
       "      <td>5min</td>\n",
       "      <td>267.2200</td>\n",
       "      <td>267.2200</td>\n",
       "      <td>267.2200</td>\n",
       "      <td>267.2200</td>\n",
       "      <td>0.0000</td>\n",
       "      <td>0.0000</td>\n",
       "      <td>267.2200</td>\n",
       "      <td>2015-03-04 06:30:00</td>\n",
       "      <td>...</td>\n",
       "      <td>-0.1582</td>\n",
       "      <td>0.0663</td>\n",
       "      <td>-0.3142</td>\n",
       "      <td>0.0567</td>\n",
       "      <td>-2.4838</td>\n",
       "      <td>-0.8731</td>\n",
       "      <td>0.1008</td>\n",
       "      <td>0.8151</td>\n",
       "      <td>-0.7457</td>\n",
       "      <td>-0.8667</td>\n",
       "    </tr>\n",
       "    <tr>\n",
       "      <th>1</th>\n",
       "      <td>1425447300</td>\n",
       "      <td>5min</td>\n",
       "      <td>267.2200</td>\n",
       "      <td>267.2200</td>\n",
       "      <td>267.2200</td>\n",
       "      <td>267.2200</td>\n",
       "      <td>0.0000</td>\n",
       "      <td>0.0000</td>\n",
       "      <td>267.2200</td>\n",
       "      <td>2015-03-04 06:35:00</td>\n",
       "      <td>...</td>\n",
       "      <td>-0.1576</td>\n",
       "      <td>0.0689</td>\n",
       "      <td>-0.3079</td>\n",
       "      <td>0.0567</td>\n",
       "      <td>-2.4764</td>\n",
       "      <td>-0.8724</td>\n",
       "      <td>0.0944</td>\n",
       "      <td>0.8099</td>\n",
       "      <td>-0.7446</td>\n",
       "      <td>-0.8760</td>\n",
       "    </tr>\n",
       "    <tr>\n",
       "      <th>2</th>\n",
       "      <td>1425447600</td>\n",
       "      <td>5min</td>\n",
       "      <td>267.2200</td>\n",
       "      <td>267.2200</td>\n",
       "      <td>267.2200</td>\n",
       "      <td>267.2200</td>\n",
       "      <td>0.0000</td>\n",
       "      <td>0.0000</td>\n",
       "      <td>267.2200</td>\n",
       "      <td>2015-03-04 06:40:00</td>\n",
       "      <td>...</td>\n",
       "      <td>-0.1576</td>\n",
       "      <td>0.0712</td>\n",
       "      <td>-0.3017</td>\n",
       "      <td>0.0566</td>\n",
       "      <td>-2.4686</td>\n",
       "      <td>-0.8716</td>\n",
       "      <td>0.0878</td>\n",
       "      <td>0.8047</td>\n",
       "      <td>-0.7435</td>\n",
       "      <td>-0.8852</td>\n",
       "    </tr>\n",
       "    <tr>\n",
       "      <th>3</th>\n",
       "      <td>1425447900</td>\n",
       "      <td>5min</td>\n",
       "      <td>267.2200</td>\n",
       "      <td>267.2200</td>\n",
       "      <td>267.2200</td>\n",
       "      <td>267.2200</td>\n",
       "      <td>0.0000</td>\n",
       "      <td>0.0000</td>\n",
       "      <td>267.2200</td>\n",
       "      <td>2015-03-04 06:45:00</td>\n",
       "      <td>...</td>\n",
       "      <td>-0.1576</td>\n",
       "      <td>0.0733</td>\n",
       "      <td>-0.2955</td>\n",
       "      <td>0.0564</td>\n",
       "      <td>-2.4603</td>\n",
       "      <td>-0.8709</td>\n",
       "      <td>0.0812</td>\n",
       "      <td>0.7996</td>\n",
       "      <td>-0.7424</td>\n",
       "      <td>-0.8945</td>\n",
       "    </tr>\n",
       "    <tr>\n",
       "      <th>4</th>\n",
       "      <td>1425448200</td>\n",
       "      <td>5min</td>\n",
       "      <td>267.2200</td>\n",
       "      <td>267.2200</td>\n",
       "      <td>267.2200</td>\n",
       "      <td>267.2200</td>\n",
       "      <td>0.0000</td>\n",
       "      <td>0.0000</td>\n",
       "      <td>267.2200</td>\n",
       "      <td>2015-03-04 06:50:00</td>\n",
       "      <td>...</td>\n",
       "      <td>-0.1576</td>\n",
       "      <td>0.0752</td>\n",
       "      <td>-0.2893</td>\n",
       "      <td>0.0562</td>\n",
       "      <td>-2.4517</td>\n",
       "      <td>-0.8701</td>\n",
       "      <td>0.0746</td>\n",
       "      <td>0.7945</td>\n",
       "      <td>-0.7413</td>\n",
       "      <td>-0.9039</td>\n",
       "    </tr>\n",
       "  </tbody>\n",
       "</table>\n",
       "<p>5 rows × 37 columns</p>\n",
       "</div>"
      ],
      "text/plain": [
       "    timestamp period     open     high      low    close  volume  quoteVolume  \\\n",
       "0  1425447000   5min 267.2200 267.2200 267.2200 267.2200  0.0000       0.0000   \n",
       "1  1425447300   5min 267.2200 267.2200 267.2200 267.2200  0.0000       0.0000   \n",
       "2  1425447600   5min 267.2200 267.2200 267.2200 267.2200  0.0000       0.0000   \n",
       "3  1425447900   5min 267.2200 267.2200 267.2200 267.2200  0.0000       0.0000   \n",
       "4  1425448200   5min 267.2200 267.2200 267.2200 267.2200  0.0000       0.0000   \n",
       "\n",
       "   weightedAverage                 date     ...       vma2016  ma_12_108  \\\n",
       "0         267.2200  2015-03-04 06:30:00     ...       -0.1582     0.0663   \n",
       "1         267.2200  2015-03-04 06:35:00     ...       -0.1576     0.0689   \n",
       "2         267.2200  2015-03-04 06:40:00     ...       -0.1576     0.0712   \n",
       "3         267.2200  2015-03-04 06:45:00     ...       -0.1576     0.0733   \n",
       "4         267.2200  2015-03-04 06:50:00     ...       -0.1576     0.0752   \n",
       "\n",
       "   ma_36_288   ac36   ac288   vol36  vol288  vol2016  dv_36_288  dv_288_2016  \n",
       "0    -0.3142 0.0567 -2.4838 -0.8731  0.1008   0.8151    -0.7457      -0.8667  \n",
       "1    -0.3079 0.0567 -2.4764 -0.8724  0.0944   0.8099    -0.7446      -0.8760  \n",
       "2    -0.3017 0.0566 -2.4686 -0.8716  0.0878   0.8047    -0.7435      -0.8852  \n",
       "3    -0.2955 0.0564 -2.4603 -0.8709  0.0812   0.7996    -0.7424      -0.8945  \n",
       "4    -0.2893 0.0562 -2.4517 -0.8701  0.0746   0.7945    -0.7413      -0.9039  \n",
       "\n",
       "[5 rows x 37 columns]"
      ]
     },
     "execution_count": 4,
     "metadata": {},
     "output_type": "execute_result"
    }
   ],
   "source": [
    "featured.head()"
   ]
  },
  {
   "cell_type": "markdown",
   "metadata": {},
   "source": [
    "# Drop non feature cols"
   ]
  },
  {
   "cell_type": "code",
   "execution_count": 11,
   "metadata": {
    "collapsed": true
   },
   "outputs": [],
   "source": [
    "drop_cols = ['timestamp', 'period', 'open', 'high', 'low', 'close', 'volume',\n",
    "       'quoteVolume', 'weightedAverage', 'date', 'maxReturn', 'tillMax',\n",
    "       'minReturn', 'label']\n",
    "X = featured\n",
    "for col in drop_cols:\n",
    "    X = X.drop(col, axis=1)\n",
    "y = featured['label'].apply(int)"
   ]
  },
  {
   "cell_type": "markdown",
   "metadata": {},
   "source": [
    "# Test Train Validation Split"
   ]
  },
  {
   "cell_type": "code",
   "execution_count": 12,
   "metadata": {
    "collapsed": false
   },
   "outputs": [],
   "source": [
    "from sklearn.model_selection import train_test_split\n",
    "X_trainval, X_test, y_trainval, y_test = train_test_split(X, y, test_size=0.33)\n",
    "X_train, X_val, y_train, y_val = train_test_split(X_trainval, y_trainval, test_size=0.33)"
   ]
  },
  {
   "cell_type": "code",
   "execution_count": 13,
   "metadata": {
    "collapsed": false,
    "scrolled": true
   },
   "outputs": [
    {
     "data": {
      "text/plain": [
       "Text(0.5,1,'Test Distribution')"
      ]
     },
     "execution_count": 13,
     "metadata": {},
     "output_type": "execute_result"
    },
    {
     "data": {
      "image/png": "[encoded data removed]",
      "text/plain": [
       "<Figure size 864x288 with 3 Axes>"
      ]
     },
     "metadata": {},
     "output_type": "display_data"
    }
   ],
   "source": [
    "fig, axes = plt.subplots(1, 3, figsize=[12, 4])\n",
    "y_train.value_counts().plot(kind='bar', ax=axes[0])\n",
    "axes[0].set_title('Train Distribution', fontproperties=title_font)\n",
    "y_val.value_counts().plot(kind='bar', ax=axes[1])\n",
    "axes[1].set_title('Validation Distribution', fontproperties=title_font)\n",
    "y_test.value_counts().plot(kind='bar', ax=axes[2])\n",
    "axes[2].set_title('Test Distribution', fontproperties=title_font)"
   ]
  },
  {
   "cell_type": "code",
   "execution_count": 14,
   "metadata": {
    "collapsed": false
   },
   "outputs": [],
   "source": [
    "def write_split(root):\n",
    "    write_tsv(X_train, f\"{root}/X_train.tsv\")\n",
    "    write_tsv(y_train, f\"{root}/y_train.tsv\")\n",
    "    write_tsv(X_val, f\"{root}/X_val.tsv\")\n",
    "    write_tsv(y_val, f\"{root}/y_val.tsv\")\n",
    "    write_tsv(X_test, f\"{root}/X_test.tsv\")\n",
    "    write_tsv(y_test, f\"{root}/y_test.tsv\")\n",
    "    \n",
    "write_split(\"D:\\\\Dropbox\\\\My work\\\\krypl-project\\\\dataSplit\\\\return-01-loss-max-01-within-day\")"
   ]
  },
  {
   "cell_type": "code",
   "execution_count": null,
   "metadata": {
    "collapsed": true
   },
   "outputs": [],
   "source": []
  }
 ],
 "metadata": {
  "kernelspec": {
   "display_name": "Python 3",
   "language": "python",
   "name": "python3"
  },
  "language_info": {
   "codemirror_mode": {
    "name": "ipython",
    "version": 3
   },
   "file_extension": ".py",
   "mimetype": "text/x-python",
   "name": "python",
   "nbconvert_exporter": "python",
   "pygments_lexer": "ipython3",
   "version": "3.6.2"
  }
 },
 "nbformat": 4,
 "nbformat_minor": 2
}
