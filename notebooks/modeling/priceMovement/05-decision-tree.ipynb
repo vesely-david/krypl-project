{
 "cells": [
  {
   "cell_type": "code",
   "execution_count": 25,
   "metadata": {
    "collapsed": false
   },
   "outputs": [],
   "source": [
    "%run ../../utils/commonImports.py\n",
    "%run ../../utils/tradingImports.py\n",
    "%matplotlib inline"
   ]
  },
  {
   "cell_type": "markdown",
   "metadata": {
    "collapsed": true
   },
   "source": [
    "# Load Data"
   ]
  },
  {
   "cell_type": "code",
   "execution_count": 26,
   "metadata": {
    "collapsed": false
   },
   "outputs": [],
   "source": [
    "X_train, y_train, X_val, y_val, X_test, y_test = load_split(\"D:\\\\Dropbox\\\\My work\\\\krypl-project\\\\dataSplit\\\\return-01-within-day\")"
   ]
  },
  {
   "cell_type": "markdown",
   "metadata": {},
   "source": [
    "# Test Train Validation Split"
   ]
  },
  {
   "cell_type": "code",
   "execution_count": 3,
   "metadata": {
    "collapsed": false,
    "scrolled": true
   },
   "outputs": [
    {
     "data": {
      "image/png": "[encoded data removed]",
      "text/plain": [
       "<Figure size 864x288 with 3 Axes>"
      ]
     },
     "metadata": {},
     "output_type": "display_data"
    }
   ],
   "source": [
    "fig, axes = plt.subplots(1, 3, figsize=[12, 4])\n",
    "y_train.value_counts().plot(kind='bar', ax=axes[0])\n",
    "axes[0].set_title('Train Distribution', fontproperties=title_font)\n",
    "y_val.value_counts().plot(kind='bar', ax=axes[1])\n",
    "axes[1].set_title('Validation Distribution', fontproperties=title_font)\n",
    "y_test.value_counts().plot(kind='bar', ax=axes[2])\n",
    "axes[2].set_title('Test Distribution', fontproperties=title_font);"
   ]
  },
  {
   "cell_type": "markdown",
   "metadata": {},
   "source": [
    "# Decision Tree"
   ]
  },
  {
   "cell_type": "code",
   "execution_count": 46,
   "metadata": {
    "collapsed": false,
    "scrolled": true
   },
   "outputs": [
    {
     "name": "stdout",
     "output_type": "stream",
     "text": [
      "train [0/55] {'max_depth': 5, 'min_samples_split': 2, 'class_weight': 'balanced'}........................... 1.42 sec\n",
      "train [1/55] {'max_depth': 5, 'min_samples_split': 5, 'class_weight': 'balanced'}........................... 1.05 sec\n",
      "train [2/55] {'max_depth': 5, 'min_samples_split': 10, 'class_weight': 'balanced'}........................... 1.11 sec\n",
      "train [3/55] {'max_depth': 5, 'min_samples_split': 30, 'class_weight': 'balanced'}........................... 1.06 sec\n",
      "train [4/55] {'max_depth': 5, 'min_samples_split': 50, 'class_weight': 'balanced'}........................... 1.07 sec\n",
      "train [5/55] {'max_depth': 8, 'min_samples_split': 2, 'class_weight': 'balanced'}........................... 1.68 sec\n",
      "train [6/55] {'max_depth': 8, 'min_samples_split': 5, 'class_weight': 'balanced'}........................... 1.55 sec\n",
      "train [7/55] {'max_depth': 8, 'min_samples_split': 10, 'class_weight': 'balanced'}........................... 1.61 sec\n",
      "train [8/55] {'max_depth': 8, 'min_samples_split': 30, 'class_weight': 'balanced'}........................... 1.58 sec\n",
      "train [9/55] {'max_depth': 8, 'min_samples_split': 50, 'class_weight': 'balanced'}........................... 1.64 sec\n",
      "train [10/55] {'max_depth': 10, 'min_samples_split': 2, 'class_weight': 'balanced'}........................... 1.89 sec\n",
      "train [11/55] {'max_depth': 10, 'min_samples_split': 5, 'class_weight': 'balanced'}........................... 1.90 sec\n",
      "train [12/55] {'max_depth': 10, 'min_samples_split': 10, 'class_weight': 'balanced'}........................... 1.88 sec\n",
      "train [13/55] {'max_depth': 10, 'min_samples_split': 30, 'class_weight': 'balanced'}........................... 2.00 sec\n",
      "train [14/55] {'max_depth': 10, 'min_samples_split': 50, 'class_weight': 'balanced'}........................... 1.91 sec\n",
      "train [15/55] {'max_depth': 12, 'min_samples_split': 2, 'class_weight': 'balanced'}........................... 2.14 sec\n",
      "train [16/55] {'max_depth': 12, 'min_samples_split': 5, 'class_weight': 'balanced'}........................... 2.15 sec\n",
      "train [17/55] {'max_depth': 12, 'min_samples_split': 10, 'class_weight': 'balanced'}........................... 2.16 sec\n",
      "train [18/55] {'max_depth': 12, 'min_samples_split': 30, 'class_weight': 'balanced'}........................... 2.14 sec\n",
      "train [19/55] {'max_depth': 12, 'min_samples_split': 50, 'class_weight': 'balanced'}........................... 2.13 sec\n",
      "train [20/55] {'max_depth': 15, 'min_samples_split': 2, 'class_weight': 'balanced'}........................... 2.47 sec\n",
      "train [21/55] {'max_depth': 15, 'min_samples_split': 5, 'class_weight': 'balanced'}........................... 2.78 sec\n",
      "train [22/55] {'max_depth': 15, 'min_samples_split': 10, 'class_weight': 'balanced'}........................... 2.42 sec\n",
      "train [23/55] {'max_depth': 15, 'min_samples_split': 30, 'class_weight': 'balanced'}........................... 2.47 sec\n",
      "train [24/55] {'max_depth': 15, 'min_samples_split': 50, 'class_weight': 'balanced'}........................... 2.35 sec\n",
      "train [25/55] {'max_depth': 18, 'min_samples_split': 2, 'class_weight': 'balanced'}........................... 2.57 sec\n",
      "train [26/55] {'max_depth': 18, 'min_samples_split': 5, 'class_weight': 'balanced'}........................... 2.54 sec\n",
      "train [27/55] {'max_depth': 18, 'min_samples_split': 10, 'class_weight': 'balanced'}........................... 2.56 sec\n",
      "train [28/55] {'max_depth': 18, 'min_samples_split': 30, 'class_weight': 'balanced'}........................... 2.55 sec\n",
      "train [29/55] {'max_depth': 18, 'min_samples_split': 50, 'class_weight': 'balanced'}........................... 2.55 sec\n",
      "train [30/55] {'max_depth': 20, 'min_samples_split': 2, 'class_weight': 'balanced'}........................... 2.62 sec\n",
      "train [31/55] {'max_depth': 20, 'min_samples_split': 5, 'class_weight': 'balanced'}........................... 2.66 sec\n",
      "train [32/55] {'max_depth': 20, 'min_samples_split': 10, 'class_weight': 'balanced'}........................... 2.61 sec\n",
      "train [33/55] {'max_depth': 20, 'min_samples_split': 30, 'class_weight': 'balanced'}........................... 2.57 sec\n",
      "train [34/55] {'max_depth': 20, 'min_samples_split': 50, 'class_weight': 'balanced'}........................... 2.53 sec\n",
      "train [35/55] {'max_depth': 25, 'min_samples_split': 2, 'class_weight': 'balanced'}........................... 2.71 sec\n",
      "train [36/55] {'max_depth': 25, 'min_samples_split': 5, 'class_weight': 'balanced'}........................... 2.69 sec\n",
      "train [37/55] {'max_depth': 25, 'min_samples_split': 10, 'class_weight': 'balanced'}........................... 2.69 sec\n",
      "train [38/55] {'max_depth': 25, 'min_samples_split': 30, 'class_weight': 'balanced'}........................... 2.66 sec\n",
      "train [39/55] {'max_depth': 25, 'min_samples_split': 50, 'class_weight': 'balanced'}........................... 2.64 sec\n",
      "train [40/55] {'max_depth': 30, 'min_samples_split': 2, 'class_weight': 'balanced'}........................... 2.71 sec\n",
      "train [41/55] {'max_depth': 30, 'min_samples_split': 5, 'class_weight': 'balanced'}........................... 2.83 sec\n",
      "train [42/55] {'max_depth': 30, 'min_samples_split': 10, 'class_weight': 'balanced'}........................... 2.79 sec\n",
      "train [43/55] {'max_depth': 30, 'min_samples_split': 30, 'class_weight': 'balanced'}........................... 2.70 sec\n",
      "train [44/55] {'max_depth': 30, 'min_samples_split': 50, 'class_weight': 'balanced'}........................... 2.65 sec\n",
      "train [45/55] {'max_depth': 35, 'min_samples_split': 2, 'class_weight': 'balanced'}........................... 2.84 sec\n",
      "train [46/55] {'max_depth': 35, 'min_samples_split': 5, 'class_weight': 'balanced'}........................... 2.75 sec\n",
      "train [47/55] {'max_depth': 35, 'min_samples_split': 10, 'class_weight': 'balanced'}........................... 2.75 sec\n",
      "train [48/55] {'max_depth': 35, 'min_samples_split': 30, 'class_weight': 'balanced'}........................... 2.69 sec\n",
      "train [49/55] {'max_depth': 35, 'min_samples_split': 50, 'class_weight': 'balanced'}........................... 2.68 sec\n",
      "train [50/55] {'max_depth': 40, 'min_samples_split': 2, 'class_weight': 'balanced'}........................... 2.78 sec\n",
      "train [51/55] {'max_depth': 40, 'min_samples_split': 5, 'class_weight': 'balanced'}........................... 2.75 sec\n",
      "train [52/55] {'max_depth': 40, 'min_samples_split': 10, 'class_weight': 'balanced'}........................... 2.76 sec\n",
      "train [53/55] {'max_depth': 40, 'min_samples_split': 30, 'class_weight': 'balanced'}........................... 2.73 sec\n",
      "train [54/55] {'max_depth': 40, 'min_samples_split': 50, 'class_weight': 'balanced'}........................... 2.66 sec\n"
     ]
    }
   ],
   "source": [
    "import time\n",
    "from modeling.gridsearch import GridSearch\n",
    "from sklearn.tree import DecisionTreeClassifier\n",
    "from sklearn.externals import joblib\n",
    "\n",
    "params_to_train = {\n",
    "    'max_depth': [5, 8, 10, 12, 15, 18, 20, 25, 30, 35, 40],\n",
    "    'min_samples_split': [2, 5, 10, 30, 50],\n",
    "    'class_weight': ['balanced']\n",
    "}\n",
    "\n",
    "grid_search = GridSearch(DecisionTreeClassifier, params_to_train)\n",
    "grid_search.fit_all(X_train, y_train)\n",
    "\n",
    "path = \"D:\\\\Dropbox\\\\My work\\\\krypl-project\\\\models\\\\return-01-within-day\\\\\"\n",
    "joblib.dump(grid_search, f'{path}\\\\tree_search.pkl');"
   ]
  },
  {
   "cell_type": "code",
   "execution_count": 43,
   "metadata": {
    "collapsed": false
   },
   "outputs": [],
   "source": []
  },
  {
   "cell_type": "code",
   "execution_count": null,
   "metadata": {
    "collapsed": true
   },
   "outputs": [],
   "source": []
  }
 ],
 "metadata": {
  "kernelspec": {
   "display_name": "Python 3.6 (crypto36)",
   "language": "python",
   "name": "crypto36"
  },
  "language_info": {
   "codemirror_mode": {
    "name": "ipython",
    "version": 3
   },
   "file_extension": ".py",
   "mimetype": "text/x-python",
   "name": "python",
   "nbconvert_exporter": "python",
   "pygments_lexer": "ipython3",
   "version": "3.6.5"
  }
 },
 "nbformat": 4,
 "nbformat_minor": 2
}
