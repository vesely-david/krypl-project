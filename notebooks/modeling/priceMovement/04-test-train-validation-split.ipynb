{
 "cells": [
  {
   "cell_type": "code",
   "execution_count": 1,
   "metadata": {
    "collapsed": false
   },
   "outputs": [],
   "source": [
    "%run ../../utils/commonImports.py\n",
    "%run ../../utils/tradingImports.py\n",
    "%matplotlib inline"
   ]
  },
  {
   "cell_type": "markdown",
   "metadata": {
    "collapsed": true
   },
   "source": [
    "# Load Data"
   ]
  },
  {
   "cell_type": "code",
   "execution_count": 2,
   "metadata": {
    "collapsed": false
   },
   "outputs": [],
   "source": [
    "featuresRoot = 'D:\\\\Dropbox\\\\My work\\\\krypl-project\\\\dataFeatures'\n",
    "fileName = 'return-01-within-day-droped-na.tsv'\n",
    "featuresFile = f'{featuresRoot}\\\\{fileName}'\n",
    "featured = read_tsv(featuresFile).dropna()"
   ]
  },
  {
   "cell_type": "code",
   "execution_count": 3,
   "metadata": {
    "collapsed": false
   },
   "outputs": [
    {
     "data": {
      "text/html": [
       "<div>\n",
       "<style scoped>\n",
       "    .dataframe tbody tr th:only-of-type {\n",
       "        vertical-align: middle;\n",
       "    }\n",
       "\n",
       "    .dataframe tbody tr th {\n",
       "        vertical-align: top;\n",
       "    }\n",
       "\n",
       "    .dataframe thead th {\n",
       "        text-align: right;\n",
       "    }\n",
       "</style>\n",
       "<table border=\"1\" class=\"dataframe\">\n",
       "  <thead>\n",
       "    <tr style=\"text-align: right;\">\n",
       "      <th></th>\n",
       "      <th>date</th>\n",
       "      <th>label</th>\n",
       "      <th>open</th>\n",
       "      <th>high</th>\n",
       "      <th>low</th>\n",
       "      <th>close</th>\n",
       "      <th>return</th>\n",
       "      <th>return_1</th>\n",
       "      <th>return_2</th>\n",
       "      <th>zscore_36_return</th>\n",
       "      <th>...</th>\n",
       "      <th>ma_36_288</th>\n",
       "      <th>ac36</th>\n",
       "      <th>ac288</th>\n",
       "      <th>zscore_36_volume</th>\n",
       "      <th>zscore_288_volume</th>\n",
       "      <th>zscore_2016_volume</th>\n",
       "      <th>vol36</th>\n",
       "      <th>vol288</th>\n",
       "      <th>vol2016</th>\n",
       "      <th>dv_36_288</th>\n",
       "    </tr>\n",
       "  </thead>\n",
       "  <tbody>\n",
       "    <tr>\n",
       "      <th>0</th>\n",
       "      <td>2017-01-09 23:50:00</td>\n",
       "      <td>True</td>\n",
       "      <td>903.4000</td>\n",
       "      <td>904.0000</td>\n",
       "      <td>899.0486</td>\n",
       "      <td>904.0000</td>\n",
       "      <td>0.0055</td>\n",
       "      <td>-0.0016</td>\n",
       "      <td>-0.0000</td>\n",
       "      <td>2.6415</td>\n",
       "      <td>...</td>\n",
       "      <td>0.4935</td>\n",
       "      <td>0.6778</td>\n",
       "      <td>-0.7486</td>\n",
       "      <td>0.1824</td>\n",
       "      <td>-0.0727</td>\n",
       "      <td>-0.3535</td>\n",
       "      <td>-0.8299</td>\n",
       "      <td>-1.8236</td>\n",
       "      <td>-0.0318</td>\n",
       "      <td>-1.8605</td>\n",
       "    </tr>\n",
       "    <tr>\n",
       "      <th>1</th>\n",
       "      <td>2017-01-09 23:55:00</td>\n",
       "      <td>True</td>\n",
       "      <td>903.7359</td>\n",
       "      <td>903.9400</td>\n",
       "      <td>900.4889</td>\n",
       "      <td>900.4999</td>\n",
       "      <td>-0.0039</td>\n",
       "      <td>0.0055</td>\n",
       "      <td>-0.0016</td>\n",
       "      <td>-1.8954</td>\n",
       "      <td>...</td>\n",
       "      <td>0.5310</td>\n",
       "      <td>0.6949</td>\n",
       "      <td>-0.7415</td>\n",
       "      <td>0.1656</td>\n",
       "      <td>-0.0712</td>\n",
       "      <td>-0.3525</td>\n",
       "      <td>-0.7021</td>\n",
       "      <td>-1.7942</td>\n",
       "      <td>-0.0045</td>\n",
       "      <td>-1.8305</td>\n",
       "    </tr>\n",
       "    <tr>\n",
       "      <th>2</th>\n",
       "      <td>2017-01-10 00:00:00</td>\n",
       "      <td>True</td>\n",
       "      <td>901.2000</td>\n",
       "      <td>901.2000</td>\n",
       "      <td>901.2000</td>\n",
       "      <td>901.2000</td>\n",
       "      <td>0.0008</td>\n",
       "      <td>-0.0039</td>\n",
       "      <td>0.0055</td>\n",
       "      <td>0.2481</td>\n",
       "      <td>...</td>\n",
       "      <td>0.5369</td>\n",
       "      <td>0.7068</td>\n",
       "      <td>-0.7346</td>\n",
       "      <td>-0.5773</td>\n",
       "      <td>-0.3597</td>\n",
       "      <td>-0.4858</td>\n",
       "      <td>-0.7118</td>\n",
       "      <td>-1.7884</td>\n",
       "      <td>-0.0553</td>\n",
       "      <td>-1.8208</td>\n",
       "    </tr>\n",
       "    <tr>\n",
       "      <th>3</th>\n",
       "      <td>2017-01-10 00:05:00</td>\n",
       "      <td>True</td>\n",
       "      <td>902.6899</td>\n",
       "      <td>903.7000</td>\n",
       "      <td>902.4510</td>\n",
       "      <td>902.4510</td>\n",
       "      <td>0.0014</td>\n",
       "      <td>0.0008</td>\n",
       "      <td>-0.0039</td>\n",
       "      <td>0.5257</td>\n",
       "      <td>...</td>\n",
       "      <td>0.5528</td>\n",
       "      <td>0.7158</td>\n",
       "      <td>-0.7265</td>\n",
       "      <td>-0.3356</td>\n",
       "      <td>-0.2742</td>\n",
       "      <td>-0.4462</td>\n",
       "      <td>-0.7137</td>\n",
       "      <td>-1.7820</td>\n",
       "      <td>-0.0627</td>\n",
       "      <td>-1.8106</td>\n",
       "    </tr>\n",
       "    <tr>\n",
       "      <th>4</th>\n",
       "      <td>2017-01-10 00:10:00</td>\n",
       "      <td>True</td>\n",
       "      <td>902.4510</td>\n",
       "      <td>903.7099</td>\n",
       "      <td>901.2000</td>\n",
       "      <td>903.7000</td>\n",
       "      <td>0.0014</td>\n",
       "      <td>0.0014</td>\n",
       "      <td>0.0008</td>\n",
       "      <td>0.5284</td>\n",
       "      <td>...</td>\n",
       "      <td>0.5965</td>\n",
       "      <td>0.7079</td>\n",
       "      <td>-0.7171</td>\n",
       "      <td>1.0315</td>\n",
       "      <td>0.2534</td>\n",
       "      <td>-0.2029</td>\n",
       "      <td>-0.8363</td>\n",
       "      <td>-1.7826</td>\n",
       "      <td>-0.0798</td>\n",
       "      <td>-1.8065</td>\n",
       "    </tr>\n",
       "  </tbody>\n",
       "</table>\n",
       "<p>5 rows × 23 columns</p>\n",
       "</div>"
      ],
      "text/plain": [
       "                  date  label     open     high      low    close  return  \\\n",
       "0  2017-01-09 23:50:00   True 903.4000 904.0000 899.0486 904.0000  0.0055   \n",
       "1  2017-01-09 23:55:00   True 903.7359 903.9400 900.4889 900.4999 -0.0039   \n",
       "2  2017-01-10 00:00:00   True 901.2000 901.2000 901.2000 901.2000  0.0008   \n",
       "3  2017-01-10 00:05:00   True 902.6899 903.7000 902.4510 902.4510  0.0014   \n",
       "4  2017-01-10 00:10:00   True 902.4510 903.7099 901.2000 903.7000  0.0014   \n",
       "\n",
       "   return_1  return_2  zscore_36_return    ...      ma_36_288   ac36   ac288  \\\n",
       "0   -0.0016   -0.0000            2.6415    ...         0.4935 0.6778 -0.7486   \n",
       "1    0.0055   -0.0016           -1.8954    ...         0.5310 0.6949 -0.7415   \n",
       "2   -0.0039    0.0055            0.2481    ...         0.5369 0.7068 -0.7346   \n",
       "3    0.0008   -0.0039            0.5257    ...         0.5528 0.7158 -0.7265   \n",
       "4    0.0014    0.0008            0.5284    ...         0.5965 0.7079 -0.7171   \n",
       "\n",
       "   zscore_36_volume  zscore_288_volume  zscore_2016_volume   vol36  vol288  \\\n",
       "0            0.1824            -0.0727             -0.3535 -0.8299 -1.8236   \n",
       "1            0.1656            -0.0712             -0.3525 -0.7021 -1.7942   \n",
       "2           -0.5773            -0.3597             -0.4858 -0.7118 -1.7884   \n",
       "3           -0.3356            -0.2742             -0.4462 -0.7137 -1.7820   \n",
       "4            1.0315             0.2534             -0.2029 -0.8363 -1.7826   \n",
       "\n",
       "   vol2016  dv_36_288  \n",
       "0  -0.0318    -1.8605  \n",
       "1  -0.0045    -1.8305  \n",
       "2  -0.0553    -1.8208  \n",
       "3  -0.0627    -1.8106  \n",
       "4  -0.0798    -1.8065  \n",
       "\n",
       "[5 rows x 23 columns]"
      ]
     },
     "execution_count": 3,
     "metadata": {},
     "output_type": "execute_result"
    }
   ],
   "source": [
    "featured.head()"
   ]
  },
  {
   "cell_type": "code",
   "execution_count": 4,
   "metadata": {
    "collapsed": true
   },
   "outputs": [],
   "source": [
    "drop_cols = ['date', 'timestamp', 'label', 'open', 'high', 'low', 'close']\n",
    "X = featured\n",
    "for col in drop_cols:\n",
    "    X = X.drop(col, axis=1)\n",
    "y = featured['label'].apply(int)"
   ]
  },
  {
   "cell_type": "markdown",
   "metadata": {},
   "source": [
    "# Test Train Validation Split"
   ]
  },
  {
   "cell_type": "code",
   "execution_count": 5,
   "metadata": {
    "collapsed": false
   },
   "outputs": [],
   "source": [
    "from sklearn.model_selection import train_test_split\n",
    "X_trainval, X_test, y_trainval, y_test = train_test_split(X, y, test_size=0.33)\n",
    "X_train, X_val, y_train, y_val = train_test_split(X_trainval, y_trainval, test_size=0.33)"
   ]
  },
  {
   "cell_type": "code",
   "execution_count": 6,
   "metadata": {
    "collapsed": false,
    "scrolled": true
   },
   "outputs": [
    {
     "data": {
      "text/plain": [
       "Text(0.5,1,'Test Distribution')"
      ]
     },
     "execution_count": 6,
     "metadata": {},
     "output_type": "execute_result"
    },
    {
     "data": {
      "image/png": "[encoded data removed]",
      "text/plain": [
       "<Figure size 864x288 with 3 Axes>"
      ]
     },
     "metadata": {},
     "output_type": "display_data"
    }
   ],
   "source": [
    "fig, axes = plt.subplots(1, 3, figsize=[12, 4])\n",
    "y_train.value_counts().plot(kind='bar', ax=axes[0])\n",
    "axes[0].set_title('Train Distribution', fontproperties=title_font)\n",
    "y_val.value_counts().plot(kind='bar', ax=axes[1])\n",
    "axes[1].set_title('Validation Distribution', fontproperties=title_font)\n",
    "y_test.value_counts().plot(kind='bar', ax=axes[2])\n",
    "axes[2].set_title('Test Distribution', fontproperties=title_font)"
   ]
  },
  {
   "cell_type": "code",
   "execution_count": 7,
   "metadata": {
    "collapsed": true
   },
   "outputs": [],
   "source": [
    "def write_split(root):\n",
    "    write_tsv(X_train, f\"{root}/X_train.tsv\")\n",
    "    write_tsv(y_train, f\"{root}/y_train.tsv\")\n",
    "    write_tsv(X_val, f\"{root}/X_val.tsv\")\n",
    "    write_tsv(y_val, f\"{root}/y_val.tsv\")\n",
    "    write_tsv(X_test, f\"{root}/X_test.tsv\")\n",
    "    write_tsv(y_test, f\"{root}/y_test.tsv\")\n",
    "    \n",
    "write_split(\"D:\\\\Dropbox\\\\My work\\\\krypl-project\\\\dataSplit\\\\return-01-within-day\")"
   ]
  },
  {
   "cell_type": "code",
   "execution_count": null,
   "metadata": {
    "collapsed": true
   },
   "outputs": [],
   "source": []
  }
 ],
 "metadata": {
  "kernelspec": {
   "display_name": "Python 3.6 (crypto36)",
   "language": "python",
   "name": "crypto36"
  },
  "language_info": {
   "codemirror_mode": {
    "name": "ipython",
    "version": 3
   },
   "file_extension": ".py",
   "mimetype": "text/x-python",
   "name": "python",
   "nbconvert_exporter": "python",
   "pygments_lexer": "ipython3",
   "version": "3.6.5"
  }
 },
 "nbformat": 4,
 "nbformat_minor": 2
}
