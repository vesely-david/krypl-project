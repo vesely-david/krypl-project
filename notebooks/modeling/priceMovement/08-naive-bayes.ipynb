{
 "cells": [
  {
   "cell_type": "code",
   "execution_count": 1,
   "metadata": {
    "collapsed": false
   },
   "outputs": [],
   "source": [
    "%run ../../utils/commonImports.py\n",
    "%run ../../utils/tradingImports.py\n",
    "%matplotlib inline"
   ]
  },
  {
   "cell_type": "markdown",
   "metadata": {
    "collapsed": true
   },
   "source": [
    "# Load Data"
   ]
  },
  {
   "cell_type": "code",
   "execution_count": 8,
   "metadata": {
    "collapsed": false
   },
   "outputs": [],
   "source": [
    "features = ['vol2016', 'ac288', 'vol288', 'ac36', 'return', 'dv_36_288']\n",
    "X_train, y_train, X_val, y_val, X_test, y_test = load_split(\"D:\\\\Dropbox\\\\My work\\\\krypl-project\\\\dataSplit\\\\return-01-within-day\")\n",
    "X_train, X_val, X_test = X_train[features], X_val[features], X_test[features]"
   ]
  },
  {
   "cell_type": "markdown",
   "metadata": {},
   "source": [
    "# Test Train Validation Split"
   ]
  },
  {
   "cell_type": "code",
   "execution_count": 9,
   "metadata": {
    "collapsed": false,
    "scrolled": true
   },
   "outputs": [
    {
     "data": {
      "image/png": "[encoded data removed]",
      "text/plain": [
       "<Figure size 864x288 with 3 Axes>"
      ]
     },
     "metadata": {},
     "output_type": "display_data"
    }
   ],
   "source": [
    "fig, axes = plt.subplots(1, 3, figsize=[12, 4])\n",
    "y_train.value_counts().plot(kind='bar', ax=axes[0])\n",
    "axes[0].set_title('Train Distribution', fontproperties=title_font)\n",
    "y_val.value_counts().plot(kind='bar', ax=axes[1])\n",
    "axes[1].set_title('Validation Distribution', fontproperties=title_font)\n",
    "y_test.value_counts().plot(kind='bar', ax=axes[2])\n",
    "axes[2].set_title('Test Distribution', fontproperties=title_font);"
   ]
  },
  {
   "cell_type": "markdown",
   "metadata": {},
   "source": [
    "# Naive Bayes"
   ]
  },
  {
   "cell_type": "code",
   "execution_count": 10,
   "metadata": {
    "collapsed": false,
    "scrolled": true
   },
   "outputs": [
    {
     "name": "stdout",
     "output_type": "stream",
     "text": [
      "train [0/100] {'priors': None}........................... 0.09 sec\n",
      "train [1/100] {'priors': [0.01, 0.99]}........................... 0.05 sec\n",
      "train [2/100] {'priors': [0.02, 0.98]}........................... 0.05 sec\n",
      "train [3/100] {'priors': [0.03, 0.97]}........................... 0.08 sec\n",
      "train [4/100] {'priors': [0.04, 0.96]}........................... 0.05 sec\n",
      "train [5/100] {'priors': [0.05, 0.95]}........................... 0.06 sec\n",
      "train [6/100] {'priors': [0.06, 0.94]}........................... 0.05 sec\n",
      "train [7/100] {'priors': [0.07, 0.93]}........................... 0.05 sec\n",
      "train [8/100] {'priors': [0.08, 0.92]}........................... 0.06 sec\n",
      "train [9/100] {'priors': [0.09, 0.91]}........................... 0.05 sec\n",
      "train [10/100] {'priors': [0.1, 0.9]}........................... 0.05 sec\n",
      "train [11/100] {'priors': [0.11, 0.89]}........................... 0.06 sec\n",
      "train [12/100] {'priors': [0.12, 0.88]}........................... 0.06 sec\n",
      "train [13/100] {'priors': [0.13, 0.87]}........................... 0.05 sec\n",
      "train [14/100] {'priors': [0.14, 0.86]}........................... 0.05 sec\n",
      "train [15/100] {'priors': [0.15, 0.85]}........................... 0.08 sec\n",
      "train [16/100] {'priors': [0.16, 0.84]}........................... 0.06 sec\n",
      "train [17/100] {'priors': [0.17, 0.83]}........................... 0.05 sec\n",
      "train [18/100] {'priors': [0.18, 0.82]}........................... 0.05 sec\n",
      "train [19/100] {'priors': [0.19, 0.81]}........................... 0.05 sec\n",
      "train [20/100] {'priors': [0.2, 0.8]}........................... 0.06 sec\n",
      "train [21/100] {'priors': [0.21, 0.79]}........................... 0.05 sec\n",
      "train [22/100] {'priors': [0.22, 0.78]}........................... 0.04 sec\n",
      "train [23/100] {'priors': [0.23, 0.77]}........................... 0.05 sec\n",
      "train [24/100] {'priors': [0.24, 0.76]}........................... 0.05 sec\n",
      "train [25/100] {'priors': [0.25, 0.75]}........................... 0.05 sec\n",
      "train [26/100] {'priors': [0.26, 0.74]}........................... 0.07 sec\n",
      "train [27/100] {'priors': [0.27, 0.73]}........................... 0.05 sec\n",
      "train [28/100] {'priors': [0.28, 0.72]}........................... 0.05 sec\n",
      "train [29/100] {'priors': [0.29, 0.71]}........................... 0.06 sec\n",
      "train [30/100] {'priors': [0.3, 0.7]}........................... 0.06 sec\n",
      "train [31/100] {'priors': [0.31, 0.69]}........................... 0.05 sec\n",
      "train [32/100] {'priors': [0.32, 0.68]}........................... 0.05 sec\n",
      "train [33/100] {'priors': [0.33, 0.67]}........................... 0.05 sec\n",
      "train [34/100] {'priors': [0.34, 0.66]}........................... 0.06 sec\n",
      "train [35/100] {'priors': [0.35, 0.65]}........................... 0.05 sec\n",
      "train [36/100] {'priors': [0.36, 0.64]}........................... 0.05 sec\n",
      "train [37/100] {'priors': [0.37, 0.63]}........................... 0.05 sec\n",
      "train [38/100] {'priors': [0.38, 0.62]}........................... 0.07 sec\n",
      "train [39/100] {'priors': [0.39, 0.61]}........................... 0.05 sec\n",
      "train [40/100] {'priors': [0.4, 0.6]}........................... 0.05 sec\n",
      "train [41/100] {'priors': [0.41, 0.59]}........................... 0.05 sec\n",
      "train [42/100] {'priors': [0.42, 0.58]}........................... 0.06 sec\n",
      "train [43/100] {'priors': [0.43, 0.57]}........................... 0.05 sec\n",
      "train [44/100] {'priors': [0.44, 0.56]}........................... 0.05 sec\n",
      "train [45/100] {'priors': [0.45, 0.55]}........................... 0.05 sec\n",
      "train [46/100] {'priors': [0.46, 0.54]}........................... 0.06 sec\n",
      "train [47/100] {'priors': [0.47, 0.53]}........................... 0.05 sec\n",
      "train [48/100] {'priors': [0.48, 0.52]}........................... 0.05 sec\n",
      "train [49/100] {'priors': [0.49, 0.51]}........................... 0.05 sec\n",
      "train [50/100] {'priors': [0.5, 0.5]}........................... 0.06 sec\n",
      "train [51/100] {'priors': [0.51, 0.49]}........................... 0.05 sec\n",
      "train [52/100] {'priors': [0.52, 0.48]}........................... 0.06 sec\n",
      "train [53/100] {'priors': [0.53, 0.47]}........................... 0.06 sec\n",
      "train [54/100] {'priors': [0.54, 0.46]}........................... 0.08 sec\n",
      "train [55/100] {'priors': [0.55, 0.45]}........................... 0.05 sec\n",
      "train [56/100] {'priors': [0.56, 0.44]}........................... 0.05 sec\n",
      "train [57/100] {'priors': [0.57, 0.43]}........................... 0.05 sec\n",
      "train [58/100] {'priors': [0.58, 0.42]}........................... 0.06 sec\n",
      "train [59/100] {'priors': [0.59, 0.41]}........................... 0.05 sec\n",
      "train [60/100] {'priors': [0.6, 0.4]}........................... 0.05 sec\n",
      "train [61/100] {'priors': [0.61, 0.39]}........................... 0.05 sec\n",
      "train [62/100] {'priors': [0.62, 0.38]}........................... 0.06 sec\n",
      "train [63/100] {'priors': [0.63, 0.37]}........................... 0.05 sec\n",
      "train [64/100] {'priors': [0.64, 0.36]}........................... 0.05 sec\n",
      "train [65/100] {'priors': [0.65, 0.35]}........................... 0.05 sec\n",
      "train [66/100] {'priors': [0.66, 0.34]}........................... 0.06 sec\n",
      "train [67/100] {'priors': [0.67, 0.33]}........................... 0.06 sec\n",
      "train [68/100] {'priors': [0.68, 0.32]}........................... 0.04 sec\n",
      "train [69/100] {'priors': [0.69, 0.31]}........................... 0.05 sec\n",
      "train [70/100] {'priors': [0.7, 0.3]}........................... 0.06 sec\n",
      "train [71/100] {'priors': [0.71, 0.29]}........................... 0.06 sec\n",
      "train [72/100] {'priors': [0.72, 0.28]}........................... 0.05 sec\n",
      "train [73/100] {'priors': [0.73, 0.27]}........................... 0.05 sec\n",
      "train [74/100] {'priors': [0.74, 0.26]}........................... 0.05 sec\n",
      "train [75/100] {'priors': [0.75, 0.25]}........................... 0.06 sec\n",
      "train [76/100] {'priors': [0.76, 0.24]}........................... 0.05 sec\n",
      "train [77/100] {'priors': [0.77, 0.23]}........................... 0.04 sec\n",
      "train [78/100] {'priors': [0.78, 0.22]}........................... 0.06 sec\n",
      "train [79/100] {'priors': [0.79, 0.21]}........................... 0.06 sec\n",
      "train [80/100] {'priors': [0.8, 0.2]}........................... 0.05 sec\n",
      "train [81/100] {'priors': [0.81, 0.19]}........................... 0.05 sec\n",
      "train [82/100] {'priors': [0.82, 0.18]}........................... 0.05 sec\n",
      "train [83/100] {'priors': [0.83, 0.17]}........................... 0.06 sec\n",
      "train [84/100] {'priors': [0.84, 0.16]}........................... 0.06 sec\n",
      "train [85/100] {'priors': [0.85, 0.15]}........................... 0.05 sec\n",
      "train [86/100] {'priors': [0.86, 0.14]}........................... 0.05 sec\n",
      "train [87/100] {'priors': [0.87, 0.13]}........................... 0.05 sec\n",
      "train [88/100] {'priors': [0.88, 0.12]}........................... 0.06 sec\n",
      "train [89/100] {'priors': [0.89, 0.11]}........................... 0.06 sec\n",
      "train [90/100] {'priors': [0.9, 0.1]}........................... 0.05 sec\n",
      "train [91/100] {'priors': [0.91, 0.09]}........................... 0.05 sec\n",
      "train [92/100] {'priors': [0.92, 0.08]}........................... 0.08 sec\n",
      "train [93/100] {'priors': [0.93, 0.07]}........................... 0.06 sec\n",
      "train [94/100] {'priors': [0.94, 0.06]}........................... 0.05 sec\n",
      "train [95/100] {'priors': [0.95, 0.05]}........................... 0.05 sec\n",
      "train [96/100] {'priors': [0.96, 0.04]}........................... 0.06 sec\n",
      "train [97/100] {'priors': [0.97, 0.03]}........................... 0.05 sec\n",
      "train [98/100] {'priors': [0.98, 0.02]}........................... 0.05 sec\n",
      "train [99/100] {'priors': [0.99, 0.01]}........................... 0.05 sec\n"
     ]
    }
   ],
   "source": [
    "import time\n",
    "from modeling.gridsearch import GridSearch\n",
    "from sklearn.naive_bayes import GaussianNB\n",
    "from sklearn.externals import joblib\n",
    "\n",
    "\n",
    "priors = [[i/100, (100 - i) / 100] for i in range(1, 100)]\n",
    "\n",
    "params_to_train = {\n",
    "    'priors': [None] + priors\n",
    "}\n",
    "\n",
    "grid_search = GridSearch(GaussianNB, params_to_train)\n",
    "grid_search.fit_all(X_train, y_train)\n",
    "\n",
    "path = \"D:\\\\Dropbox\\\\My work\\\\krypl-project\\\\models\\\\return-01-within-day\\\\\"\n",
    "joblib.dump(grid_search, f'{path}\\\\bayes_search.pkl');"
   ]
  },
  {
   "cell_type": "code",
   "execution_count": 43,
   "metadata": {
    "collapsed": false
   },
   "outputs": [],
   "source": []
  },
  {
   "cell_type": "code",
   "execution_count": null,
   "metadata": {
    "collapsed": true
   },
   "outputs": [],
   "source": []
  }
 ],
 "metadata": {
  "kernelspec": {
   "display_name": "Python 3.6 (crypto36)",
   "language": "python",
   "name": "crypto36"
  },
  "language_info": {
   "codemirror_mode": {
    "name": "ipython",
    "version": 3
   },
   "file_extension": ".py",
   "mimetype": "text/x-python",
   "name": "python",
   "nbconvert_exporter": "python",
   "pygments_lexer": "ipython3",
   "version": "3.6.5"
  }
 },
 "nbformat": 4,
 "nbformat_minor": 2
}
