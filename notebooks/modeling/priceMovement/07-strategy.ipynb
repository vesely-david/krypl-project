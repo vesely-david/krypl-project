{
 "cells": [
  {
   "cell_type": "code",
   "execution_count": 2,
   "metadata": {
    "collapsed": false
   },
   "outputs": [],
   "source": [
    "%run ../../utils/commonImports.py\n",
    "%run ../../utils/tradingImports.py\n",
    "%matplotlib inline"
   ]
  },
  {
   "cell_type": "markdown",
   "metadata": {
    "collapsed": true
   },
   "source": [
    "# Load Data"
   ]
  },
  {
   "cell_type": "code",
   "execution_count": 4,
   "metadata": {
    "collapsed": false
   },
   "outputs": [],
   "source": [
    "file = 'D:\\\\Dropbox\\\\My work\\\\krypl-project\\\\dataFeatures\\\\return-01-loss-01-within-day.tsv'\n",
    "data = read_tsv(file)\n",
    "features = ['return', 'return_1', 'return_2','zscore_36_return', 'zscore_288_return', 'pma36', 'ma_12_108','ma_36_288', \n",
    "            'ac36', 'ac288', 'zscore_36_volume', 'zscore_288_volume','zscore_2016_volume', \n",
    "            'vol36', 'vol288', 'vol2016', 'dv_36_288']\n",
    "\n",
    "# features = ['vol2016', 'ac288', 'vol288', 'ac36', 'return', 'dv_36_288']\n",
    "data_manager = CurrencyDataManager(data['close'], data[features])\n",
    "wallet = {'usdt': 1000}\n",
    "contract_pair = ContractPair.new('usdt', 'btc')"
   ]
  },
  {
   "cell_type": "markdown",
   "metadata": {},
   "source": [
    "# Load Model"
   ]
  },
  {
   "cell_type": "code",
   "execution_count": 5,
   "metadata": {
    "collapsed": false
   },
   "outputs": [
    {
     "data": {
      "text/plain": [
       "'2017-01-01 00:00:00'"
      ]
     },
     "execution_count": 5,
     "metadata": {},
     "output_type": "execute_result"
    }
   ],
   "source": [
    "data['date'].min()"
   ]
  },
  {
   "cell_type": "code",
   "execution_count": 6,
   "metadata": {
    "collapsed": false
   },
   "outputs": [
    {
     "data": {
      "text/plain": [
       "'2018-07-13 21:50:00'"
      ]
     },
     "execution_count": 6,
     "metadata": {},
     "output_type": "execute_result"
    }
   ],
   "source": [
    "data['date'].max()"
   ]
  },
  {
   "cell_type": "code",
   "execution_count": 7,
   "metadata": {
    "collapsed": true
   },
   "outputs": [],
   "source": [
    "from sklearn.externals import joblib\n",
    "from modeling.gridsearch import GridSearch\n",
    "\n",
    "path = \"D:\\\\Dropbox\\\\My work\\\\krypl-project\\\\models\\\\return-01-loss-01-within-day\"\n",
    "clf = joblib.load(f'{path}\\\\tree_selected_01.pkl')"
   ]
  },
  {
   "cell_type": "markdown",
   "metadata": {},
   "source": [
    "# Implementation"
   ]
  },
  {
   "cell_type": "code",
   "execution_count": 8,
   "metadata": {
    "collapsed": true
   },
   "outputs": [],
   "source": [
    "from modeling.strategy import Strategy\n",
    "\n",
    "class HoldStrategy(Strategy):\n",
    "    def __init__(self, exchange, data_manager, contract_pair, trade_size):\n",
    "        super().__init__(exchange, data_manager, contract_pair, trade_size, 0., 0.)    \n",
    "    \n",
    "    def trade(self):\n",
    "        while self.data_manager.has_tick():            \n",
    "            history, price = self.data_manager.tick(1)\n",
    "            \n",
    "            if history.shape[0] == 0:\n",
    "                self.buy(price)\n",
    "            else:\n",
    "                continue\n",
    "        \n",
    "        if self.opened:\n",
    "            self.sell_all(price)"
   ]
  },
  {
   "cell_type": "code",
   "execution_count": 20,
   "metadata": {
    "collapsed": true
   },
   "outputs": [],
   "source": [
    "from modeling.strategy import Strategy\n",
    "\n",
    "\n",
    "class MachineLearningStrategy(Strategy):\n",
    "    def __init__(self, exchange, data_manager, contract_pair, trade_size, willing_loss, target_profit, clf, max_hold_time):\n",
    "        super().__init__(exchange, data_manager, contract_pair, trade_size, willing_loss, target_profit)\n",
    "        self.history_len = 1\n",
    "        self.max_hold_time = max_hold_time\n",
    "        self.clf = clf\n",
    "        self.consecutive = 0\n",
    "        self.last_prediction = 0\n",
    "    \n",
    "    def should_buy(self, history):\n",
    "        if self.trade_size >= self.exchange.wallet[contract_pair['priceContract']] * 1.1:\n",
    "            return False\n",
    "        \n",
    "        if bool(self.last_prediction):\n",
    "            self.consecutive += 1\n",
    "        else:\n",
    "            self.consecutive = 0\n",
    "        \n",
    "        self.last_prediction = self.clf.predict(history)[0]\n",
    "        return bool(self.last_prediction) and self.consecutive > 8\n",
    "    \n",
    "    def should_sell(self, hold):\n",
    "        return hold >= self.max_hold_time\n",
    "    \n",
    "    \n",
    "    def trade(self):\n",
    "        after_sell = False\n",
    "        hold = 0\n",
    "        while self.data_manager.has_tick():            \n",
    "            history, price = self.data_manager.tick(self.history_len)\n",
    "            \n",
    "            if history.shape[0] == 0:\n",
    "                continue\n",
    "            \n",
    "            if not self.opened and self.should_buy(history):\n",
    "                self.buy(price)\n",
    "                price_bought = price\n",
    "                hold = 0\n",
    "            elif self.opened and self.is_risky(price_bought, price):\n",
    "                self.sell_all(price)\n",
    "                after_sell = True\n",
    "                hold = 0\n",
    "            elif self.opened and self.is_target_satisfied(price_bought, price):\n",
    "                self.sell_all(price)\n",
    "                after_sell = True\n",
    "                hold = 0\n",
    "            elif self.opened and self.should_sell(hold):\n",
    "                self.sell_all(price)\n",
    "                after_sell = True\n",
    "                hold = 0\n",
    "            \n",
    "            if self.opened:\n",
    "                hold += 1\n",
    "        \n",
    "        if self.opened:\n",
    "            self.sell_all(price)"
   ]
  },
  {
   "cell_type": "code",
   "execution_count": 15,
   "metadata": {
    "collapsed": true
   },
   "outputs": [],
   "source": [
    "def hold_stats(data_manager_p):\n",
    "    data_manager = deepcopy(data_manager_p)\n",
    "    exchange = BackTestExchange(data_manager, deepcopy(wallet), 0.0025)\n",
    "    strategy = HoldStrategy(exchange, data_manager, contract_pair, 100)\n",
    "    strategy.trade()\n",
    "    return strategy.stats('usdt').report()"
   ]
  },
  {
   "cell_type": "markdown",
   "metadata": {},
   "source": [
    "# Trading"
   ]
  },
  {
   "cell_type": "code",
   "execution_count": 16,
   "metadata": {
    "collapsed": false
   },
   "outputs": [
    {
     "data": {
      "text/html": [
       "<div>\n",
       "<style scoped>\n",
       "    .dataframe tbody tr th:only-of-type {\n",
       "        vertical-align: middle;\n",
       "    }\n",
       "\n",
       "    .dataframe tbody tr th {\n",
       "        vertical-align: top;\n",
       "    }\n",
       "\n",
       "    .dataframe thead th {\n",
       "        text-align: right;\n",
       "    }\n",
       "</style>\n",
       "<table border=\"1\" class=\"dataframe\">\n",
       "  <thead>\n",
       "    <tr style=\"text-align: right;\">\n",
       "      <th></th>\n",
       "      <th>usdt</th>\n",
       "    </tr>\n",
       "  </thead>\n",
       "  <tbody>\n",
       "    <tr>\n",
       "      <th>startAmount</th>\n",
       "      <td>1,000.0000</td>\n",
       "    </tr>\n",
       "    <tr>\n",
       "      <th>numberOfTrades</th>\n",
       "      <td>1.0000</td>\n",
       "    </tr>\n",
       "    <tr>\n",
       "      <th>totalProfit</th>\n",
       "      <td>539.2261</td>\n",
       "    </tr>\n",
       "    <tr>\n",
       "      <th>avgProfit</th>\n",
       "      <td>539.2261</td>\n",
       "    </tr>\n",
       "    <tr>\n",
       "      <th>winPercentage</th>\n",
       "      <td>100.0000</td>\n",
       "    </tr>\n",
       "    <tr>\n",
       "      <th>avgWinTrade</th>\n",
       "      <td>539.2261</td>\n",
       "    </tr>\n",
       "    <tr>\n",
       "      <th>avgLossTrade</th>\n",
       "      <td>0.0000</td>\n",
       "    </tr>\n",
       "    <tr>\n",
       "      <th>profitFactor</th>\n",
       "      <td>inf</td>\n",
       "    </tr>\n",
       "    <tr>\n",
       "      <th>maxDrawdown</th>\n",
       "      <td>0.0000</td>\n",
       "    </tr>\n",
       "  </tbody>\n",
       "</table>\n",
       "</div>"
      ],
      "text/plain": [
       "                     usdt\n",
       "startAmount    1,000.0000\n",
       "numberOfTrades     1.0000\n",
       "totalProfit      539.2261\n",
       "avgProfit        539.2261\n",
       "winPercentage    100.0000\n",
       "avgWinTrade      539.2261\n",
       "avgLossTrade       0.0000\n",
       "profitFactor          inf\n",
       "maxDrawdown        0.0000"
      ]
     },
     "execution_count": 16,
     "metadata": {},
     "output_type": "execute_result"
    }
   ],
   "source": [
    "hold_stats_train = hold_stats(data_manager)\n",
    "hold_stats_train"
   ]
  },
  {
   "cell_type": "code",
   "execution_count": 21,
   "metadata": {
    "collapsed": false,
    "scrolled": true
   },
   "outputs": [
    {
     "data": {
      "text/html": [
       "<div>\n",
       "<style scoped>\n",
       "    .dataframe tbody tr th:only-of-type {\n",
       "        vertical-align: middle;\n",
       "    }\n",
       "\n",
       "    .dataframe tbody tr th {\n",
       "        vertical-align: top;\n",
       "    }\n",
       "\n",
       "    .dataframe thead th {\n",
       "        text-align: right;\n",
       "    }\n",
       "</style>\n",
       "<table border=\"1\" class=\"dataframe\">\n",
       "  <thead>\n",
       "    <tr style=\"text-align: right;\">\n",
       "      <th></th>\n",
       "      <th>usdt</th>\n",
       "    </tr>\n",
       "  </thead>\n",
       "  <tbody>\n",
       "    <tr>\n",
       "      <th>startAmount</th>\n",
       "      <td>1,000.0000</td>\n",
       "    </tr>\n",
       "    <tr>\n",
       "      <th>numberOfTrades</th>\n",
       "      <td>1,862.0000</td>\n",
       "    </tr>\n",
       "    <tr>\n",
       "      <th>totalProfit</th>\n",
       "      <td>429.8244</td>\n",
       "    </tr>\n",
       "    <tr>\n",
       "      <th>avgProfit</th>\n",
       "      <td>0.2308</td>\n",
       "    </tr>\n",
       "    <tr>\n",
       "      <th>winPercentage</th>\n",
       "      <td>58.8614</td>\n",
       "    </tr>\n",
       "    <tr>\n",
       "      <th>avgWinTrade</th>\n",
       "      <td>1.2567</td>\n",
       "    </tr>\n",
       "    <tr>\n",
       "      <th>avgLossTrade</th>\n",
       "      <td>-1.2370</td>\n",
       "    </tr>\n",
       "    <tr>\n",
       "      <th>profitFactor</th>\n",
       "      <td>1.4536</td>\n",
       "    </tr>\n",
       "    <tr>\n",
       "      <th>maxDrawdown</th>\n",
       "      <td>5.3261</td>\n",
       "    </tr>\n",
       "  </tbody>\n",
       "</table>\n",
       "</div>"
      ],
      "text/plain": [
       "                     usdt\n",
       "startAmount    1,000.0000\n",
       "numberOfTrades 1,862.0000\n",
       "totalProfit      429.8244\n",
       "avgProfit          0.2308\n",
       "winPercentage     58.8614\n",
       "avgWinTrade        1.2567\n",
       "avgLossTrade      -1.2370\n",
       "profitFactor       1.4536\n",
       "maxDrawdown        5.3261"
      ]
     },
     "execution_count": 21,
     "metadata": {},
     "output_type": "execute_result"
    }
   ],
   "source": [
    "DAY = (60 / 5) * 24\n",
    "dm = deepcopy(data_manager)\n",
    "exchange = BackTestExchange(dm, deepcopy(wallet), 0.0025)\n",
    "strategy = MachineLearningStrategy(exchange, dm, contract_pair, 100, willing_loss=0.01, target_profit=0.01, clf=clf, max_hold_time=DAY)\n",
    "strategy.trade()\n",
    "r = strategy.stats('usdt').report()\n",
    "r"
   ]
  },
  {
   "cell_type": "markdown",
   "metadata": {},
   "source": [
    "# Look on transactions"
   ]
  },
  {
   "cell_type": "code",
   "execution_count": 11,
   "metadata": {
    "collapsed": false
   },
   "outputs": [
    {
     "data": {
      "text/plain": [
       "1468"
      ]
     },
     "execution_count": 11,
     "metadata": {},
     "output_type": "execute_result"
    }
   ],
   "source": [
    "len(strategy.exchange.transactions)"
   ]
  },
  {
   "cell_type": "code",
   "execution_count": null,
   "metadata": {
    "collapsed": false,
    "scrolled": false
   },
   "outputs": [],
   "source": [
    "%matplotlib notebook\n",
    "plot_transactions(data.copy(), strategy.exchange.transactions[1100:1110])"
   ]
  },
  {
   "cell_type": "markdown",
   "metadata": {},
   "source": [
    "# Look on model predictions"
   ]
  },
  {
   "cell_type": "code",
   "execution_count": null,
   "metadata": {
    "collapsed": false
   },
   "outputs": [],
   "source": [
    "look_data = data.copy()\n",
    "look_data['prediction'] = clf.predict(data[features])\n",
    "\n",
    "restricted = look_data.iloc[:, :].reset_index()\n",
    "plot_candles(restricted)\n",
    "\n",
    "trues = restricted.query('prediction == 1')\n",
    "plt.scatter(trues.index, trues['prediction'] * trues['close']);"
   ]
  },
  {
   "cell_type": "code",
   "execution_count": null,
   "metadata": {
    "collapsed": true
   },
   "outputs": [],
   "source": []
  }
 ],
 "metadata": {
  "kernelspec": {
   "display_name": "Python 3.6 (crypto36)",
   "language": "python",
   "name": "crypto36"
  },
  "language_info": {
   "codemirror_mode": {
    "name": "ipython",
    "version": 3
   },
   "file_extension": ".py",
   "mimetype": "text/x-python",
   "name": "python",
   "nbconvert_exporter": "python",
   "pygments_lexer": "ipython3",
   "version": "3.6.5"
  }
 },
 "nbformat": 4,
 "nbformat_minor": 2
}
