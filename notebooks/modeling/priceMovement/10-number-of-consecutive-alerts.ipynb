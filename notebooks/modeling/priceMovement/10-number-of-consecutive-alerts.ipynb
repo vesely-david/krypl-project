{
 "cells": [
  {
   "cell_type": "code",
   "execution_count": 1,
   "metadata": {
    "collapsed": true
   },
   "outputs": [],
   "source": [
    "%run ./../../utils/commonImports.py\n",
    "%run ./../../utils/tradingImports.py\n",
    "%matplotlib inline"
   ]
  },
  {
   "cell_type": "markdown",
   "metadata": {
    "collapsed": true
   },
   "source": [
    "# Load data"
   ]
  },
  {
   "cell_type": "code",
   "execution_count": 5,
   "metadata": {
    "collapsed": false
   },
   "outputs": [
    {
     "data": {
      "text/html": [
       "<div>\n",
       "<style scoped>\n",
       "    .dataframe tbody tr th:only-of-type {\n",
       "        vertical-align: middle;\n",
       "    }\n",
       "\n",
       "    .dataframe tbody tr th {\n",
       "        vertical-align: top;\n",
       "    }\n",
       "\n",
       "    .dataframe thead th {\n",
       "        text-align: right;\n",
       "    }\n",
       "</style>\n",
       "<table border=\"1\" class=\"dataframe\">\n",
       "  <thead>\n",
       "    <tr style=\"text-align: right;\">\n",
       "      <th></th>\n",
       "      <th>timestamp</th>\n",
       "      <th>period</th>\n",
       "      <th>open</th>\n",
       "      <th>high</th>\n",
       "      <th>low</th>\n",
       "      <th>close</th>\n",
       "      <th>volume</th>\n",
       "      <th>quoteVolume</th>\n",
       "      <th>weightedAverage</th>\n",
       "      <th>date</th>\n",
       "      <th>maxReturn</th>\n",
       "      <th>tillMax</th>\n",
       "      <th>minReturn</th>\n",
       "      <th>label</th>\n",
       "    </tr>\n",
       "  </thead>\n",
       "  <tbody>\n",
       "    <tr>\n",
       "      <th>0</th>\n",
       "      <td>1483225200</td>\n",
       "      <td>5min</td>\n",
       "      <td>964.0000</td>\n",
       "      <td>964.0000</td>\n",
       "      <td>964.0000</td>\n",
       "      <td>964.0000</td>\n",
       "      <td>3.7374</td>\n",
       "      <td>0.0039</td>\n",
       "      <td>964.0000</td>\n",
       "      <td>2017-01-01 00:00:00</td>\n",
       "      <td>0.0109</td>\n",
       "      <td>142</td>\n",
       "      <td>-0.0072</td>\n",
       "      <td>True</td>\n",
       "    </tr>\n",
       "    <tr>\n",
       "      <th>1</th>\n",
       "      <td>1483225500</td>\n",
       "      <td>5min</td>\n",
       "      <td>962.8600</td>\n",
       "      <td>962.8600</td>\n",
       "      <td>962.8600</td>\n",
       "      <td>962.8600</td>\n",
       "      <td>74.4955</td>\n",
       "      <td>0.0774</td>\n",
       "      <td>962.8600</td>\n",
       "      <td>2017-01-01 00:05:00</td>\n",
       "      <td>0.0121</td>\n",
       "      <td>141</td>\n",
       "      <td>-0.0061</td>\n",
       "      <td>True</td>\n",
       "    </tr>\n",
       "    <tr>\n",
       "      <th>2</th>\n",
       "      <td>1483225800</td>\n",
       "      <td>5min</td>\n",
       "      <td>964.0000</td>\n",
       "      <td>964.0000</td>\n",
       "      <td>962.8600</td>\n",
       "      <td>962.8600</td>\n",
       "      <td>273.3070</td>\n",
       "      <td>0.2837</td>\n",
       "      <td>963.2768</td>\n",
       "      <td>2017-01-01 00:10:00</td>\n",
       "      <td>0.0121</td>\n",
       "      <td>140</td>\n",
       "      <td>-0.0061</td>\n",
       "      <td>True</td>\n",
       "    </tr>\n",
       "    <tr>\n",
       "      <th>3</th>\n",
       "      <td>1483226100</td>\n",
       "      <td>5min</td>\n",
       "      <td>964.0000</td>\n",
       "      <td>964.0000</td>\n",
       "      <td>964.0000</td>\n",
       "      <td>964.0000</td>\n",
       "      <td>69.1332</td>\n",
       "      <td>0.0717</td>\n",
       "      <td>964.0000</td>\n",
       "      <td>2017-01-01 00:15:00</td>\n",
       "      <td>0.0109</td>\n",
       "      <td>139</td>\n",
       "      <td>-0.0072</td>\n",
       "      <td>True</td>\n",
       "    </tr>\n",
       "    <tr>\n",
       "      <th>4</th>\n",
       "      <td>1483226400</td>\n",
       "      <td>5min</td>\n",
       "      <td>964.0000</td>\n",
       "      <td>965.0000</td>\n",
       "      <td>962.8600</td>\n",
       "      <td>965.0000</td>\n",
       "      <td>3,050.4950</td>\n",
       "      <td>3.1637</td>\n",
       "      <td>964.2074</td>\n",
       "      <td>2017-01-01 00:20:00</td>\n",
       "      <td>0.0106</td>\n",
       "      <td>139</td>\n",
       "      <td>-0.0083</td>\n",
       "      <td>True</td>\n",
       "    </tr>\n",
       "  </tbody>\n",
       "</table>\n",
       "</div>"
      ],
      "text/plain": [
       "    timestamp period     open     high      low    close     volume  \\\n",
       "0  1483225200   5min 964.0000 964.0000 964.0000 964.0000     3.7374   \n",
       "1  1483225500   5min 962.8600 962.8600 962.8600 962.8600    74.4955   \n",
       "2  1483225800   5min 964.0000 964.0000 962.8600 962.8600   273.3070   \n",
       "3  1483226100   5min 964.0000 964.0000 964.0000 964.0000    69.1332   \n",
       "4  1483226400   5min 964.0000 965.0000 962.8600 965.0000 3,050.4950   \n",
       "\n",
       "   quoteVolume  weightedAverage                 date  maxReturn  tillMax  \\\n",
       "0       0.0039         964.0000  2017-01-01 00:00:00     0.0109      142   \n",
       "1       0.0774         962.8600  2017-01-01 00:05:00     0.0121      141   \n",
       "2       0.2837         963.2768  2017-01-01 00:10:00     0.0121      140   \n",
       "3       0.0717         964.0000  2017-01-01 00:15:00     0.0109      139   \n",
       "4       3.1637         964.2074  2017-01-01 00:20:00     0.0106      139   \n",
       "\n",
       "   minReturn  label  \n",
       "0    -0.0072   True  \n",
       "1    -0.0061   True  \n",
       "2    -0.0061   True  \n",
       "3    -0.0072   True  \n",
       "4    -0.0083   True  "
      ]
     },
     "execution_count": 5,
     "metadata": {},
     "output_type": "execute_result"
    }
   ],
   "source": [
    "df = read_tsv('D:\\\\Dropbox\\\\My work\\\\krypl-project\\\\dataLabeled\\\\return-01-within-day.tsv')\n",
    "df.head()"
   ]
  },
  {
   "cell_type": "markdown",
   "metadata": {
    "collapsed": false
   },
   "source": [
    "# Consecutive points with true label"
   ]
  },
  {
   "cell_type": "code",
   "execution_count": 13,
   "metadata": {
    "collapsed": false
   },
   "outputs": [],
   "source": [
    "consecutive_trues = [0] * len(df)\n",
    "for i in range(1, len(df)):\n",
    "    row = df.iloc[i, :]\n",
    "    if  row['label']:\n",
    "        consecutive_trues[i] = consecutive_trues[i-1] + 1\n",
    "\n",
    "df['consecutiveTrues'] = consecutive_trues"
   ]
  },
  {
   "cell_type": "code",
   "execution_count": 26,
   "metadata": {
    "collapsed": false,
    "scrolled": true
   },
   "outputs": [
    {
     "name": "stderr",
     "output_type": "stream",
     "text": [
      "C:\\Anaconda3\\envs\\crypto36\\lib\\site-packages\\matplotlib\\axes\\_axes.py:6462: UserWarning: The 'normed' kwarg is deprecated, and has been replaced by the 'density' kwarg.\n",
      "  warnings.warn(\"The 'normed' kwarg is deprecated, and has been \"\n"
     ]
    },
    {
     "data": {
      "text/plain": [
       "<matplotlib.axes._subplots.AxesSubplot at 0x203bb78f7b8>"
      ]
     },
     "execution_count": 26,
     "metadata": {},
     "output_type": "execute_result"
    },
    {
     "data": {
      "image/png": "[encoded data removed]",
      "text/plain": [
       "<Figure size 864x432 with 1 Axes>"
      ]
     },
     "metadata": {},
     "output_type": "display_data"
    }
   ],
   "source": [
    "plt.figure(figsize=[12, 6])\n",
    "df_true = df[df['label'] == True]\n",
    "sns.distplot(df_true['consecutiveTrues'], bins=100, kde=False, norm_hist=True)"
   ]
  },
  {
   "cell_type": "code",
   "execution_count": null,
   "metadata": {
    "collapsed": true
   },
   "outputs": [],
   "source": []
  }
 ],
 "metadata": {
  "kernelspec": {
   "display_name": "Python 3.6 (crypto36)",
   "language": "python",
   "name": "crypto36"
  },
  "language_info": {
   "codemirror_mode": {
    "name": "ipython",
    "version": 3
   },
   "file_extension": ".py",
   "mimetype": "text/x-python",
   "name": "python",
   "nbconvert_exporter": "python",
   "pygments_lexer": "ipython3",
   "version": "3.6.5"
  }
 },
 "nbformat": 4,
 "nbformat_minor": 2
}
