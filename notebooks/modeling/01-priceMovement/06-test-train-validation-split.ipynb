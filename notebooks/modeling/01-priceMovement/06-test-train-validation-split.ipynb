{
 "cells": [
  {
   "cell_type": "code",
   "execution_count": 3,
   "metadata": {},
   "outputs": [],
   "source": [
    "%run ../../utils/commonImports.py\n",
    "%matplotlib inline"
   ]
  },
  {
   "cell_type": "markdown",
   "metadata": {},
   "source": [
    "# Load Data"
   ]
  },
  {
   "cell_type": "code",
   "execution_count": 4,
   "metadata": {},
   "outputs": [],
   "source": [
    "data_split_root = 'D:\\\\Dropbox\\\\My work\\\\krypl-project\\\\dataSplit\\\\01-priceMovement'"
   ]
  },
  {
   "cell_type": "code",
   "execution_count": 5,
   "metadata": {},
   "outputs": [],
   "source": [
    "featuresRoot = 'D:\\\\Dropbox\\\\My work\\\\krypl-project\\\\dataFeatures'\n",
    "fileName = 'return-01-loss-max-01-within-day.tsv'\n",
    "featuresFile = f'{featuresRoot}\\\\{fileName}'\n",
    "featured = read_tsv(featuresFile).sort_values('timestamp')\n",
    "featured = reset_index_hard(featured)"
   ]
  },
  {
   "cell_type": "code",
   "execution_count": 6,
   "metadata": {},
   "outputs": [
    {
     "data": {
      "text/html": [
       "<div>\n",
       "<style scoped>\n",
       "    .dataframe tbody tr th:only-of-type {\n",
       "        vertical-align: middle;\n",
       "    }\n",
       "\n",
       "    .dataframe tbody tr th {\n",
       "        vertical-align: top;\n",
       "    }\n",
       "\n",
       "    .dataframe thead th {\n",
       "        text-align: right;\n",
       "    }\n",
       "</style>\n",
       "<table border=\"1\" class=\"dataframe\">\n",
       "  <thead>\n",
       "    <tr style=\"text-align: right;\">\n",
       "      <th></th>\n",
       "      <th>timestamp</th>\n",
       "      <th>period</th>\n",
       "      <th>open</th>\n",
       "      <th>high</th>\n",
       "      <th>low</th>\n",
       "      <th>close</th>\n",
       "      <th>volume</th>\n",
       "      <th>quoteVolume</th>\n",
       "      <th>weightedAverage</th>\n",
       "      <th>date</th>\n",
       "      <th>...</th>\n",
       "      <th>vma2016</th>\n",
       "      <th>ma_12_108</th>\n",
       "      <th>ma_36_288</th>\n",
       "      <th>ac36</th>\n",
       "      <th>ac288</th>\n",
       "      <th>vol36</th>\n",
       "      <th>vol288</th>\n",
       "      <th>vol2016</th>\n",
       "      <th>dv_36_288</th>\n",
       "      <th>dv_288_2016</th>\n",
       "    </tr>\n",
       "  </thead>\n",
       "  <tbody>\n",
       "    <tr>\n",
       "      <th>0</th>\n",
       "      <td>1424373000</td>\n",
       "      <td>5min</td>\n",
       "      <td>225.0000</td>\n",
       "      <td>225.0000</td>\n",
       "      <td>225.0000</td>\n",
       "      <td>225.0000</td>\n",
       "      <td>1.0000</td>\n",
       "      <td>0.0044</td>\n",
       "      <td>225.0000</td>\n",
       "      <td>2015-02-19 19:10:00</td>\n",
       "      <td>...</td>\n",
       "      <td>0.0000</td>\n",
       "      <td>0.0000</td>\n",
       "      <td>0.0000</td>\n",
       "      <td>0.0000</td>\n",
       "      <td>0.0000</td>\n",
       "      <td>0.0000</td>\n",
       "      <td>0.0000</td>\n",
       "      <td>0.0000</td>\n",
       "      <td>0.0000</td>\n",
       "      <td>0.0000</td>\n",
       "    </tr>\n",
       "    <tr>\n",
       "      <th>1</th>\n",
       "      <td>1424373300</td>\n",
       "      <td>5min</td>\n",
       "      <td>225.0000</td>\n",
       "      <td>225.0000</td>\n",
       "      <td>225.0000</td>\n",
       "      <td>225.0000</td>\n",
       "      <td>0.0000</td>\n",
       "      <td>0.0000</td>\n",
       "      <td>225.0000</td>\n",
       "      <td>2015-02-19 19:15:00</td>\n",
       "      <td>...</td>\n",
       "      <td>0.0000</td>\n",
       "      <td>0.0000</td>\n",
       "      <td>0.0000</td>\n",
       "      <td>0.0000</td>\n",
       "      <td>0.0000</td>\n",
       "      <td>0.0000</td>\n",
       "      <td>0.0000</td>\n",
       "      <td>0.0000</td>\n",
       "      <td>0.0000</td>\n",
       "      <td>0.0000</td>\n",
       "    </tr>\n",
       "    <tr>\n",
       "      <th>2</th>\n",
       "      <td>1424373600</td>\n",
       "      <td>5min</td>\n",
       "      <td>225.0000</td>\n",
       "      <td>225.0000</td>\n",
       "      <td>225.0000</td>\n",
       "      <td>225.0000</td>\n",
       "      <td>0.0000</td>\n",
       "      <td>0.0000</td>\n",
       "      <td>225.0000</td>\n",
       "      <td>2015-02-19 19:20:00</td>\n",
       "      <td>...</td>\n",
       "      <td>0.0000</td>\n",
       "      <td>0.0000</td>\n",
       "      <td>0.0000</td>\n",
       "      <td>0.0000</td>\n",
       "      <td>0.0000</td>\n",
       "      <td>0.0000</td>\n",
       "      <td>0.0000</td>\n",
       "      <td>0.0000</td>\n",
       "      <td>0.0000</td>\n",
       "      <td>0.0000</td>\n",
       "    </tr>\n",
       "    <tr>\n",
       "      <th>3</th>\n",
       "      <td>1424373900</td>\n",
       "      <td>5min</td>\n",
       "      <td>225.0000</td>\n",
       "      <td>225.0000</td>\n",
       "      <td>225.0000</td>\n",
       "      <td>225.0000</td>\n",
       "      <td>0.0000</td>\n",
       "      <td>0.0000</td>\n",
       "      <td>225.0000</td>\n",
       "      <td>2015-02-19 19:25:00</td>\n",
       "      <td>...</td>\n",
       "      <td>0.0000</td>\n",
       "      <td>0.0000</td>\n",
       "      <td>0.0000</td>\n",
       "      <td>0.0000</td>\n",
       "      <td>0.0000</td>\n",
       "      <td>0.0000</td>\n",
       "      <td>0.0000</td>\n",
       "      <td>0.0000</td>\n",
       "      <td>0.0000</td>\n",
       "      <td>0.0000</td>\n",
       "    </tr>\n",
       "    <tr>\n",
       "      <th>4</th>\n",
       "      <td>1424374200</td>\n",
       "      <td>5min</td>\n",
       "      <td>225.0000</td>\n",
       "      <td>225.0000</td>\n",
       "      <td>225.0000</td>\n",
       "      <td>225.0000</td>\n",
       "      <td>0.0000</td>\n",
       "      <td>0.0000</td>\n",
       "      <td>225.0000</td>\n",
       "      <td>2015-02-19 19:30:00</td>\n",
       "      <td>...</td>\n",
       "      <td>0.0000</td>\n",
       "      <td>0.0000</td>\n",
       "      <td>0.0000</td>\n",
       "      <td>0.0000</td>\n",
       "      <td>0.0000</td>\n",
       "      <td>0.0000</td>\n",
       "      <td>0.0000</td>\n",
       "      <td>0.0000</td>\n",
       "      <td>0.0000</td>\n",
       "      <td>0.0000</td>\n",
       "    </tr>\n",
       "  </tbody>\n",
       "</table>\n",
       "<p>5 rows × 37 columns</p>\n",
       "</div>"
      ],
      "text/plain": [
       "    timestamp period     open     high      low    close  volume  quoteVolume  \\\n",
       "0  1424373000   5min 225.0000 225.0000 225.0000 225.0000  1.0000       0.0044   \n",
       "1  1424373300   5min 225.0000 225.0000 225.0000 225.0000  0.0000       0.0000   \n",
       "2  1424373600   5min 225.0000 225.0000 225.0000 225.0000  0.0000       0.0000   \n",
       "3  1424373900   5min 225.0000 225.0000 225.0000 225.0000  0.0000       0.0000   \n",
       "4  1424374200   5min 225.0000 225.0000 225.0000 225.0000  0.0000       0.0000   \n",
       "\n",
       "   weightedAverage                 date     ...       vma2016  ma_12_108  \\\n",
       "0         225.0000  2015-02-19 19:10:00     ...        0.0000     0.0000   \n",
       "1         225.0000  2015-02-19 19:15:00     ...        0.0000     0.0000   \n",
       "2         225.0000  2015-02-19 19:20:00     ...        0.0000     0.0000   \n",
       "3         225.0000  2015-02-19 19:25:00     ...        0.0000     0.0000   \n",
       "4         225.0000  2015-02-19 19:30:00     ...        0.0000     0.0000   \n",
       "\n",
       "   ma_36_288   ac36  ac288  vol36  vol288  vol2016  dv_36_288  dv_288_2016  \n",
       "0     0.0000 0.0000 0.0000 0.0000  0.0000   0.0000     0.0000       0.0000  \n",
       "1     0.0000 0.0000 0.0000 0.0000  0.0000   0.0000     0.0000       0.0000  \n",
       "2     0.0000 0.0000 0.0000 0.0000  0.0000   0.0000     0.0000       0.0000  \n",
       "3     0.0000 0.0000 0.0000 0.0000  0.0000   0.0000     0.0000       0.0000  \n",
       "4     0.0000 0.0000 0.0000 0.0000  0.0000   0.0000     0.0000       0.0000  \n",
       "\n",
       "[5 rows x 37 columns]"
      ]
     },
     "execution_count": 6,
     "metadata": {},
     "output_type": "execute_result"
    }
   ],
   "source": [
    "featured.head()"
   ]
  },
  {
   "cell_type": "code",
   "execution_count": 33,
   "metadata": {},
   "outputs": [],
   "source": []
  },
  {
   "cell_type": "markdown",
   "metadata": {},
   "source": [
    "# Split for modeling and strategy testing"
   ]
  },
  {
   "cell_type": "code",
   "execution_count": 18,
   "metadata": {},
   "outputs": [
    {
     "data": {
      "text/plain": [
       "'2018-10-05 13:15:00'"
      ]
     },
     "execution_count": 18,
     "metadata": {},
     "output_type": "execute_result"
    }
   ],
   "source": [
    "featured['date'].max()"
   ]
  },
  {
   "cell_type": "markdown",
   "metadata": {},
   "source": [
    "Need to be run in jupyter hub"
   ]
  },
  {
   "cell_type": "code",
   "execution_count": 29,
   "metadata": {},
   "outputs": [],
   "source": [
    "drop_cols = ['timestamp', 'period', 'open', 'high', 'low', 'close', 'volume',\n",
    "       'quoteVolume', 'weightedAverage', 'date', 'maxReturn', 'tillMax',\n",
    "       'minReturn', 'label']\n",
    "modeling_data = ModelingData(featured, drop_cols, '2016-06-01', '2017-10-05')"
   ]
  },
  {
   "cell_type": "code",
   "execution_count": 21,
   "metadata": {},
   "outputs": [],
   "source": []
  },
  {
   "cell_type": "code",
   "execution_count": null,
   "metadata": {
    "collapsed": true
   },
   "outputs": [],
   "source": []
  }
 ],
 "metadata": {
  "kernelspec": {
   "display_name": "Python 3",
   "language": "python",
   "name": "python3"
  },
  "language_info": {
   "codemirror_mode": {
    "name": "ipython",
    "version": 3
   },
   "file_extension": ".py",
   "mimetype": "text/x-python",
   "name": "python",
   "nbconvert_exporter": "python",
   "pygments_lexer": "ipython3",
   "version": "3.6.2"
  }
 },
 "nbformat": 4,
 "nbformat_minor": 2
}
