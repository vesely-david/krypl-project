{
 "cells": [
  {
   "cell_type": "markdown",
   "metadata": {},
   "source": [
    "# Conclusion\n",
    "\n",
    "Zvolene basic featury nejsou evidentne moc descriptivni. Model se ucivelice nahodne -> ma 67% precision, coz tak cca odpovida procentu labelu v datech.\n",
    "Pri pouziti modelu jako stretegii entry pointu dojde k velkemu prodelavani -> muzou za to velke mnozstvi FP, ktere prijdou pred velkym propadem.\n",
    "\n",
    "### Napady dale\n",
    "\n",
    "- Snazit se pochopit jednotlive featury na grafech\n",
    "- Zamyslet se nad kvalitnejsim labelovanim\n",
    "- Vyhlazeni casove rady (treba pomoci Savitzky Golay filteru)"
   ]
  },
  {
   "cell_type": "code",
   "execution_count": null,
   "metadata": {},
   "outputs": [],
   "source": []
  }
 ],
 "metadata": {
  "kernelspec": {
   "display_name": "Python 3.6 (crypto36)",
   "language": "python",
   "name": "crypto36"
  },
  "language_info": {
   "codemirror_mode": {
    "name": "ipython",
    "version": 3
   },
   "file_extension": ".py",
   "mimetype": "text/x-python",
   "name": "python",
   "nbconvert_exporter": "python",
   "pygments_lexer": "ipython3",
   "version": "3.6.5"
  }
 },
 "nbformat": 4,
 "nbformat_minor": 2
}
