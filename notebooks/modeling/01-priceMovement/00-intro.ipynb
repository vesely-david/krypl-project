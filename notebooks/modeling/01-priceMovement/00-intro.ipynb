{
 "cells": [
  {
   "cell_type": "markdown",
   "metadata": {},
   "source": [
    "# Price movement\n",
    "\n",
    "- Cil tohoto experimentu je zjednodusenne olabelovat data a pouzit klasicke ML modely, k nauceni modelu s vysokou precision.\n",
    "- Labelovani je pomoci metriky maximalniho returnu za den a zaroven maximalniho poklesu, nez dojde k naplneni maxima.\n",
    "- Body, ktere maji return vetsi nez 1% a zaroven neklesnou o vice nez 1% jsou olabelovany jako 1"
   ]
  },
  {
   "cell_type": "code",
   "execution_count": null,
   "metadata": {
    "collapsed": true
   },
   "outputs": [],
   "source": []
  }
 ],
 "metadata": {
  "kernelspec": {
   "display_name": "Python 3.6 (crypto36)",
   "language": "python",
   "name": "crypto36"
  },
  "language_info": {
   "codemirror_mode": {
    "name": "ipython",
    "version": 3
   },
   "file_extension": ".py",
   "mimetype": "text/x-python",
   "name": "python",
   "nbconvert_exporter": "python",
   "pygments_lexer": "ipython3",
   "version": "3.6.5"
  }
 },
 "nbformat": 4,
 "nbformat_minor": 2
}
