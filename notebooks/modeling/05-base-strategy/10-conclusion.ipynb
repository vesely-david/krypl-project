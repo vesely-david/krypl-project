{
 "cells": [
  {
   "cell_type": "markdown",
   "metadata": {},
   "source": [
    "# Conclusion\n",
    "\n",
    "Base strategy je urcite way to go, ale je potreba:\n",
    "    \n",
    "* vybrat jen top coiny, ktere se stabilne obchoduji\n",
    "* MultiStrategy musi byt komplexnejsi a ne jen N BaseStrategy najednou\n",
    "    \n",
    "\n",
    "Dale jsou to moznosti ke zlepseni:\n",
    "    \n",
    "* Pohyblivy stoploss\n",
    "* Ucit i multistrategy:\n",
    "    * max pocet obchodu\n",
    "    * s jakym procentem obchodovat"
   ]
  },
  {
   "cell_type": "code",
   "execution_count": null,
   "metadata": {},
   "outputs": [],
   "source": []
  }
 ],
 "metadata": {
  "kernelspec": {
   "display_name": "crypto36",
   "language": "python",
   "name": "crypto36"
  },
  "language_info": {
   "codemirror_mode": {
    "name": "ipython",
    "version": 3
   },
   "file_extension": ".py",
   "mimetype": "text/x-python",
   "name": "python",
   "nbconvert_exporter": "python",
   "pygments_lexer": "ipython3",
   "version": "3.6.8"
  }
 },
 "nbformat": 4,
 "nbformat_minor": 2
}
