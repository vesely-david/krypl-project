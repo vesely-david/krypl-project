{
 "cells": [
  {
   "cell_type": "code",
   "execution_count": 1,
   "metadata": {
    "collapsed": false
   },
   "outputs": [],
   "source": [
    "%run ../../utils/commonImports.py\n",
    "%run ../../utils/tradingImports.py\n",
    "%matplotlib inline\n",
    "\n",
    "from base import supres, BaseStrategy"
   ]
  },
  {
   "cell_type": "markdown",
   "metadata": {},
   "source": [
    "# Load Data"
   ]
  },
  {
   "cell_type": "code",
   "execution_count": 2,
   "metadata": {
    "collapsed": false
   },
   "outputs": [],
   "source": [
    "# dropbox_dir = 'D:\\\\Dropbox\\\\My work\\\\krypl-project'\n",
    "dropbox_dir = '/Users/david.vesely/Dropbox/My work/krypl-project'\n",
    "\n",
    "def read_data(pair):\n",
    "    db = os.path.join(dropbox_dir,'sqlite', 'ploniex-chart-data', f'{pair}.db')\n",
    "    data = load_trading_data(db, 'chart_data', from_date='2015-01-01', period='30min')\n",
    "    data['ohlc4'] = (data['open'] + data['close'] + data['high'] + data['low']) / 4\n",
    "    return data"
   ]
  },
  {
   "cell_type": "code",
   "execution_count": 5,
   "metadata": {},
   "outputs": [],
   "source": [
    "supports_for_data_dict = load_model('supports-for-data.pkl')"
   ]
  },
  {
   "cell_type": "code",
   "execution_count": 4,
   "metadata": {},
   "outputs": [],
   "source": [
    "features = ['support']"
   ]
  },
  {
   "cell_type": "code",
   "execution_count": 3,
   "metadata": {},
   "outputs": [],
   "source": [
    "train_pairs = pd.read_csv('pairs_train.tsv', header=None)[0].tolist()\n",
    "test_pairs = pd.read_csv('pairs_test.tsv', header=None)[0].tolist()\n",
    "all_pairs = pd.read_csv('pairs.tsv', header=None)[0].tolist()\n",
    "data_dict = {pair: read_data(pair) for pair in all_pairs}"
   ]
  },
  {
   "cell_type": "markdown",
   "metadata": {},
   "source": [
    "# Parallelize"
   ]
  },
  {
   "cell_type": "code",
   "execution_count": 6,
   "metadata": {},
   "outputs": [],
   "source": [
    "from multiprocessing import Pool\n",
    "import time\n",
    "from tqdm import *\n",
    "\n",
    "def run_parallel(f, args, n_process=10):\n",
    "    results = []\n",
    "    with Pool(processes=n_process) as p:\n",
    "        all_args = list(args)\n",
    "        with tqdm_notebook(enumerate(p.imap_unordered(f, all_args)), leave=False, total=len(all_args)) as pbar:\n",
    "            for i, x in pbar:\n",
    "                results.append(x)\n",
    "                pbar.update()\n",
    "                \n",
    "    return results"
   ]
  },
  {
   "cell_type": "code",
   "execution_count": 7,
   "metadata": {},
   "outputs": [],
   "source": [
    "def dict_from_list(l):\n",
    "    d = {}\n",
    "    for row in l:\n",
    "        d_inner = d\n",
    "        for k in row[:-2]:\n",
    "            if k not in d_inner.keys():\n",
    "                d_inner[k] = {}\n",
    "            d_inner = d_inner[k]\n",
    "        d_inner[row[-2]] = row[-1]\n",
    "    return d"
   ]
  },
  {
   "cell_type": "code",
   "execution_count": 8,
   "metadata": {},
   "outputs": [],
   "source": [
    "window_sizes = [4, 6, 8, 10, 12, 24, 30, 48]"
   ]
  },
  {
   "cell_type": "markdown",
   "metadata": {},
   "source": [
    "# Add Test Supports"
   ]
  },
  {
   "cell_type": "code",
   "execution_count": 74,
   "metadata": {},
   "outputs": [],
   "source": [
    "def get_supports(data, window_size):\n",
    "    supports, _ = supres(data['ohlc4'].values, window_size)\n",
    "    supports = pd.DataFrame(supports, columns=['index', 'support'])\n",
    "    support_vals = supports['support'].values\n",
    "    size = support_vals.shape[0]\n",
    "    _return = (support_vals[1:] / support_vals[:size-1]) - 1\n",
    "    _return = np.insert(_return, 0, 0)\n",
    "    supports['return1'] = _return\n",
    "    return supports"
   ]
  },
  {
   "cell_type": "code",
   "execution_count": null,
   "metadata": {},
   "outputs": [
    {
     "data": {
      "application/vnd.jupyter.widget-view+json": {
       "model_id": "0cf653b3ff694a6d9d3233890adaff6a",
       "version_major": 2,
       "version_minor": 0
      },
      "text/plain": [
       "HBox(children=(IntProgress(value=0, max=232), HTML(value='')))"
      ]
     },
     "metadata": {},
     "output_type": "display_data"
    }
   ],
   "source": [
    "from itertools import product\n",
    "\n",
    "def supports_f(args):\n",
    "    pair, window_size = args\n",
    "    return pair, window_size, get_supports(data_dict[pair], window_size)\n",
    "\n",
    "args = product(test_pairs, window_sizes)\n",
    "results = run_parallel(supports_f, args)\n",
    "supports_dict_test = dict_from_list(results)\n",
    "save_model(supports_dict_test, 'supports_test.pkl')"
   ]
  },
  {
   "cell_type": "markdown",
   "metadata": {},
   "source": [
    "# Data With Supports"
   ]
  },
  {
   "cell_type": "code",
   "execution_count": 9,
   "metadata": {},
   "outputs": [],
   "source": [
    "supports_dict_test = load_model('supports_test.pkl')"
   ]
  },
  {
   "cell_type": "code",
   "execution_count": 10,
   "metadata": {},
   "outputs": [
    {
     "data": {
      "application/vnd.jupyter.widget-view+json": {
       "model_id": "",
       "version_major": 2,
       "version_minor": 0
      },
      "text/plain": [
       "HBox(children=(IntProgress(value=0, max=232), HTML(value='')))"
      ]
     },
     "metadata": {},
     "output_type": "display_data"
    },
    {
     "name": "stdout",
     "output_type": "stream",
     "text": []
    }
   ],
   "source": [
    "from itertools import product\n",
    "\n",
    "def find_support(i, supports):\n",
    "    selected = supports[supports['index'] <= i]['support']\n",
    "    return None if len(selected) == 0 else selected.iloc[-1]\n",
    "\n",
    "\n",
    "def supports_f(args):\n",
    "    pair, window_size = args\n",
    "    supports = supports_dict_test[pair][window_size]\n",
    "    data = data_dict[pair]\n",
    "    s = [find_support(i, supports) for i in range(len(data))]\n",
    "    return pair, window_size, s\n",
    "\n",
    "args = product(test_pairs, window_sizes)\n",
    "results = run_parallel(supports_f, args)\n",
    "supports_for_data_dict_test = dict_from_list(results)\n",
    "save_model(supports_for_data_dict_test, 'supports-for-data-test.pkl')"
   ]
  },
  {
   "cell_type": "code",
   "execution_count": 12,
   "metadata": {},
   "outputs": [],
   "source": [
    "supports_for_data_dict_test = load_model('supports-for-data-test.pkl')\n",
    "supports_for_data_dict_train = load_model('supports-for-data.pkl')\n",
    "supports_for_data_dict = {**supports_for_data_dict_train, **supports_for_data_dict_test}"
   ]
  },
  {
   "cell_type": "code",
   "execution_count": 13,
   "metadata": {},
   "outputs": [],
   "source": []
  },
  {
   "cell_type": "code",
   "execution_count": null,
   "metadata": {},
   "outputs": [],
   "source": [
    "save_model(supports_for_data_dict, 'supports-for-data-all.pkl')"
   ]
  },
  {
   "cell_type": "code",
   "execution_count": null,
   "metadata": {},
   "outputs": [],
   "source": []
  }
 ],
 "metadata": {
  "kernelspec": {
   "display_name": "crypto36",
   "language": "python",
   "name": "crypto36"
  },
  "language_info": {
   "codemirror_mode": {
    "name": "ipython",
    "version": 3
   },
   "file_extension": ".py",
   "mimetype": "text/x-python",
   "name": "python",
   "nbconvert_exporter": "python",
   "pygments_lexer": "ipython3",
   "version": "3.6.8"
  }
 },
 "nbformat": 4,
 "nbformat_minor": 2
}
