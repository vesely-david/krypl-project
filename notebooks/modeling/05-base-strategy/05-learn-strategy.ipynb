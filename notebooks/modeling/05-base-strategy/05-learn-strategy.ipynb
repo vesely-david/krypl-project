{
 "cells": [
  {
   "cell_type": "code",
   "execution_count": 1,
   "metadata": {
    "collapsed": false
   },
   "outputs": [],
   "source": [
    "%run ../../utils/commonImports.py\n",
    "%run ../../utils/tradingImports.py\n",
    "%matplotlib inline\n",
    "\n",
    "from base import supres, BaseStrategy"
   ]
  },
  {
   "cell_type": "markdown",
   "metadata": {},
   "source": [
    "# Load Data"
   ]
  },
  {
   "cell_type": "code",
   "execution_count": 2,
   "metadata": {
    "collapsed": false
   },
   "outputs": [],
   "source": [
    "# dropbox_dir = 'D:\\\\Dropbox\\\\My work\\\\krypl-project'\n",
    "dropbox_dir = '/Users/david.vesely/Dropbox/My work/krypl-project'\n",
    "def read_data(pair):\n",
    "    db = os.path.join(dropbox_dir,'sqlite', 'ploniex-chart-data', f'{pair}.db')\n",
    "    data = load_trading_data(db, 'chart_data', from_date='2015-01-01', period='30min')\n",
    "    data['ohlc4'] = (data['open'] + data['close'] + data['high'] + data['low']) / 4\n",
    "    return data"
   ]
  },
  {
   "cell_type": "code",
   "execution_count": 3,
   "metadata": {},
   "outputs": [],
   "source": [
    "supports_dict = load_model('supports.pkl')\n",
    "features = ['support']"
   ]
  },
  {
   "cell_type": "markdown",
   "metadata": {},
   "source": [
    "# Parallelize"
   ]
  },
  {
   "cell_type": "code",
   "execution_count": 4,
   "metadata": {},
   "outputs": [],
   "source": [
    "from multiprocessing import Pool\n",
    "import time\n",
    "from tqdm import *\n",
    "\n",
    "def run_parallel(f, args, n_process=10):\n",
    "    results = []\n",
    "    with Pool(processes=n_process) as p:\n",
    "        all_args = list(args)\n",
    "        with tqdm_notebook(enumerate(p.imap_unordered(f, all_args)), leave=False, total=len(all_args)) as pbar:\n",
    "            for i, x in pbar:\n",
    "                results.append(x)\n",
    "                pbar.update()\n",
    "                \n",
    "    return results"
   ]
  },
  {
   "cell_type": "code",
   "execution_count": 5,
   "metadata": {},
   "outputs": [],
   "source": [
    "def dict_from_list(l):\n",
    "    d = {}\n",
    "    for row in l:\n",
    "        d_inner = d\n",
    "        for k in row[:-2]:\n",
    "            if k not in d_inner.keys():\n",
    "                d_inner[k] = {}\n",
    "            d_inner = d_inner[k]\n",
    "        d_inner[row[-2]] = row[-1]\n",
    "    return d"
   ]
  },
  {
   "cell_type": "markdown",
   "metadata": {},
   "source": [
    "# Experiment setup"
   ]
  },
  {
   "cell_type": "code",
   "execution_count": 6,
   "metadata": {},
   "outputs": [
    {
     "data": {
      "text/plain": [
       "210000"
      ]
     },
     "execution_count": 6,
     "metadata": {},
     "output_type": "execute_result"
    }
   ],
   "source": [
    "train_pairs = pd.read_csv('pairs_train.tsv', header=None)[0].tolist()\n",
    "window_sizes = [4, 6, 8, 12, 24, 30, 48]\n",
    "targets = list(np.linspace(0, 0.1, 11))[1:]\n",
    "stop_losses = list(np.linspace(0, 0.1, 11))[1:]\n",
    "returns = list(-np.linspace(0, 0.1, 11))[1:]\n",
    "\n",
    "loops = len(train_pairs) * len(window_sizes) * len(targets) * len(stop_losses) * len(returns)\n",
    "loops"
   ]
  },
  {
   "cell_type": "markdown",
   "metadata": {},
   "source": [
    "# Data With Supports"
   ]
  },
  {
   "cell_type": "code",
   "execution_count": 7,
   "metadata": {},
   "outputs": [],
   "source": [
    "data_dict = {pair: read_data(pair) for pair in train_pairs}"
   ]
  },
  {
   "cell_type": "code",
   "execution_count": null,
   "metadata": {},
   "outputs": [],
   "source": [
    "from itertools import product\n",
    "\n",
    "def find_support(i, supports):\n",
    "    selected = supports[supports['index'] <= i]['support']\n",
    "    return None if len(selected) == 0 else selected.iloc[-1]\n",
    "\n",
    "\n",
    "def supports_f(args):\n",
    "    pair, window_size = args\n",
    "    supports = supports_dict[pair][window_size]\n",
    "    data = data_dict[pair]\n",
    "    s = [find_support(i, supports) for i in range(len(data))]\n",
    "    return pair, window_size, s\n",
    "\n",
    "args = product(train_pairs, window_sizes)\n",
    "results = run_parallel(supports_f, args)\n",
    "supports_for_data_dict = dict_from_list(results)\n",
    "save_model(supports_for_data_dict, 'supports-for-data.pkl')"
   ]
  },
  {
   "cell_type": "markdown",
   "metadata": {},
   "source": [
    "# Try params"
   ]
  },
  {
   "cell_type": "code",
   "execution_count": 8,
   "metadata": {},
   "outputs": [],
   "source": [
    "supports_for_data_dict = load_model('supports-for-data.pkl')"
   ]
  },
  {
   "cell_type": "code",
   "execution_count": 12,
   "metadata": {},
   "outputs": [],
   "source": [
    "from itertools import product\n",
    "\n",
    "def trading_stats(data, pair, target, willing_loss, _return):\n",
    "    contract_pair = ContractPair.new(*[x.lower() for x in pair.split('_')])\n",
    "    dm = OhlcDataManager(data[['open', 'low', 'high', 'close']], data[features])\n",
    "    wallet = {'btc': 100}\n",
    "    exchange = BackTestExchange(dm, wallet, 0.0025)\n",
    "    strategy = BaseStrategy(exchange, \n",
    "                            dm, \n",
    "                            contract_pair, \n",
    "                            willing_loss=willing_loss, \n",
    "                            target_profit=target, \n",
    "                            target_return=_return)\n",
    "    strategy.trade()\n",
    "    strategy_stats = strategy.stats(contract_pair['priceContract']).report()\n",
    "    return strategy_stats\n",
    "\n",
    "\n",
    "def trading_stats_f(args):\n",
    "    pair, window_size, target, stop_loss, _return = args\n",
    "    \n",
    "    data = data_dict[pair]\n",
    "    data['support'] = supports_for_data_dict[pair][window_size]\n",
    "    data = reset_index_hard(data[data['date'] >= '2018-01-01'])\n",
    "    stats = trading_stats(data, pair, target, stop_loss, _return)\n",
    "    return pair, window_size, target, stop_loss, _return, stats"
   ]
  },
  {
   "cell_type": "code",
   "execution_count": 13,
   "metadata": {},
   "outputs": [
    {
     "data": {
      "application/vnd.jupyter.widget-view+json": {
       "model_id": "",
       "version_major": 2,
       "version_minor": 0
      },
      "text/plain": [
       "HBox(children=(IntProgress(value=0, max=210000), HTML(value='')))"
      ]
     },
     "metadata": {},
     "output_type": "display_data"
    },
    {
     "name": "stdout",
     "output_type": "stream",
     "text": []
    }
   ],
   "source": [
    "args = product(train_pairs, window_sizes, targets, stop_losses, returns)\n",
    "results = run_parallel(trading_stats_f, args)\n",
    "\n",
    "\n",
    "param_cols = ['pair', 'window_size', 'target', 'stop_loss', '_return']\n",
    "stats_cols = ['startAmount', 'numberOfTrades', 'totalProfit', 'avgProfit',\n",
    "    'winPercentage', 'avgWinTrade', 'avgLossTrade', 'profitFactor',\n",
    "    'maxDrawdown', 'avgTimeToClose', 'minTimeToClose', 'maxTimeToClose']\n",
    "\n",
    "result_df = pd.DataFrame(results, columns=param_cols+['stats'])\n",
    "\n",
    "for c in stats_cols:\n",
    "    result_df[c] = result_df['stats'].apply(lambda x: x.iloc[:, 0][c])\n",
    "    \n",
    "result_df = result_df.drop('stats', axis=1)\n",
    "\n",
    "rpath = os.path.join(dropbox_dir,'result', 'base-strategy-learn-03.tsv')\n",
    "write_tsv(result_df, rpath)"
   ]
  },
  {
   "cell_type": "code",
   "execution_count": null,
   "metadata": {},
   "outputs": [],
   "source": []
  }
 ],
 "metadata": {
  "kernelspec": {
   "display_name": "crypto36",
   "language": "python",
   "name": "crypto36"
  },
  "language_info": {
   "codemirror_mode": {
    "name": "ipython",
    "version": 3
   },
   "file_extension": ".py",
   "mimetype": "text/x-python",
   "name": "python",
   "nbconvert_exporter": "python",
   "pygments_lexer": "ipython3",
   "version": "3.6.8"
  }
 },
 "nbformat": 4,
 "nbformat_minor": 2
}
