{
 "cells": [
  {
   "cell_type": "code",
   "execution_count": 1,
   "metadata": {
    "collapsed": false
   },
   "outputs": [],
   "source": [
    "%run ../../utils/commonImports.py\n",
    "%run ../../utils/tradingImports.py\n",
    "%matplotlib inline\n",
    "\n",
    "from base import supres"
   ]
  },
  {
   "cell_type": "markdown",
   "metadata": {},
   "source": [
    "# Load Data"
   ]
  },
  {
   "cell_type": "code",
   "execution_count": 2,
   "metadata": {
    "collapsed": false
   },
   "outputs": [],
   "source": [
    "# dropbox_dir = 'D:\\\\Dropbox\\\\My work\\\\krypl-project'\n",
    "dropbox_dir = '/Users/david.vesely/Dropbox/My work/krypl-project'\n",
    "def read_data(pair):\n",
    "    db = os.path.join(dropbox_dir,'sqlite', 'ploniex-chart-data', f'{pair}.db')\n",
    "    data = load_trading_data(db, 'chart_data', from_date='2015-01-01', period='30min')\n",
    "    data['ohlc4'] = (data['open'] + data['close'] + data['high'] + data['low']) / 4\n",
    "    return data"
   ]
  },
  {
   "cell_type": "markdown",
   "metadata": {},
   "source": [
    "# Core functions"
   ]
  },
  {
   "cell_type": "code",
   "execution_count": 3,
   "metadata": {},
   "outputs": [],
   "source": [
    "def get_supports(data, window_size):\n",
    "    supports, _ = supres(data['ohlc4'].values, window_size)\n",
    "    supports = pd.DataFrame(supports, columns=['index', 'support'])\n",
    "    support_vals = supports['support'].values\n",
    "    size = support_vals.shape[0]\n",
    "    _return = (support_vals[1:] / support_vals[:size-1]) - 1\n",
    "    _return = np.insert(_return, 0, 0)\n",
    "    supports['return1'] = _return\n",
    "    return supports"
   ]
  },
  {
   "cell_type": "code",
   "execution_count": 4,
   "metadata": {},
   "outputs": [],
   "source": [
    "def labels(supports, ohlc, target, stop_loss):\n",
    "    cols = ['low', 'high', 'close']\n",
    "    low_c, high_c, close_c = 0, 1, 2\n",
    "    np_ohlc = ohlc[cols].values\n",
    "\n",
    "    def get_label(start_i, price):\n",
    "        for j in range(start_i, np_ohlc.shape[0]):\n",
    "            r_low = (np_ohlc[j, low_c] / price) - 1\n",
    "            r_high = (np_ohlc[j, high_c] / price) - 1\n",
    "            if r_low <= stop_loss:\n",
    "                return 'stop'\n",
    "            if r_high >= target:\n",
    "                return 'target'\n",
    "        return 'unknown'\n",
    "\n",
    "    \n",
    "\n",
    "    labels = []\n",
    "    for i in range(supports.shape[0]):\n",
    "        row_s = supports.iloc[i, :]\n",
    "        start = int(row_s['index'] + 1)\n",
    "        price = np_ohlc[start, close_c]\n",
    "        label = get_label(start+1, price)\n",
    "        labels.append(label)\n",
    "    \n",
    "    return pd.Series(labels)"
   ]
  },
  {
   "cell_type": "code",
   "execution_count": 5,
   "metadata": {},
   "outputs": [],
   "source": [
    "def target_hits(supports, _return):\n",
    "    labels = supports[supports['return1'] <= _return].reset_index()['label']\n",
    "    distb = labels.value_counts().reset_index()\n",
    "    distb.columns = ['label', 'cnt']\n",
    "    distb['rel'] = distb['cnt'] / distb['cnt'].sum()\n",
    "    target = distb[distb['label'] == \"target\"]\n",
    "    if target.shape[0] == 0:\n",
    "        return 0., 0.\n",
    "    \n",
    "    return target['cnt'].iloc[0], target['rel'].iloc[0]"
   ]
  },
  {
   "cell_type": "markdown",
   "metadata": {},
   "source": [
    "# Parallelize"
   ]
  },
  {
   "cell_type": "code",
   "execution_count": 6,
   "metadata": {},
   "outputs": [],
   "source": [
    "from multiprocessing import Pool\n",
    "import time\n",
    "from tqdm import *\n",
    "\n",
    "def run_parallel(f, args, n_process=10):\n",
    "    results = []\n",
    "    with Pool(processes=n_process) as p:\n",
    "        all_args = list(args)\n",
    "        with tqdm_notebook(enumerate(p.imap_unordered(f, all_args)), leave=False, total=len(all_args)) as pbar:\n",
    "            for i, x in pbar:\n",
    "                results.append(x)\n",
    "                pbar.update()\n",
    "                \n",
    "    return results"
   ]
  },
  {
   "cell_type": "code",
   "execution_count": 7,
   "metadata": {},
   "outputs": [],
   "source": [
    "def dict_from_list(l):\n",
    "    d = {}\n",
    "    for row in l:\n",
    "        d_inner = d\n",
    "        for k in row[:-2]:\n",
    "            if k not in d_inner.keys():\n",
    "                d_inner[k] = {}\n",
    "            d_inner = d_inner[k]\n",
    "        d_inner[row[-2]] = row[-1]\n",
    "    return d"
   ]
  },
  {
   "cell_type": "markdown",
   "metadata": {},
   "source": [
    "# Experiment setup"
   ]
  },
  {
   "cell_type": "code",
   "execution_count": 8,
   "metadata": {},
   "outputs": [
    {
     "data": {
      "text/plain": [
       "312000"
      ]
     },
     "execution_count": 8,
     "metadata": {},
     "output_type": "execute_result"
    }
   ],
   "source": [
    "train_coins = pd.read_csv('pairs_train.tsv', header=None)[0].tolist()\n",
    "window_sizes = [4, 6, 8, 10, 12, 24, 30, 48]\n",
    "targets = list(np.linspace(0, 0.13, 14))[1:]\n",
    "stop_losses = list(-np.linspace(0, 0.1, 11))[1:]\n",
    "returns = list(-np.linspace(0, 0.1, 11))[1:]\n",
    "\n",
    "loops = len(train_coins) * len(window_sizes) * len(targets) * len(stop_losses) * len(returns)\n",
    "loops"
   ]
  },
  {
   "cell_type": "markdown",
   "metadata": {},
   "source": [
    "# Calc Supports"
   ]
  },
  {
   "cell_type": "code",
   "execution_count": 9,
   "metadata": {},
   "outputs": [],
   "source": [
    "data_dict = {pair: read_data(pair) for pair in train_coins}"
   ]
  },
  {
   "cell_type": "code",
   "execution_count": 10,
   "metadata": {},
   "outputs": [
    {
     "data": {
      "application/vnd.jupyter.widget-view+json": {
       "model_id": "",
       "version_major": 2,
       "version_minor": 0
      },
      "text/plain": [
       "HBox(children=(IntProgress(value=0, max=240), HTML(value='')))"
      ]
     },
     "metadata": {},
     "output_type": "display_data"
    },
    {
     "name": "stdout",
     "output_type": "stream",
     "text": []
    }
   ],
   "source": [
    "from itertools import product\n",
    "\n",
    "def supports_f(args):\n",
    "    pair, window_size = args\n",
    "    return pair, window_size, get_supports(data_dict[pair], window_size)\n",
    "\n",
    "args = product(train_coins, window_sizes)\n",
    "results = run_parallel(supports_f, args)\n",
    "supports_dict = dict_from_list(results)\n",
    "save_model(supports_dict, 'supports.pkl')"
   ]
  },
  {
   "cell_type": "markdown",
   "metadata": {},
   "source": [
    "# Calc support labels"
   ]
  },
  {
   "cell_type": "code",
   "execution_count": 18,
   "metadata": {},
   "outputs": [],
   "source": [
    "supports_dict = load_model('supports.pkl')"
   ]
  },
  {
   "cell_type": "code",
   "execution_count": 19,
   "metadata": {},
   "outputs": [
    {
     "data": {
      "application/vnd.jupyter.widget-view+json": {
       "model_id": "",
       "version_major": 2,
       "version_minor": 0
      },
      "text/plain": [
       "HBox(children=(IntProgress(value=0, max=31200), HTML(value='')))"
      ]
     },
     "metadata": {},
     "output_type": "display_data"
    },
    {
     "name": "stdout",
     "output_type": "stream",
     "text": []
    }
   ],
   "source": [
    "from itertools import product\n",
    "\n",
    "def labels_f(args):\n",
    "    pair, window_size, target, stop_loss = args\n",
    "    data = data_dict[pair]\n",
    "    supports = supports_dict[pair][window_size]\n",
    "    return pair, window_size, target, stop_loss, labels(supports, data, target, stop_loss)\n",
    "\n",
    "args = product(train_coins, window_sizes, targets, stop_losses)\n",
    "results = run_parallel(labels_f, args)\n",
    "labels_dict = dict_from_list(results)\n",
    "save_model(labels_dict, 'labels.pkl')"
   ]
  },
  {
   "cell_type": "markdown",
   "metadata": {},
   "source": [
    "# Calc Hits"
   ]
  },
  {
   "cell_type": "code",
   "execution_count": 20,
   "metadata": {},
   "outputs": [],
   "source": [
    "supports_dict = load_model('supports.pkl')\n",
    "labels_dict = load_model('labels.pkl')"
   ]
  },
  {
   "cell_type": "code",
   "execution_count": 21,
   "metadata": {},
   "outputs": [
    {
     "data": {
      "application/vnd.jupyter.widget-view+json": {
       "model_id": "",
       "version_major": 2,
       "version_minor": 0
      },
      "text/plain": [
       "HBox(children=(IntProgress(value=0, max=312000), HTML(value='')))"
      ]
     },
     "metadata": {},
     "output_type": "display_data"
    },
    {
     "name": "stdout",
     "output_type": "stream",
     "text": []
    }
   ],
   "source": [
    "from itertools import product\n",
    "\n",
    "def target_hits_f(args):\n",
    "    pair, window_size, target, stop_loss, _return = args\n",
    "    data = data_dict[pair]\n",
    "    supports = supports_dict[pair][window_size].copy()\n",
    "    supports['label'] = labels_dict[pair][window_size][target][stop_loss]\n",
    "    hits, hits_rel = target_hits(supports, _return)\n",
    "    \n",
    "    return pair, window_size, target, stop_loss, _return, hits, hits_rel\n",
    "\n",
    "args = product(train_coins, window_sizes, targets, stop_losses, returns)\n",
    "results = run_parallel(target_hits_f, args)\n",
    "columns = ['pair', 'window_size', 'target', 'stop_loss', '_return', 'target_hits', 'target_hits_rel']\n",
    "result_df = pd.DataFrame(results, columns=columns)\n",
    "\n",
    "rpath = os.path.join(dropbox_dir,'result', 'base-strategy-learn.tsv')\n",
    "write_tsv(result_df, rpath)"
   ]
  },
  {
   "cell_type": "markdown",
   "metadata": {},
   "source": [
    "# Tmp"
   ]
  },
  {
   "cell_type": "code",
   "execution_count": 13,
   "metadata": {},
   "outputs": [
    {
     "data": {
      "text/plain": [
       "'2015-01-01 00:00:00'"
      ]
     },
     "execution_count": 13,
     "metadata": {},
     "output_type": "execute_result"
    }
   ],
   "source": [
    "data_dict['BTC_LTC']['date'].min()"
   ]
  },
  {
   "cell_type": "code",
   "execution_count": 18,
   "metadata": {},
   "outputs": [],
   "source": [
    "df = pd.DataFrame()\n",
    "for pair, data in data_dict.items():\n",
    "    df = df.append(pd.DataFrame([[pair, data['date'].min()]]))\n",
    "df.columns = ['pair', 'min_date']"
   ]
  },
  {
   "cell_type": "code",
   "execution_count": 20,
   "metadata": {},
   "outputs": [
    {
     "data": {
      "text/html": [
       "<div>\n",
       "<style scoped>\n",
       "    .dataframe tbody tr th:only-of-type {\n",
       "        vertical-align: middle;\n",
       "    }\n",
       "\n",
       "    .dataframe tbody tr th {\n",
       "        vertical-align: top;\n",
       "    }\n",
       "\n",
       "    .dataframe thead th {\n",
       "        text-align: right;\n",
       "    }\n",
       "</style>\n",
       "<table border=\"1\" class=\"dataframe\">\n",
       "  <thead>\n",
       "    <tr style=\"text-align: right;\">\n",
       "      <th></th>\n",
       "      <th>pair</th>\n",
       "      <th>min_date</th>\n",
       "    </tr>\n",
       "  </thead>\n",
       "  <tbody>\n",
       "    <tr>\n",
       "      <th>0</th>\n",
       "      <td>BTC_FOAM</td>\n",
       "      <td>2018-12-11 01:00:00</td>\n",
       "    </tr>\n",
       "    <tr>\n",
       "      <th>0</th>\n",
       "      <td>BTC_BCHABC</td>\n",
       "      <td>2018-11-08 01:00:00</td>\n",
       "    </tr>\n",
       "    <tr>\n",
       "      <th>0</th>\n",
       "      <td>BTC_BCHSV</td>\n",
       "      <td>2018-11-08 00:30:00</td>\n",
       "    </tr>\n",
       "    <tr>\n",
       "      <th>0</th>\n",
       "      <td>BTC_MANA</td>\n",
       "      <td>2018-10-12 16:00:00</td>\n",
       "    </tr>\n",
       "    <tr>\n",
       "      <th>0</th>\n",
       "      <td>BTC_BAT</td>\n",
       "      <td>2018-08-22 16:00:00</td>\n",
       "    </tr>\n",
       "    <tr>\n",
       "      <th>0</th>\n",
       "      <td>BTC_KNC</td>\n",
       "      <td>2018-08-15 16:00:00</td>\n",
       "    </tr>\n",
       "    <tr>\n",
       "      <th>0</th>\n",
       "      <td>BTC_STORJ</td>\n",
       "      <td>2017-10-27 02:00:00</td>\n",
       "    </tr>\n",
       "    <tr>\n",
       "      <th>0</th>\n",
       "      <td>BTC_GAS</td>\n",
       "      <td>2017-09-14 18:30:00</td>\n",
       "    </tr>\n",
       "    <tr>\n",
       "      <th>0</th>\n",
       "      <td>BTC_OMG</td>\n",
       "      <td>2017-09-12 02:30:00</td>\n",
       "    </tr>\n",
       "    <tr>\n",
       "      <th>0</th>\n",
       "      <td>BTC_GNT</td>\n",
       "      <td>2017-02-18 03:30:00</td>\n",
       "    </tr>\n",
       "    <tr>\n",
       "      <th>0</th>\n",
       "      <td>BTC_PASC</td>\n",
       "      <td>2017-01-24 06:30:00</td>\n",
       "    </tr>\n",
       "    <tr>\n",
       "      <th>0</th>\n",
       "      <td>BTC_STRAT</td>\n",
       "      <td>2016-12-19 05:00:00</td>\n",
       "    </tr>\n",
       "    <tr>\n",
       "      <th>0</th>\n",
       "      <td>BTC_ZEC</td>\n",
       "      <td>2016-10-28 18:00:00</td>\n",
       "    </tr>\n",
       "    <tr>\n",
       "      <th>0</th>\n",
       "      <td>BTC_REP</td>\n",
       "      <td>2016-10-04 18:30:00</td>\n",
       "    </tr>\n",
       "    <tr>\n",
       "      <th>0</th>\n",
       "      <td>BTC_ETC</td>\n",
       "      <td>2016-07-24 04:00:00</td>\n",
       "    </tr>\n",
       "    <tr>\n",
       "      <th>0</th>\n",
       "      <td>BTC_STEEM</td>\n",
       "      <td>2016-07-19 04:00:00</td>\n",
       "    </tr>\n",
       "    <tr>\n",
       "      <th>0</th>\n",
       "      <td>BTC_DCR</td>\n",
       "      <td>2016-05-16 03:00:00</td>\n",
       "    </tr>\n",
       "    <tr>\n",
       "      <th>0</th>\n",
       "      <td>BTC_SC</td>\n",
       "      <td>2015-08-25 20:00:00</td>\n",
       "    </tr>\n",
       "    <tr>\n",
       "      <th>0</th>\n",
       "      <td>BTC_XMR</td>\n",
       "      <td>2015-01-01 00:00:00</td>\n",
       "    </tr>\n",
       "    <tr>\n",
       "      <th>0</th>\n",
       "      <td>BTC_XCP</td>\n",
       "      <td>2015-01-01 00:00:00</td>\n",
       "    </tr>\n",
       "    <tr>\n",
       "      <th>0</th>\n",
       "      <td>BTC_VTC</td>\n",
       "      <td>2015-01-01 00:00:00</td>\n",
       "    </tr>\n",
       "    <tr>\n",
       "      <th>0</th>\n",
       "      <td>BTC_DASH</td>\n",
       "      <td>2015-01-01 00:00:00</td>\n",
       "    </tr>\n",
       "    <tr>\n",
       "      <th>0</th>\n",
       "      <td>BTC_BCN</td>\n",
       "      <td>2015-01-01 00:00:00</td>\n",
       "    </tr>\n",
       "    <tr>\n",
       "      <th>0</th>\n",
       "      <td>BTC_LTC</td>\n",
       "      <td>2015-01-01 00:00:00</td>\n",
       "    </tr>\n",
       "    <tr>\n",
       "      <th>0</th>\n",
       "      <td>BTC_BTS</td>\n",
       "      <td>2015-01-01 00:00:00</td>\n",
       "    </tr>\n",
       "    <tr>\n",
       "      <th>0</th>\n",
       "      <td>BTC_HUC</td>\n",
       "      <td>2015-01-01 00:00:00</td>\n",
       "    </tr>\n",
       "    <tr>\n",
       "      <th>0</th>\n",
       "      <td>BTC_GAME</td>\n",
       "      <td>2015-01-01 00:00:00</td>\n",
       "    </tr>\n",
       "    <tr>\n",
       "      <th>0</th>\n",
       "      <td>BTC_BURST</td>\n",
       "      <td>2015-01-01 00:00:00</td>\n",
       "    </tr>\n",
       "    <tr>\n",
       "      <th>0</th>\n",
       "      <td>BTC_DOGE</td>\n",
       "      <td>2015-01-01 00:00:00</td>\n",
       "    </tr>\n",
       "    <tr>\n",
       "      <th>0</th>\n",
       "      <td>BTC_NAV</td>\n",
       "      <td>2015-01-01 00:00:00</td>\n",
       "    </tr>\n",
       "  </tbody>\n",
       "</table>\n",
       "</div>"
      ],
      "text/plain": [
       "         pair             min_date\n",
       "0    BTC_FOAM  2018-12-11 01:00:00\n",
       "0  BTC_BCHABC  2018-11-08 01:00:00\n",
       "0   BTC_BCHSV  2018-11-08 00:30:00\n",
       "0    BTC_MANA  2018-10-12 16:00:00\n",
       "0     BTC_BAT  2018-08-22 16:00:00\n",
       "0     BTC_KNC  2018-08-15 16:00:00\n",
       "0   BTC_STORJ  2017-10-27 02:00:00\n",
       "0     BTC_GAS  2017-09-14 18:30:00\n",
       "0     BTC_OMG  2017-09-12 02:30:00\n",
       "0     BTC_GNT  2017-02-18 03:30:00\n",
       "0    BTC_PASC  2017-01-24 06:30:00\n",
       "0   BTC_STRAT  2016-12-19 05:00:00\n",
       "0     BTC_ZEC  2016-10-28 18:00:00\n",
       "0     BTC_REP  2016-10-04 18:30:00\n",
       "0     BTC_ETC  2016-07-24 04:00:00\n",
       "0   BTC_STEEM  2016-07-19 04:00:00\n",
       "0     BTC_DCR  2016-05-16 03:00:00\n",
       "0      BTC_SC  2015-08-25 20:00:00\n",
       "0     BTC_XMR  2015-01-01 00:00:00\n",
       "0     BTC_XCP  2015-01-01 00:00:00\n",
       "0     BTC_VTC  2015-01-01 00:00:00\n",
       "0    BTC_DASH  2015-01-01 00:00:00\n",
       "0     BTC_BCN  2015-01-01 00:00:00\n",
       "0     BTC_LTC  2015-01-01 00:00:00\n",
       "0     BTC_BTS  2015-01-01 00:00:00\n",
       "0     BTC_HUC  2015-01-01 00:00:00\n",
       "0    BTC_GAME  2015-01-01 00:00:00\n",
       "0   BTC_BURST  2015-01-01 00:00:00\n",
       "0    BTC_DOGE  2015-01-01 00:00:00\n",
       "0     BTC_NAV  2015-01-01 00:00:00"
      ]
     },
     "execution_count": 20,
     "metadata": {},
     "output_type": "execute_result"
    }
   ],
   "source": [
    "df.sort_values('min_date', ascending=False)"
   ]
  },
  {
   "cell_type": "code",
   "execution_count": null,
   "metadata": {},
   "outputs": [],
   "source": []
  }
 ],
 "metadata": {
  "kernelspec": {
   "display_name": "crypto36",
   "language": "python",
   "name": "crypto36"
  },
  "language_info": {
   "codemirror_mode": {
    "name": "ipython",
    "version": 3
   },
   "file_extension": ".py",
   "mimetype": "text/x-python",
   "name": "python",
   "nbconvert_exporter": "python",
   "pygments_lexer": "ipython3",
   "version": "3.6.8"
  }
 },
 "nbformat": 4,
 "nbformat_minor": 2
}
