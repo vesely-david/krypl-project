{
 "cells": [
  {
   "cell_type": "code",
   "execution_count": 1,
   "metadata": {},
   "outputs": [],
   "source": [
    "%run ./../../utils/commonImports.py\n",
    "%matplotlib inline"
   ]
  },
  {
   "cell_type": "markdown",
   "metadata": {},
   "source": [
    "# Load data"
   ]
  },
  {
   "cell_type": "code",
   "execution_count": 2,
   "metadata": {},
   "outputs": [
    {
     "data": {
      "text/plain": [
       "(381242, 58)"
      ]
     },
     "execution_count": 2,
     "metadata": {},
     "output_type": "execute_result"
    }
   ],
   "source": [
    "path = \"D:\\\\Dropbox\\\\My work\\\\krypl-project\\\\analysis\\\\sg-filter.tsv\"\n",
    "data = read_tsv(path)\n",
    "data.shape"
   ]
  },
  {
   "cell_type": "code",
   "execution_count": 3,
   "metadata": {},
   "outputs": [
    {
     "data": {
      "text/html": [
       "<div>\n",
       "<style scoped>\n",
       "    .dataframe tbody tr th:only-of-type {\n",
       "        vertical-align: middle;\n",
       "    }\n",
       "\n",
       "    .dataframe tbody tr th {\n",
       "        vertical-align: top;\n",
       "    }\n",
       "\n",
       "    .dataframe thead th {\n",
       "        text-align: right;\n",
       "    }\n",
       "</style>\n",
       "<table border=\"1\" class=\"dataframe\">\n",
       "  <thead>\n",
       "    <tr style=\"text-align: right;\">\n",
       "      <th></th>\n",
       "      <th>timestamp</th>\n",
       "      <th>period</th>\n",
       "      <th>open</th>\n",
       "      <th>high</th>\n",
       "      <th>low</th>\n",
       "      <th>close</th>\n",
       "      <th>volume</th>\n",
       "      <th>quoteVolume</th>\n",
       "      <th>weightedAverage</th>\n",
       "      <th>date</th>\n",
       "      <th>...</th>\n",
       "      <th>high_w10_deg2</th>\n",
       "      <th>low_w10_deg2</th>\n",
       "      <th>close_w10_deg3</th>\n",
       "      <th>open_w10_deg3</th>\n",
       "      <th>high_w10_deg3</th>\n",
       "      <th>low_w10_deg3</th>\n",
       "      <th>close_w10_deg4</th>\n",
       "      <th>open_w10_deg4</th>\n",
       "      <th>high_w10_deg4</th>\n",
       "      <th>low_w10_deg4</th>\n",
       "    </tr>\n",
       "  </thead>\n",
       "  <tbody>\n",
       "    <tr>\n",
       "      <th>0</th>\n",
       "      <td>1424373000</td>\n",
       "      <td>5min</td>\n",
       "      <td>225.0000</td>\n",
       "      <td>225.0000</td>\n",
       "      <td>225.0000</td>\n",
       "      <td>225.0000</td>\n",
       "      <td>1.0000</td>\n",
       "      <td>0.0044</td>\n",
       "      <td>225.0000</td>\n",
       "      <td>2015-02-19 19:10:00</td>\n",
       "      <td>...</td>\n",
       "      <td>nan</td>\n",
       "      <td>nan</td>\n",
       "      <td>nan</td>\n",
       "      <td>nan</td>\n",
       "      <td>nan</td>\n",
       "      <td>nan</td>\n",
       "      <td>nan</td>\n",
       "      <td>nan</td>\n",
       "      <td>nan</td>\n",
       "      <td>nan</td>\n",
       "    </tr>\n",
       "    <tr>\n",
       "      <th>1</th>\n",
       "      <td>1424373300</td>\n",
       "      <td>5min</td>\n",
       "      <td>225.0000</td>\n",
       "      <td>225.0000</td>\n",
       "      <td>225.0000</td>\n",
       "      <td>225.0000</td>\n",
       "      <td>0.0000</td>\n",
       "      <td>0.0000</td>\n",
       "      <td>225.0000</td>\n",
       "      <td>2015-02-19 19:15:00</td>\n",
       "      <td>...</td>\n",
       "      <td>nan</td>\n",
       "      <td>nan</td>\n",
       "      <td>nan</td>\n",
       "      <td>nan</td>\n",
       "      <td>nan</td>\n",
       "      <td>nan</td>\n",
       "      <td>nan</td>\n",
       "      <td>nan</td>\n",
       "      <td>nan</td>\n",
       "      <td>nan</td>\n",
       "    </tr>\n",
       "    <tr>\n",
       "      <th>2</th>\n",
       "      <td>1424373600</td>\n",
       "      <td>5min</td>\n",
       "      <td>225.0000</td>\n",
       "      <td>225.0000</td>\n",
       "      <td>225.0000</td>\n",
       "      <td>225.0000</td>\n",
       "      <td>0.0000</td>\n",
       "      <td>0.0000</td>\n",
       "      <td>225.0000</td>\n",
       "      <td>2015-02-19 19:20:00</td>\n",
       "      <td>...</td>\n",
       "      <td>nan</td>\n",
       "      <td>nan</td>\n",
       "      <td>nan</td>\n",
       "      <td>nan</td>\n",
       "      <td>nan</td>\n",
       "      <td>nan</td>\n",
       "      <td>nan</td>\n",
       "      <td>nan</td>\n",
       "      <td>nan</td>\n",
       "      <td>nan</td>\n",
       "    </tr>\n",
       "    <tr>\n",
       "      <th>3</th>\n",
       "      <td>1424373900</td>\n",
       "      <td>5min</td>\n",
       "      <td>225.0000</td>\n",
       "      <td>225.0000</td>\n",
       "      <td>225.0000</td>\n",
       "      <td>225.0000</td>\n",
       "      <td>0.0000</td>\n",
       "      <td>0.0000</td>\n",
       "      <td>225.0000</td>\n",
       "      <td>2015-02-19 19:25:00</td>\n",
       "      <td>...</td>\n",
       "      <td>nan</td>\n",
       "      <td>nan</td>\n",
       "      <td>nan</td>\n",
       "      <td>nan</td>\n",
       "      <td>nan</td>\n",
       "      <td>nan</td>\n",
       "      <td>nan</td>\n",
       "      <td>nan</td>\n",
       "      <td>nan</td>\n",
       "      <td>nan</td>\n",
       "    </tr>\n",
       "    <tr>\n",
       "      <th>4</th>\n",
       "      <td>1424374200</td>\n",
       "      <td>5min</td>\n",
       "      <td>225.0000</td>\n",
       "      <td>225.0000</td>\n",
       "      <td>225.0000</td>\n",
       "      <td>225.0000</td>\n",
       "      <td>0.0000</td>\n",
       "      <td>0.0000</td>\n",
       "      <td>225.0000</td>\n",
       "      <td>2015-02-19 19:30:00</td>\n",
       "      <td>...</td>\n",
       "      <td>nan</td>\n",
       "      <td>nan</td>\n",
       "      <td>nan</td>\n",
       "      <td>nan</td>\n",
       "      <td>nan</td>\n",
       "      <td>nan</td>\n",
       "      <td>nan</td>\n",
       "      <td>nan</td>\n",
       "      <td>nan</td>\n",
       "      <td>nan</td>\n",
       "    </tr>\n",
       "  </tbody>\n",
       "</table>\n",
       "<p>5 rows × 58 columns</p>\n",
       "</div>"
      ],
      "text/plain": [
       "    timestamp period     open     high      low    close  volume  quoteVolume  \\\n",
       "0  1424373000   5min 225.0000 225.0000 225.0000 225.0000  1.0000       0.0044   \n",
       "1  1424373300   5min 225.0000 225.0000 225.0000 225.0000  0.0000       0.0000   \n",
       "2  1424373600   5min 225.0000 225.0000 225.0000 225.0000  0.0000       0.0000   \n",
       "3  1424373900   5min 225.0000 225.0000 225.0000 225.0000  0.0000       0.0000   \n",
       "4  1424374200   5min 225.0000 225.0000 225.0000 225.0000  0.0000       0.0000   \n",
       "\n",
       "   weightedAverage                 date      ...       high_w10_deg2  \\\n",
       "0         225.0000  2015-02-19 19:10:00      ...                 nan   \n",
       "1         225.0000  2015-02-19 19:15:00      ...                 nan   \n",
       "2         225.0000  2015-02-19 19:20:00      ...                 nan   \n",
       "3         225.0000  2015-02-19 19:25:00      ...                 nan   \n",
       "4         225.0000  2015-02-19 19:30:00      ...                 nan   \n",
       "\n",
       "   low_w10_deg2  close_w10_deg3  open_w10_deg3  high_w10_deg3  low_w10_deg3  \\\n",
       "0           nan             nan            nan            nan           nan   \n",
       "1           nan             nan            nan            nan           nan   \n",
       "2           nan             nan            nan            nan           nan   \n",
       "3           nan             nan            nan            nan           nan   \n",
       "4           nan             nan            nan            nan           nan   \n",
       "\n",
       "   close_w10_deg4  open_w10_deg4  high_w10_deg4  low_w10_deg4  \n",
       "0             nan            nan            nan           nan  \n",
       "1             nan            nan            nan           nan  \n",
       "2             nan            nan            nan           nan  \n",
       "3             nan            nan            nan           nan  \n",
       "4             nan            nan            nan           nan  \n",
       "\n",
       "[5 rows x 58 columns]"
      ]
     },
     "execution_count": 3,
     "metadata": {},
     "output_type": "execute_result"
    }
   ],
   "source": [
    "data.head()"
   ]
  },
  {
   "cell_type": "markdown",
   "metadata": {},
   "source": [
    "# Filtered Candles"
   ]
  },
  {
   "cell_type": "code",
   "execution_count": 4,
   "metadata": {},
   "outputs": [
    {
     "data": {
      "text/plain": [
       "Index(['timestamp', 'period', 'open', 'high', 'low', 'close', 'volume',\n",
       "       'quoteVolume', 'weightedAverage', 'date', 'close_w3_deg1',\n",
       "       'open_w3_deg1', 'high_w3_deg1', 'low_w3_deg1', 'close_w3_deg2',\n",
       "       'open_w3_deg2', 'high_w3_deg2', 'low_w3_deg2', 'close_w3_deg3',\n",
       "       'open_w3_deg3', 'high_w3_deg3', 'low_w3_deg3', 'close_w3_deg4',\n",
       "       'open_w3_deg4', 'high_w3_deg4', 'low_w3_deg4', 'close_w5_deg1',\n",
       "       'open_w5_deg1', 'high_w5_deg1', 'low_w5_deg1', 'close_w5_deg2',\n",
       "       'open_w5_deg2', 'high_w5_deg2', 'low_w5_deg2', 'close_w5_deg3',\n",
       "       'open_w5_deg3', 'high_w5_deg3', 'low_w5_deg3', 'close_w5_deg4',\n",
       "       'open_w5_deg4', 'high_w5_deg4', 'low_w5_deg4', 'close_w10_deg1',\n",
       "       'open_w10_deg1', 'high_w10_deg1', 'low_w10_deg1', 'close_w10_deg2',\n",
       "       'open_w10_deg2', 'high_w10_deg2', 'low_w10_deg2', 'close_w10_deg3',\n",
       "       'open_w10_deg3', 'high_w10_deg3', 'low_w10_deg3', 'close_w10_deg4',\n",
       "       'open_w10_deg4', 'high_w10_deg4', 'low_w10_deg4'],\n",
       "      dtype='object')"
      ]
     },
     "execution_count": 4,
     "metadata": {},
     "output_type": "execute_result"
    }
   ],
   "source": [
    "data.columns"
   ]
  },
  {
   "cell_type": "code",
   "execution_count": 9,
   "metadata": {},
   "outputs": [],
   "source": [
    "def rename_and_plot(df, w, deg):\n",
    "    data = df.copy()\n",
    "    cols = ['timestamp'] + [f'{c}_w{w}_deg{deg}' for c in ['open', 'high', 'low', 'close']]\n",
    "    data = data[cols]\n",
    "    data.columns = ['timestamp', 'open', 'high', 'low', 'close']\n",
    "    f, ax = plot_candles(data)\n",
    "    ax.set_title(\"Filtered\", fontproperties=title_font)"
   ]
  },
  {
   "cell_type": "code",
   "execution_count": null,
   "metadata": {},
   "outputs": [],
   "source": []
  },
  {
   "cell_type": "code",
   "execution_count": 11,
   "metadata": {},
   "outputs": [
    {
     "data": {
      "image/png": "[encoded data removed]",
      "text/plain": [
       "<matplotlib.figure.Figure at 0x2ac440ab048>"
      ]
     },
     "metadata": {},
     "output_type": "display_data"
    },
    {
     "data": {
      "image/png": "[encoded data removed]",
      "text/plain": [
       "<matplotlib.figure.Figure at 0x2ac443c3518>"
      ]
     },
     "metadata": {},
     "output_type": "display_data"
    }
   ],
   "source": [
    "selected = data.iloc[381000:381100]\n",
    "f, ax = plot_candles(selected)\n",
    "ax.set_title('Orig', fontproperties=title_font)\n",
    "rename_and_plot(selected, 10, 1)"
   ]
  },
  {
   "cell_type": "code",
   "execution_count": null,
   "metadata": {},
   "outputs": [],
   "source": []
  }
 ],
 "metadata": {
  "kernelspec": {
   "display_name": "Python 3",
   "language": "python",
   "name": "python3"
  },
  "language_info": {
   "codemirror_mode": {
    "name": "ipython",
    "version": 3
   },
   "file_extension": ".py",
   "mimetype": "text/x-python",
   "name": "python",
   "nbconvert_exporter": "python",
   "pygments_lexer": "ipython3",
   "version": "3.6.5"
  }
 },
 "nbformat": 4,
 "nbformat_minor": 2
}
