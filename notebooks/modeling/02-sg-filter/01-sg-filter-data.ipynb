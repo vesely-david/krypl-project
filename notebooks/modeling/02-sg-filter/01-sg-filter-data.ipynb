{
 "cells": [
  {
   "cell_type": "code",
   "execution_count": 1,
   "metadata": {},
   "outputs": [],
   "source": [
    "%run ./../../utils/commonImports.py\n",
    "%matplotlib inline"
   ]
  },
  {
   "cell_type": "markdown",
   "metadata": {},
   "source": [
    "# Load data"
   ]
  },
  {
   "cell_type": "code",
   "execution_count": 2,
   "metadata": {},
   "outputs": [
    {
     "data": {
      "text/plain": [
       "(381242, 10)"
      ]
     },
     "execution_count": 2,
     "metadata": {},
     "output_type": "execute_result"
    }
   ],
   "source": [
    "db = 'D:\\\\Dropbox\\\\My work\\\\krypl-project\\\\sqlite\\\\ploniex-chart-data\\\\USDT_BTC.db'\n",
    "data = load_trading_data(db, 'chart_data', from_date='2014-01-01', period='5min')\n",
    "data.shape"
   ]
  },
  {
   "cell_type": "markdown",
   "metadata": {},
   "source": [
    "# Savitzky - Golay filter - test"
   ]
  },
  {
   "cell_type": "code",
   "execution_count": 65,
   "metadata": {},
   "outputs": [],
   "source": [
    "from scipy.signal import savgol_filter\n",
    "x = [1, 1.5, 2, 3.0, 4, 5.5, 6, 7.6, 8, 9]\n",
    "w = 5\n",
    "w_half = int(w/2)\n",
    "maxw = len(x)-w_half"
   ]
  },
  {
   "cell_type": "code",
   "execution_count": 66,
   "metadata": {},
   "outputs": [
    {
     "data": {
      "text/plain": [
       "array([ nan,  nan,  nan,  nan, 2.3 , 3.2 , 4.1 , 5.22, 6.22, 7.22])"
      ]
     },
     "execution_count": 66,
     "metadata": {},
     "output_type": "execute_result"
    }
   ],
   "source": [
    "res = [np.nan] * (w-1)\n",
    "sg = savgol_filter(x, w, 1)\n",
    "res += sg.tolist()[w_half:maxw]\n",
    "np.round(res, 2)"
   ]
  },
  {
   "cell_type": "code",
   "execution_count": 67,
   "metadata": {},
   "outputs": [
    {
     "data": {
      "text/plain": [
       "array([ nan,  nan,  nan,  nan, 3.8 , 5.2 , 6.2 , 7.46, 8.24, 9.02])"
      ]
     },
     "execution_count": 67,
     "metadata": {},
     "output_type": "execute_result"
    }
   ],
   "source": [
    "np.round(sg_filter_polyfit(x, w, 1), 2)"
   ]
  },
  {
   "cell_type": "code",
   "execution_count": 68,
   "metadata": {},
   "outputs": [
    {
     "data": {
      "text/plain": [
       "array([0.8 , 1.55, 2.3 , 3.2 , 4.1 , 5.22, 6.22, 7.22, 8.12, 9.02])"
      ]
     },
     "execution_count": 68,
     "metadata": {},
     "output_type": "execute_result"
    }
   ],
   "source": [
    "sg"
   ]
  },
  {
   "cell_type": "code",
   "execution_count": 17,
   "metadata": {},
   "outputs": [],
   "source": [
    "import time\n",
    "def sg_filter_polyfit(x, window_size, deg):\n",
    "    res = [np.nan] * (window_size-1)\n",
    "    start = time.time()\n",
    "    for i in range(window_size-1, len(x)):\n",
    "        if i % 10**4 == 10**4 - 1:\n",
    "            print(i, \"%.2fs\" % (time.time() - start))\n",
    "            start = time.time()\n",
    "        lasti = max(0, i-window_size+1)\n",
    "        p = np.polyfit(range(window_size), x[lasti:i+1], deg=deg)\n",
    "        y = np.polyval(p, window_size-1)\n",
    "        res.append(y)\n",
    "    return res"
   ]
  },
  {
   "cell_type": "markdown",
   "metadata": {},
   "source": [
    "# SG filter implementation which don't use future values"
   ]
  },
  {
   "cell_type": "code",
   "execution_count": null,
   "metadata": {},
   "outputs": [],
   "source": [
    "from IPython.display import clear_output\n",
    "filtered = data.copy()\n",
    "last_time = 0\n",
    "output = \"D:\\\\Dropbox\\\\My work\\\\krypl-project\\\\analysis\\\\sg-filter.tsv\"\n",
    "\n",
    "for w in [3, 5, 10]:\n",
    "    for deg in [1, 2, 3, 4]:\n",
    "        for col in ['close', 'open', 'high', 'low']:\n",
    "            start = time.time()\n",
    "            f_name = f'{col}_w{w}_deg{deg}'\n",
    "            print(f_name, \"last %.2fs\" % last_time)\n",
    "            filtered[f_name] = sg_filter_polyfit(data[col], w, deg)\n",
    "            last_time = time.time() - start\n",
    "            write_tsv(output)\n",
    "            clear_output()"
   ]
  },
  {
   "cell_type": "code",
   "execution_count": null,
   "metadata": {},
   "outputs": [],
   "source": []
  }
 ],
 "metadata": {
  "kernelspec": {
   "display_name": "Python 3",
   "language": "python",
   "name": "python3"
  },
  "language_info": {
   "codemirror_mode": {
    "name": "ipython",
    "version": 3
   },
   "file_extension": ".py",
   "mimetype": "text/x-python",
   "name": "python",
   "nbconvert_exporter": "python",
   "pygments_lexer": "ipython3",
   "version": "3.6.2"
  }
 },
 "nbformat": 4,
 "nbformat_minor": 2
}
