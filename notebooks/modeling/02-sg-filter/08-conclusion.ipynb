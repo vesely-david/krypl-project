{
 "cells": [
  {
   "cell_type": "markdown",
   "metadata": {},
   "source": [
    "# Conclusion\n",
    "\n",
    "Vizualne to vypada, ze sg filter hezky vyhladi zbytecny sum, ale modelovani na basic features to nepotrvrdilo.\n",
    "Model se na trenovaci mnozinu velice preuci a oproti validacni mnozine klasifikuje jen nahodne.\n",
    "Myslim ale, ze to neni spatnym filterem, ale tim, ze basic features nejsou dostatecne deskriptivni.\n",
    "\n",
    "V dalsi praci by stalo za to se venovat lepsimu feature engineeringu, ktery lepe zachyti tvar svicky a kouka vice do minulosti."
   ]
  },
  {
   "cell_type": "code",
   "execution_count": null,
   "metadata": {},
   "outputs": [],
   "source": []
  }
 ],
 "metadata": {
  "kernelspec": {
   "display_name": "Python 3.6 (crypto36)",
   "language": "python",
   "name": "crypto36"
  },
  "language_info": {
   "codemirror_mode": {
    "name": "ipython",
    "version": 3
   },
   "file_extension": ".py",
   "mimetype": "text/x-python",
   "name": "python",
   "nbconvert_exporter": "python",
   "pygments_lexer": "ipython3",
   "version": "3.6.5"
  }
 },
 "nbformat": 4,
 "nbformat_minor": 2
}
