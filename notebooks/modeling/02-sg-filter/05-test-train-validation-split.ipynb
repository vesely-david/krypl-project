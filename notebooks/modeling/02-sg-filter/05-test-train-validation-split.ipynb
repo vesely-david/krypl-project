{
 "cells": [
  {
   "cell_type": "code",
   "execution_count": 1,
   "metadata": {},
   "outputs": [],
   "source": [
    "%run ../../utils/commonImports.py\n",
    "%matplotlib inline"
   ]
  },
  {
   "cell_type": "markdown",
   "metadata": {},
   "source": [
    "# Load Data"
   ]
  },
  {
   "cell_type": "code",
   "execution_count": 2,
   "metadata": {},
   "outputs": [],
   "source": [
    "data_split_root = 'D:\\\\Dropbox\\\\My work\\\\krypl-project\\\\dataSplit\\\\02-sg-filter'"
   ]
  },
  {
   "cell_type": "code",
   "execution_count": 3,
   "metadata": {},
   "outputs": [],
   "source": [
    "featuresRoot = 'D:\\\\Dropbox\\\\My work\\\\krypl-project\\\\dataFeatures'\n",
    "fileName = 'sg-filter-return-01-loss-max-01-within-day.tsv'\n",
    "featuresFile = f'{featuresRoot}\\\\{fileName}'\n",
    "featured = read_tsv(featuresFile).sort_values('timestamp')\n",
    "featured = reset_index_hard(featured)"
   ]
  },
  {
   "cell_type": "code",
   "execution_count": 4,
   "metadata": {},
   "outputs": [
    {
     "data": {
      "text/html": [
       "<div>\n",
       "<style scoped>\n",
       "    .dataframe tbody tr th:only-of-type {\n",
       "        vertical-align: middle;\n",
       "    }\n",
       "\n",
       "    .dataframe tbody tr th {\n",
       "        vertical-align: top;\n",
       "    }\n",
       "\n",
       "    .dataframe thead th {\n",
       "        text-align: right;\n",
       "    }\n",
       "</style>\n",
       "<table border=\"1\" class=\"dataframe\">\n",
       "  <thead>\n",
       "    <tr style=\"text-align: right;\">\n",
       "      <th></th>\n",
       "      <th>timestamp</th>\n",
       "      <th>label</th>\n",
       "      <th>period</th>\n",
       "      <th>open</th>\n",
       "      <th>high</th>\n",
       "      <th>low</th>\n",
       "      <th>close</th>\n",
       "      <th>volume</th>\n",
       "      <th>quoteVolume</th>\n",
       "      <th>weightedAverage</th>\n",
       "      <th>...</th>\n",
       "      <th>zscore_2016_volume</th>\n",
       "      <th>zscore_36_return</th>\n",
       "      <th>zscore_288_return</th>\n",
       "      <th>pma36</th>\n",
       "      <th>pma288</th>\n",
       "      <th>pma2016</th>\n",
       "      <th>ma_12_108</th>\n",
       "      <th>ma_36_288</th>\n",
       "      <th>ac36</th>\n",
       "      <th>ac288</th>\n",
       "    </tr>\n",
       "  </thead>\n",
       "  <tbody>\n",
       "    <tr>\n",
       "      <th>0</th>\n",
       "      <td>1424373000</td>\n",
       "      <td>True</td>\n",
       "      <td>5min</td>\n",
       "      <td>225.0000</td>\n",
       "      <td>225.0000</td>\n",
       "      <td>225.0000</td>\n",
       "      <td>225.0000</td>\n",
       "      <td>1.0000</td>\n",
       "      <td>0.0044</td>\n",
       "      <td>225.0000</td>\n",
       "      <td>...</td>\n",
       "      <td>0.0000</td>\n",
       "      <td>0.0000</td>\n",
       "      <td>0.0000</td>\n",
       "      <td>0.0000</td>\n",
       "      <td>0.0000</td>\n",
       "      <td>0.0000</td>\n",
       "      <td>0.0000</td>\n",
       "      <td>0.0000</td>\n",
       "      <td>0.0000</td>\n",
       "      <td>0.0000</td>\n",
       "    </tr>\n",
       "    <tr>\n",
       "      <th>1</th>\n",
       "      <td>1424373300</td>\n",
       "      <td>True</td>\n",
       "      <td>5min</td>\n",
       "      <td>225.0000</td>\n",
       "      <td>225.0000</td>\n",
       "      <td>225.0000</td>\n",
       "      <td>225.0000</td>\n",
       "      <td>0.0000</td>\n",
       "      <td>0.0000</td>\n",
       "      <td>225.0000</td>\n",
       "      <td>...</td>\n",
       "      <td>0.0000</td>\n",
       "      <td>0.0000</td>\n",
       "      <td>0.0000</td>\n",
       "      <td>0.0000</td>\n",
       "      <td>0.0000</td>\n",
       "      <td>0.0000</td>\n",
       "      <td>0.0000</td>\n",
       "      <td>0.0000</td>\n",
       "      <td>0.0000</td>\n",
       "      <td>0.0000</td>\n",
       "    </tr>\n",
       "    <tr>\n",
       "      <th>2</th>\n",
       "      <td>1424373600</td>\n",
       "      <td>True</td>\n",
       "      <td>5min</td>\n",
       "      <td>225.0000</td>\n",
       "      <td>225.0000</td>\n",
       "      <td>225.0000</td>\n",
       "      <td>225.0000</td>\n",
       "      <td>0.0000</td>\n",
       "      <td>0.0000</td>\n",
       "      <td>225.0000</td>\n",
       "      <td>...</td>\n",
       "      <td>0.0000</td>\n",
       "      <td>0.0000</td>\n",
       "      <td>0.0000</td>\n",
       "      <td>0.0000</td>\n",
       "      <td>0.0000</td>\n",
       "      <td>0.0000</td>\n",
       "      <td>0.0000</td>\n",
       "      <td>0.0000</td>\n",
       "      <td>0.0000</td>\n",
       "      <td>0.0000</td>\n",
       "    </tr>\n",
       "    <tr>\n",
       "      <th>3</th>\n",
       "      <td>1424373900</td>\n",
       "      <td>True</td>\n",
       "      <td>5min</td>\n",
       "      <td>225.0000</td>\n",
       "      <td>225.0000</td>\n",
       "      <td>225.0000</td>\n",
       "      <td>225.0000</td>\n",
       "      <td>0.0000</td>\n",
       "      <td>0.0000</td>\n",
       "      <td>225.0000</td>\n",
       "      <td>...</td>\n",
       "      <td>0.0000</td>\n",
       "      <td>0.0000</td>\n",
       "      <td>0.0000</td>\n",
       "      <td>0.0000</td>\n",
       "      <td>0.0000</td>\n",
       "      <td>0.0000</td>\n",
       "      <td>0.0000</td>\n",
       "      <td>0.0000</td>\n",
       "      <td>0.0000</td>\n",
       "      <td>0.0000</td>\n",
       "    </tr>\n",
       "    <tr>\n",
       "      <th>4</th>\n",
       "      <td>1424374200</td>\n",
       "      <td>True</td>\n",
       "      <td>5min</td>\n",
       "      <td>225.0000</td>\n",
       "      <td>225.0000</td>\n",
       "      <td>225.0000</td>\n",
       "      <td>225.0000</td>\n",
       "      <td>0.0000</td>\n",
       "      <td>0.0000</td>\n",
       "      <td>225.0000</td>\n",
       "      <td>...</td>\n",
       "      <td>0.0000</td>\n",
       "      <td>0.0000</td>\n",
       "      <td>0.0000</td>\n",
       "      <td>0.0000</td>\n",
       "      <td>0.0000</td>\n",
       "      <td>0.0000</td>\n",
       "      <td>0.0000</td>\n",
       "      <td>0.0000</td>\n",
       "      <td>0.0000</td>\n",
       "      <td>0.0000</td>\n",
       "    </tr>\n",
       "  </tbody>\n",
       "</table>\n",
       "<p>5 rows × 74 columns</p>\n",
       "</div>"
      ],
      "text/plain": [
       "    timestamp  label period     open     high      low    close  volume  \\\n",
       "0  1424373000   True   5min 225.0000 225.0000 225.0000 225.0000  1.0000   \n",
       "1  1424373300   True   5min 225.0000 225.0000 225.0000 225.0000  0.0000   \n",
       "2  1424373600   True   5min 225.0000 225.0000 225.0000 225.0000  0.0000   \n",
       "3  1424373900   True   5min 225.0000 225.0000 225.0000 225.0000  0.0000   \n",
       "4  1424374200   True   5min 225.0000 225.0000 225.0000 225.0000  0.0000   \n",
       "\n",
       "   quoteVolume  weightedAverage  ...   zscore_2016_volume  zscore_36_return  \\\n",
       "0       0.0044         225.0000  ...               0.0000            0.0000   \n",
       "1       0.0000         225.0000  ...               0.0000            0.0000   \n",
       "2       0.0000         225.0000  ...               0.0000            0.0000   \n",
       "3       0.0000         225.0000  ...               0.0000            0.0000   \n",
       "4       0.0000         225.0000  ...               0.0000            0.0000   \n",
       "\n",
       "   zscore_288_return  pma36  pma288  pma2016  ma_12_108  ma_36_288   ac36  \\\n",
       "0             0.0000 0.0000  0.0000   0.0000     0.0000     0.0000 0.0000   \n",
       "1             0.0000 0.0000  0.0000   0.0000     0.0000     0.0000 0.0000   \n",
       "2             0.0000 0.0000  0.0000   0.0000     0.0000     0.0000 0.0000   \n",
       "3             0.0000 0.0000  0.0000   0.0000     0.0000     0.0000 0.0000   \n",
       "4             0.0000 0.0000  0.0000   0.0000     0.0000     0.0000 0.0000   \n",
       "\n",
       "   ac288  \n",
       "0 0.0000  \n",
       "1 0.0000  \n",
       "2 0.0000  \n",
       "3 0.0000  \n",
       "4 0.0000  \n",
       "\n",
       "[5 rows x 74 columns]"
      ]
     },
     "execution_count": 4,
     "metadata": {},
     "output_type": "execute_result"
    }
   ],
   "source": [
    "featured.head()"
   ]
  },
  {
   "cell_type": "markdown",
   "metadata": {},
   "source": [
    "# Split for modeling and strategy testing"
   ]
  },
  {
   "cell_type": "code",
   "execution_count": 5,
   "metadata": {},
   "outputs": [
    {
     "data": {
      "text/plain": [
       "'2018-10-05 13:15:00'"
      ]
     },
     "execution_count": 5,
     "metadata": {},
     "output_type": "execute_result"
    }
   ],
   "source": [
    "featured['date'].max()"
   ]
  },
  {
   "cell_type": "markdown",
   "metadata": {},
   "source": [
    "Need to be run in jupyter hub"
   ]
  },
  {
   "cell_type": "code",
   "execution_count": 6,
   "metadata": {},
   "outputs": [
    {
     "data": {
      "text/plain": [
       "Index(['timestamp', 'label', 'period', 'open', 'high', 'low', 'close',\n",
       "       'volume', 'quoteVolume', 'weightedAverage', 'date', 'close_w3_deg1',\n",
       "       'open_w3_deg1', 'high_w3_deg1', 'low_w3_deg1', 'close_w3_deg2',\n",
       "       'open_w3_deg2', 'high_w3_deg2', 'low_w3_deg2', 'close_w3_deg3',\n",
       "       'open_w3_deg3', 'high_w3_deg3', 'low_w3_deg3', 'close_w3_deg4',\n",
       "       'open_w3_deg4', 'high_w3_deg4', 'low_w3_deg4', 'close_w5_deg1',\n",
       "       'open_w5_deg1', 'high_w5_deg1', 'low_w5_deg1', 'close_w5_deg2',\n",
       "       'open_w5_deg2', 'high_w5_deg2', 'low_w5_deg2', 'close_w5_deg3',\n",
       "       'open_w5_deg3', 'high_w5_deg3', 'low_w5_deg3', 'close_w5_deg4',\n",
       "       'open_w5_deg4', 'high_w5_deg4', 'low_w5_deg4', 'close_w10_deg1',\n",
       "       'open_w10_deg1', 'high_w10_deg1', 'low_w10_deg1', 'close_w10_deg2',\n",
       "       'open_w10_deg2', 'high_w10_deg2', 'low_w10_deg2', 'close_w10_deg3',\n",
       "       'open_w10_deg3', 'high_w10_deg3', 'low_w10_deg3', 'close_w10_deg4',\n",
       "       'open_w10_deg4', 'high_w10_deg4', 'low_w10_deg4',\n",
       "       'return_close_w10_deg1', 'return_close_w10_deg1_1',\n",
       "       'return_close_w10_deg1_2', 'zscore_36_volume', 'zscore_288_volume',\n",
       "       'zscore_2016_volume', 'zscore_36_return', 'zscore_288_return', 'pma36',\n",
       "       'pma288', 'pma2016', 'ma_12_108', 'ma_36_288', 'ac36', 'ac288'],\n",
       "      dtype='object')"
      ]
     },
     "execution_count": 6,
     "metadata": {},
     "output_type": "execute_result"
    }
   ],
   "source": [
    "featured.columns"
   ]
  },
  {
   "cell_type": "code",
   "execution_count": 7,
   "metadata": {},
   "outputs": [],
   "source": [
    "from utils.data import ModelingData\n",
    "\n",
    "drop_cols = ['timestamp', 'label', 'period', 'open', 'high', 'low', 'close',\n",
    "       'volume', 'quoteVolume', 'weightedAverage', 'date', 'close_w3_deg1',\n",
    "       'open_w3_deg1', 'high_w3_deg1', 'low_w3_deg1', 'close_w3_deg2',\n",
    "       'open_w3_deg2', 'high_w3_deg2', 'low_w3_deg2', 'close_w3_deg3',\n",
    "       'open_w3_deg3', 'high_w3_deg3', 'low_w3_deg3', 'close_w3_deg4',\n",
    "       'open_w3_deg4', 'high_w3_deg4', 'low_w3_deg4', 'close_w5_deg1',\n",
    "       'open_w5_deg1', 'high_w5_deg1', 'low_w5_deg1', 'close_w5_deg2',\n",
    "       'open_w5_deg2', 'high_w5_deg2', 'low_w5_deg2', 'close_w5_deg3',\n",
    "       'open_w5_deg3', 'high_w5_deg3', 'low_w5_deg3', 'close_w5_deg4',\n",
    "       'open_w5_deg4', 'high_w5_deg4', 'low_w5_deg4', 'close_w10_deg1',\n",
    "       'open_w10_deg1', 'high_w10_deg1', 'low_w10_deg1', 'close_w10_deg2',\n",
    "       'open_w10_deg2', 'high_w10_deg2', 'low_w10_deg2', 'close_w10_deg3',\n",
    "       'open_w10_deg3', 'high_w10_deg3', 'low_w10_deg3', 'close_w10_deg4',\n",
    "       'open_w10_deg4', 'high_w10_deg4', 'low_w10_deg4']\n",
    "modeling_data = ModelingData(featured, drop_cols, '2016-06-01', '2017-10-05')"
   ]
  },
  {
   "cell_type": "code",
   "execution_count": 9,
   "metadata": {},
   "outputs": [],
   "source": [
    "modeling_data.write(data_split_root)"
   ]
  },
  {
   "cell_type": "code",
   "execution_count": null,
   "metadata": {},
   "outputs": [],
   "source": []
  }
 ],
 "metadata": {
  "kernelspec": {
   "display_name": "Python 3",
   "language": "python",
   "name": "python3"
  },
  "language_info": {
   "codemirror_mode": {
    "name": "ipython",
    "version": 3
   },
   "file_extension": ".py",
   "mimetype": "text/x-python",
   "name": "python",
   "nbconvert_exporter": "python",
   "pygments_lexer": "ipython3",
   "version": "3.6.5"
  }
 },
 "nbformat": 4,
 "nbformat_minor": 2
}
