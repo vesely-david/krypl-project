{
 "cells": [
  {
   "cell_type": "code",
   "execution_count": 1,
   "metadata": {
    "collapsed": false
   },
   "outputs": [],
   "source": [
    "%run ../../utils/commonImports.py\n",
    "%run ../../utils/tradingImports.py\n",
    "%matplotlib inline\n",
    "\n",
    "from base import supres, BaseStrategy\n",
    "from exputils import *"
   ]
  },
  {
   "cell_type": "markdown",
   "metadata": {},
   "source": [
    "# Load Data"
   ]
  },
  {
   "cell_type": "code",
   "execution_count": 2,
   "metadata": {},
   "outputs": [],
   "source": [
    "# dropbox_dir = 'D:\\\\Dropbox\\\\My work\\\\krypl-project'\n",
    "dropbox_dir = '/Users/david.vesely/Dropbox/My work/krypl-project'"
   ]
  },
  {
   "cell_type": "code",
   "execution_count": 3,
   "metadata": {},
   "outputs": [],
   "source": [
    "pairs = pd.read_csv('selected-pairs.tsv', header=None)[0].tolist()\n",
    "train_dict = {pair: read_train(pair, dropbox_dir) for pair in pairs}"
   ]
  },
  {
   "cell_type": "markdown",
   "metadata": {},
   "source": [
    "# Experiment setup"
   ]
  },
  {
   "cell_type": "code",
   "execution_count": 23,
   "metadata": {},
   "outputs": [
    {
     "data": {
      "text/plain": [
       "100320"
      ]
     },
     "execution_count": 23,
     "metadata": {},
     "output_type": "execute_result"
    }
   ],
   "source": [
    "from itertools import product\n",
    "\n",
    "\n",
    "features = ['support']\n",
    "window_sizes = [4, 6, 12]\n",
    "\n",
    "targets = []\n",
    "for t1 in range(1, 11):\n",
    "    for t2 in range(t1+2, 11):\n",
    "        targets.append([t1/100, t2/100])\n",
    "\n",
    "stop_losses = list(np.linspace(0, 0.1, 11))[1:]\n",
    "returns = [i / 100 for i in range(1, 6)]\n",
    "\n",
    "args = product(pairs, window_sizes, targets, stop_losses, returns)\n",
    "args = filter(lambda x: x[3] <= 2 * x[2][-1], args)\n",
    "args = list(args)\n",
    "len(args)"
   ]
  },
  {
   "cell_type": "markdown",
   "metadata": {},
   "source": [
    "# Try params"
   ]
  },
  {
   "cell_type": "code",
   "execution_count": 25,
   "metadata": {},
   "outputs": [],
   "source": [
    "supports_for_data_dict = load_model('ohlc_supports_train.pkl')"
   ]
  },
  {
   "cell_type": "code",
   "execution_count": 26,
   "metadata": {},
   "outputs": [],
   "source": [
    "def trading_stats(data, pair, profit_targets, willing_loss, _return):\n",
    "    contract_pair = ContractPair.new(*[x.lower() for x in pair.split('_')])\n",
    "    dm = OhlcDataManager(data[['open', 'low', 'high', 'close']], data[features])\n",
    "    wallet = {'btc': 100}\n",
    "    exchange = BackTestExchange(dm, wallet, 0.0025)\n",
    "    strategy = BaseStrategy(exchange, \n",
    "                            dm, \n",
    "                            contract_pair, \n",
    "                            willing_loss=willing_loss,  \n",
    "                            target_return=_return,\n",
    "                            profit_targets=profit_targets)\n",
    "    strategy.trade()\n",
    "    strategy_stats = strategy.stats(contract_pair['priceContract']).report()\n",
    "    return strategy_stats\n",
    "\n",
    "\n",
    "def trading_stats_f(args):\n",
    "    pair, window_size, profit_targets, stop_loss, _return = args\n",
    "    \n",
    "    data = train_dict[pair]\n",
    "    data['support'] = supports_for_data_dict[pair][window_size]\n",
    "    stats = trading_stats(data, pair, profit_targets, stop_loss, _return)\n",
    "    return pair, window_size, profit_targets, stop_loss, _return, stats"
   ]
  },
  {
   "cell_type": "code",
   "execution_count": 27,
   "metadata": {},
   "outputs": [
    {
     "data": {
      "application/vnd.jupyter.widget-view+json": {
       "model_id": "",
       "version_major": 2,
       "version_minor": 0
      },
      "text/plain": [
       "HBox(children=(IntProgress(value=0, max=100320), HTML(value='')))"
      ]
     },
     "metadata": {},
     "output_type": "display_data"
    },
    {
     "name": "stdout",
     "output_type": "stream",
     "text": []
    }
   ],
   "source": [
    "results = run_parallel(trading_stats_f, args)\n",
    "\n",
    "param_cols = ['pair', 'window_size', 'profit_targets', 'stop_loss', '_return']\n",
    "stats_cols = ['startAmount', 'numberOfTrades', 'totalProfit', 'avgProfit',\n",
    "    'winPercentage', 'avgWinTrade', 'avgLossTrade', 'profitFactor',\n",
    "    'maxDrawdown', 'avgTimeToClose', 'minTimeToClose', 'maxTimeToClose']\n",
    "\n",
    "result_df = pd.DataFrame(results, columns=param_cols+['stats'])\n",
    "\n",
    "for c in stats_cols:\n",
    "    result_df[c] = result_df['stats'].apply(lambda x: x.iloc[:, 0][c])\n",
    "    \n",
    "result_df = result_df.drop('stats', axis=1)\n",
    "\n",
    "rpath = os.path.join(dropbox_dir,'result', 'base-strategy2-learn-01.pkl')\n",
    "result_df.to_pickle(rpath)"
   ]
  },
  {
   "cell_type": "code",
   "execution_count": null,
   "metadata": {},
   "outputs": [],
   "source": []
  }
 ],
 "metadata": {
  "kernelspec": {
   "display_name": "crypto36",
   "language": "python",
   "name": "crypto36"
  },
  "language_info": {
   "codemirror_mode": {
    "name": "ipython",
    "version": 3
   },
   "file_extension": ".py",
   "mimetype": "text/x-python",
   "name": "python",
   "nbconvert_exporter": "python",
   "pygments_lexer": "ipython3",
   "version": "3.6.8"
  }
 },
 "nbformat": 4,
 "nbformat_minor": 2
}
