{
 "cells": [
  {
   "cell_type": "code",
   "execution_count": 8,
   "metadata": {
    "collapsed": false
   },
   "outputs": [],
   "source": [
    "%run ../../utils/commonImports.py\n",
    "%run ../../utils/tradingImports.py\n",
    "%matplotlib inline\n",
    "\n",
    "from base import supres\n",
    "from exputils import *"
   ]
  },
  {
   "cell_type": "markdown",
   "metadata": {},
   "source": [
    "# Load Data"
   ]
  },
  {
   "cell_type": "code",
   "execution_count": 9,
   "metadata": {
    "collapsed": false
   },
   "outputs": [],
   "source": [
    "# dropbox_dir = 'D:\\\\Dropbox\\\\My work\\\\krypl-project'\n",
    "dropbox_dir = '/Users/david.vesely/Dropbox/My work/krypl-project'"
   ]
  },
  {
   "cell_type": "code",
   "execution_count": 10,
   "metadata": {},
   "outputs": [],
   "source": [
    "pairs = pd.read_csv('selected-pairs.tsv', header=None)[0].tolist()\n",
    "train_dict = {pair: read_train(pair, dropbox_dir) for pair in pairs}\n",
    "test_dict = {pair: read_test(pair, dropbox_dir) for pair in pairs}"
   ]
  },
  {
   "cell_type": "markdown",
   "metadata": {},
   "source": [
    "# Experiment setup"
   ]
  },
  {
   "cell_type": "code",
   "execution_count": 11,
   "metadata": {},
   "outputs": [
    {
     "data": {
      "text/plain": [
       "152"
      ]
     },
     "execution_count": 11,
     "metadata": {},
     "output_type": "execute_result"
    }
   ],
   "source": [
    "window_sizes = [4, 6, 8, 10, 12, 24, 30, 48]\n",
    "loops = len(pairs) * len(window_sizes)\n",
    "loops"
   ]
  },
  {
   "cell_type": "markdown",
   "metadata": {},
   "source": [
    "# Calc Supports"
   ]
  },
  {
   "cell_type": "code",
   "execution_count": 12,
   "metadata": {},
   "outputs": [],
   "source": [
    "def get_supports(data, window_size):\n",
    "    supports, _ = supres(data['ohlc4'].values, window_size)\n",
    "    supports = pd.DataFrame(supports, columns=['index', 'support'])\n",
    "    support_vals = supports['support'].values\n",
    "    size = support_vals.shape[0]\n",
    "    _return = (support_vals[1:] / support_vals[:size-1]) - 1\n",
    "    _return = np.insert(_return, 0, 0)\n",
    "    supports['return1'] = _return\n",
    "    return supports"
   ]
  },
  {
   "cell_type": "code",
   "execution_count": 45,
   "metadata": {},
   "outputs": [],
   "source": [
    "from itertools import product\n",
    "\n",
    "def supports_f(args):\n",
    "    data_dict, pair, window_size = args\n",
    "    return pair, window_size, get_supports(data_dict[pair], window_size)\n",
    "\n",
    "def calc_supports(data_dict, output_file):\n",
    "    args = product([data_dict], pairs, window_sizes)\n",
    "    results = run_parallel(supports_f, args)\n",
    "    supports_dict = dict_from_list(results)\n",
    "    save_model(supports_dict, output_file)"
   ]
  },
  {
   "cell_type": "code",
   "execution_count": 23,
   "metadata": {},
   "outputs": [
    {
     "data": {
      "application/vnd.jupyter.widget-view+json": {
       "model_id": "",
       "version_major": 2,
       "version_minor": 0
      },
      "text/plain": [
       "HBox(children=(IntProgress(value=0, max=152), HTML(value='')))"
      ]
     },
     "metadata": {},
     "output_type": "display_data"
    },
    {
     "name": "stdout",
     "output_type": "stream",
     "text": []
    }
   ],
   "source": [
    "calc_supports(train_dict, 'supports_train.pkl')"
   ]
  },
  {
   "cell_type": "code",
   "execution_count": 46,
   "metadata": {},
   "outputs": [
    {
     "data": {
      "application/vnd.jupyter.widget-view+json": {
       "model_id": "",
       "version_major": 2,
       "version_minor": 0
      },
      "text/plain": [
       "HBox(children=(IntProgress(value=0, max=152), HTML(value='')))"
      ]
     },
     "metadata": {},
     "output_type": "display_data"
    },
    {
     "name": "stdout",
     "output_type": "stream",
     "text": []
    }
   ],
   "source": [
    "calc_supports(test_dict, 'supports_test.pkl')"
   ]
  },
  {
   "cell_type": "markdown",
   "metadata": {},
   "source": [
    "# Supports for ohlc data"
   ]
  },
  {
   "cell_type": "code",
   "execution_count": 33,
   "metadata": {},
   "outputs": [],
   "source": [
    "from itertools import product\n",
    "\n",
    "def find_support(i, supports):\n",
    "    selected = supports[supports['index'] <= i]['support']\n",
    "    return None if len(selected) == 0 else selected.iloc[-1]\n",
    "\n",
    "\n",
    "def ohlc_supports_f(args):\n",
    "    data_dict, supports_dict, pair, window_size = args\n",
    "    supports = supports_dict[pair][window_size]\n",
    "    data = data_dict[pair]\n",
    "    s = [find_support(i, supports) for i in range(len(data))]\n",
    "    return pair, window_size, s\n",
    "\n",
    "\n",
    "def calc_ohlc_supports(data_dict, supports_dict, output_file):\n",
    "    args = product([data_dict], [supports_dict], pairs, window_sizes)\n",
    "    results = run_parallel(ohlc_supports_f, args)\n",
    "    supports_for_data_dict = dict_from_list(results)\n",
    "    save_model(supports_for_data_dict, output_file)"
   ]
  },
  {
   "cell_type": "code",
   "execution_count": 34,
   "metadata": {},
   "outputs": [
    {
     "data": {
      "application/vnd.jupyter.widget-view+json": {
       "model_id": "",
       "version_major": 2,
       "version_minor": 0
      },
      "text/plain": [
       "HBox(children=(IntProgress(value=0, max=152), HTML(value='')))"
      ]
     },
     "metadata": {},
     "output_type": "display_data"
    },
    {
     "name": "stdout",
     "output_type": "stream",
     "text": []
    }
   ],
   "source": [
    "supports_dict_train = load_model('supports_train.pkl')\n",
    "calc_ohlc_supports(train_dict, supports_dict_train, 'ohlc_supports_train.pkl')"
   ]
  },
  {
   "cell_type": "code",
   "execution_count": 50,
   "metadata": {},
   "outputs": [
    {
     "data": {
      "application/vnd.jupyter.widget-view+json": {
       "model_id": "",
       "version_major": 2,
       "version_minor": 0
      },
      "text/plain": [
       "HBox(children=(IntProgress(value=0, max=152), HTML(value='')))"
      ]
     },
     "metadata": {},
     "output_type": "display_data"
    },
    {
     "name": "stdout",
     "output_type": "stream",
     "text": []
    }
   ],
   "source": [
    "supports_dict_test = load_model('supports_test.pkl')\n",
    "calc_ohlc_supports(test_dict, supports_dict_test, 'ohlc_supports_test.pkl')"
   ]
  },
  {
   "cell_type": "code",
   "execution_count": null,
   "metadata": {},
   "outputs": [],
   "source": []
  }
 ],
 "metadata": {
  "kernelspec": {
   "display_name": "Crypto 36",
   "language": "python",
   "name": "crypto36"
  },
  "language_info": {
   "codemirror_mode": {
    "name": "ipython",
    "version": 3
   },
   "file_extension": ".py",
   "mimetype": "text/x-python",
   "name": "python",
   "nbconvert_exporter": "python",
   "pygments_lexer": "ipython3",
   "version": "3.6.5"
  }
 },
 "nbformat": 4,
 "nbformat_minor": 2
}
