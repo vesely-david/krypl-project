{
 "cells": [
  {
   "cell_type": "markdown",
   "metadata": {},
   "source": [
    "# Conclusion\n",
    "\n",
    "Thresholdy na pevno jsou na houby, protoze se nepriszpusobi pohybu marketu.\n",
    "Strategie se potom preucuji na trend a na testovacich datech dopadnou o dost hure.\n",
    "\n",
    "Napady:\n",
    " - pohyblivy target\n",
    " - vice stupnovy target zalozeny na procentu estimovaneho targetu\n",
    " - Nenakoupit hned po signalu, ale odhadnout i pod jakou cenou musim nakoupit"
   ]
  },
  {
   "cell_type": "code",
   "execution_count": null,
   "metadata": {},
   "outputs": [],
   "source": []
  }
 ],
 "metadata": {
  "kernelspec": {
   "display_name": "crypto36",
   "language": "python",
   "name": "crypto36"
  },
  "language_info": {
   "codemirror_mode": {
    "name": "ipython",
    "version": 3
   },
   "file_extension": ".py",
   "mimetype": "text/x-python",
   "name": "python",
   "nbconvert_exporter": "python",
   "pygments_lexer": "ipython3",
   "version": "3.6.8"
  }
 },
 "nbformat": 4,
 "nbformat_minor": 2
}
