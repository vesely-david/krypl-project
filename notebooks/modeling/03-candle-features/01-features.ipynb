{
 "cells": [
  {
   "cell_type": "code",
   "execution_count": 2,
   "metadata": {},
   "outputs": [],
   "source": [
    "%run ./../../utils/commonImports.py\n",
    "%matplotlib inline"
   ]
  },
  {
   "cell_type": "markdown",
   "metadata": {},
   "source": [
    "# Load data"
   ]
  },
  {
   "cell_type": "code",
   "execution_count": 26,
   "metadata": {},
   "outputs": [],
   "source": [
    "labeled = read_tsv(\"D:\\\\Dropbox\\\\My work\\\\krypl-project\\\\dataLabeled\\\\return-01-loss-max-01-within-day.tsv\")\n",
    "labeled = labeled[['timestamp', 'label']]"
   ]
  },
  {
   "cell_type": "code",
   "execution_count": 30,
   "metadata": {},
   "outputs": [],
   "source": [
    "data_raw = read_tsv(\"D:\\\\Dropbox\\\\My work\\\\krypl-project\\\\analysis\\\\sg-filter.tsv\")\n",
    "data = data_raw.merge(labeled, on='timestamp', how='inner')\n",
    "assert data_raw.shape[0] == labeled.shape[0]\n",
    "assert data.shape[0] == labeled.shape[0]"
   ]
  },
  {
   "cell_type": "markdown",
   "metadata": {},
   "source": [
    "# Features"
   ]
  },
  {
   "cell_type": "code",
   "execution_count": 35,
   "metadata": {},
   "outputs": [],
   "source": [
    "def lag(arr, l):\n",
    "    laged = arr[:arr.shape[0]-l]\n",
    "    laged = np.array([0]*l + laged.tolist())\n",
    "    return laged\n",
    "\n",
    "\n",
    "def _return(arr):\n",
    "    arr0 = arr[:arr.shape[0]-1]\n",
    "    arr1 = arr[1:]\n",
    "    r = (arr1 / arr0) - 1\n",
    "    r = np.insert(r, 0, 0., axis=0)\n",
    "    return r\n",
    "\n",
    "\n",
    "def candle_shape_features(df, _open, close, high, low, lag_len, name_prefix=''):\n",
    "    df[f'{name_prefix}close_high_ratio'] = close / high\n",
    "    df[f'{name_prefix}open_high_ratio'] = _open / high\n",
    "    df[f'{name_prefix}low_high_ratio'] = low / high\n",
    "    df[f'{name_prefix}open_close_ratio'] = (_open - close) / close\n",
    "    \n",
    "    cols = [f'{name_prefix}close_high_ratio', f'{name_prefix}open_high_ratio', f'{name_prefix}low_high_ratio', f'{name_prefix}open_close_ratio']\n",
    "    for col in cols:\n",
    "        for l in range(1, lag_len):\n",
    "            df[f\"{col}_lag_{l}\"] = lag(df[col], l)\n",
    "    \n",
    "    return df"
   ]
  },
  {
   "cell_type": "code",
   "execution_count": 36,
   "metadata": {},
   "outputs": [],
   "source": [
    "cols = ['timestamp', 'period', 'open', 'high', 'low', 'close', 'volume',\n",
    "       'quoteVolume', 'weightedAverage', 'date', 'label']\n",
    "featured = data[cols].copy()\n",
    "featured = candle_shape_features(\n",
    "    df = featured,\n",
    "    _open = featured['open'],\n",
    "    close = featured['close'],\n",
    "    high = featured['high'],\n",
    "    low = featured['low'],\n",
    "    lag_len = 10)\n",
    "write_tsv(featured, 'D:\\\\Dropbox\\\\My work\\\\krypl-project\\\\dataFeatures\\\\candle-shape.tsv')"
   ]
  },
  {
   "cell_type": "code",
   "execution_count": 37,
   "metadata": {},
   "outputs": [
    {
     "data": {
      "text/plain": [
       "Index(['timestamp', 'period', 'open', 'high', 'low', 'close', 'volume',\n",
       "       'quoteVolume', 'weightedAverage', 'date', 'close_w3_deg1',\n",
       "       'open_w3_deg1', 'high_w3_deg1', 'low_w3_deg1', 'close_w3_deg2',\n",
       "       'open_w3_deg2', 'high_w3_deg2', 'low_w3_deg2', 'close_w3_deg3',\n",
       "       'open_w3_deg3', 'high_w3_deg3', 'low_w3_deg3', 'close_w3_deg4',\n",
       "       'open_w3_deg4', 'high_w3_deg4', 'low_w3_deg4', 'close_w5_deg1',\n",
       "       'open_w5_deg1', 'high_w5_deg1', 'low_w5_deg1', 'close_w5_deg2',\n",
       "       'open_w5_deg2', 'high_w5_deg2', 'low_w5_deg2', 'close_w5_deg3',\n",
       "       'open_w5_deg3', 'high_w5_deg3', 'low_w5_deg3', 'close_w5_deg4',\n",
       "       'open_w5_deg4', 'high_w5_deg4', 'low_w5_deg4', 'close_w10_deg1',\n",
       "       'open_w10_deg1', 'high_w10_deg1', 'low_w10_deg1', 'close_w10_deg2',\n",
       "       'open_w10_deg2', 'high_w10_deg2', 'low_w10_deg2', 'close_w10_deg3',\n",
       "       'open_w10_deg3', 'high_w10_deg3', 'low_w10_deg3', 'close_w10_deg4',\n",
       "       'open_w10_deg4', 'high_w10_deg4', 'low_w10_deg4', 'label'],\n",
       "      dtype='object')"
      ]
     },
     "execution_count": 37,
     "metadata": {},
     "output_type": "execute_result"
    }
   ],
   "source": [
    "data.columns"
   ]
  },
  {
   "cell_type": "code",
   "execution_count": 38,
   "metadata": {},
   "outputs": [],
   "source": [
    "cols = ['timestamp', 'period', 'open', 'high', 'low', 'close', 'volume', 'quoteVolume', 'weightedAverage', \n",
    "        'date', 'label', 'open_w10_deg1', 'high_w10_deg1', 'low_w10_deg1', 'close_w10_deg1']\n",
    "featured = data[cols].copy()\n",
    "featured = candle_shape_features(\n",
    "    df = featured,\n",
    "    _open = featured['open_w10_deg1'],\n",
    "    close = featured['close_w10_deg1'],\n",
    "    high = featured['high_w10_deg1'],\n",
    "    low = featured['low_w10_deg1'],\n",
    "    lag_len = 10)\n",
    "write_tsv(featured, 'D:\\\\Dropbox\\\\My work\\\\krypl-project\\\\dataFeatures\\\\candle-shape-sg.tsv')"
   ]
  },
  {
   "cell_type": "code",
   "execution_count": null,
   "metadata": {},
   "outputs": [],
   "source": []
  }
 ],
 "metadata": {
  "kernelspec": {
   "display_name": "Python 3",
   "language": "python",
   "name": "python3"
  },
  "language_info": {
   "codemirror_mode": {
    "name": "ipython",
    "version": 3
   },
   "file_extension": ".py",
   "mimetype": "text/x-python",
   "name": "python",
   "nbconvert_exporter": "python",
   "pygments_lexer": "ipython3",
   "version": "3.6.5"
  }
 },
 "nbformat": 4,
 "nbformat_minor": 2
}
