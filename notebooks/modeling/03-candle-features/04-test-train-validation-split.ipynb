{
 "cells": [
  {
   "cell_type": "code",
   "execution_count": 11,
   "metadata": {},
   "outputs": [],
   "source": [
    "%run ../../utils/commonImports.py\n",
    "%matplotlib inline"
   ]
  },
  {
   "cell_type": "markdown",
   "metadata": {},
   "source": [
    "# Load Data"
   ]
  },
  {
   "cell_type": "code",
   "execution_count": 12,
   "metadata": {},
   "outputs": [],
   "source": [
    "data_split_root = 'D:\\\\Dropbox\\\\My work\\\\krypl-project\\\\dataSplit\\\\03-candle-shape-sg'"
   ]
  },
  {
   "cell_type": "code",
   "execution_count": 13,
   "metadata": {},
   "outputs": [],
   "source": [
    "featuresFile = 'D:\\\\Dropbox\\\\My work\\\\krypl-project\\\\dataFeatures\\\\candle-shape-sg.tsv'\n",
    "featured = read_tsv(featuresFile).sort_values('timestamp')\n",
    "featured = reset_index_hard(featured)"
   ]
  },
  {
   "cell_type": "code",
   "execution_count": 14,
   "metadata": {},
   "outputs": [
    {
     "data": {
      "text/html": [
       "<div>\n",
       "<style scoped>\n",
       "    .dataframe tbody tr th:only-of-type {\n",
       "        vertical-align: middle;\n",
       "    }\n",
       "\n",
       "    .dataframe tbody tr th {\n",
       "        vertical-align: top;\n",
       "    }\n",
       "\n",
       "    .dataframe thead th {\n",
       "        text-align: right;\n",
       "    }\n",
       "</style>\n",
       "<table border=\"1\" class=\"dataframe\">\n",
       "  <thead>\n",
       "    <tr style=\"text-align: right;\">\n",
       "      <th></th>\n",
       "      <th>timestamp</th>\n",
       "      <th>period</th>\n",
       "      <th>open</th>\n",
       "      <th>high</th>\n",
       "      <th>low</th>\n",
       "      <th>close</th>\n",
       "      <th>volume</th>\n",
       "      <th>quoteVolume</th>\n",
       "      <th>weightedAverage</th>\n",
       "      <th>date</th>\n",
       "      <th>...</th>\n",
       "      <th>sg_open_close_ratio_zscore288_lag_1</th>\n",
       "      <th>sg_open_close_ratio_zscore288_lag_2</th>\n",
       "      <th>sg_open_close_ratio_zscore288_lag_3</th>\n",
       "      <th>sg_open_close_ratio_zscore288_lag_4</th>\n",
       "      <th>sg_open_close_ratio_zscore288_lag_5</th>\n",
       "      <th>sg_open_close_ratio_zscore288_lag_6</th>\n",
       "      <th>sg_open_close_ratio_zscore288_lag_7</th>\n",
       "      <th>sg_open_close_ratio_zscore288_lag_8</th>\n",
       "      <th>sg_open_close_ratio_zscore288_lag_9</th>\n",
       "      <th>sg_close_std_w_288</th>\n",
       "    </tr>\n",
       "  </thead>\n",
       "  <tbody>\n",
       "    <tr>\n",
       "      <th>0</th>\n",
       "      <td>1424373000</td>\n",
       "      <td>5min</td>\n",
       "      <td>225.0000</td>\n",
       "      <td>225.0000</td>\n",
       "      <td>225.0000</td>\n",
       "      <td>225.0000</td>\n",
       "      <td>1.0000</td>\n",
       "      <td>0.0044</td>\n",
       "      <td>225.0000</td>\n",
       "      <td>2015-02-19 19:10:00</td>\n",
       "      <td>...</td>\n",
       "      <td>0.0000</td>\n",
       "      <td>0.0000</td>\n",
       "      <td>0.0000</td>\n",
       "      <td>0.0000</td>\n",
       "      <td>0.0000</td>\n",
       "      <td>0.0000</td>\n",
       "      <td>0.0000</td>\n",
       "      <td>0.0000</td>\n",
       "      <td>0.0000</td>\n",
       "      <td>nan</td>\n",
       "    </tr>\n",
       "    <tr>\n",
       "      <th>1</th>\n",
       "      <td>1424373300</td>\n",
       "      <td>5min</td>\n",
       "      <td>225.0000</td>\n",
       "      <td>225.0000</td>\n",
       "      <td>225.0000</td>\n",
       "      <td>225.0000</td>\n",
       "      <td>0.0000</td>\n",
       "      <td>0.0000</td>\n",
       "      <td>225.0000</td>\n",
       "      <td>2015-02-19 19:15:00</td>\n",
       "      <td>...</td>\n",
       "      <td>nan</td>\n",
       "      <td>0.0000</td>\n",
       "      <td>0.0000</td>\n",
       "      <td>0.0000</td>\n",
       "      <td>0.0000</td>\n",
       "      <td>0.0000</td>\n",
       "      <td>0.0000</td>\n",
       "      <td>0.0000</td>\n",
       "      <td>0.0000</td>\n",
       "      <td>nan</td>\n",
       "    </tr>\n",
       "    <tr>\n",
       "      <th>2</th>\n",
       "      <td>1424373600</td>\n",
       "      <td>5min</td>\n",
       "      <td>225.0000</td>\n",
       "      <td>225.0000</td>\n",
       "      <td>225.0000</td>\n",
       "      <td>225.0000</td>\n",
       "      <td>0.0000</td>\n",
       "      <td>0.0000</td>\n",
       "      <td>225.0000</td>\n",
       "      <td>2015-02-19 19:20:00</td>\n",
       "      <td>...</td>\n",
       "      <td>nan</td>\n",
       "      <td>nan</td>\n",
       "      <td>0.0000</td>\n",
       "      <td>0.0000</td>\n",
       "      <td>0.0000</td>\n",
       "      <td>0.0000</td>\n",
       "      <td>0.0000</td>\n",
       "      <td>0.0000</td>\n",
       "      <td>0.0000</td>\n",
       "      <td>nan</td>\n",
       "    </tr>\n",
       "    <tr>\n",
       "      <th>3</th>\n",
       "      <td>1424373900</td>\n",
       "      <td>5min</td>\n",
       "      <td>225.0000</td>\n",
       "      <td>225.0000</td>\n",
       "      <td>225.0000</td>\n",
       "      <td>225.0000</td>\n",
       "      <td>0.0000</td>\n",
       "      <td>0.0000</td>\n",
       "      <td>225.0000</td>\n",
       "      <td>2015-02-19 19:25:00</td>\n",
       "      <td>...</td>\n",
       "      <td>nan</td>\n",
       "      <td>nan</td>\n",
       "      <td>nan</td>\n",
       "      <td>0.0000</td>\n",
       "      <td>0.0000</td>\n",
       "      <td>0.0000</td>\n",
       "      <td>0.0000</td>\n",
       "      <td>0.0000</td>\n",
       "      <td>0.0000</td>\n",
       "      <td>nan</td>\n",
       "    </tr>\n",
       "    <tr>\n",
       "      <th>4</th>\n",
       "      <td>1424374200</td>\n",
       "      <td>5min</td>\n",
       "      <td>225.0000</td>\n",
       "      <td>225.0000</td>\n",
       "      <td>225.0000</td>\n",
       "      <td>225.0000</td>\n",
       "      <td>0.0000</td>\n",
       "      <td>0.0000</td>\n",
       "      <td>225.0000</td>\n",
       "      <td>2015-02-19 19:30:00</td>\n",
       "      <td>...</td>\n",
       "      <td>nan</td>\n",
       "      <td>nan</td>\n",
       "      <td>nan</td>\n",
       "      <td>nan</td>\n",
       "      <td>0.0000</td>\n",
       "      <td>0.0000</td>\n",
       "      <td>0.0000</td>\n",
       "      <td>0.0000</td>\n",
       "      <td>0.0000</td>\n",
       "      <td>nan</td>\n",
       "    </tr>\n",
       "  </tbody>\n",
       "</table>\n",
       "<p>5 rows × 56 columns</p>\n",
       "</div>"
      ],
      "text/plain": [
       "    timestamp period     open     high      low    close  volume  quoteVolume  \\\n",
       "0  1424373000   5min 225.0000 225.0000 225.0000 225.0000  1.0000       0.0044   \n",
       "1  1424373300   5min 225.0000 225.0000 225.0000 225.0000  0.0000       0.0000   \n",
       "2  1424373600   5min 225.0000 225.0000 225.0000 225.0000  0.0000       0.0000   \n",
       "3  1424373900   5min 225.0000 225.0000 225.0000 225.0000  0.0000       0.0000   \n",
       "4  1424374200   5min 225.0000 225.0000 225.0000 225.0000  0.0000       0.0000   \n",
       "\n",
       "   weightedAverage                 date         ...          \\\n",
       "0         225.0000  2015-02-19 19:10:00         ...           \n",
       "1         225.0000  2015-02-19 19:15:00         ...           \n",
       "2         225.0000  2015-02-19 19:20:00         ...           \n",
       "3         225.0000  2015-02-19 19:25:00         ...           \n",
       "4         225.0000  2015-02-19 19:30:00         ...           \n",
       "\n",
       "   sg_open_close_ratio_zscore288_lag_1  sg_open_close_ratio_zscore288_lag_2  \\\n",
       "0                               0.0000                               0.0000   \n",
       "1                                  nan                               0.0000   \n",
       "2                                  nan                                  nan   \n",
       "3                                  nan                                  nan   \n",
       "4                                  nan                                  nan   \n",
       "\n",
       "   sg_open_close_ratio_zscore288_lag_3  sg_open_close_ratio_zscore288_lag_4  \\\n",
       "0                               0.0000                               0.0000   \n",
       "1                               0.0000                               0.0000   \n",
       "2                               0.0000                               0.0000   \n",
       "3                                  nan                               0.0000   \n",
       "4                                  nan                                  nan   \n",
       "\n",
       "   sg_open_close_ratio_zscore288_lag_5  sg_open_close_ratio_zscore288_lag_6  \\\n",
       "0                               0.0000                               0.0000   \n",
       "1                               0.0000                               0.0000   \n",
       "2                               0.0000                               0.0000   \n",
       "3                               0.0000                               0.0000   \n",
       "4                               0.0000                               0.0000   \n",
       "\n",
       "   sg_open_close_ratio_zscore288_lag_7  sg_open_close_ratio_zscore288_lag_8  \\\n",
       "0                               0.0000                               0.0000   \n",
       "1                               0.0000                               0.0000   \n",
       "2                               0.0000                               0.0000   \n",
       "3                               0.0000                               0.0000   \n",
       "4                               0.0000                               0.0000   \n",
       "\n",
       "   sg_open_close_ratio_zscore288_lag_9  sg_close_std_w_288  \n",
       "0                               0.0000                 nan  \n",
       "1                               0.0000                 nan  \n",
       "2                               0.0000                 nan  \n",
       "3                               0.0000                 nan  \n",
       "4                               0.0000                 nan  \n",
       "\n",
       "[5 rows x 56 columns]"
      ]
     },
     "execution_count": 14,
     "metadata": {},
     "output_type": "execute_result"
    }
   ],
   "source": [
    "featured.head()"
   ]
  },
  {
   "cell_type": "markdown",
   "metadata": {},
   "source": [
    "# Split for modeling and strategy testing"
   ]
  },
  {
   "cell_type": "code",
   "execution_count": 15,
   "metadata": {},
   "outputs": [
    {
     "data": {
      "text/plain": [
       "'2018-10-05 13:15:00'"
      ]
     },
     "execution_count": 15,
     "metadata": {},
     "output_type": "execute_result"
    }
   ],
   "source": [
    "featured['date'].max()"
   ]
  },
  {
   "cell_type": "markdown",
   "metadata": {},
   "source": [
    "Need to be run in jupyter hub"
   ]
  },
  {
   "cell_type": "code",
   "execution_count": 16,
   "metadata": {},
   "outputs": [
    {
     "data": {
      "text/plain": [
       "Index(['timestamp', 'period', 'open', 'high', 'low', 'close', 'volume',\n",
       "       'quoteVolume', 'weightedAverage', 'date', 'label', 'open_w10_deg1',\n",
       "       'high_w10_deg1', 'low_w10_deg1', 'close_w10_deg1',\n",
       "       'sg_close_high_ratio_zscore288', 'sg_open_high_ratio_zscore288',\n",
       "       'sg_low_high_ratio_zscore288', 'sg_open_close_ratio_zscore288',\n",
       "       'sg_close_high_ratio_zscore288_lag_1',\n",
       "       'sg_close_high_ratio_zscore288_lag_2',\n",
       "       'sg_close_high_ratio_zscore288_lag_3',\n",
       "       'sg_close_high_ratio_zscore288_lag_4',\n",
       "       'sg_close_high_ratio_zscore288_lag_5',\n",
       "       'sg_close_high_ratio_zscore288_lag_6',\n",
       "       'sg_close_high_ratio_zscore288_lag_7',\n",
       "       'sg_close_high_ratio_zscore288_lag_8',\n",
       "       'sg_close_high_ratio_zscore288_lag_9',\n",
       "       'sg_open_high_ratio_zscore288_lag_1',\n",
       "       'sg_open_high_ratio_zscore288_lag_2',\n",
       "       'sg_open_high_ratio_zscore288_lag_3',\n",
       "       'sg_open_high_ratio_zscore288_lag_4',\n",
       "       'sg_open_high_ratio_zscore288_lag_5',\n",
       "       'sg_open_high_ratio_zscore288_lag_6',\n",
       "       'sg_open_high_ratio_zscore288_lag_7',\n",
       "       'sg_open_high_ratio_zscore288_lag_8',\n",
       "       'sg_open_high_ratio_zscore288_lag_9',\n",
       "       'sg_low_high_ratio_zscore288_lag_1',\n",
       "       'sg_low_high_ratio_zscore288_lag_2',\n",
       "       'sg_low_high_ratio_zscore288_lag_3',\n",
       "       'sg_low_high_ratio_zscore288_lag_4',\n",
       "       'sg_low_high_ratio_zscore288_lag_5',\n",
       "       'sg_low_high_ratio_zscore288_lag_6',\n",
       "       'sg_low_high_ratio_zscore288_lag_7',\n",
       "       'sg_low_high_ratio_zscore288_lag_8',\n",
       "       'sg_low_high_ratio_zscore288_lag_9',\n",
       "       'sg_open_close_ratio_zscore288_lag_1',\n",
       "       'sg_open_close_ratio_zscore288_lag_2',\n",
       "       'sg_open_close_ratio_zscore288_lag_3',\n",
       "       'sg_open_close_ratio_zscore288_lag_4',\n",
       "       'sg_open_close_ratio_zscore288_lag_5',\n",
       "       'sg_open_close_ratio_zscore288_lag_6',\n",
       "       'sg_open_close_ratio_zscore288_lag_7',\n",
       "       'sg_open_close_ratio_zscore288_lag_8',\n",
       "       'sg_open_close_ratio_zscore288_lag_9', 'sg_close_std_w_288'],\n",
       "      dtype='object')"
      ]
     },
     "execution_count": 16,
     "metadata": {},
     "output_type": "execute_result"
    }
   ],
   "source": [
    "featured.columns"
   ]
  },
  {
   "cell_type": "code",
   "execution_count": 17,
   "metadata": {},
   "outputs": [],
   "source": [
    "from utils.data import ModelingData\n",
    "\n",
    "drop_cols = ['timestamp', 'period', 'open', 'high', 'low', 'close', 'volume',\n",
    "       'quoteVolume', 'weightedAverage', 'date', 'label', 'open_w10_deg1',\n",
    "       'high_w10_deg1', 'low_w10_deg1', 'close_w10_deg1']\n",
    "modeling_data = ModelingData(featured, drop_cols, '2016-06-01', '2017-10-05')"
   ]
  },
  {
   "cell_type": "code",
   "execution_count": 18,
   "metadata": {},
   "outputs": [],
   "source": [
    "modeling_data.write(data_split_root)"
   ]
  },
  {
   "cell_type": "code",
   "execution_count": null,
   "metadata": {},
   "outputs": [],
   "source": []
  }
 ],
 "metadata": {
  "kernelspec": {
   "display_name": "Python 3",
   "language": "python",
   "name": "python3"
  },
  "language_info": {
   "codemirror_mode": {
    "name": "ipython",
    "version": 3
   },
   "file_extension": ".py",
   "mimetype": "text/x-python",
   "name": "python",
   "nbconvert_exporter": "python",
   "pygments_lexer": "ipython3",
   "version": "3.6.5"
  }
 },
 "nbformat": 4,
 "nbformat_minor": 2
}
