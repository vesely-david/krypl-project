{
 "cells": [
  {
   "cell_type": "code",
   "execution_count": 5,
   "metadata": {
    "collapsed": false
   },
   "outputs": [],
   "source": [
    "%run ../../utils/commonImports.py\n",
    "%run ../../utils/tradingImports.py\n",
    "%matplotlib inline\n",
    "\n",
    "from base import supres\n",
    "from exputils import *"
   ]
  },
  {
   "cell_type": "markdown",
   "metadata": {},
   "source": [
    "# Load Data"
   ]
  },
  {
   "cell_type": "code",
   "execution_count": 6,
   "metadata": {},
   "outputs": [],
   "source": [
    "# dropbox_dir = 'D:\\\\Dropbox\\\\My work\\\\krypl-project'\n",
    "dropbox_dir = '/Users/david.vesely/Dropbox/My work/krypl-project'"
   ]
  },
  {
   "cell_type": "code",
   "execution_count": 7,
   "metadata": {},
   "outputs": [],
   "source": [
    "pairs = pd.read_csv('selected-pairs.tsv', header=None)[0].tolist()\n",
    "train_dict = {pair: read_train(pair, dropbox_dir) for pair in pairs}\n",
    "test_dict = {pair: read_test(pair, dropbox_dir) for pair in pairs}"
   ]
  },
  {
   "cell_type": "markdown",
   "metadata": {},
   "source": [
    "# Does all coins have the same sizes?"
   ]
  },
  {
   "cell_type": "code",
   "execution_count": 9,
   "metadata": {},
   "outputs": [],
   "source": [
    "sizes_train = [train_dict[pair].shape[0] for pair in pairs]\n",
    "sizes_test = [test_dict[pair].shape[0] for pair in pairs]"
   ]
  },
  {
   "cell_type": "code",
   "execution_count": 11,
   "metadata": {},
   "outputs": [
    {
     "data": {
      "text/plain": [
       "[(35088, 21840),\n",
       " (35088, 21840),\n",
       " (35088, 21840),\n",
       " (35088, 21840),\n",
       " (35088, 21840),\n",
       " (35088, 21840),\n",
       " (35088, 21840),\n",
       " (35088, 21840),\n",
       " (35088, 21840),\n",
       " (35088, 21840),\n",
       " (35088, 21840),\n",
       " (35088, 21840),\n",
       " (35088, 21840),\n",
       " (35088, 21840),\n",
       " (35088, 21840),\n",
       " (35088, 21840),\n",
       " (35088, 21840),\n",
       " (35087, 21840),\n",
       " (35088, 21840)]"
      ]
     },
     "execution_count": 11,
     "metadata": {},
     "output_type": "execute_result"
    }
   ],
   "source": [
    "list(zip(sizes_train, sizes_test))"
   ]
  },
  {
   "cell_type": "markdown",
   "metadata": {},
   "source": [
    "# Missing and duplicate candles\n",
    "\n",
    "Should be only for pairs[-2] train_data"
   ]
  },
  {
   "cell_type": "code",
   "execution_count": 13,
   "metadata": {},
   "outputs": [],
   "source": [
    "def dates_l(start, end, delta):\n",
    "    size = int((end - start) / delta) + 1\n",
    "    deltas = pd.Series([delta]*size)\n",
    "    dates = deltas.cumsum() + start - delta\n",
    "    return dates.apply(lambda x: x.strftime(\"%Y-%m-%d %H:%M:%S\"))"
   ]
  },
  {
   "cell_type": "code",
   "execution_count": 16,
   "metadata": {},
   "outputs": [],
   "source": [
    "from datetime import timedelta  \n",
    "\n",
    "\n",
    "def test_pairs(data_dict):\n",
    "    for pair in pairs:\n",
    "        data = data_dict[pair]\n",
    "        min_date = str_time_to_datetime(data['date'].min())\n",
    "        max_date = str_time_to_datetime(data['date'].max())\n",
    "\n",
    "        dates = set(dates_l(min_date, max_date, timedelta(minutes=30)))\n",
    "        data_dates = set(data['date'])\n",
    "\n",
    "        missing = list(dates - data_dates)\n",
    "        date_counts = data['date'].value_counts()\n",
    "        duplicates = list(date_counts[date_counts > 1].index)\n",
    "\n",
    "        data_dates = data['date'].tolist()\n",
    "        is_sorted = all(data_dates[i] <= data_dates[i + 1] for i in range(len(data)-1))\n",
    "\n",
    "        print(f\"---- {pair} ----\")\n",
    "        print(f\"{min_date}  -  {max_date} \")\n",
    "        if len(missing) > 0 or not is_sorted or len(duplicates) > 0:\n",
    "            print(\"missing: \", ','.join(missing))\n",
    "            print(\"duplicates: \", ','.join(duplicates))\n",
    "            print(\"sorted: \", is_sorted)\n",
    "        else:\n",
    "            print('OK')\n",
    "\n",
    "        print(\"\")"
   ]
  },
  {
   "cell_type": "code",
   "execution_count": 17,
   "metadata": {},
   "outputs": [
    {
     "name": "stdout",
     "output_type": "stream",
     "text": [
      "---- BTC_ETH ----\n",
      "2016-01-01 00:00:00  -  2017-12-31 23:30:00 \n",
      "OK\n",
      "\n",
      "---- BTC_XRP ----\n",
      "2016-01-01 00:00:00  -  2017-12-31 23:30:00 \n",
      "OK\n",
      "\n",
      "---- BTC_LTC ----\n",
      "2016-01-01 00:00:00  -  2017-12-31 23:30:00 \n",
      "OK\n",
      "\n",
      "---- BTC_XMR ----\n",
      "2016-01-01 00:00:00  -  2017-12-31 23:30:00 \n",
      "OK\n",
      "\n",
      "---- BTC_STR ----\n",
      "2016-01-01 00:00:00  -  2017-12-31 23:30:00 \n",
      "OK\n",
      "\n",
      "---- BTC_DASH ----\n",
      "2016-01-01 00:00:00  -  2017-12-31 23:30:00 \n",
      "OK\n",
      "\n",
      "---- BTC_BTS ----\n",
      "2016-01-01 00:00:00  -  2017-12-31 23:30:00 \n",
      "OK\n",
      "\n",
      "---- BTC_FCT ----\n",
      "2016-01-01 00:00:00  -  2017-12-31 23:30:00 \n",
      "OK\n",
      "\n",
      "---- BTC_XEM ----\n",
      "2016-01-01 00:00:00  -  2017-12-31 23:30:00 \n",
      "OK\n",
      "\n",
      "---- BTC_MAID ----\n",
      "2016-01-01 00:00:00  -  2017-12-31 23:30:00 \n",
      "OK\n",
      "\n",
      "---- BTC_NXT ----\n",
      "2016-01-01 00:00:00  -  2017-12-31 23:30:00 \n",
      "OK\n",
      "\n",
      "---- BTC_SYS ----\n",
      "2016-01-01 00:00:00  -  2017-12-31 23:30:00 \n",
      "OK\n",
      "\n",
      "---- BTC_GAME ----\n",
      "2016-01-01 00:00:00  -  2017-12-31 23:30:00 \n",
      "OK\n",
      "\n",
      "---- BTC_CLAM ----\n",
      "2016-01-01 00:00:00  -  2017-12-31 23:30:00 \n",
      "OK\n",
      "\n",
      "---- BTC_VTC ----\n",
      "2016-01-01 00:00:00  -  2017-12-31 23:30:00 \n",
      "OK\n",
      "\n",
      "---- BTC_NAV ----\n",
      "2016-01-01 00:00:00  -  2017-12-31 23:30:00 \n",
      "OK\n",
      "\n",
      "---- BTC_XCP ----\n",
      "2016-01-01 00:00:00  -  2017-12-31 23:30:00 \n",
      "OK\n",
      "\n",
      "---- BTC_VIA ----\n",
      "2016-01-01 00:00:00  -  2017-12-31 23:30:00 \n",
      "missing:  2016-12-31 22:30:00\n",
      "duplicates:  \n",
      "sorted:  True\n",
      "\n",
      "---- BTC_XPM ----\n",
      "2016-01-01 00:00:00  -  2017-12-31 23:30:00 \n",
      "OK\n",
      "\n"
     ]
    }
   ],
   "source": [
    "test_pairs(train_dict)"
   ]
  },
  {
   "cell_type": "code",
   "execution_count": 18,
   "metadata": {},
   "outputs": [
    {
     "name": "stdout",
     "output_type": "stream",
     "text": [
      "---- BTC_ETH ----\n",
      "2018-01-01 00:00:00  -  2019-03-31 23:30:00 \n",
      "OK\n",
      "\n",
      "---- BTC_XRP ----\n",
      "2018-01-01 00:00:00  -  2019-03-31 23:30:00 \n",
      "OK\n",
      "\n",
      "---- BTC_LTC ----\n",
      "2018-01-01 00:00:00  -  2019-03-31 23:30:00 \n",
      "OK\n",
      "\n",
      "---- BTC_XMR ----\n",
      "2018-01-01 00:00:00  -  2019-03-31 23:30:00 \n",
      "OK\n",
      "\n",
      "---- BTC_STR ----\n",
      "2018-01-01 00:00:00  -  2019-03-31 23:30:00 \n",
      "OK\n",
      "\n",
      "---- BTC_DASH ----\n",
      "2018-01-01 00:00:00  -  2019-03-31 23:30:00 \n",
      "OK\n",
      "\n",
      "---- BTC_BTS ----\n",
      "2018-01-01 00:00:00  -  2019-03-31 23:30:00 \n",
      "OK\n",
      "\n",
      "---- BTC_FCT ----\n",
      "2018-01-01 00:00:00  -  2019-03-31 23:30:00 \n",
      "OK\n",
      "\n",
      "---- BTC_XEM ----\n",
      "2018-01-01 00:00:00  -  2019-03-31 23:30:00 \n",
      "OK\n",
      "\n",
      "---- BTC_MAID ----\n",
      "2018-01-01 00:00:00  -  2019-03-31 23:30:00 \n",
      "OK\n",
      "\n",
      "---- BTC_NXT ----\n",
      "2018-01-01 00:00:00  -  2019-03-31 23:30:00 \n",
      "OK\n",
      "\n",
      "---- BTC_SYS ----\n",
      "2018-01-01 00:00:00  -  2019-03-31 23:30:00 \n",
      "OK\n",
      "\n",
      "---- BTC_GAME ----\n",
      "2018-01-01 00:00:00  -  2019-03-31 23:30:00 \n",
      "OK\n",
      "\n",
      "---- BTC_CLAM ----\n",
      "2018-01-01 00:00:00  -  2019-03-31 23:30:00 \n",
      "OK\n",
      "\n",
      "---- BTC_VTC ----\n",
      "2018-01-01 00:00:00  -  2019-03-31 23:30:00 \n",
      "OK\n",
      "\n",
      "---- BTC_NAV ----\n",
      "2018-01-01 00:00:00  -  2019-03-31 23:30:00 \n",
      "OK\n",
      "\n",
      "---- BTC_XCP ----\n",
      "2018-01-01 00:00:00  -  2019-03-31 23:30:00 \n",
      "OK\n",
      "\n",
      "---- BTC_VIA ----\n",
      "2018-01-01 00:00:00  -  2019-03-31 23:30:00 \n",
      "OK\n",
      "\n",
      "---- BTC_XPM ----\n",
      "2018-01-01 00:00:00  -  2019-03-31 23:30:00 \n",
      "OK\n",
      "\n"
     ]
    }
   ],
   "source": [
    "test_pairs(test_dict)"
   ]
  },
  {
   "cell_type": "markdown",
   "metadata": {},
   "source": [
    "# Look at BTC_VIA hole"
   ]
  },
  {
   "cell_type": "code",
   "execution_count": 22,
   "metadata": {},
   "outputs": [
    {
     "data": {
      "image/png": "[encoded data removed]",
      "text/plain": [
       "<Figure size 720x432 with 1 Axes>"
      ]
     },
     "metadata": {
      "needs_background": "light"
     },
     "output_type": "display_data"
    }
   ],
   "source": [
    "via = train_dict['BTC_VIA']\n",
    "\n",
    "plot_candles(via.query('date >= \"2016-12-31\" and date < \"2017-01-01\"'));"
   ]
  },
  {
   "cell_type": "markdown",
   "metadata": {},
   "source": [
    "# Conclusion\n",
    "\n",
    "Data jsou v poradku, jedina chybejici svicka nebude mit vliv na performance modelu."
   ]
  },
  {
   "cell_type": "code",
   "execution_count": null,
   "metadata": {},
   "outputs": [],
   "source": []
  }
 ],
 "metadata": {
  "kernelspec": {
   "display_name": "crypto36",
   "language": "python",
   "name": "crypto36"
  },
  "language_info": {
   "codemirror_mode": {
    "name": "ipython",
    "version": 3
   },
   "file_extension": ".py",
   "mimetype": "text/x-python",
   "name": "python",
   "nbconvert_exporter": "python",
   "pygments_lexer": "ipython3",
   "version": "3.6.8"
  }
 },
 "nbformat": 4,
 "nbformat_minor": 2
}
